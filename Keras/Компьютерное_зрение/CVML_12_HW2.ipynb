{
  "cells": [
    {
      "cell_type": "markdown",
      "metadata": {
        "id": "view-in-github",
        "colab_type": "text"
      },
      "source": [
        "<a href=\"https://colab.research.google.com/github/Pestrdan/netology_research/blob/main/Keras/%D0%9A%D0%BE%D0%BC%D0%BF%D1%8C%D1%8E%D1%82%D0%B5%D1%80%D0%BD%D0%BE%D0%B5_%D0%B7%D1%80%D0%B5%D0%BD%D0%B8%D0%B5/CVML_12_HW2.ipynb\" target=\"_parent\"><img src=\"https://colab.research.google.com/assets/colab-badge.svg\" alt=\"Open In Colab\"/></a>"
      ]
    },
    {
      "cell_type": "markdown",
      "metadata": {
        "id": "hXVlD-bME6KB"
      },
      "source": [
        "# Dogs vs Cats"
      ]
    },
    {
      "cell_type": "markdown",
      "metadata": {
        "id": "gvWURaWYE6KC"
      },
      "source": [
        "https://www.kaggle.com/c/dogs-vs-cats-redux-kernels-edition"
      ]
    },
    {
      "cell_type": "code",
      "execution_count": null,
      "metadata": {
        "colab": {
          "base_uri": "https://localhost:8080/"
        },
        "id": "UhHo57CgE6KC",
        "outputId": "85801216-68ed-4e6e-e137-8ac78bf5c0d1"
      },
      "outputs": [
        {
          "output_type": "stream",
          "name": "stdout",
          "text": [
            "2.15.0\n",
            "True\n"
          ]
        }
      ],
      "source": [
        "import cv2\n",
        "import numpy as np\n",
        "import tensorflow as tf\n",
        "from tensorflow.keras.applications import vgg16\n",
        "\n",
        "print(tf.__version__)\n",
        "print(tf.executing_eagerly())"
      ]
    },
    {
      "cell_type": "code",
      "execution_count": null,
      "metadata": {
        "id": "VH0l1OFzvkvf"
      },
      "outputs": [],
      "source": [
        "from google.colab import drive\n",
        "drive.mount('/content/drive')"
      ]
    },
    {
      "cell_type": "code",
      "execution_count": null,
      "metadata": {
        "id": "4brqCY8zvlIw"
      },
      "outputs": [],
      "source": [
        "!unzip drive/My\\ Drive/test.zip"
      ]
    },
    {
      "cell_type": "code",
      "execution_count": null,
      "metadata": {
        "id": "3IUK7Cw7vnmN"
      },
      "outputs": [],
      "source": [
        "!unzip drive/My\\ Drive/train.zip"
      ]
    },
    {
      "cell_type": "markdown",
      "metadata": {
        "id": "3y4O3ZxfE6KD"
      },
      "source": [
        "## Функции загрузки данных"
      ]
    },
    {
      "cell_type": "code",
      "execution_count": null,
      "metadata": {
        "id": "65QK0STQE6KD"
      },
      "outputs": [],
      "source": [
        "import os\n",
        "from random import shuffle\n",
        "from glob import glob\n",
        "\n",
        "IMG_SIZE = (224, 224)  # размер входного изображения сети\n",
        "\n",
        "train_files = glob('train/*.jpg')\n",
        "test_files = glob('test/*.jpg')\n",
        "\n",
        "# загружаем входное изображение и предобрабатываем\n",
        "def load_image(path, target_size=IMG_SIZE):\n",
        "    img = cv2.imread(path)[...,::-1]\n",
        "    img = cv2.resize(img, target_size)\n",
        "    return vgg16.preprocess_input(img)  # предобработка для VGG16\n",
        "\n",
        "# функция-генератор загрузки обучающих данных с диска\n",
        "def fit_generator(files, batch_size=128):\n",
        "    batch_size = min(batch_size, len(files))\n",
        "    while True:\n",
        "        shuffle(files)\n",
        "        for k in range(len(files) // batch_size):\n",
        "            i = k * batch_size\n",
        "            j = i + batch_size\n",
        "            if j > len(files):\n",
        "                j = - j % len(files)\n",
        "            x = np.array([load_image(path) for path in files[i:j]])\n",
        "            y = np.array([1.00 if os.path.basename(path).startswith('dog') else 0.00\n",
        "                          for path in files[i:j]])\n",
        "            yield (x, y)\n",
        "\n",
        "# функция-генератор загрузки тестовых изображений с диска\n",
        "def predict_generator(files):\n",
        "    while True:\n",
        "        for path in files:\n",
        "            yield np.array([load_image(path)])"
      ]
    },
    {
      "cell_type": "markdown",
      "metadata": {
        "id": "M98BW4CfE6KD"
      },
      "source": [
        "## Визуализируем примеры для обучения"
      ]
    },
    {
      "cell_type": "markdown",
      "metadata": {
        "id": "ygAuqgLYE6KE"
      },
      "source": [
        "## Загружаем предобученную модель"
      ]
    },
    {
      "cell_type": "code",
      "execution_count": null,
      "metadata": {
        "id": "3ikt3DBgE6KE"
      },
      "outputs": [],
      "source": [
        "# base_model - объект класса keras.models.Model (Functional Model)\n",
        "base_model = vgg16.VGG16(weights='imagenet',\n",
        "                         include_top=False,\n",
        "                         input_shape=(IMG_SIZE[0], IMG_SIZE[1], 3))"
      ]
    },
    {
      "cell_type": "code",
      "execution_count": null,
      "metadata": {
        "id": "5bnaDLvrE6KE"
      },
      "outputs": [],
      "source": [
        "#base_model.summary()"
      ]
    },
    {
      "cell_type": "markdown",
      "metadata": {
        "id": "l7zJqZ45E6KE"
      },
      "source": [
        "## Добавляем полносвязный слой и dropout"
      ]
    },
    {
      "cell_type": "code",
      "execution_count": null,
      "metadata": {
        "id": "0cKgwxw6E6KE"
      },
      "outputs": [],
      "source": [
        "# фиксируем все веса предобученной сети\n",
        "for layer in base_model.layers:\n",
        "    layer.trainable = False\n",
        "\n",
        "x = base_model.layers[-5].output\n",
        "x = tf.keras.layers.Flatten()(x)\n",
        "x = tf.keras.layers.Dropout(0.3)(x)\n",
        "x = tf.keras.layers.Dense(16, activation='relu')(x)\n",
        "x = tf.keras.layers.Dense(8, activation='relu')(x)\n",
        "x = tf.keras.layers.BatchNormalization()(x)\n",
        "x = tf.keras.layers.Dense(1,  # один выход (бинарная классификация)\n",
        "                          activation='sigmoid',  # функция активации\n",
        "                          kernel_regularizer=tf.keras.regularizers.l1(1e-4))(x)\n",
        "\n",
        "model = tf.keras.Model(inputs=base_model.input, outputs=x, name='dogs_vs_cats')"
      ]
    },
    {
      "cell_type": "markdown",
      "metadata": {
        "id": "vZMvhGCDE6KE"
      },
      "source": [
        "## Выводим архитектуру модели"
      ]
    },
    {
      "cell_type": "code",
      "execution_count": null,
      "metadata": {
        "id": "AZOdHnYXE6KF"
      },
      "outputs": [],
      "source": [
        "#model.summary()"
      ]
    },
    {
      "cell_type": "markdown",
      "metadata": {
        "id": "0_j9BEw7E6KF"
      },
      "source": [
        "## Компилируем модель и запускаем обучение"
      ]
    },
    {
      "cell_type": "code",
      "execution_count": null,
      "metadata": {
        "id": "HUtkwX-_E6KF"
      },
      "outputs": [],
      "source": [
        "model.compile(optimizer='adam',\n",
        "              loss='binary_crossentropy',  # функция потерь binary_crossentropy (log loss\n",
        "              metrics=['accuracy'])"
      ]
    },
    {
      "cell_type": "code",
      "execution_count": null,
      "metadata": {
        "id": "SDna_O-4E6KF",
        "scrolled": false
      },
      "outputs": [],
      "source": [
        "val_samples = 5  # число изображений в валидационной выборке\n",
        "\n",
        "shuffle(train_files)  # перемешиваем обучающую выборку\n",
        "validation_data = next(fit_generator(train_files[:val_samples], val_samples))\n",
        "train_data = fit_generator(train_files[val_samples:])  # данные читаем функцией-генератором\n",
        "\n",
        "# запускаем процесс обучения\n",
        "model.fit(train_data,\n",
        "          steps_per_epoch=10,  # число вызовов генератора за эпоху\n",
        "          epochs=20,  # число эпох обучения\n",
        "          validation_data=validation_data)"
      ]
    },
    {
      "cell_type": "code",
      "execution_count": null,
      "metadata": {
        "id": "B4G40X7eE6KF"
      },
      "outputs": [],
      "source": [
        "model.save('cats-dogs-vgg16.hdf5')"
      ]
    },
    {
      "cell_type": "code",
      "source": [
        "for i in list_213:\n",
        "  print(i)"
      ],
      "metadata": {
        "id": "teisSJN7P4me"
      },
      "execution_count": null,
      "outputs": []
    },
    {
      "cell_type": "markdown",
      "metadata": {
        "id": "JrEnQDcXE6KF"
      },
      "source": [
        "## Предсказания на проверочной выборке"
      ]
    },
    {
      "cell_type": "code",
      "execution_count": null,
      "metadata": {
        "id": "CjncvAhoE6KF"
      },
      "outputs": [],
      "source": [
        "test_pred = model.predict(\n",
        "    predict_generator(test_files), steps=len(test_files))"
      ]
    },
    {
      "cell_type": "code",
      "source": [
        "#test_pred"
      ],
      "metadata": {
        "id": "KUpI576rwPbZ"
      },
      "execution_count": null,
      "outputs": []
    },
    {
      "cell_type": "markdown",
      "metadata": {
        "id": "DE45tZ3DE6KF"
      },
      "source": [
        "## Готовим данные для отправки"
      ]
    },
    {
      "cell_type": "code",
      "source": [
        "import re"
      ],
      "metadata": {
        "id": "442CcyASOZxq"
      },
      "execution_count": null,
      "outputs": []
    },
    {
      "cell_type": "code",
      "source": [
        "id_l = []\n",
        "for id in test_files:\n",
        "  id_l.append(re.findall('(\\d+).jpg$', id))"
      ],
      "metadata": {
        "id": "BK0coREgRpFv"
      },
      "execution_count": null,
      "outputs": []
    },
    {
      "cell_type": "code",
      "source": [
        "id_list = []\n",
        "for x in id_l:\n",
        "  id_list.append(x.pop())"
      ],
      "metadata": {
        "id": "c1Eli9e5WSk8"
      },
      "execution_count": null,
      "outputs": []
    },
    {
      "cell_type": "code",
      "source": [
        "#test_pred_list = []\n",
        "#for i in test_pred:\n",
        "  #test_pred_list.append(round(float(i), 1))"
      ],
      "metadata": {
        "id": "8kKLDl0RGcw4"
      },
      "execution_count": null,
      "outputs": []
    },
    {
      "cell_type": "code",
      "source": [
        "import pandas as pd"
      ],
      "metadata": {
        "id": "yc5T4dvWSUwW"
      },
      "execution_count": null,
      "outputs": []
    },
    {
      "cell_type": "code",
      "source": [
        "df = pd.DataFrame()"
      ],
      "metadata": {
        "id": "APW6GvxKSSNW"
      },
      "execution_count": null,
      "outputs": []
    },
    {
      "cell_type": "code",
      "source": [
        "df['id'] = id_list"
      ],
      "metadata": {
        "id": "aMtxM5GjSTqD"
      },
      "execution_count": null,
      "outputs": []
    },
    {
      "cell_type": "code",
      "source": [
        "#df['label'] = test_pred_list"
      ],
      "metadata": {
        "id": "HvO-nZmmSlQL"
      },
      "execution_count": null,
      "outputs": []
    },
    {
      "cell_type": "code",
      "source": [
        "df['label'] = test_pred"
      ],
      "metadata": {
        "id": "J6RusF1sflvC"
      },
      "execution_count": null,
      "outputs": []
    },
    {
      "cell_type": "code",
      "source": [
        "df['id'] = df['id'].astype(int)"
      ],
      "metadata": {
        "id": "QDA_fhSWYAoZ"
      },
      "execution_count": null,
      "outputs": []
    },
    {
      "cell_type": "code",
      "source": [
        "df = df.sort_values(by=['id'])"
      ],
      "metadata": {
        "id": "VgC1ta_XXfkO"
      },
      "execution_count": null,
      "outputs": []
    },
    {
      "cell_type": "code",
      "source": [
        "df.head()"
      ],
      "metadata": {
        "id": "8hNk7xhZYkVB"
      },
      "execution_count": null,
      "outputs": []
    },
    {
      "cell_type": "code",
      "source": [
        "df.to_csv('sample_submission.csv', index= False )"
      ],
      "metadata": {
        "id": "nCa0FM6-YpvZ"
      },
      "execution_count": null,
      "outputs": []
    }
  ],
  "metadata": {
    "accelerator": "GPU",
    "colab": {
      "gpuType": "A100",
      "provenance": [],
      "machine_shape": "hm",
      "include_colab_link": true
    },
    "kernelspec": {
      "display_name": "Python 3",
      "name": "python3"
    },
    "language_info": {
      "codemirror_mode": {
        "name": "ipython",
        "version": 3
      },
      "file_extension": ".py",
      "mimetype": "text/x-python",
      "name": "python",
      "nbconvert_exporter": "python",
      "pygments_lexer": "ipython3",
      "version": "3.7.3"
    }
  },
  "nbformat": 4,
  "nbformat_minor": 0
}