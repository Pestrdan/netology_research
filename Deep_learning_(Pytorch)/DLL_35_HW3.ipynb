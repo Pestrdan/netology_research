{
  "nbformat": 4,
  "nbformat_minor": 0,
  "metadata": {
    "colab": {
      "provenance": [],
      "authorship_tag": "ABX9TyOHlbQugwK2uBWsYt9P2Jy6",
      "include_colab_link": true
    },
    "kernelspec": {
      "name": "python3",
      "display_name": "Python 3"
    },
    "language_info": {
      "name": "python"
    }
  },
  "cells": [
    {
      "cell_type": "markdown",
      "metadata": {
        "id": "view-in-github",
        "colab_type": "text"
      },
      "source": [
        "<a href=\"https://colab.research.google.com/github/Pestrdan/netology_research/blob/main/Deep_learning_(Pytorch)/DLL_35_HW3.ipynb\" target=\"_parent\"><img src=\"https://colab.research.google.com/assets/colab-badge.svg\" alt=\"Open In Colab\"/></a>"
      ]
    },
    {
      "cell_type": "code",
      "execution_count": null,
      "metadata": {
        "id": "ThCSyUq48CSC"
      },
      "outputs": [],
      "source": [
        "import torch\n",
        "import pandas as pd\n",
        "import numpy as np\n",
        "import torchvision as tv\n",
        "import time"
      ]
    },
    {
      "cell_type": "code",
      "source": [
        "device = \"cuda\" if torch.cuda.is_available() else \"cpu\"\n",
        "device"
      ],
      "metadata": {
        "colab": {
          "base_uri": "https://localhost:8080/",
          "height": 35
        },
        "id": "GSgDkyV98FKc",
        "outputId": "8ff2e082-7915-4600-f1ae-27d2b14c611a"
      },
      "execution_count": null,
      "outputs": [
        {
          "output_type": "execute_result",
          "data": {
            "text/plain": [
              "'cpu'"
            ],
            "application/vnd.google.colaboratory.intrinsic+json": {
              "type": "string"
            }
          },
          "metadata": {},
          "execution_count": 2
        }
      ]
    },
    {
      "cell_type": "code",
      "source": [
        "BATCH_SIZE = 256"
      ],
      "metadata": {
        "id": "KK-NMYSW8GZZ"
      },
      "execution_count": null,
      "outputs": []
    },
    {
      "cell_type": "code",
      "source": [
        "train_dataset = tv.datasets.FashionMNIST('.', train=True, transform=tv.transforms.ToTensor(), download=True)\n",
        "test_dataset = tv.datasets.FashionMNIST('.', train=False, transform=tv.transforms.ToTensor(), download=True)\n",
        "train_iter = torch.utils.data.DataLoader(train_dataset, batch_size=BATCH_SIZE)\n",
        "test_iter = torch.utils.data.DataLoader(test_dataset, batch_size=BATCH_SIZE)"
      ],
      "metadata": {
        "colab": {
          "base_uri": "https://localhost:8080/"
        },
        "id": "w9Z5-Cfp8IhD",
        "outputId": "480d7de1-5750-4a1d-8ebc-f73963ee8f93"
      },
      "execution_count": null,
      "outputs": [
        {
          "output_type": "stream",
          "name": "stdout",
          "text": [
            "Downloading http://fashion-mnist.s3-website.eu-central-1.amazonaws.com/train-images-idx3-ubyte.gz\n",
            "Downloading http://fashion-mnist.s3-website.eu-central-1.amazonaws.com/train-images-idx3-ubyte.gz to ./FashionMNIST/raw/train-images-idx3-ubyte.gz\n"
          ]
        },
        {
          "output_type": "stream",
          "name": "stderr",
          "text": [
            "100%|██████████| 26421880/26421880 [00:02<00:00, 11786022.16it/s]\n"
          ]
        },
        {
          "output_type": "stream",
          "name": "stdout",
          "text": [
            "Extracting ./FashionMNIST/raw/train-images-idx3-ubyte.gz to ./FashionMNIST/raw\n",
            "\n",
            "Downloading http://fashion-mnist.s3-website.eu-central-1.amazonaws.com/train-labels-idx1-ubyte.gz\n",
            "Downloading http://fashion-mnist.s3-website.eu-central-1.amazonaws.com/train-labels-idx1-ubyte.gz to ./FashionMNIST/raw/train-labels-idx1-ubyte.gz\n"
          ]
        },
        {
          "output_type": "stream",
          "name": "stderr",
          "text": [
            "100%|██████████| 29515/29515 [00:00<00:00, 227916.05it/s]\n"
          ]
        },
        {
          "output_type": "stream",
          "name": "stdout",
          "text": [
            "Extracting ./FashionMNIST/raw/train-labels-idx1-ubyte.gz to ./FashionMNIST/raw\n",
            "\n",
            "Downloading http://fashion-mnist.s3-website.eu-central-1.amazonaws.com/t10k-images-idx3-ubyte.gz\n",
            "Downloading http://fashion-mnist.s3-website.eu-central-1.amazonaws.com/t10k-images-idx3-ubyte.gz to ./FashionMNIST/raw/t10k-images-idx3-ubyte.gz\n"
          ]
        },
        {
          "output_type": "stream",
          "name": "stderr",
          "text": [
            "100%|██████████| 4422102/4422102 [00:01<00:00, 3909967.83it/s]\n"
          ]
        },
        {
          "output_type": "stream",
          "name": "stdout",
          "text": [
            "Extracting ./FashionMNIST/raw/t10k-images-idx3-ubyte.gz to ./FashionMNIST/raw\n",
            "\n",
            "Downloading http://fashion-mnist.s3-website.eu-central-1.amazonaws.com/t10k-labels-idx1-ubyte.gz\n",
            "Downloading http://fashion-mnist.s3-website.eu-central-1.amazonaws.com/t10k-labels-idx1-ubyte.gz to ./FashionMNIST/raw/t10k-labels-idx1-ubyte.gz\n"
          ]
        },
        {
          "output_type": "stream",
          "name": "stderr",
          "text": [
            "100%|██████████| 5148/5148 [00:00<00:00, 17800722.99it/s]\n"
          ]
        },
        {
          "output_type": "stream",
          "name": "stdout",
          "text": [
            "Extracting ./FashionMNIST/raw/t10k-labels-idx1-ubyte.gz to ./FashionMNIST/raw\n",
            "\n"
          ]
        }
      ]
    },
    {
      "cell_type": "code",
      "source": [
        "train_dataset[0][0].shape"
      ],
      "metadata": {
        "colab": {
          "base_uri": "https://localhost:8080/"
        },
        "id": "vMgX3rzV8Jcq",
        "outputId": "b774cecd-e8d7-4f3b-f74a-953ee4a6cced"
      },
      "execution_count": null,
      "outputs": [
        {
          "output_type": "execute_result",
          "data": {
            "text/plain": [
              "torch.Size([1, 28, 28])"
            ]
          },
          "metadata": {},
          "execution_count": 5
        }
      ]
    },
    {
      "cell_type": "code",
      "source": [
        "model = torch.nn.Sequential(\n",
        "    torch.nn.Conv2d(1, 6, kernel_size=4, padding=0),\n",
        "    torch.nn.Tanh(),\n",
        "    torch.nn.AvgPool2d(2, stride=2),\n",
        "    torch.nn.Conv2d(6, 16, kernel_size=4),\n",
        "    torch.nn.Tanh(),\n",
        "    torch.nn.AvgPool2d(2, stride=2),\n",
        "    torch.nn.Conv2d(16, 120, kernel_size=4),\n",
        "    torch.nn.Flatten(),\n",
        "    torch.nn.Linear(120, 84),\n",
        "    torch.nn.Tanh(),\n",
        "    torch.nn.Linear(84, 10)\n",
        ")"
      ],
      "metadata": {
        "id": "pxT20Hyx8LD-"
      },
      "execution_count": null,
      "outputs": []
    },
    {
      "cell_type": "code",
      "source": [
        "def evaluate_accuracy(data_iter, net):\n",
        "    acc_sum, n = torch.Tensor([0]), 0\n",
        "    for X, y in data_iter:\n",
        "        acc_sum += (net(X).argmax(axis=1) == y).sum()\n",
        "        n += y.shape[0]\n",
        "    return acc_sum.item() / n"
      ],
      "metadata": {
        "id": "BRjaF3t6-279"
      },
      "execution_count": null,
      "outputs": []
    },
    {
      "cell_type": "code",
      "source": [
        "def train(net, train_iter, test_iter, optimizer, num_epochs):\n",
        "    loss = torch.nn.CrossEntropyLoss()\n",
        "\n",
        "    for epoch in range(num_epochs):\n",
        "        train_l_sum, train_acc_sum, n, start = 0.0, 0.0, 0, time.time()\n",
        "\n",
        "        for X, y in train_iter:\n",
        "            optimizer.zero_grad()\n",
        "            y_hat = net(X)\n",
        "            l = loss(y_hat, y)\n",
        "            l.backward()\n",
        "            optimizer.step()\n",
        "            train_l_sum += l.item()\n",
        "            train_acc_sum += (y_hat.argmax(axis=1) == y).sum().item()\n",
        "            n += y.shape[0]\n",
        "\n",
        "        test_acc = evaluate_accuracy(test_iter, net)\n",
        "        print(f'epoch {epoch + 1}, loss {train_l_sum / n:.4f}, train acc {train_acc_sum / n:.3f}' \\\n",
        "              f', test acc {test_acc:.3f}, time {time.time() - start:.1f} sec')"
      ],
      "metadata": {
        "id": "exPWDRuH-7m3"
      },
      "execution_count": null,
      "outputs": []
    },
    {
      "cell_type": "code",
      "source": [
        "lr, num_epochs = 0.01, 10\n",
        "optimizer = torch.optim.SGD(model.parameters(), lr=lr)\n",
        "train(model, train_iter, test_iter, optimizer, num_epochs)"
      ],
      "metadata": {
        "colab": {
          "base_uri": "https://localhost:8080/"
        },
        "id": "XyFuBdTC_BkS",
        "outputId": "9433e0a9-ccd3-4636-f2dd-92ec978a881d"
      },
      "execution_count": null,
      "outputs": [
        {
          "output_type": "stream",
          "name": "stdout",
          "text": [
            "epoch 1, loss 0.0089, train acc 0.157, test acc 0.190, time 22.9 sec\n",
            "epoch 2, loss 0.0075, train acc 0.409, test acc 0.536, time 22.8 sec\n",
            "epoch 3, loss 0.0052, train acc 0.564, test acc 0.588, time 23.7 sec\n",
            "epoch 4, loss 0.0045, train acc 0.605, test acc 0.618, time 24.0 sec\n",
            "epoch 5, loss 0.0041, train acc 0.632, test acc 0.641, time 23.3 sec\n",
            "epoch 6, loss 0.0038, train acc 0.655, test acc 0.661, time 22.8 sec\n",
            "epoch 7, loss 0.0035, train acc 0.675, test acc 0.675, time 22.8 sec\n",
            "epoch 8, loss 0.0033, train acc 0.688, test acc 0.688, time 23.4 sec\n",
            "epoch 9, loss 0.0032, train acc 0.700, test acc 0.701, time 23.4 sec\n",
            "epoch 10, loss 0.0031, train acc 0.711, test acc 0.710, time 23.3 sec\n"
          ]
        }
      ]
    },
    {
      "cell_type": "code",
      "source": [
        "model = torch.nn.Sequential(\n",
        "    torch.nn.Conv2d(1, 6, kernel_size=4, padding=0),\n",
        "    torch.nn.ReLU(),\n",
        "    torch.nn.AvgPool2d(2, stride=2),\n",
        "    torch.nn.Conv2d(6, 16, kernel_size=4),\n",
        "    torch.nn.ReLU(),\n",
        "    torch.nn.AvgPool2d(2, stride=2),\n",
        "    torch.nn.Conv2d(16, 120, kernel_size=4),\n",
        "    torch.nn.Flatten(),\n",
        "    torch.nn.Linear(120, 84),\n",
        "    torch.nn.ReLU(),\n",
        "    torch.nn.Linear(84, 10)\n",
        ")"
      ],
      "metadata": {
        "id": "yOCoCOfOBQr5"
      },
      "execution_count": null,
      "outputs": []
    },
    {
      "cell_type": "code",
      "source": [
        "optimizer = torch.optim.Adam(model.parameters(), lr=lr)\n",
        "train(model, train_iter, test_iter, optimizer, num_epochs)"
      ],
      "metadata": {
        "colab": {
          "base_uri": "https://localhost:8080/"
        },
        "id": "egxNoHjCBciy",
        "outputId": "914beb1f-c91b-4fe0-db4f-70bf09fa0456"
      },
      "execution_count": null,
      "outputs": [
        {
          "output_type": "stream",
          "name": "stdout",
          "text": [
            "epoch 1, loss 0.0025, train acc 0.753, test acc 0.836, time 21.7 sec\n",
            "epoch 2, loss 0.0016, train acc 0.844, test acc 0.849, time 22.6 sec\n",
            "epoch 3, loss 0.0014, train acc 0.863, test acc 0.855, time 22.7 sec\n",
            "epoch 4, loss 0.0013, train acc 0.873, test acc 0.863, time 22.6 sec\n",
            "epoch 5, loss 0.0013, train acc 0.878, test acc 0.871, time 21.7 sec\n",
            "epoch 6, loss 0.0012, train acc 0.881, test acc 0.874, time 23.8 sec\n",
            "epoch 7, loss 0.0012, train acc 0.886, test acc 0.875, time 25.9 sec\n",
            "epoch 8, loss 0.0012, train acc 0.888, test acc 0.868, time 24.0 sec\n",
            "epoch 9, loss 0.0012, train acc 0.889, test acc 0.867, time 22.6 sec\n",
            "epoch 10, loss 0.0011, train acc 0.890, test acc 0.864, time 21.9 sec\n"
          ]
        }
      ]
    },
    {
      "cell_type": "code",
      "source": [
        "model = torch.nn.Sequential(\n",
        "    torch.nn.Conv2d(1, 16, kernel_size=4, padding=0),\n",
        "    torch.nn.ReLU(),\n",
        "    torch.nn.AvgPool2d(2, stride=2),\n",
        "    torch.nn.Conv2d(16, 32, kernel_size=4),\n",
        "    torch.nn.ReLU(),\n",
        "    torch.nn.AvgPool2d(2, stride=2),\n",
        "    torch.nn.BatchNorm2d(32),\n",
        "    torch.nn.Conv2d(32, 120, kernel_size=4),\n",
        "    torch.nn.ReLU(),\n",
        "    torch.nn.Flatten(),\n",
        "    torch.nn.Linear(120, 84),\n",
        "    torch.nn.ReLU(),\n",
        "    torch.nn.Linear(84, 10)\n",
        ")"
      ],
      "metadata": {
        "id": "mMdoDpe3Jdfy"
      },
      "execution_count": null,
      "outputs": []
    },
    {
      "cell_type": "code",
      "source": [
        "optimizer = torch.optim.Adam(model.parameters(), lr=0.01)\n",
        "train(model, train_iter, test_iter, optimizer, num_epochs)"
      ],
      "metadata": {
        "colab": {
          "base_uri": "https://localhost:8080/"
        },
        "id": "C_BFSonlEVCx",
        "outputId": "94c75991-ee0c-4e1b-ad2e-ab73944b5ff4"
      },
      "execution_count": null,
      "outputs": [
        {
          "output_type": "stream",
          "name": "stdout",
          "text": [
            "epoch 1, loss 0.0021, train acc 0.796, test acc 0.827, time 33.3 sec\n",
            "epoch 2, loss 0.0014, train acc 0.867, test acc 0.864, time 34.3 sec\n",
            "epoch 3, loss 0.0013, train acc 0.880, test acc 0.874, time 34.0 sec\n",
            "epoch 4, loss 0.0011, train acc 0.889, test acc 0.871, time 32.9 sec\n",
            "epoch 5, loss 0.0011, train acc 0.898, test acc 0.877, time 34.0 sec\n",
            "epoch 6, loss 0.0010, train acc 0.902, test acc 0.886, time 32.8 sec\n",
            "epoch 7, loss 0.0010, train acc 0.906, test acc 0.890, time 33.8 sec\n",
            "epoch 8, loss 0.0009, train acc 0.909, test acc 0.883, time 33.7 sec\n",
            "epoch 9, loss 0.0009, train acc 0.912, test acc 0.887, time 32.8 sec\n",
            "epoch 10, loss 0.0009, train acc 0.916, test acc 0.895, time 33.7 sec\n"
          ]
        }
      ]
    }
  ]
}