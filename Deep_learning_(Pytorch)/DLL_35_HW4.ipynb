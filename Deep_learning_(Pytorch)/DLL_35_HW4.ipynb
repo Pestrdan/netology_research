{
  "nbformat": 4,
  "nbformat_minor": 0,
  "metadata": {
    "colab": {
      "provenance": [],
      "gpuType": "A100",
      "authorship_tag": "ABX9TyMr+RN/DNnagNKaweEVvHEB",
      "include_colab_link": true
    },
    "kernelspec": {
      "name": "python3",
      "display_name": "Python 3"
    },
    "language_info": {
      "name": "python"
    },
    "accelerator": "GPU"
  },
  "cells": [
    {
      "cell_type": "markdown",
      "metadata": {
        "id": "view-in-github",
        "colab_type": "text"
      },
      "source": [
        "<a href=\"https://colab.research.google.com/github/Pestrdan/netology_research/blob/main/Deep_learning_(Pytorch)/DLL_35_HW4.ipynb\" target=\"_parent\"><img src=\"https://colab.research.google.com/assets/colab-badge.svg\" alt=\"Open In Colab\"/></a>"
      ]
    },
    {
      "cell_type": "code",
      "source": [
        "import torch\n",
        "from torch import nn\n",
        "import torchvision as tv\n",
        "from torchsummary import summary\n",
        "import time"
      ],
      "metadata": {
        "id": "nqcmQAB8_GoB"
      },
      "execution_count": null,
      "outputs": []
    },
    {
      "cell_type": "code",
      "source": [
        "import pandas as pd\n",
        "results = pd.DataFrame(columns=['Модель', 'Train accuracy', 'Train Loss', 'Test accuracy', 'Epoch'])"
      ],
      "metadata": {
        "id": "GrDWmebJHz-F"
      },
      "execution_count": null,
      "outputs": []
    },
    {
      "cell_type": "code",
      "source": [
        "import gc\n",
        "torch.cuda.empty_cache()\n",
        "gc.collect()"
      ],
      "metadata": {
        "colab": {
          "base_uri": "https://localhost:8080/"
        },
        "id": "oRyZJ4ut6Tyk",
        "outputId": "c925335c-a76f-4ee4-cd93-76044756fa44"
      },
      "execution_count": null,
      "outputs": [
        {
          "output_type": "execute_result",
          "data": {
            "text/plain": [
              "0"
            ]
          },
          "metadata": {},
          "execution_count": 3
        }
      ]
    },
    {
      "cell_type": "code",
      "source": [
        "torch.cuda.empty_cache()\n",
        "gc.collect()"
      ],
      "metadata": {
        "colab": {
          "base_uri": "https://localhost:8080/"
        },
        "id": "nqDThCkK6UJc",
        "outputId": "d19bbdc1-66d3-43d8-92ac-a5b3029338de"
      },
      "execution_count": null,
      "outputs": [
        {
          "output_type": "execute_result",
          "data": {
            "text/plain": [
              "0"
            ]
          },
          "metadata": {},
          "execution_count": 4
        }
      ]
    },
    {
      "cell_type": "code",
      "source": [
        "def evaluate_accuracy(data_iter, net):\n",
        "    acc_sum, n = 0, 0\n",
        "    net.eval()\n",
        "    for X, y in data_iter:\n",
        "        X, y = X.to(device), y.to(device)\n",
        "        acc_sum += (net(X).argmax(axis=1) == y).sum()\n",
        "        n += y.shape[0]\n",
        "    return acc_sum.item() / n"
      ],
      "metadata": {
        "id": "Fr1IUImc_Hgs"
      },
      "execution_count": null,
      "outputs": []
    },
    {
      "cell_type": "code",
      "source": [
        "def train(model_name, net, train_iter, test_iter, trainer, num_epochs):\n",
        "    net.to(device)\n",
        "    loss = nn.CrossEntropyLoss(reduction='sum')\n",
        "    net.train()\n",
        "    for epoch in range(num_epochs):\n",
        "        train_l_sum, train_acc_sum, n, start = 0.0, 0.0, 0, time.time()\n",
        "\n",
        "        for i, (X, y) in enumerate(train_iter):\n",
        "            X, y = X.to(device), y.to(device)\n",
        "            trainer.zero_grad()\n",
        "            y_hat = net(X)\n",
        "            l = loss(y_hat, y)\n",
        "            l.backward()\n",
        "            trainer.step()\n",
        "            train_l_sum += l.item()\n",
        "            train_acc_sum += (y_hat.argmax(axis=1) == y).sum().item()\n",
        "            n += y.shape[0]\n",
        "\n",
        "            if i % 100 == 0:\n",
        "              print(f\"Step {i}. time since epoch: {time.time() -  start:.3f}. \"\n",
        "                    f\"Train acc: {train_acc_sum / n:.3f}. Train Loss: {train_l_sum / n:.3f}\")\n",
        "        test_acc = evaluate_accuracy(test_iter, net.to(device))\n",
        "        print('-' * 20)\n",
        "        print(f'epoch {epoch + 1}, loss {train_l_sum / n:.4f}, train acc {train_acc_sum / n:.3f}'\n",
        "              f', test acc {test_acc:.3f}, time {time.time() - start:.1f} sec')\n",
        "        results.loc[len(results.index)] = [model_name, train_acc_sum/n, train_l_sum/n, test_acc, epoch+1]"
      ],
      "metadata": {
        "id": "RL8vXgOF_IiM"
      },
      "execution_count": null,
      "outputs": []
    },
    {
      "cell_type": "code",
      "source": [
        "device = 'cuda' if torch.cuda.is_available() else 'cpu'\n",
        "device"
      ],
      "metadata": {
        "colab": {
          "base_uri": "https://localhost:8080/",
          "height": 35
        },
        "id": "EoMOu49t_JVs",
        "outputId": "91074e6e-7bd9-4e4b-ab48-8feeaea323fa"
      },
      "execution_count": null,
      "outputs": [
        {
          "output_type": "execute_result",
          "data": {
            "text/plain": [
              "'cuda'"
            ],
            "application/vnd.google.colaboratory.intrinsic+json": {
              "type": "string"
            }
          },
          "metadata": {},
          "execution_count": 7
        }
      ]
    },
    {
      "cell_type": "markdown",
      "source": [
        "# **ResNet 18**"
      ],
      "metadata": {
        "id": "I2bLQLwJH0ye"
      }
    },
    {
      "cell_type": "code",
      "source": [
        "BATCH_SIZE = 256\n",
        "transoforms = tv.transforms.Compose([\n",
        "    tv.transforms.Grayscale(3),\n",
        "    tv.transforms.Resize((224, 224)),\n",
        "    tv.transforms.ToTensor()\n",
        "])\n",
        "\n",
        "train_dataset = tv.datasets.EMNIST('.', train=True, transform=transoforms, download=True, split='mnist')\n",
        "test_dataset = tv.datasets.EMNIST('.', train=False, transform=transoforms, download=True, split='mnist')\n",
        "train_iter = torch.utils.data.DataLoader(train_dataset, batch_size=BATCH_SIZE)\n",
        "test_iter = torch.utils.data.DataLoader(test_dataset, batch_size=BATCH_SIZE)"
      ],
      "metadata": {
        "id": "pMbXar53_bfk",
        "colab": {
          "base_uri": "https://localhost:8080/"
        },
        "outputId": "3718c8ee-625a-4c4f-ddd2-d5c52888a91f"
      },
      "execution_count": null,
      "outputs": [
        {
          "output_type": "stream",
          "name": "stdout",
          "text": [
            "Downloading https://biometrics.nist.gov/cs_links/EMNIST/gzip.zip to ./EMNIST/raw/gzip.zip\n"
          ]
        },
        {
          "output_type": "stream",
          "name": "stderr",
          "text": [
            "100%|██████████| 561753746/561753746 [00:28<00:00, 19681525.43it/s]\n"
          ]
        },
        {
          "output_type": "stream",
          "name": "stdout",
          "text": [
            "Extracting ./EMNIST/raw/gzip.zip to ./EMNIST/raw\n"
          ]
        }
      ]
    },
    {
      "cell_type": "code",
      "source": [
        "model = tv.models.resnet18(pretrained=False)"
      ],
      "metadata": {
        "colab": {
          "base_uri": "https://localhost:8080/"
        },
        "id": "eAmYGZNf_ehi",
        "outputId": "8dc99481-7ff1-4008-cab5-e21264498b38"
      },
      "execution_count": null,
      "outputs": [
        {
          "output_type": "stream",
          "name": "stderr",
          "text": [
            "/usr/local/lib/python3.10/dist-packages/torchvision/models/_utils.py:208: UserWarning: The parameter 'pretrained' is deprecated since 0.13 and may be removed in the future, please use 'weights' instead.\n",
            "  warnings.warn(\n",
            "/usr/local/lib/python3.10/dist-packages/torchvision/models/_utils.py:223: UserWarning: Arguments other than a weight enum or `None` for 'weights' are deprecated since 0.13 and may be removed in the future. The current behavior is equivalent to passing `weights=None`.\n",
            "  warnings.warn(msg)\n"
          ]
        }
      ]
    },
    {
      "cell_type": "code",
      "source": [
        "#model"
      ],
      "metadata": {
        "id": "g6zcNTeW_hKo"
      },
      "execution_count": null,
      "outputs": []
    },
    {
      "cell_type": "code",
      "source": [
        "#summary(model.to(device), input_size=(3, 224, 224))"
      ],
      "metadata": {
        "id": "9OisM7wf_jF4"
      },
      "execution_count": null,
      "outputs": []
    },
    {
      "cell_type": "code",
      "source": [
        "# Убираем требование градиента:\n",
        "#for param in model.parameters():\n",
        "    #param.requires_grad = False"
      ],
      "metadata": {
        "id": "AzsSRs31_k1w"
      },
      "execution_count": null,
      "outputs": []
    },
    {
      "cell_type": "code",
      "source": [
        "#model.fc"
      ],
      "metadata": {
        "id": "pz-Az-Y6_oBq"
      },
      "execution_count": null,
      "outputs": []
    },
    {
      "cell_type": "code",
      "source": [
        "model.fc = nn.Linear(in_features=512, out_features=10)"
      ],
      "metadata": {
        "id": "UFMck8Mo_pIE"
      },
      "execution_count": null,
      "outputs": []
    },
    {
      "cell_type": "code",
      "source": [
        "#print(\"Params to learn:\")\n",
        "params_to_update = []\n",
        "for name, param in model.named_parameters():\n",
        "    if param.requires_grad == True:\n",
        "        params_to_update.append(param)\n",
        "        #print(\"\\t\",name)"
      ],
      "metadata": {
        "id": "EouKwq1L_qLm"
      },
      "execution_count": null,
      "outputs": []
    },
    {
      "cell_type": "code",
      "source": [
        "trainer = torch.optim.Adam(params_to_update, lr=0.001)"
      ],
      "metadata": {
        "id": "DUZovaEi_rYG"
      },
      "execution_count": null,
      "outputs": []
    },
    {
      "cell_type": "code",
      "source": [
        "train('ResNet_18', model, train_iter, test_iter, trainer, 1)"
      ],
      "metadata": {
        "colab": {
          "base_uri": "https://localhost:8080/"
        },
        "id": "48_gH8Mj_svZ",
        "outputId": "1eddcbba-f2b0-4631-fb37-316f61a36bff"
      },
      "execution_count": null,
      "outputs": [
        {
          "output_type": "stream",
          "name": "stdout",
          "text": [
            "Step 0. time since epoch: 2.046. Train acc: 0.188. Train Loss: 2.352\n",
            "Step 100. time since epoch: 46.332. Train acc: 0.942. Train Loss: 0.202\n",
            "Step 200. time since epoch: 90.464. Train acc: 0.964. Train Loss: 0.126\n",
            "--------------------\n",
            "epoch 1, loss 0.1134, train acc 0.968, test acc 0.974, time 118.4 sec\n"
          ]
        }
      ]
    },
    {
      "cell_type": "code",
      "source": [
        "#results"
      ],
      "metadata": {
        "id": "5vBS1aZPI6fC"
      },
      "execution_count": null,
      "outputs": []
    },
    {
      "cell_type": "markdown",
      "source": [
        "# **VGG 16**"
      ],
      "metadata": {
        "id": "mLMnFaO7M15m"
      }
    },
    {
      "cell_type": "code",
      "source": [
        "import gc\n",
        "torch.cuda.empty_cache()\n",
        "gc.collect()"
      ],
      "metadata": {
        "colab": {
          "base_uri": "https://localhost:8080/"
        },
        "id": "GNeVhhXSSIOi",
        "outputId": "c116a905-edfa-4aa9-c0fe-5cce663eb18c"
      },
      "execution_count": null,
      "outputs": [
        {
          "output_type": "execute_result",
          "data": {
            "text/plain": [
              "0"
            ]
          },
          "metadata": {},
          "execution_count": 19
        }
      ]
    },
    {
      "cell_type": "code",
      "source": [
        "torch.cuda.empty_cache()\n",
        "gc.collect()"
      ],
      "metadata": {
        "id": "oHxn23q0YeMk",
        "colab": {
          "base_uri": "https://localhost:8080/"
        },
        "outputId": "03521773-67c1-4c76-8b52-527c92f6e4ed"
      },
      "execution_count": null,
      "outputs": [
        {
          "output_type": "execute_result",
          "data": {
            "text/plain": [
              "0"
            ]
          },
          "metadata": {},
          "execution_count": 20
        }
      ]
    },
    {
      "cell_type": "code",
      "source": [
        "BATCH_SIZE = 64\n",
        "transoforms = tv.transforms.Compose([\n",
        "    tv.transforms.Grayscale(3),\n",
        "    tv.transforms.Resize((224, 224)),\n",
        "    tv.transforms.ToTensor()\n",
        "])\n",
        "\n",
        "train_dataset = tv.datasets.EMNIST('.', train=True, transform=transoforms, download=True, split='mnist')\n",
        "test_dataset = tv.datasets.EMNIST('.', train=False, transform=transoforms, download=True, split='mnist')\n",
        "train_iter = torch.utils.data.DataLoader(train_dataset, batch_size=BATCH_SIZE)\n",
        "test_iter = torch.utils.data.DataLoader(test_dataset, batch_size=BATCH_SIZE)"
      ],
      "metadata": {
        "id": "A9VJrDs2Qg9L"
      },
      "execution_count": null,
      "outputs": []
    },
    {
      "cell_type": "code",
      "source": [
        "model = tv.models.vgg16(pretrained=False)"
      ],
      "metadata": {
        "id": "2U50OmpcM3yL",
        "colab": {
          "base_uri": "https://localhost:8080/"
        },
        "outputId": "207536b5-eb79-4d78-a346-ca0803f784b3"
      },
      "execution_count": null,
      "outputs": [
        {
          "output_type": "stream",
          "name": "stderr",
          "text": [
            "/usr/local/lib/python3.10/dist-packages/torchvision/models/_utils.py:208: UserWarning: The parameter 'pretrained' is deprecated since 0.13 and may be removed in the future, please use 'weights' instead.\n",
            "  warnings.warn(\n",
            "/usr/local/lib/python3.10/dist-packages/torchvision/models/_utils.py:223: UserWarning: Arguments other than a weight enum or `None` for 'weights' are deprecated since 0.13 and may be removed in the future. The current behavior is equivalent to passing `weights=None`.\n",
            "  warnings.warn(msg)\n"
          ]
        }
      ]
    },
    {
      "cell_type": "code",
      "source": [
        "#print(model)"
      ],
      "metadata": {
        "id": "cdBAkr52PBkx"
      },
      "execution_count": null,
      "outputs": []
    },
    {
      "cell_type": "code",
      "source": [
        "model.classifier[6] = nn.Linear(in_features=4096, out_features=10)"
      ],
      "metadata": {
        "id": "LH1jM_4nOzpn"
      },
      "execution_count": null,
      "outputs": []
    },
    {
      "cell_type": "code",
      "source": [
        "#print(\"Params to learn:\")\n",
        "params_to_update = []\n",
        "for name, param in model.named_parameters():\n",
        "    if param.requires_grad == True:\n",
        "        params_to_update.append(param)\n",
        "        #print(\"\\t\",name)"
      ],
      "metadata": {
        "id": "5Zre85xgP38w"
      },
      "execution_count": null,
      "outputs": []
    },
    {
      "cell_type": "code",
      "source": [
        "trainer = torch.optim.Adam(params_to_update, lr=0.001)"
      ],
      "metadata": {
        "id": "7Km-2QgAQCvV"
      },
      "execution_count": null,
      "outputs": []
    },
    {
      "cell_type": "code",
      "source": [
        "train('VGG_16', model, train_iter, test_iter, trainer, 2)"
      ],
      "metadata": {
        "colab": {
          "base_uri": "https://localhost:8080/"
        },
        "id": "uQlQhMIxQFB4",
        "outputId": "8d059eda-f6ee-492a-c13a-8052636b9360"
      },
      "execution_count": null,
      "outputs": [
        {
          "output_type": "stream",
          "name": "stdout",
          "text": [
            "Step 0. time since epoch: 0.268. Train acc: 0.125. Train Loss: 2.300\n",
            "Step 100. time since epoch: 19.174. Train acc: 0.608. Train Loss: 2.634\n",
            "Step 200. time since epoch: 37.931. Train acc: 0.781. Train Loss: 1.402\n",
            "Step 300. time since epoch: 56.755. Train acc: 0.842. Train Loss: 0.979\n",
            "Step 400. time since epoch: 75.504. Train acc: 0.874. Train Loss: 0.760\n",
            "Step 500. time since epoch: 94.346. Train acc: 0.894. Train Loss: 0.628\n",
            "Step 600. time since epoch: 113.215. Train acc: 0.908. Train Loss: 0.537\n",
            "Step 700. time since epoch: 131.982. Train acc: 0.918. Train Loss: 0.471\n",
            "Step 800. time since epoch: 150.790. Train acc: 0.925. Train Loss: 0.421\n",
            "Step 900. time since epoch: 169.610. Train acc: 0.932. Train Loss: 0.382\n",
            "--------------------\n",
            "epoch 1, loss 0.3695, train acc 0.934, test acc 0.983, time 188.6 sec\n",
            "Step 0. time since epoch: 0.198. Train acc: 0.984. Train Loss: 0.053\n",
            "Step 100. time since epoch: 20.581. Train acc: 0.986. Train Loss: 0.051\n",
            "Step 200. time since epoch: 40.879. Train acc: 0.985. Train Loss: 0.052\n",
            "Step 300. time since epoch: 61.130. Train acc: 0.978. Train Loss: 0.078\n",
            "Step 400. time since epoch: 81.352. Train acc: 0.980. Train Loss: 0.072\n",
            "Step 500. time since epoch: 101.568. Train acc: 0.981. Train Loss: 0.069\n",
            "Step 600. time since epoch: 121.819. Train acc: 0.982. Train Loss: 0.065\n",
            "Step 700. time since epoch: 141.993. Train acc: 0.982. Train Loss: 0.061\n",
            "Step 800. time since epoch: 162.173. Train acc: 0.983. Train Loss: 0.059\n",
            "Step 900. time since epoch: 182.418. Train acc: 0.984. Train Loss: 0.056\n",
            "--------------------\n",
            "epoch 2, loss 0.0549, train acc 0.984, test acc 0.985, time 201.7 sec\n"
          ]
        }
      ]
    },
    {
      "cell_type": "markdown",
      "source": [
        "# **Inception v3**"
      ],
      "metadata": {
        "id": "J3duUFD7azqV"
      }
    },
    {
      "cell_type": "code",
      "source": [
        "torch.cuda.empty_cache()\n",
        "gc.collect()"
      ],
      "metadata": {
        "colab": {
          "base_uri": "https://localhost:8080/"
        },
        "id": "RnuK2dgha2em",
        "outputId": "6fe8848b-2dd6-4d51-b04c-45cbe95071bb"
      },
      "execution_count": null,
      "outputs": [
        {
          "output_type": "execute_result",
          "data": {
            "text/plain": [
              "0"
            ]
          },
          "metadata": {},
          "execution_count": 28
        }
      ]
    },
    {
      "cell_type": "code",
      "source": [
        "torch.cuda.empty_cache()\n",
        "gc.collect()"
      ],
      "metadata": {
        "colab": {
          "base_uri": "https://localhost:8080/"
        },
        "id": "FT-sZQpia5b3",
        "outputId": "04735e0d-dead-45cb-a61d-e15bf8f44788"
      },
      "execution_count": null,
      "outputs": [
        {
          "output_type": "execute_result",
          "data": {
            "text/plain": [
              "0"
            ]
          },
          "metadata": {},
          "execution_count": 29
        }
      ]
    },
    {
      "cell_type": "code",
      "source": [
        "BATCH_SIZE = 64\n",
        "transoforms = tv.transforms.Compose([\n",
        "    tv.transforms.Grayscale(3),\n",
        "    tv.transforms.Resize((299, 299)),\n",
        "    tv.transforms.ToTensor()\n",
        "])\n",
        "\n",
        "train_dataset = tv.datasets.EMNIST('.', train=True, transform=transoforms, download=True, split='mnist')\n",
        "test_dataset = tv.datasets.EMNIST('.', train=False, transform=transoforms, download=True, split='mnist')\n",
        "train_iter = torch.utils.data.DataLoader(train_dataset, batch_size=BATCH_SIZE)\n",
        "test_iter = torch.utils.data.DataLoader(test_dataset, batch_size=BATCH_SIZE)"
      ],
      "metadata": {
        "id": "xKyaR-Yfa6de"
      },
      "execution_count": null,
      "outputs": []
    },
    {
      "cell_type": "code",
      "source": [
        "model = tv.models.inception_v3(pretrained=False)"
      ],
      "metadata": {
        "colab": {
          "base_uri": "https://localhost:8080/"
        },
        "id": "_7tI75nqc1CJ",
        "outputId": "cbcc924c-579f-4e98-f649-17af8911ef4f"
      },
      "execution_count": null,
      "outputs": [
        {
          "output_type": "stream",
          "name": "stderr",
          "text": [
            "/usr/local/lib/python3.10/dist-packages/torchvision/models/_utils.py:208: UserWarning: The parameter 'pretrained' is deprecated since 0.13 and may be removed in the future, please use 'weights' instead.\n",
            "  warnings.warn(\n",
            "/usr/local/lib/python3.10/dist-packages/torchvision/models/_utils.py:223: UserWarning: Arguments other than a weight enum or `None` for 'weights' are deprecated since 0.13 and may be removed in the future. The current behavior is equivalent to passing `weights=None`.\n",
            "  warnings.warn(msg)\n",
            "/usr/local/lib/python3.10/dist-packages/torchvision/models/inception.py:43: FutureWarning: The default weight initialization of inception_v3 will be changed in future releases of torchvision. If you wish to keep the old behavior (which leads to long initialization times due to scipy/scipy#11299), please set init_weights=True.\n",
            "  warnings.warn(\n"
          ]
        }
      ]
    },
    {
      "cell_type": "code",
      "source": [
        "model.aux_logits = False"
      ],
      "metadata": {
        "id": "KajC9J0IKPxk"
      },
      "execution_count": null,
      "outputs": []
    },
    {
      "cell_type": "code",
      "source": [
        "#print(model)"
      ],
      "metadata": {
        "id": "BwFYUmzXfzAB"
      },
      "execution_count": null,
      "outputs": []
    },
    {
      "cell_type": "code",
      "source": [
        "model.fc = nn.Linear(in_features=2048, out_features=10)"
      ],
      "metadata": {
        "id": "Df5wT1Lwa8Y8"
      },
      "execution_count": null,
      "outputs": []
    },
    {
      "cell_type": "code",
      "source": [
        "#print(\"Params to learn:\")\n",
        "params_to_update = []\n",
        "for name, param in model.named_parameters():\n",
        "    if param.requires_grad == True:\n",
        "        params_to_update.append(param)\n",
        "        #print(\"\\t\",name)"
      ],
      "metadata": {
        "id": "NHcMuchfbAIl"
      },
      "execution_count": null,
      "outputs": []
    },
    {
      "cell_type": "code",
      "source": [
        "trainer = torch.optim.Adam(params_to_update, lr=0.001)"
      ],
      "metadata": {
        "id": "bbLkWa3WbDvl"
      },
      "execution_count": null,
      "outputs": []
    },
    {
      "cell_type": "code",
      "source": [
        "train('Inception_v3', model, train_iter, test_iter, trainer, 2)"
      ],
      "metadata": {
        "colab": {
          "base_uri": "https://localhost:8080/"
        },
        "id": "_loOieyxbFrO",
        "outputId": "f8e92d25-600b-40f2-d91f-cf4cb23a90ba"
      },
      "execution_count": null,
      "outputs": [
        {
          "output_type": "stream",
          "name": "stdout",
          "text": [
            "Step 0. time since epoch: 0.510. Train acc: 0.078. Train Loss: 2.380\n",
            "Step 100. time since epoch: 23.447. Train acc: 0.862. Train Loss: 0.432\n",
            "Step 200. time since epoch: 46.282. Train acc: 0.915. Train Loss: 0.268\n",
            "Step 300. time since epoch: 69.006. Train acc: 0.935. Train Loss: 0.207\n",
            "Step 400. time since epoch: 91.669. Train acc: 0.945. Train Loss: 0.175\n",
            "Step 500. time since epoch: 114.391. Train acc: 0.953. Train Loss: 0.152\n",
            "Step 600. time since epoch: 137.072. Train acc: 0.958. Train Loss: 0.137\n",
            "Step 700. time since epoch: 159.757. Train acc: 0.962. Train Loss: 0.124\n",
            "Step 800. time since epoch: 182.427. Train acc: 0.965. Train Loss: 0.116\n",
            "Step 900. time since epoch: 205.176. Train acc: 0.967. Train Loss: 0.110\n",
            "--------------------\n",
            "epoch 1, loss 0.1067, train acc 0.968, test acc 0.992, time 234.1 sec\n",
            "Step 0. time since epoch: 0.271. Train acc: 1.000. Train Loss: 0.023\n",
            "Step 100. time since epoch: 22.944. Train acc: 0.159. Train Loss: 3.377\n",
            "Step 200. time since epoch: 45.761. Train acc: 0.126. Train Loss: 2.843\n",
            "Step 300. time since epoch: 68.538. Train acc: 0.116. Train Loss: 2.664\n",
            "Step 400. time since epoch: 91.273. Train acc: 0.113. Train Loss: 2.574\n",
            "Step 500. time since epoch: 114.082. Train acc: 0.110. Train Loss: 2.520\n",
            "Step 600. time since epoch: 136.871. Train acc: 0.109. Train Loss: 2.484\n",
            "Step 700. time since epoch: 159.584. Train acc: 0.108. Train Loss: 2.458\n",
            "Step 800. time since epoch: 182.436. Train acc: 0.107. Train Loss: 2.438\n",
            "Step 900. time since epoch: 205.175. Train acc: 0.105. Train Loss: 2.423\n",
            "--------------------\n",
            "epoch 2, loss 2.4188, train acc 0.105, test acc 0.100, time 233.9 sec\n"
          ]
        }
      ]
    },
    {
      "cell_type": "code",
      "source": [
        "#results"
      ],
      "metadata": {
        "id": "ev8NxjH0vhyN"
      },
      "execution_count": null,
      "outputs": []
    },
    {
      "cell_type": "markdown",
      "source": [
        "# **DenseNet 161**"
      ],
      "metadata": {
        "id": "t2Jxf9vfb_K4"
      }
    },
    {
      "cell_type": "code",
      "source": [
        "torch.cuda.empty_cache()\n",
        "gc.collect()"
      ],
      "metadata": {
        "id": "wlFoDVCacDAr",
        "colab": {
          "base_uri": "https://localhost:8080/"
        },
        "outputId": "03150c44-005a-4d8c-9751-13c0c67f6cac"
      },
      "execution_count": null,
      "outputs": [
        {
          "output_type": "execute_result",
          "data": {
            "text/plain": [
              "0"
            ]
          },
          "metadata": {},
          "execution_count": 39
        }
      ]
    },
    {
      "cell_type": "code",
      "source": [
        "torch.cuda.empty_cache()\n",
        "gc.collect()"
      ],
      "metadata": {
        "id": "wGoMTulNcECY",
        "colab": {
          "base_uri": "https://localhost:8080/"
        },
        "outputId": "5a9ed91c-110a-4c1f-fc5b-04780a6574f1"
      },
      "execution_count": null,
      "outputs": [
        {
          "output_type": "execute_result",
          "data": {
            "text/plain": [
              "0"
            ]
          },
          "metadata": {},
          "execution_count": 40
        }
      ]
    },
    {
      "cell_type": "code",
      "source": [
        "BATCH_SIZE = 16\n",
        "transoforms = tv.transforms.Compose([\n",
        "    tv.transforms.Grayscale(3),\n",
        "    tv.transforms.Resize((244, 244)),\n",
        "    tv.transforms.ToTensor()\n",
        "])\n",
        "\n",
        "train_dataset = tv.datasets.EMNIST('.', train=True, transform=transoforms, download=True, split='mnist')\n",
        "test_dataset = tv.datasets.EMNIST('.', train=False, transform=transoforms, download=True, split='mnist')\n",
        "train_iter = torch.utils.data.DataLoader(train_dataset, batch_size=BATCH_SIZE)\n",
        "test_iter = torch.utils.data.DataLoader(test_dataset, batch_size=BATCH_SIZE)"
      ],
      "metadata": {
        "id": "PojSox6gcE1B"
      },
      "execution_count": null,
      "outputs": []
    },
    {
      "cell_type": "code",
      "source": [
        "model = tv.models.densenet161(pretrained=False)"
      ],
      "metadata": {
        "id": "UAVciOAAdHib",
        "colab": {
          "base_uri": "https://localhost:8080/"
        },
        "outputId": "c8f23f98-152f-4315-d6d4-945375ccc74e"
      },
      "execution_count": null,
      "outputs": [
        {
          "output_type": "stream",
          "name": "stderr",
          "text": [
            "/usr/local/lib/python3.10/dist-packages/torchvision/models/_utils.py:208: UserWarning: The parameter 'pretrained' is deprecated since 0.13 and may be removed in the future, please use 'weights' instead.\n",
            "  warnings.warn(\n",
            "/usr/local/lib/python3.10/dist-packages/torchvision/models/_utils.py:223: UserWarning: Arguments other than a weight enum or `None` for 'weights' are deprecated since 0.13 and may be removed in the future. The current behavior is equivalent to passing `weights=None`.\n",
            "  warnings.warn(msg)\n"
          ]
        }
      ]
    },
    {
      "cell_type": "code",
      "source": [
        "model.classifier = nn.Linear(in_features=2208, out_features=10)"
      ],
      "metadata": {
        "id": "D2HBNHC4cjWz"
      },
      "execution_count": null,
      "outputs": []
    },
    {
      "cell_type": "code",
      "source": [
        "#print(\"Params to learn:\")\n",
        "params_to_update = []\n",
        "for name, param in model.named_parameters():\n",
        "    if param.requires_grad == True:\n",
        "        params_to_update.append(param)\n",
        "        #print(\"\\t\",name)"
      ],
      "metadata": {
        "id": "YZ_1KwLrcpiC"
      },
      "execution_count": null,
      "outputs": []
    },
    {
      "cell_type": "code",
      "source": [
        "trainer = torch.optim.Adam(params_to_update, lr=0.001)"
      ],
      "metadata": {
        "id": "fk1W0JPlcud4"
      },
      "execution_count": null,
      "outputs": []
    },
    {
      "cell_type": "code",
      "source": [
        "train('Densenet_161', model, train_iter, test_iter, trainer, 2)"
      ],
      "metadata": {
        "id": "VefHO5ezcvXc",
        "colab": {
          "base_uri": "https://localhost:8080/"
        },
        "outputId": "28998c83-0f84-49a3-f648-6c27b473c494"
      },
      "execution_count": null,
      "outputs": [
        {
          "output_type": "stream",
          "name": "stdout",
          "text": [
            "Step 0. time since epoch: 0.571. Train acc: 0.188. Train Loss: 2.335\n",
            "Step 100. time since epoch: 12.219. Train acc: 0.746. Train Loss: 0.802\n",
            "Step 200. time since epoch: 24.061. Train acc: 0.821. Train Loss: 0.571\n",
            "Step 300. time since epoch: 35.781. Train acc: 0.855. Train Loss: 0.462\n",
            "Step 400. time since epoch: 47.639. Train acc: 0.875. Train Loss: 0.399\n",
            "Step 500. time since epoch: 59.423. Train acc: 0.889. Train Loss: 0.359\n",
            "Step 600. time since epoch: 71.152. Train acc: 0.898. Train Loss: 0.326\n",
            "Step 700. time since epoch: 83.009. Train acc: 0.906. Train Loss: 0.302\n",
            "Step 800. time since epoch: 94.665. Train acc: 0.912. Train Loss: 0.283\n",
            "Step 900. time since epoch: 106.604. Train acc: 0.918. Train Loss: 0.267\n",
            "Step 1000. time since epoch: 118.393. Train acc: 0.922. Train Loss: 0.253\n",
            "Step 1100. time since epoch: 130.416. Train acc: 0.927. Train Loss: 0.238\n",
            "Step 1200. time since epoch: 142.388. Train acc: 0.930. Train Loss: 0.231\n",
            "Step 1300. time since epoch: 154.091. Train acc: 0.932. Train Loss: 0.223\n",
            "Step 1400. time since epoch: 165.954. Train acc: 0.934. Train Loss: 0.215\n",
            "Step 1500. time since epoch: 177.681. Train acc: 0.936. Train Loss: 0.209\n",
            "Step 1600. time since epoch: 189.508. Train acc: 0.938. Train Loss: 0.203\n",
            "Step 1700. time since epoch: 201.222. Train acc: 0.940. Train Loss: 0.197\n",
            "Step 1800. time since epoch: 212.977. Train acc: 0.942. Train Loss: 0.190\n",
            "Step 1900. time since epoch: 224.821. Train acc: 0.944. Train Loss: 0.185\n",
            "Step 2000. time since epoch: 236.849. Train acc: 0.945. Train Loss: 0.182\n",
            "Step 2100. time since epoch: 248.787. Train acc: 0.946. Train Loss: 0.178\n",
            "Step 2200. time since epoch: 260.530. Train acc: 0.947. Train Loss: 0.174\n",
            "Step 2300. time since epoch: 272.398. Train acc: 0.949. Train Loss: 0.171\n",
            "Step 2400. time since epoch: 284.196. Train acc: 0.950. Train Loss: 0.168\n",
            "Step 2500. time since epoch: 295.974. Train acc: 0.951. Train Loss: 0.164\n",
            "Step 2600. time since epoch: 307.953. Train acc: 0.952. Train Loss: 0.160\n",
            "Step 2700. time since epoch: 319.906. Train acc: 0.953. Train Loss: 0.157\n",
            "Step 2800. time since epoch: 331.914. Train acc: 0.954. Train Loss: 0.155\n",
            "Step 2900. time since epoch: 343.670. Train acc: 0.954. Train Loss: 0.152\n",
            "Step 3000. time since epoch: 355.615. Train acc: 0.955. Train Loss: 0.150\n",
            "Step 3100. time since epoch: 367.287. Train acc: 0.956. Train Loss: 0.148\n",
            "Step 3200. time since epoch: 379.106. Train acc: 0.956. Train Loss: 0.146\n",
            "Step 3300. time since epoch: 391.015. Train acc: 0.957. Train Loss: 0.144\n",
            "Step 3400. time since epoch: 402.882. Train acc: 0.957. Train Loss: 0.143\n",
            "Step 3500. time since epoch: 414.767. Train acc: 0.958. Train Loss: 0.141\n",
            "Step 3600. time since epoch: 426.404. Train acc: 0.958. Train Loss: 0.139\n",
            "Step 3700. time since epoch: 438.437. Train acc: 0.959. Train Loss: 0.137\n",
            "--------------------\n",
            "epoch 1, loss 0.1360, train acc 0.959, test acc 0.988, time 476.1 sec\n",
            "Step 0. time since epoch: 0.106. Train acc: 1.000. Train Loss: 0.002\n",
            "Step 100. time since epoch: 10.957. Train acc: 0.886. Train Loss: 0.436\n",
            "Step 200. time since epoch: 22.008. Train acc: 0.928. Train Loss: 0.267\n",
            "Step 300. time since epoch: 33.028. Train acc: 0.947. Train Loss: 0.194\n",
            "Step 400. time since epoch: 44.131. Train acc: 0.955. Train Loss: 0.162\n",
            "Step 500. time since epoch: 55.090. Train acc: 0.960. Train Loss: 0.143\n",
            "Step 600. time since epoch: 65.982. Train acc: 0.964. Train Loss: 0.128\n",
            "Step 700. time since epoch: 77.095. Train acc: 0.966. Train Loss: 0.121\n",
            "Step 800. time since epoch: 88.027. Train acc: 0.968. Train Loss: 0.112\n",
            "Step 900. time since epoch: 99.090. Train acc: 0.970. Train Loss: 0.105\n",
            "Step 1000. time since epoch: 109.962. Train acc: 0.972. Train Loss: 0.100\n",
            "Step 1100. time since epoch: 120.891. Train acc: 0.973. Train Loss: 0.095\n",
            "Step 1200. time since epoch: 131.936. Train acc: 0.974. Train Loss: 0.093\n",
            "Step 1300. time since epoch: 142.769. Train acc: 0.975. Train Loss: 0.090\n",
            "Step 1400. time since epoch: 153.826. Train acc: 0.976. Train Loss: 0.087\n",
            "Step 1500. time since epoch: 164.889. Train acc: 0.976. Train Loss: 0.085\n",
            "Step 1600. time since epoch: 175.806. Train acc: 0.977. Train Loss: 0.082\n",
            "Step 1700. time since epoch: 186.967. Train acc: 0.977. Train Loss: 0.081\n",
            "Step 1800. time since epoch: 197.778. Train acc: 0.978. Train Loss: 0.078\n",
            "Step 1900. time since epoch: 208.844. Train acc: 0.978. Train Loss: 0.077\n",
            "Step 2000. time since epoch: 219.902. Train acc: 0.978. Train Loss: 0.077\n",
            "Step 2100. time since epoch: 231.070. Train acc: 0.979. Train Loss: 0.076\n",
            "Step 2200. time since epoch: 242.182. Train acc: 0.979. Train Loss: 0.075\n",
            "Step 2300. time since epoch: 253.134. Train acc: 0.979. Train Loss: 0.074\n",
            "Step 2400. time since epoch: 264.170. Train acc: 0.980. Train Loss: 0.073\n",
            "Step 2500. time since epoch: 275.211. Train acc: 0.980. Train Loss: 0.072\n",
            "Step 2600. time since epoch: 286.061. Train acc: 0.980. Train Loss: 0.071\n",
            "Step 2700. time since epoch: 297.083. Train acc: 0.981. Train Loss: 0.069\n",
            "Step 2800. time since epoch: 307.977. Train acc: 0.981. Train Loss: 0.069\n",
            "Step 2900. time since epoch: 318.965. Train acc: 0.981. Train Loss: 0.068\n",
            "Step 3000. time since epoch: 330.006. Train acc: 0.981. Train Loss: 0.068\n",
            "Step 3100. time since epoch: 340.999. Train acc: 0.981. Train Loss: 0.068\n",
            "Step 3200. time since epoch: 352.013. Train acc: 0.981. Train Loss: 0.067\n",
            "Step 3300. time since epoch: 362.884. Train acc: 0.981. Train Loss: 0.067\n",
            "Step 3400. time since epoch: 373.798. Train acc: 0.981. Train Loss: 0.066\n",
            "Step 3500. time since epoch: 384.794. Train acc: 0.981. Train Loss: 0.066\n",
            "Step 3600. time since epoch: 395.925. Train acc: 0.982. Train Loss: 0.065\n",
            "Step 3700. time since epoch: 406.972. Train acc: 0.982. Train Loss: 0.065\n",
            "--------------------\n",
            "epoch 2, loss 0.0641, train acc 0.982, test acc 0.989, time 444.6 sec\n"
          ]
        }
      ]
    },
    {
      "cell_type": "markdown",
      "source": [
        "# **Результаты**"
      ],
      "metadata": {
        "id": "Rx9J8xvjdoHa"
      }
    },
    {
      "cell_type": "code",
      "source": [
        "results"
      ],
      "metadata": {
        "id": "Mg9H4oKUdlkg",
        "colab": {
          "base_uri": "https://localhost:8080/",
          "height": 269
        },
        "outputId": "9d401bfc-85b0-42d9-d4b5-7d04e503be03"
      },
      "execution_count": null,
      "outputs": [
        {
          "output_type": "execute_result",
          "data": {
            "text/plain": [
              "         Модель  Train accuracy  Train Loss  Test accuracy  Epoch\n",
              "0     ResNet_18        0.967867    0.113362         0.9744      1\n",
              "1        VGG_16        0.933617    0.369500         0.9834      1\n",
              "2        VGG_16        0.984367    0.054867         0.9846      2\n",
              "3  Inception_v3        0.967533    0.106704         0.9915      1\n",
              "4  Inception_v3        0.105133    2.418758         0.1000      2\n",
              "5  Densenet_161        0.959250    0.135996         0.9880      1\n",
              "6  Densenet_161        0.981867    0.064082         0.9892      2"
            ],
            "text/html": [
              "\n",
              "  <div id=\"df-24cf2c43-5758-4153-aaec-f07c2bc39e9d\" class=\"colab-df-container\">\n",
              "    <div>\n",
              "<style scoped>\n",
              "    .dataframe tbody tr th:only-of-type {\n",
              "        vertical-align: middle;\n",
              "    }\n",
              "\n",
              "    .dataframe tbody tr th {\n",
              "        vertical-align: top;\n",
              "    }\n",
              "\n",
              "    .dataframe thead th {\n",
              "        text-align: right;\n",
              "    }\n",
              "</style>\n",
              "<table border=\"1\" class=\"dataframe\">\n",
              "  <thead>\n",
              "    <tr style=\"text-align: right;\">\n",
              "      <th></th>\n",
              "      <th>Модель</th>\n",
              "      <th>Train accuracy</th>\n",
              "      <th>Train Loss</th>\n",
              "      <th>Test accuracy</th>\n",
              "      <th>Epoch</th>\n",
              "    </tr>\n",
              "  </thead>\n",
              "  <tbody>\n",
              "    <tr>\n",
              "      <th>0</th>\n",
              "      <td>ResNet_18</td>\n",
              "      <td>0.967867</td>\n",
              "      <td>0.113362</td>\n",
              "      <td>0.9744</td>\n",
              "      <td>1</td>\n",
              "    </tr>\n",
              "    <tr>\n",
              "      <th>1</th>\n",
              "      <td>VGG_16</td>\n",
              "      <td>0.933617</td>\n",
              "      <td>0.369500</td>\n",
              "      <td>0.9834</td>\n",
              "      <td>1</td>\n",
              "    </tr>\n",
              "    <tr>\n",
              "      <th>2</th>\n",
              "      <td>VGG_16</td>\n",
              "      <td>0.984367</td>\n",
              "      <td>0.054867</td>\n",
              "      <td>0.9846</td>\n",
              "      <td>2</td>\n",
              "    </tr>\n",
              "    <tr>\n",
              "      <th>3</th>\n",
              "      <td>Inception_v3</td>\n",
              "      <td>0.967533</td>\n",
              "      <td>0.106704</td>\n",
              "      <td>0.9915</td>\n",
              "      <td>1</td>\n",
              "    </tr>\n",
              "    <tr>\n",
              "      <th>4</th>\n",
              "      <td>Inception_v3</td>\n",
              "      <td>0.105133</td>\n",
              "      <td>2.418758</td>\n",
              "      <td>0.1000</td>\n",
              "      <td>2</td>\n",
              "    </tr>\n",
              "    <tr>\n",
              "      <th>5</th>\n",
              "      <td>Densenet_161</td>\n",
              "      <td>0.959250</td>\n",
              "      <td>0.135996</td>\n",
              "      <td>0.9880</td>\n",
              "      <td>1</td>\n",
              "    </tr>\n",
              "    <tr>\n",
              "      <th>6</th>\n",
              "      <td>Densenet_161</td>\n",
              "      <td>0.981867</td>\n",
              "      <td>0.064082</td>\n",
              "      <td>0.9892</td>\n",
              "      <td>2</td>\n",
              "    </tr>\n",
              "  </tbody>\n",
              "</table>\n",
              "</div>\n",
              "    <div class=\"colab-df-buttons\">\n",
              "\n",
              "  <div class=\"colab-df-container\">\n",
              "    <button class=\"colab-df-convert\" onclick=\"convertToInteractive('df-24cf2c43-5758-4153-aaec-f07c2bc39e9d')\"\n",
              "            title=\"Convert this dataframe to an interactive table.\"\n",
              "            style=\"display:none;\">\n",
              "\n",
              "  <svg xmlns=\"http://www.w3.org/2000/svg\" height=\"24px\" viewBox=\"0 -960 960 960\">\n",
              "    <path d=\"M120-120v-720h720v720H120Zm60-500h600v-160H180v160Zm220 220h160v-160H400v160Zm0 220h160v-160H400v160ZM180-400h160v-160H180v160Zm440 0h160v-160H620v160ZM180-180h160v-160H180v160Zm440 0h160v-160H620v160Z\"/>\n",
              "  </svg>\n",
              "    </button>\n",
              "\n",
              "  <style>\n",
              "    .colab-df-container {\n",
              "      display:flex;\n",
              "      gap: 12px;\n",
              "    }\n",
              "\n",
              "    .colab-df-convert {\n",
              "      background-color: #E8F0FE;\n",
              "      border: none;\n",
              "      border-radius: 50%;\n",
              "      cursor: pointer;\n",
              "      display: none;\n",
              "      fill: #1967D2;\n",
              "      height: 32px;\n",
              "      padding: 0 0 0 0;\n",
              "      width: 32px;\n",
              "    }\n",
              "\n",
              "    .colab-df-convert:hover {\n",
              "      background-color: #E2EBFA;\n",
              "      box-shadow: 0px 1px 2px rgba(60, 64, 67, 0.3), 0px 1px 3px 1px rgba(60, 64, 67, 0.15);\n",
              "      fill: #174EA6;\n",
              "    }\n",
              "\n",
              "    .colab-df-buttons div {\n",
              "      margin-bottom: 4px;\n",
              "    }\n",
              "\n",
              "    [theme=dark] .colab-df-convert {\n",
              "      background-color: #3B4455;\n",
              "      fill: #D2E3FC;\n",
              "    }\n",
              "\n",
              "    [theme=dark] .colab-df-convert:hover {\n",
              "      background-color: #434B5C;\n",
              "      box-shadow: 0px 1px 3px 1px rgba(0, 0, 0, 0.15);\n",
              "      filter: drop-shadow(0px 1px 2px rgba(0, 0, 0, 0.3));\n",
              "      fill: #FFFFFF;\n",
              "    }\n",
              "  </style>\n",
              "\n",
              "    <script>\n",
              "      const buttonEl =\n",
              "        document.querySelector('#df-24cf2c43-5758-4153-aaec-f07c2bc39e9d button.colab-df-convert');\n",
              "      buttonEl.style.display =\n",
              "        google.colab.kernel.accessAllowed ? 'block' : 'none';\n",
              "\n",
              "      async function convertToInteractive(key) {\n",
              "        const element = document.querySelector('#df-24cf2c43-5758-4153-aaec-f07c2bc39e9d');\n",
              "        const dataTable =\n",
              "          await google.colab.kernel.invokeFunction('convertToInteractive',\n",
              "                                                    [key], {});\n",
              "        if (!dataTable) return;\n",
              "\n",
              "        const docLinkHtml = 'Like what you see? Visit the ' +\n",
              "          '<a target=\"_blank\" href=https://colab.research.google.com/notebooks/data_table.ipynb>data table notebook</a>'\n",
              "          + ' to learn more about interactive tables.';\n",
              "        element.innerHTML = '';\n",
              "        dataTable['output_type'] = 'display_data';\n",
              "        await google.colab.output.renderOutput(dataTable, element);\n",
              "        const docLink = document.createElement('div');\n",
              "        docLink.innerHTML = docLinkHtml;\n",
              "        element.appendChild(docLink);\n",
              "      }\n",
              "    </script>\n",
              "  </div>\n",
              "\n",
              "\n",
              "<div id=\"df-bba4188a-4ab1-4649-a6ed-08a28daac22b\">\n",
              "  <button class=\"colab-df-quickchart\" onclick=\"quickchart('df-bba4188a-4ab1-4649-a6ed-08a28daac22b')\"\n",
              "            title=\"Suggest charts\"\n",
              "            style=\"display:none;\">\n",
              "\n",
              "<svg xmlns=\"http://www.w3.org/2000/svg\" height=\"24px\"viewBox=\"0 0 24 24\"\n",
              "     width=\"24px\">\n",
              "    <g>\n",
              "        <path d=\"M19 3H5c-1.1 0-2 .9-2 2v14c0 1.1.9 2 2 2h14c1.1 0 2-.9 2-2V5c0-1.1-.9-2-2-2zM9 17H7v-7h2v7zm4 0h-2V7h2v10zm4 0h-2v-4h2v4z\"/>\n",
              "    </g>\n",
              "</svg>\n",
              "  </button>\n",
              "\n",
              "<style>\n",
              "  .colab-df-quickchart {\n",
              "      --bg-color: #E8F0FE;\n",
              "      --fill-color: #1967D2;\n",
              "      --hover-bg-color: #E2EBFA;\n",
              "      --hover-fill-color: #174EA6;\n",
              "      --disabled-fill-color: #AAA;\n",
              "      --disabled-bg-color: #DDD;\n",
              "  }\n",
              "\n",
              "  [theme=dark] .colab-df-quickchart {\n",
              "      --bg-color: #3B4455;\n",
              "      --fill-color: #D2E3FC;\n",
              "      --hover-bg-color: #434B5C;\n",
              "      --hover-fill-color: #FFFFFF;\n",
              "      --disabled-bg-color: #3B4455;\n",
              "      --disabled-fill-color: #666;\n",
              "  }\n",
              "\n",
              "  .colab-df-quickchart {\n",
              "    background-color: var(--bg-color);\n",
              "    border: none;\n",
              "    border-radius: 50%;\n",
              "    cursor: pointer;\n",
              "    display: none;\n",
              "    fill: var(--fill-color);\n",
              "    height: 32px;\n",
              "    padding: 0;\n",
              "    width: 32px;\n",
              "  }\n",
              "\n",
              "  .colab-df-quickchart:hover {\n",
              "    background-color: var(--hover-bg-color);\n",
              "    box-shadow: 0 1px 2px rgba(60, 64, 67, 0.3), 0 1px 3px 1px rgba(60, 64, 67, 0.15);\n",
              "    fill: var(--button-hover-fill-color);\n",
              "  }\n",
              "\n",
              "  .colab-df-quickchart-complete:disabled,\n",
              "  .colab-df-quickchart-complete:disabled:hover {\n",
              "    background-color: var(--disabled-bg-color);\n",
              "    fill: var(--disabled-fill-color);\n",
              "    box-shadow: none;\n",
              "  }\n",
              "\n",
              "  .colab-df-spinner {\n",
              "    border: 2px solid var(--fill-color);\n",
              "    border-color: transparent;\n",
              "    border-bottom-color: var(--fill-color);\n",
              "    animation:\n",
              "      spin 1s steps(1) infinite;\n",
              "  }\n",
              "\n",
              "  @keyframes spin {\n",
              "    0% {\n",
              "      border-color: transparent;\n",
              "      border-bottom-color: var(--fill-color);\n",
              "      border-left-color: var(--fill-color);\n",
              "    }\n",
              "    20% {\n",
              "      border-color: transparent;\n",
              "      border-left-color: var(--fill-color);\n",
              "      border-top-color: var(--fill-color);\n",
              "    }\n",
              "    30% {\n",
              "      border-color: transparent;\n",
              "      border-left-color: var(--fill-color);\n",
              "      border-top-color: var(--fill-color);\n",
              "      border-right-color: var(--fill-color);\n",
              "    }\n",
              "    40% {\n",
              "      border-color: transparent;\n",
              "      border-right-color: var(--fill-color);\n",
              "      border-top-color: var(--fill-color);\n",
              "    }\n",
              "    60% {\n",
              "      border-color: transparent;\n",
              "      border-right-color: var(--fill-color);\n",
              "    }\n",
              "    80% {\n",
              "      border-color: transparent;\n",
              "      border-right-color: var(--fill-color);\n",
              "      border-bottom-color: var(--fill-color);\n",
              "    }\n",
              "    90% {\n",
              "      border-color: transparent;\n",
              "      border-bottom-color: var(--fill-color);\n",
              "    }\n",
              "  }\n",
              "</style>\n",
              "\n",
              "  <script>\n",
              "    async function quickchart(key) {\n",
              "      const quickchartButtonEl =\n",
              "        document.querySelector('#' + key + ' button');\n",
              "      quickchartButtonEl.disabled = true;  // To prevent multiple clicks.\n",
              "      quickchartButtonEl.classList.add('colab-df-spinner');\n",
              "      try {\n",
              "        const charts = await google.colab.kernel.invokeFunction(\n",
              "            'suggestCharts', [key], {});\n",
              "      } catch (error) {\n",
              "        console.error('Error during call to suggestCharts:', error);\n",
              "      }\n",
              "      quickchartButtonEl.classList.remove('colab-df-spinner');\n",
              "      quickchartButtonEl.classList.add('colab-df-quickchart-complete');\n",
              "    }\n",
              "    (() => {\n",
              "      let quickchartButtonEl =\n",
              "        document.querySelector('#df-bba4188a-4ab1-4649-a6ed-08a28daac22b button');\n",
              "      quickchartButtonEl.style.display =\n",
              "        google.colab.kernel.accessAllowed ? 'block' : 'none';\n",
              "    })();\n",
              "  </script>\n",
              "</div>\n",
              "    </div>\n",
              "  </div>\n"
            ],
            "application/vnd.google.colaboratory.intrinsic+json": {
              "type": "dataframe",
              "variable_name": "results",
              "summary": "{\n  \"name\": \"results\",\n  \"rows\": 7,\n  \"fields\": [\n    {\n      \"column\": \"\\u041c\\u043e\\u0434\\u0435\\u043b\\u044c\",\n      \"properties\": {\n        \"dtype\": \"string\",\n        \"num_unique_values\": 4,\n        \"samples\": [\n          \"VGG_16\",\n          \"Densenet_161\",\n          \"ResNet_18\"\n        ],\n        \"semantic_type\": \"\",\n        \"description\": \"\"\n      }\n    },\n    {\n      \"column\": \"Train accuracy\",\n      \"properties\": {\n        \"dtype\": \"number\",\n        \"std\": 0.3257148842268009,\n        \"min\": 0.10513333333333333,\n        \"max\": 0.9843666666666666,\n        \"num_unique_values\": 7,\n        \"samples\": [\n          0.9678666666666667,\n          0.9336166666666667,\n          0.95925\n        ],\n        \"semantic_type\": \"\",\n        \"description\": \"\"\n      }\n    },\n    {\n      \"column\": \"Train Loss\",\n      \"properties\": {\n        \"dtype\": \"number\",\n        \"std\": 0.8675150680035206,\n        \"min\": 0.05486687070190674,\n        \"max\": 2.4187582016776004,\n        \"num_unique_values\": 7,\n        \"samples\": [\n          0.1133615873058637,\n          0.3695004022821784,\n          0.13599631478147736\n        ],\n        \"semantic_type\": \"\",\n        \"description\": \"\"\n      }\n    },\n    {\n      \"column\": \"Test accuracy\",\n      \"properties\": {\n        \"dtype\": \"number\",\n        \"std\": 0.33461362153129054,\n        \"min\": 0.1,\n        \"max\": 0.9915,\n        \"num_unique_values\": 7,\n        \"samples\": [\n          0.9744,\n          0.9834,\n          0.988\n        ],\n        \"semantic_type\": \"\",\n        \"description\": \"\"\n      }\n    },\n    {\n      \"column\": \"Epoch\",\n      \"properties\": {\n        \"dtype\": \"number\",\n        \"std\": 0,\n        \"min\": 1,\n        \"max\": 2,\n        \"num_unique_values\": 2,\n        \"samples\": [\n          2,\n          1\n        ],\n        \"semantic_type\": \"\",\n        \"description\": \"\"\n      }\n    }\n  ]\n}"
            }
          },
          "metadata": {},
          "execution_count": 47
        }
      ]
    },
    {
      "cell_type": "code",
      "source": [
        "results.sort_values(by = ['Test accuracy'], ascending=False)"
      ],
      "metadata": {
        "id": "jAw8T35FoBHR",
        "colab": {
          "base_uri": "https://localhost:8080/",
          "height": 269
        },
        "outputId": "3380ff8d-df24-4673-e6b3-24d4d3da57a1"
      },
      "execution_count": null,
      "outputs": [
        {
          "output_type": "execute_result",
          "data": {
            "text/plain": [
              "         Модель  Train accuracy  Train Loss  Test accuracy  Epoch\n",
              "3  Inception_v3        0.967533    0.106704         0.9915      1\n",
              "6  Densenet_161        0.981867    0.064082         0.9892      2\n",
              "5  Densenet_161        0.959250    0.135996         0.9880      1\n",
              "2        VGG_16        0.984367    0.054867         0.9846      2\n",
              "1        VGG_16        0.933617    0.369500         0.9834      1\n",
              "0     ResNet_18        0.967867    0.113362         0.9744      1\n",
              "4  Inception_v3        0.105133    2.418758         0.1000      2"
            ],
            "text/html": [
              "\n",
              "  <div id=\"df-11e85d3d-f3b8-411a-b0a3-cb04f8c762cc\" class=\"colab-df-container\">\n",
              "    <div>\n",
              "<style scoped>\n",
              "    .dataframe tbody tr th:only-of-type {\n",
              "        vertical-align: middle;\n",
              "    }\n",
              "\n",
              "    .dataframe tbody tr th {\n",
              "        vertical-align: top;\n",
              "    }\n",
              "\n",
              "    .dataframe thead th {\n",
              "        text-align: right;\n",
              "    }\n",
              "</style>\n",
              "<table border=\"1\" class=\"dataframe\">\n",
              "  <thead>\n",
              "    <tr style=\"text-align: right;\">\n",
              "      <th></th>\n",
              "      <th>Модель</th>\n",
              "      <th>Train accuracy</th>\n",
              "      <th>Train Loss</th>\n",
              "      <th>Test accuracy</th>\n",
              "      <th>Epoch</th>\n",
              "    </tr>\n",
              "  </thead>\n",
              "  <tbody>\n",
              "    <tr>\n",
              "      <th>3</th>\n",
              "      <td>Inception_v3</td>\n",
              "      <td>0.967533</td>\n",
              "      <td>0.106704</td>\n",
              "      <td>0.9915</td>\n",
              "      <td>1</td>\n",
              "    </tr>\n",
              "    <tr>\n",
              "      <th>6</th>\n",
              "      <td>Densenet_161</td>\n",
              "      <td>0.981867</td>\n",
              "      <td>0.064082</td>\n",
              "      <td>0.9892</td>\n",
              "      <td>2</td>\n",
              "    </tr>\n",
              "    <tr>\n",
              "      <th>5</th>\n",
              "      <td>Densenet_161</td>\n",
              "      <td>0.959250</td>\n",
              "      <td>0.135996</td>\n",
              "      <td>0.9880</td>\n",
              "      <td>1</td>\n",
              "    </tr>\n",
              "    <tr>\n",
              "      <th>2</th>\n",
              "      <td>VGG_16</td>\n",
              "      <td>0.984367</td>\n",
              "      <td>0.054867</td>\n",
              "      <td>0.9846</td>\n",
              "      <td>2</td>\n",
              "    </tr>\n",
              "    <tr>\n",
              "      <th>1</th>\n",
              "      <td>VGG_16</td>\n",
              "      <td>0.933617</td>\n",
              "      <td>0.369500</td>\n",
              "      <td>0.9834</td>\n",
              "      <td>1</td>\n",
              "    </tr>\n",
              "    <tr>\n",
              "      <th>0</th>\n",
              "      <td>ResNet_18</td>\n",
              "      <td>0.967867</td>\n",
              "      <td>0.113362</td>\n",
              "      <td>0.9744</td>\n",
              "      <td>1</td>\n",
              "    </tr>\n",
              "    <tr>\n",
              "      <th>4</th>\n",
              "      <td>Inception_v3</td>\n",
              "      <td>0.105133</td>\n",
              "      <td>2.418758</td>\n",
              "      <td>0.1000</td>\n",
              "      <td>2</td>\n",
              "    </tr>\n",
              "  </tbody>\n",
              "</table>\n",
              "</div>\n",
              "    <div class=\"colab-df-buttons\">\n",
              "\n",
              "  <div class=\"colab-df-container\">\n",
              "    <button class=\"colab-df-convert\" onclick=\"convertToInteractive('df-11e85d3d-f3b8-411a-b0a3-cb04f8c762cc')\"\n",
              "            title=\"Convert this dataframe to an interactive table.\"\n",
              "            style=\"display:none;\">\n",
              "\n",
              "  <svg xmlns=\"http://www.w3.org/2000/svg\" height=\"24px\" viewBox=\"0 -960 960 960\">\n",
              "    <path d=\"M120-120v-720h720v720H120Zm60-500h600v-160H180v160Zm220 220h160v-160H400v160Zm0 220h160v-160H400v160ZM180-400h160v-160H180v160Zm440 0h160v-160H620v160ZM180-180h160v-160H180v160Zm440 0h160v-160H620v160Z\"/>\n",
              "  </svg>\n",
              "    </button>\n",
              "\n",
              "  <style>\n",
              "    .colab-df-container {\n",
              "      display:flex;\n",
              "      gap: 12px;\n",
              "    }\n",
              "\n",
              "    .colab-df-convert {\n",
              "      background-color: #E8F0FE;\n",
              "      border: none;\n",
              "      border-radius: 50%;\n",
              "      cursor: pointer;\n",
              "      display: none;\n",
              "      fill: #1967D2;\n",
              "      height: 32px;\n",
              "      padding: 0 0 0 0;\n",
              "      width: 32px;\n",
              "    }\n",
              "\n",
              "    .colab-df-convert:hover {\n",
              "      background-color: #E2EBFA;\n",
              "      box-shadow: 0px 1px 2px rgba(60, 64, 67, 0.3), 0px 1px 3px 1px rgba(60, 64, 67, 0.15);\n",
              "      fill: #174EA6;\n",
              "    }\n",
              "\n",
              "    .colab-df-buttons div {\n",
              "      margin-bottom: 4px;\n",
              "    }\n",
              "\n",
              "    [theme=dark] .colab-df-convert {\n",
              "      background-color: #3B4455;\n",
              "      fill: #D2E3FC;\n",
              "    }\n",
              "\n",
              "    [theme=dark] .colab-df-convert:hover {\n",
              "      background-color: #434B5C;\n",
              "      box-shadow: 0px 1px 3px 1px rgba(0, 0, 0, 0.15);\n",
              "      filter: drop-shadow(0px 1px 2px rgba(0, 0, 0, 0.3));\n",
              "      fill: #FFFFFF;\n",
              "    }\n",
              "  </style>\n",
              "\n",
              "    <script>\n",
              "      const buttonEl =\n",
              "        document.querySelector('#df-11e85d3d-f3b8-411a-b0a3-cb04f8c762cc button.colab-df-convert');\n",
              "      buttonEl.style.display =\n",
              "        google.colab.kernel.accessAllowed ? 'block' : 'none';\n",
              "\n",
              "      async function convertToInteractive(key) {\n",
              "        const element = document.querySelector('#df-11e85d3d-f3b8-411a-b0a3-cb04f8c762cc');\n",
              "        const dataTable =\n",
              "          await google.colab.kernel.invokeFunction('convertToInteractive',\n",
              "                                                    [key], {});\n",
              "        if (!dataTable) return;\n",
              "\n",
              "        const docLinkHtml = 'Like what you see? Visit the ' +\n",
              "          '<a target=\"_blank\" href=https://colab.research.google.com/notebooks/data_table.ipynb>data table notebook</a>'\n",
              "          + ' to learn more about interactive tables.';\n",
              "        element.innerHTML = '';\n",
              "        dataTable['output_type'] = 'display_data';\n",
              "        await google.colab.output.renderOutput(dataTable, element);\n",
              "        const docLink = document.createElement('div');\n",
              "        docLink.innerHTML = docLinkHtml;\n",
              "        element.appendChild(docLink);\n",
              "      }\n",
              "    </script>\n",
              "  </div>\n",
              "\n",
              "\n",
              "<div id=\"df-a02dd77b-e4c9-4b71-9ec0-55eeb2b08234\">\n",
              "  <button class=\"colab-df-quickchart\" onclick=\"quickchart('df-a02dd77b-e4c9-4b71-9ec0-55eeb2b08234')\"\n",
              "            title=\"Suggest charts\"\n",
              "            style=\"display:none;\">\n",
              "\n",
              "<svg xmlns=\"http://www.w3.org/2000/svg\" height=\"24px\"viewBox=\"0 0 24 24\"\n",
              "     width=\"24px\">\n",
              "    <g>\n",
              "        <path d=\"M19 3H5c-1.1 0-2 .9-2 2v14c0 1.1.9 2 2 2h14c1.1 0 2-.9 2-2V5c0-1.1-.9-2-2-2zM9 17H7v-7h2v7zm4 0h-2V7h2v10zm4 0h-2v-4h2v4z\"/>\n",
              "    </g>\n",
              "</svg>\n",
              "  </button>\n",
              "\n",
              "<style>\n",
              "  .colab-df-quickchart {\n",
              "      --bg-color: #E8F0FE;\n",
              "      --fill-color: #1967D2;\n",
              "      --hover-bg-color: #E2EBFA;\n",
              "      --hover-fill-color: #174EA6;\n",
              "      --disabled-fill-color: #AAA;\n",
              "      --disabled-bg-color: #DDD;\n",
              "  }\n",
              "\n",
              "  [theme=dark] .colab-df-quickchart {\n",
              "      --bg-color: #3B4455;\n",
              "      --fill-color: #D2E3FC;\n",
              "      --hover-bg-color: #434B5C;\n",
              "      --hover-fill-color: #FFFFFF;\n",
              "      --disabled-bg-color: #3B4455;\n",
              "      --disabled-fill-color: #666;\n",
              "  }\n",
              "\n",
              "  .colab-df-quickchart {\n",
              "    background-color: var(--bg-color);\n",
              "    border: none;\n",
              "    border-radius: 50%;\n",
              "    cursor: pointer;\n",
              "    display: none;\n",
              "    fill: var(--fill-color);\n",
              "    height: 32px;\n",
              "    padding: 0;\n",
              "    width: 32px;\n",
              "  }\n",
              "\n",
              "  .colab-df-quickchart:hover {\n",
              "    background-color: var(--hover-bg-color);\n",
              "    box-shadow: 0 1px 2px rgba(60, 64, 67, 0.3), 0 1px 3px 1px rgba(60, 64, 67, 0.15);\n",
              "    fill: var(--button-hover-fill-color);\n",
              "  }\n",
              "\n",
              "  .colab-df-quickchart-complete:disabled,\n",
              "  .colab-df-quickchart-complete:disabled:hover {\n",
              "    background-color: var(--disabled-bg-color);\n",
              "    fill: var(--disabled-fill-color);\n",
              "    box-shadow: none;\n",
              "  }\n",
              "\n",
              "  .colab-df-spinner {\n",
              "    border: 2px solid var(--fill-color);\n",
              "    border-color: transparent;\n",
              "    border-bottom-color: var(--fill-color);\n",
              "    animation:\n",
              "      spin 1s steps(1) infinite;\n",
              "  }\n",
              "\n",
              "  @keyframes spin {\n",
              "    0% {\n",
              "      border-color: transparent;\n",
              "      border-bottom-color: var(--fill-color);\n",
              "      border-left-color: var(--fill-color);\n",
              "    }\n",
              "    20% {\n",
              "      border-color: transparent;\n",
              "      border-left-color: var(--fill-color);\n",
              "      border-top-color: var(--fill-color);\n",
              "    }\n",
              "    30% {\n",
              "      border-color: transparent;\n",
              "      border-left-color: var(--fill-color);\n",
              "      border-top-color: var(--fill-color);\n",
              "      border-right-color: var(--fill-color);\n",
              "    }\n",
              "    40% {\n",
              "      border-color: transparent;\n",
              "      border-right-color: var(--fill-color);\n",
              "      border-top-color: var(--fill-color);\n",
              "    }\n",
              "    60% {\n",
              "      border-color: transparent;\n",
              "      border-right-color: var(--fill-color);\n",
              "    }\n",
              "    80% {\n",
              "      border-color: transparent;\n",
              "      border-right-color: var(--fill-color);\n",
              "      border-bottom-color: var(--fill-color);\n",
              "    }\n",
              "    90% {\n",
              "      border-color: transparent;\n",
              "      border-bottom-color: var(--fill-color);\n",
              "    }\n",
              "  }\n",
              "</style>\n",
              "\n",
              "  <script>\n",
              "    async function quickchart(key) {\n",
              "      const quickchartButtonEl =\n",
              "        document.querySelector('#' + key + ' button');\n",
              "      quickchartButtonEl.disabled = true;  // To prevent multiple clicks.\n",
              "      quickchartButtonEl.classList.add('colab-df-spinner');\n",
              "      try {\n",
              "        const charts = await google.colab.kernel.invokeFunction(\n",
              "            'suggestCharts', [key], {});\n",
              "      } catch (error) {\n",
              "        console.error('Error during call to suggestCharts:', error);\n",
              "      }\n",
              "      quickchartButtonEl.classList.remove('colab-df-spinner');\n",
              "      quickchartButtonEl.classList.add('colab-df-quickchart-complete');\n",
              "    }\n",
              "    (() => {\n",
              "      let quickchartButtonEl =\n",
              "        document.querySelector('#df-a02dd77b-e4c9-4b71-9ec0-55eeb2b08234 button');\n",
              "      quickchartButtonEl.style.display =\n",
              "        google.colab.kernel.accessAllowed ? 'block' : 'none';\n",
              "    })();\n",
              "  </script>\n",
              "</div>\n",
              "    </div>\n",
              "  </div>\n"
            ],
            "application/vnd.google.colaboratory.intrinsic+json": {
              "type": "dataframe",
              "summary": "{\n  \"name\": \"results\",\n  \"rows\": 7,\n  \"fields\": [\n    {\n      \"column\": \"\\u041c\\u043e\\u0434\\u0435\\u043b\\u044c\",\n      \"properties\": {\n        \"dtype\": \"string\",\n        \"num_unique_values\": 4,\n        \"samples\": [\n          \"Densenet_161\",\n          \"ResNet_18\",\n          \"Inception_v3\"\n        ],\n        \"semantic_type\": \"\",\n        \"description\": \"\"\n      }\n    },\n    {\n      \"column\": \"Train accuracy\",\n      \"properties\": {\n        \"dtype\": \"number\",\n        \"std\": 0.3257148842268009,\n        \"min\": 0.10513333333333333,\n        \"max\": 0.9843666666666666,\n        \"num_unique_values\": 7,\n        \"samples\": [\n          0.9675333333333334,\n          0.9818666666666667,\n          0.9678666666666667\n        ],\n        \"semantic_type\": \"\",\n        \"description\": \"\"\n      }\n    },\n    {\n      \"column\": \"Train Loss\",\n      \"properties\": {\n        \"dtype\": \"number\",\n        \"std\": 0.8675150680035205,\n        \"min\": 0.05486687070190674,\n        \"max\": 2.4187582016776004,\n        \"num_unique_values\": 7,\n        \"samples\": [\n          0.10670433334521949,\n          0.06408245282782687,\n          0.1133615873058637\n        ],\n        \"semantic_type\": \"\",\n        \"description\": \"\"\n      }\n    },\n    {\n      \"column\": \"Test accuracy\",\n      \"properties\": {\n        \"dtype\": \"number\",\n        \"std\": 0.3346136215312905,\n        \"min\": 0.1,\n        \"max\": 0.9915,\n        \"num_unique_values\": 7,\n        \"samples\": [\n          0.9915,\n          0.9892,\n          0.9744\n        ],\n        \"semantic_type\": \"\",\n        \"description\": \"\"\n      }\n    },\n    {\n      \"column\": \"Epoch\",\n      \"properties\": {\n        \"dtype\": \"number\",\n        \"std\": 0,\n        \"min\": 1,\n        \"max\": 2,\n        \"num_unique_values\": 2,\n        \"samples\": [\n          2,\n          1\n        ],\n        \"semantic_type\": \"\",\n        \"description\": \"\"\n      }\n    }\n  ]\n}"
            }
          },
          "metadata": {},
          "execution_count": 48
        }
      ]
    },
    {
      "cell_type": "markdown",
      "source": [
        "**Выводы. В целом на относительно небольшом датасете все модели показали хороший результат даже на 1-2 эпохах. Там где было более одной эпохи, так же видим улучшение качества модели. Проблема возникла только с Inception v3. На старте она показала наилучшее качество, но за 1 первую эпоху очень сильно переобучилась и напротяжении всей второй эпохи только снижала качество**"
      ],
      "metadata": {
        "id": "KND5IMj-TBf9"
      }
    }
  ]
}