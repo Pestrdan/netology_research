{
  "nbformat": 4,
  "nbformat_minor": 0,
  "metadata": {
    "colab": {
      "provenance": [],
      "gpuType": "T4",
      "authorship_tag": "ABX9TyN8jhkvxAbffi8NiIEPlxD/",
      "include_colab_link": true
    },
    "kernelspec": {
      "name": "python3",
      "display_name": "Python 3"
    },
    "language_info": {
      "name": "python"
    },
    "accelerator": "GPU"
  },
  "cells": [
    {
      "cell_type": "markdown",
      "metadata": {
        "id": "view-in-github",
        "colab_type": "text"
      },
      "source": [
        "<a href=\"https://colab.research.google.com/github/Pestrdan/netology_research/blob/main/Deep_learning_(Pytorch)/DLL_35_HW2.ipynb\" target=\"_parent\"><img src=\"https://colab.research.google.com/assets/colab-badge.svg\" alt=\"Open In Colab\"/></a>"
      ]
    },
    {
      "cell_type": "code",
      "execution_count": null,
      "metadata": {
        "id": "Cj6lAS1moQDW"
      },
      "outputs": [],
      "source": [
        "import torch\n",
        "import pandas as pd\n",
        "import numpy as np\n",
        "import torchvision as tv"
      ]
    },
    {
      "cell_type": "code",
      "source": [
        "device = \"cuda\" if torch.cuda.is_available() else \"cpu\"\n",
        "device"
      ],
      "metadata": {
        "colab": {
          "base_uri": "https://localhost:8080/",
          "height": 35
        },
        "id": "ZOBLKR6Fv7q8",
        "outputId": "28e1cce3-906f-4506-8a11-bc10a296e70c"
      },
      "execution_count": null,
      "outputs": [
        {
          "output_type": "execute_result",
          "data": {
            "text/plain": [
              "'cuda'"
            ],
            "application/vnd.google.colaboratory.intrinsic+json": {
              "type": "string"
            }
          },
          "metadata": {},
          "execution_count": 2
        }
      ]
    },
    {
      "cell_type": "code",
      "source": [
        "BATCH_SIZE=256"
      ],
      "metadata": {
        "id": "K3tn52L2oZ6E"
      },
      "execution_count": null,
      "outputs": []
    },
    {
      "cell_type": "code",
      "source": [
        "train_dataset = tv.datasets.FashionMNIST('.', train=True, transform=tv.transforms.ToTensor(), download=True)\n",
        "test_dataset = tv.datasets.FashionMNIST('.', train=False, transform=tv.transforms.ToTensor(), download=True)\n",
        "train = torch.utils.data.DataLoader(train_dataset, batch_size=BATCH_SIZE)\n",
        "test = torch.utils.data.DataLoader(test_dataset, batch_size=BATCH_SIZE)"
      ],
      "metadata": {
        "colab": {
          "base_uri": "https://localhost:8080/"
        },
        "id": "twsMoWiSodxW",
        "outputId": "d41335eb-96fa-4b68-b2d8-31a75c1a000c"
      },
      "execution_count": null,
      "outputs": [
        {
          "output_type": "stream",
          "name": "stdout",
          "text": [
            "Downloading http://fashion-mnist.s3-website.eu-central-1.amazonaws.com/train-images-idx3-ubyte.gz\n",
            "Downloading http://fashion-mnist.s3-website.eu-central-1.amazonaws.com/train-images-idx3-ubyte.gz to ./FashionMNIST/raw/train-images-idx3-ubyte.gz\n"
          ]
        },
        {
          "output_type": "stream",
          "name": "stderr",
          "text": [
            "100%|██████████| 26421880/26421880 [00:01<00:00, 13219659.49it/s]\n"
          ]
        },
        {
          "output_type": "stream",
          "name": "stdout",
          "text": [
            "Extracting ./FashionMNIST/raw/train-images-idx3-ubyte.gz to ./FashionMNIST/raw\n",
            "\n",
            "Downloading http://fashion-mnist.s3-website.eu-central-1.amazonaws.com/train-labels-idx1-ubyte.gz\n",
            "Downloading http://fashion-mnist.s3-website.eu-central-1.amazonaws.com/train-labels-idx1-ubyte.gz to ./FashionMNIST/raw/train-labels-idx1-ubyte.gz\n"
          ]
        },
        {
          "output_type": "stream",
          "name": "stderr",
          "text": [
            "100%|██████████| 29515/29515 [00:00<00:00, 212464.68it/s]\n"
          ]
        },
        {
          "output_type": "stream",
          "name": "stdout",
          "text": [
            "Extracting ./FashionMNIST/raw/train-labels-idx1-ubyte.gz to ./FashionMNIST/raw\n",
            "\n",
            "Downloading http://fashion-mnist.s3-website.eu-central-1.amazonaws.com/t10k-images-idx3-ubyte.gz\n",
            "Downloading http://fashion-mnist.s3-website.eu-central-1.amazonaws.com/t10k-images-idx3-ubyte.gz to ./FashionMNIST/raw/t10k-images-idx3-ubyte.gz\n"
          ]
        },
        {
          "output_type": "stream",
          "name": "stderr",
          "text": [
            "100%|██████████| 4422102/4422102 [00:01<00:00, 3862938.44it/s]\n"
          ]
        },
        {
          "output_type": "stream",
          "name": "stdout",
          "text": [
            "Extracting ./FashionMNIST/raw/t10k-images-idx3-ubyte.gz to ./FashionMNIST/raw\n",
            "\n",
            "Downloading http://fashion-mnist.s3-website.eu-central-1.amazonaws.com/t10k-labels-idx1-ubyte.gz\n",
            "Downloading http://fashion-mnist.s3-website.eu-central-1.amazonaws.com/t10k-labels-idx1-ubyte.gz to ./FashionMNIST/raw/t10k-labels-idx1-ubyte.gz\n"
          ]
        },
        {
          "output_type": "stream",
          "name": "stderr",
          "text": [
            "100%|██████████| 5148/5148 [00:00<00:00, 5506829.12it/s]"
          ]
        },
        {
          "output_type": "stream",
          "name": "stdout",
          "text": [
            "Extracting ./FashionMNIST/raw/t10k-labels-idx1-ubyte.gz to ./FashionMNIST/raw\n",
            "\n"
          ]
        },
        {
          "output_type": "stream",
          "name": "stderr",
          "text": [
            "\n"
          ]
        }
      ]
    },
    {
      "cell_type": "code",
      "source": [
        "train_dataset[0][0].shape"
      ],
      "metadata": {
        "colab": {
          "base_uri": "https://localhost:8080/"
        },
        "id": "mQI5JDiDooab",
        "outputId": "2d8e530d-ff19-4bab-87e6-c3525f84501d"
      },
      "execution_count": null,
      "outputs": [
        {
          "output_type": "execute_result",
          "data": {
            "text/plain": [
              "torch.Size([1, 28, 28])"
            ]
          },
          "metadata": {},
          "execution_count": 5
        }
      ]
    },
    {
      "cell_type": "code",
      "source": [
        "model = torch.nn.Sequential(\n",
        "    torch.nn.Flatten(),\n",
        "    torch.nn.Linear(784, 256),\n",
        "    torch.nn.ReLU(),\n",
        "    torch.nn.Linear(256, 10)\n",
        ")"
      ],
      "metadata": {
        "id": "HDLpiNpTozrW"
      },
      "execution_count": null,
      "outputs": []
    },
    {
      "cell_type": "code",
      "source": [
        "loss = torch.nn.CrossEntropyLoss()\n",
        "trainer = torch.optim.Adam(model.parameters(), lr=.01)\n",
        "num_epochs = 10"
      ],
      "metadata": {
        "id": "wYuUGAuTpFO7"
      },
      "execution_count": null,
      "outputs": []
    },
    {
      "cell_type": "code",
      "source": [
        "import time"
      ],
      "metadata": {
        "id": "qbZoFAuYpH_Z"
      },
      "execution_count": null,
      "outputs": []
    },
    {
      "cell_type": "code",
      "source": [
        "def train_model():\n",
        "    for ep in range(num_epochs):\n",
        "        train_iters, train_passed  = 0, 0\n",
        "        train_loss, train_acc = 0., 0.\n",
        "        start=time.time()\n",
        "\n",
        "        model.train()\n",
        "        for X, y in train:\n",
        "            trainer.zero_grad()\n",
        "            y_pred = model(X)\n",
        "            l = loss(y_pred, y)\n",
        "            l.backward()\n",
        "            trainer.step()\n",
        "            train_loss += l.item()\n",
        "            train_acc += (y_pred.argmax(dim=1) == y).sum().item()\n",
        "            train_iters += 1\n",
        "            train_passed += len(X)\n",
        "\n",
        "        test_iters, test_passed  = 0, 0\n",
        "        test_loss, test_acc = 0., 0.\n",
        "        model.eval()\n",
        "        for X, y in test:\n",
        "            y_pred = model(X)\n",
        "            l = loss(y_pred, y)\n",
        "            test_loss += l.item()\n",
        "            test_acc += (y_pred.argmax(dim=1) == y).sum().item()\n",
        "            test_iters += 1\n",
        "            test_passed += len(X)\n",
        "\n",
        "        print(\"ep: {}, taked: {:.3f}, train_loss: {}, train_acc: {}, test_loss: {}, test_acc: {}\".format(\n",
        "            ep, time.time() - start, train_loss / train_iters, train_acc / train_passed,\n",
        "            test_loss / test_iters, test_acc / test_passed))"
      ],
      "metadata": {
        "id": "rZlEg-rTpLVe"
      },
      "execution_count": null,
      "outputs": []
    },
    {
      "cell_type": "code",
      "source": [
        "train_model()"
      ],
      "metadata": {
        "colab": {
          "base_uri": "https://localhost:8080/"
        },
        "id": "ku3MC3-FpL9P",
        "outputId": "c88e09a9-dc90-42ea-ecde-bc002172aeed"
      },
      "execution_count": null,
      "outputs": [
        {
          "output_type": "stream",
          "name": "stdout",
          "text": [
            "ep: 0, taked: 8.825, train_loss: 0.5344875183511287, train_acc: 0.8115166666666667, test_loss: 0.44165212512016294, test_acc: 0.8363\n",
            "ep: 1, taked: 8.068, train_loss: 0.37944935408044367, train_acc: 0.8626666666666667, test_loss: 0.41686476543545725, test_acc: 0.8471\n",
            "ep: 2, taked: 8.532, train_loss: 0.34476300218003864, train_acc: 0.87345, test_loss: 0.39242995642125605, test_acc: 0.8573\n",
            "ep: 3, taked: 9.024, train_loss: 0.3283230754923313, train_acc: 0.8793166666666666, test_loss: 0.3858632355928421, test_acc: 0.8614\n",
            "ep: 4, taked: 7.837, train_loss: 0.3144865688491375, train_acc: 0.8826666666666667, test_loss: 0.3975625175982714, test_acc: 0.8644\n",
            "ep: 5, taked: 8.772, train_loss: 0.30725426946548706, train_acc: 0.8864333333333333, test_loss: 0.3996932812035084, test_acc: 0.8648\n",
            "ep: 6, taked: 9.170, train_loss: 0.29450259443293225, train_acc: 0.8908166666666667, test_loss: 0.38443220853805543, test_acc: 0.8712\n",
            "ep: 7, taked: 8.276, train_loss: 0.2852629466893825, train_acc: 0.8928, test_loss: 0.39669098481535914, test_acc: 0.8689\n",
            "ep: 8, taked: 8.829, train_loss: 0.2823550637098069, train_acc: 0.8955833333333333, test_loss: 0.4149599503725767, test_acc: 0.8628\n",
            "ep: 9, taked: 8.683, train_loss: 0.2708610271519803, train_acc: 0.8990666666666667, test_loss: 0.4156392838805914, test_acc: 0.8674\n"
          ]
        }
      ]
    },
    {
      "cell_type": "markdown",
      "source": [
        "Добавим слои"
      ],
      "metadata": {
        "id": "alHUFjx4sq-s"
      }
    },
    {
      "cell_type": "code",
      "source": [
        "model = torch.nn.Sequential(\n",
        "    torch.nn.Flatten(),\n",
        "    torch.nn.Linear(784, 512),\n",
        "    torch.nn.ReLU(),\n",
        "    torch.nn.BatchNorm1d(512),\n",
        "    torch.nn.Linear(512, 256),\n",
        "    torch.nn.ReLU(),\n",
        "    torch.nn.BatchNorm1d(256),\n",
        "    torch.nn.Linear(256, 128),\n",
        "    torch.nn.ReLU(),\n",
        "    torch.nn.BatchNorm1d(128),\n",
        "    torch.nn.Linear(128, 10)\n",
        ")\n",
        "\n",
        "trainer = torch.optim.Adam(model.parameters(), lr=.01)\n",
        "train_model()"
      ],
      "metadata": {
        "colab": {
          "base_uri": "https://localhost:8080/"
        },
        "id": "Z7teJiPcuFxl",
        "outputId": "193a7f80-cb97-4250-854c-b9928a1f0f99"
      },
      "execution_count": null,
      "outputs": [
        {
          "output_type": "stream",
          "name": "stdout",
          "text": [
            "ep: 0, taked: 10.547, train_loss: 0.4763387791653897, train_acc: 0.8243, test_loss: 0.4406905684620142, test_acc: 0.8425\n",
            "ep: 1, taked: 10.930, train_loss: 0.37283876189526094, train_acc: 0.8623333333333333, test_loss: 0.42934015169739725, test_acc: 0.8496\n",
            "ep: 2, taked: 10.881, train_loss: 0.33978428460182025, train_acc: 0.8745833333333334, test_loss: 0.44959949851036074, test_acc: 0.8558\n",
            "ep: 3, taked: 11.299, train_loss: 0.31503924822553675, train_acc: 0.88325, test_loss: 0.4289287357591093, test_acc: 0.8645\n",
            "ep: 4, taked: 11.265, train_loss: 0.2951864815772848, train_acc: 0.8911666666666667, test_loss: 0.389972510561347, test_acc: 0.874\n",
            "ep: 5, taked: 11.396, train_loss: 0.2780623512699249, train_acc: 0.8966333333333333, test_loss: 0.40438851257786157, test_acc: 0.8706\n",
            "ep: 6, taked: 11.665, train_loss: 0.27183568255698426, train_acc: 0.8988, test_loss: 0.38846541959792374, test_acc: 0.8811\n",
            "ep: 7, taked: 11.519, train_loss: 0.26013257072326984, train_acc: 0.90255, test_loss: 0.4055200812406838, test_acc: 0.8718\n",
            "ep: 8, taked: 11.463, train_loss: 0.24873513699846064, train_acc: 0.9066833333333333, test_loss: 0.4439832538366318, test_acc: 0.8656\n",
            "ep: 9, taked: 11.137, train_loss: 0.23414032218304087, train_acc: 0.9116333333333333, test_loss: 0.5405305586755276, test_acc: 0.8825\n"
          ]
        }
      ]
    }
  ]
}
