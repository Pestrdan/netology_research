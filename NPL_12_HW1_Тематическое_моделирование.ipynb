{
  "nbformat": 4,
  "nbformat_minor": 0,
  "metadata": {
    "kernelspec": {
      "display_name": "Python 3",
      "language": "python",
      "name": "python3"
    },
    "language_info": {
      "codemirror_mode": {
        "name": "ipython",
        "version": 3
      },
      "file_extension": ".py",
      "mimetype": "text/x-python",
      "name": "python",
      "nbconvert_exporter": "python",
      "pygments_lexer": "ipython3",
      "version": "3.6.0"
    },
    "colab": {
      "provenance": [],
      "include_colab_link": true
    }
  },
  "cells": [
    {
      "cell_type": "markdown",
      "metadata": {
        "id": "view-in-github",
        "colab_type": "text"
      },
      "source": [
        "<a href=\"https://colab.research.google.com/github/Pestrdan/netology_research/blob/main/NPL_12_HW1_%D0%A2%D0%B5%D0%BC%D0%B0%D1%82%D0%B8%D1%87%D0%B5%D1%81%D0%BA%D0%BE%D0%B5_%D0%BC%D0%BE%D0%B4%D0%B5%D0%BB%D0%B8%D1%80%D0%BE%D0%B2%D0%B0%D0%BD%D0%B8%D0%B5.ipynb\" target=\"_parent\"><img src=\"https://colab.research.google.com/assets/colab-badge.svg\" alt=\"Open In Colab\"/></a>"
      ]
    },
    {
      "cell_type": "code",
      "metadata": {
        "id": "h1dvK7H_qauH"
      },
      "source": [
        "import json\n",
        "\n",
        "import bz2\n",
        "import regex\n",
        "from tqdm import tqdm\n",
        "from scipy import sparse"
      ],
      "execution_count": null,
      "outputs": []
    },
    {
      "cell_type": "code",
      "metadata": {
        "id": "_ZsoxOinqauK",
        "outputId": "f8b732f6-a2d6-47e8-94f1-568769717425",
        "colab": {
          "base_uri": "https://localhost:8080/"
        }
      },
      "source": [
        "import pandas as pd\n",
        "import numpy as np\n",
        "import nltk\n",
        "import matplotlib.pyplot as plt\n",
        "import seaborn as sns\n",
        "%matplotlib inline\n",
        "%pylab inline"
      ],
      "execution_count": null,
      "outputs": [
        {
          "output_type": "stream",
          "name": "stdout",
          "text": [
            "Populating the interactive namespace from numpy and matplotlib\n"
          ]
        }
      ]
    },
    {
      "cell_type": "code",
      "source": [
        "from google.colab import drive\n",
        "drive.mount('/content/drive')"
      ],
      "metadata": {
        "colab": {
          "base_uri": "https://localhost:8080/"
        },
        "id": "xl4cdwLbqliH",
        "outputId": "cf93048a-014c-4328-8a03-60fcfa1aa068"
      },
      "execution_count": null,
      "outputs": [
        {
          "output_type": "stream",
          "name": "stdout",
          "text": [
            "Mounted at /content/drive\n"
          ]
        }
      ]
    },
    {
      "cell_type": "markdown",
      "source": [
        "# **Часть 1. Анализ текстов**"
      ],
      "metadata": {
        "id": "eIBR3bKEsnAJ"
      }
    },
    {
      "cell_type": "code",
      "source": [
        "with bz2.open('drive/My Drive/banki_responses.json.bz2', 'rt', encoding='utf-8') as f:\n",
        "  df = pd.read_json(f, lines=True)"
      ],
      "metadata": {
        "id": "8tA8JnA4viKq"
      },
      "execution_count": null,
      "outputs": []
    },
    {
      "cell_type": "code",
      "source": [
        "df.head(10)"
      ],
      "metadata": {
        "colab": {
          "base_uri": "https://localhost:8080/",
          "height": 537
        },
        "id": "FUgQejvLwRnp",
        "outputId": "b784279c-a6a0-4870-a388-ba6fddab915d"
      },
      "execution_count": null,
      "outputs": [
        {
          "output_type": "execute_result",
          "data": {
            "text/plain": [
              "                 city  rating_not_checked  \\\n",
              "0          г. Воронеж                True   \n",
              "1           г. Казань                True   \n",
              "2  г. Санкт-Петербург                True   \n",
              "3           г. Москва                True   \n",
              "4        г. Волгоград                True   \n",
              "5           г. Москва               False   \n",
              "6      г. Новосибирск               False   \n",
              "7        г. Краснодар                True   \n",
              "8           г. Москва                True   \n",
              "9           г. Москва                True   \n",
              "\n",
              "                                           title  num_comments  \\\n",
              "0                                  Ипотека на 5+             0   \n",
              "1                                 ЗВОНКИ СОСЕДЯМ             0   \n",
              "2                          Ложная информация!!!!             0   \n",
              "3            Банкомат не зачислил деньги на счет             1   \n",
              "4             Невозможно закрыть карту 2(два)!!!             0   \n",
              "5                                         Жалоба             0   \n",
              "6  Не могу пользоваться услугой Сбербанк он-лайн             0   \n",
              "7           Информирование по электронной почте.             0   \n",
              "8                       Выплаты по Транспортному             4   \n",
              "9                          Большая блаодарность!             0   \n",
              "\n",
              "      bank_license             author         bank_name            datetime  \\\n",
              "0  лицензия № 1623         e.novikova            ВТБ 24 2015-06-08 11:06:56   \n",
              "1  лицензия № 2289  KZN\\Vorontsova_NA  Русский Стандарт 2015-06-06 18:17:52   \n",
              "2  лицензия № 2307          Evgenia15              Союз 2015-06-07 19:08:33   \n",
              "3  лицензия № 2557        dolgov.work          Ситибанк 2015-06-07 19:22:00   \n",
              "4  лицензия № 3354            copLine  Ренессанс Кредит 2015-06-08 14:54:55   \n",
              "5  лицензия № 2562             uhnov1           Бинбанк 2015-06-08 12:50:54   \n",
              "6  лицензия № 1481             Foryou   Сбербанк России 2015-06-08 11:09:57   \n",
              "7  лицензия № 2518             secofr     Кубань Кредит 2015-06-06 13:10:53   \n",
              "8  лицензия № 1623            Бафомет            ВТБ 24 2015-06-06 13:40:55   \n",
              "9  лицензия № 1623       кристина1987            ВТБ 24 2015-06-08 14:43:51   \n",
              "\n",
              "                                                text  rating_grade  \n",
              "0  Здравствуйте!  Хотелось бы выразить благодарно...           5.0  \n",
              "1  Уважаемые представители департамента по работе...           2.0  \n",
              "2  Здравствуйте. Столкнулась с такой ситуацией. в...           2.0  \n",
              "3  1 июня 2015 в Москве в отделении по адресу Смо...           1.0  \n",
              "4  История очень долгая! Пришел я в банк (это раз...           1.0  \n",
              "5  Добрый день! Я не являюсь клиентом банка и пор...           NaN  \n",
              "6  Доброго дня! Являюсь держателем зарплатной кар...           NaN  \n",
              "7  Здравствуйте. Есть у меня VISA Electron от Куб...           3.0  \n",
              "8  Послеотзыва лицензии у Транспортного, с нетерп...           2.0  \n",
              "9  Хочу поблагодарить Надежду из отдела по ипотеч...           5.0  "
            ],
            "text/html": [
              "\n",
              "  <div id=\"df-9b59c29a-6f84-43fe-9d9d-e77332ed882a\" class=\"colab-df-container\">\n",
              "    <div>\n",
              "<style scoped>\n",
              "    .dataframe tbody tr th:only-of-type {\n",
              "        vertical-align: middle;\n",
              "    }\n",
              "\n",
              "    .dataframe tbody tr th {\n",
              "        vertical-align: top;\n",
              "    }\n",
              "\n",
              "    .dataframe thead th {\n",
              "        text-align: right;\n",
              "    }\n",
              "</style>\n",
              "<table border=\"1\" class=\"dataframe\">\n",
              "  <thead>\n",
              "    <tr style=\"text-align: right;\">\n",
              "      <th></th>\n",
              "      <th>city</th>\n",
              "      <th>rating_not_checked</th>\n",
              "      <th>title</th>\n",
              "      <th>num_comments</th>\n",
              "      <th>bank_license</th>\n",
              "      <th>author</th>\n",
              "      <th>bank_name</th>\n",
              "      <th>datetime</th>\n",
              "      <th>text</th>\n",
              "      <th>rating_grade</th>\n",
              "    </tr>\n",
              "  </thead>\n",
              "  <tbody>\n",
              "    <tr>\n",
              "      <th>0</th>\n",
              "      <td>г. Воронеж</td>\n",
              "      <td>True</td>\n",
              "      <td>Ипотека на 5+</td>\n",
              "      <td>0</td>\n",
              "      <td>лицензия № 1623</td>\n",
              "      <td>e.novikova</td>\n",
              "      <td>ВТБ 24</td>\n",
              "      <td>2015-06-08 11:06:56</td>\n",
              "      <td>Здравствуйте!  Хотелось бы выразить благодарно...</td>\n",
              "      <td>5.0</td>\n",
              "    </tr>\n",
              "    <tr>\n",
              "      <th>1</th>\n",
              "      <td>г. Казань</td>\n",
              "      <td>True</td>\n",
              "      <td>ЗВОНКИ СОСЕДЯМ</td>\n",
              "      <td>0</td>\n",
              "      <td>лицензия № 2289</td>\n",
              "      <td>KZN\\Vorontsova_NA</td>\n",
              "      <td>Русский Стандарт</td>\n",
              "      <td>2015-06-06 18:17:52</td>\n",
              "      <td>Уважаемые представители департамента по работе...</td>\n",
              "      <td>2.0</td>\n",
              "    </tr>\n",
              "    <tr>\n",
              "      <th>2</th>\n",
              "      <td>г. Санкт-Петербург</td>\n",
              "      <td>True</td>\n",
              "      <td>Ложная информация!!!!</td>\n",
              "      <td>0</td>\n",
              "      <td>лицензия № 2307</td>\n",
              "      <td>Evgenia15</td>\n",
              "      <td>Союз</td>\n",
              "      <td>2015-06-07 19:08:33</td>\n",
              "      <td>Здравствуйте. Столкнулась с такой ситуацией. в...</td>\n",
              "      <td>2.0</td>\n",
              "    </tr>\n",
              "    <tr>\n",
              "      <th>3</th>\n",
              "      <td>г. Москва</td>\n",
              "      <td>True</td>\n",
              "      <td>Банкомат не зачислил деньги на счет</td>\n",
              "      <td>1</td>\n",
              "      <td>лицензия № 2557</td>\n",
              "      <td>dolgov.work</td>\n",
              "      <td>Ситибанк</td>\n",
              "      <td>2015-06-07 19:22:00</td>\n",
              "      <td>1 июня 2015 в Москве в отделении по адресу Смо...</td>\n",
              "      <td>1.0</td>\n",
              "    </tr>\n",
              "    <tr>\n",
              "      <th>4</th>\n",
              "      <td>г. Волгоград</td>\n",
              "      <td>True</td>\n",
              "      <td>Невозможно закрыть карту 2(два)!!!</td>\n",
              "      <td>0</td>\n",
              "      <td>лицензия № 3354</td>\n",
              "      <td>copLine</td>\n",
              "      <td>Ренессанс Кредит</td>\n",
              "      <td>2015-06-08 14:54:55</td>\n",
              "      <td>История очень долгая! Пришел я в банк (это раз...</td>\n",
              "      <td>1.0</td>\n",
              "    </tr>\n",
              "    <tr>\n",
              "      <th>5</th>\n",
              "      <td>г. Москва</td>\n",
              "      <td>False</td>\n",
              "      <td>Жалоба</td>\n",
              "      <td>0</td>\n",
              "      <td>лицензия № 2562</td>\n",
              "      <td>uhnov1</td>\n",
              "      <td>Бинбанк</td>\n",
              "      <td>2015-06-08 12:50:54</td>\n",
              "      <td>Добрый день! Я не являюсь клиентом банка и пор...</td>\n",
              "      <td>NaN</td>\n",
              "    </tr>\n",
              "    <tr>\n",
              "      <th>6</th>\n",
              "      <td>г. Новосибирск</td>\n",
              "      <td>False</td>\n",
              "      <td>Не могу пользоваться услугой Сбербанк он-лайн</td>\n",
              "      <td>0</td>\n",
              "      <td>лицензия № 1481</td>\n",
              "      <td>Foryou</td>\n",
              "      <td>Сбербанк России</td>\n",
              "      <td>2015-06-08 11:09:57</td>\n",
              "      <td>Доброго дня! Являюсь держателем зарплатной кар...</td>\n",
              "      <td>NaN</td>\n",
              "    </tr>\n",
              "    <tr>\n",
              "      <th>7</th>\n",
              "      <td>г. Краснодар</td>\n",
              "      <td>True</td>\n",
              "      <td>Информирование по электронной почте.</td>\n",
              "      <td>0</td>\n",
              "      <td>лицензия № 2518</td>\n",
              "      <td>secofr</td>\n",
              "      <td>Кубань Кредит</td>\n",
              "      <td>2015-06-06 13:10:53</td>\n",
              "      <td>Здравствуйте. Есть у меня VISA Electron от Куб...</td>\n",
              "      <td>3.0</td>\n",
              "    </tr>\n",
              "    <tr>\n",
              "      <th>8</th>\n",
              "      <td>г. Москва</td>\n",
              "      <td>True</td>\n",
              "      <td>Выплаты по Транспортному</td>\n",
              "      <td>4</td>\n",
              "      <td>лицензия № 1623</td>\n",
              "      <td>Бафомет</td>\n",
              "      <td>ВТБ 24</td>\n",
              "      <td>2015-06-06 13:40:55</td>\n",
              "      <td>Послеотзыва лицензии у Транспортного, с нетерп...</td>\n",
              "      <td>2.0</td>\n",
              "    </tr>\n",
              "    <tr>\n",
              "      <th>9</th>\n",
              "      <td>г. Москва</td>\n",
              "      <td>True</td>\n",
              "      <td>Большая блаодарность!</td>\n",
              "      <td>0</td>\n",
              "      <td>лицензия № 1623</td>\n",
              "      <td>кристина1987</td>\n",
              "      <td>ВТБ 24</td>\n",
              "      <td>2015-06-08 14:43:51</td>\n",
              "      <td>Хочу поблагодарить Надежду из отдела по ипотеч...</td>\n",
              "      <td>5.0</td>\n",
              "    </tr>\n",
              "  </tbody>\n",
              "</table>\n",
              "</div>\n",
              "    <div class=\"colab-df-buttons\">\n",
              "\n",
              "  <div class=\"colab-df-container\">\n",
              "    <button class=\"colab-df-convert\" onclick=\"convertToInteractive('df-9b59c29a-6f84-43fe-9d9d-e77332ed882a')\"\n",
              "            title=\"Convert this dataframe to an interactive table.\"\n",
              "            style=\"display:none;\">\n",
              "\n",
              "  <svg xmlns=\"http://www.w3.org/2000/svg\" height=\"24px\" viewBox=\"0 -960 960 960\">\n",
              "    <path d=\"M120-120v-720h720v720H120Zm60-500h600v-160H180v160Zm220 220h160v-160H400v160Zm0 220h160v-160H400v160ZM180-400h160v-160H180v160Zm440 0h160v-160H620v160ZM180-180h160v-160H180v160Zm440 0h160v-160H620v160Z\"/>\n",
              "  </svg>\n",
              "    </button>\n",
              "\n",
              "  <style>\n",
              "    .colab-df-container {\n",
              "      display:flex;\n",
              "      gap: 12px;\n",
              "    }\n",
              "\n",
              "    .colab-df-convert {\n",
              "      background-color: #E8F0FE;\n",
              "      border: none;\n",
              "      border-radius: 50%;\n",
              "      cursor: pointer;\n",
              "      display: none;\n",
              "      fill: #1967D2;\n",
              "      height: 32px;\n",
              "      padding: 0 0 0 0;\n",
              "      width: 32px;\n",
              "    }\n",
              "\n",
              "    .colab-df-convert:hover {\n",
              "      background-color: #E2EBFA;\n",
              "      box-shadow: 0px 1px 2px rgba(60, 64, 67, 0.3), 0px 1px 3px 1px rgba(60, 64, 67, 0.15);\n",
              "      fill: #174EA6;\n",
              "    }\n",
              "\n",
              "    .colab-df-buttons div {\n",
              "      margin-bottom: 4px;\n",
              "    }\n",
              "\n",
              "    [theme=dark] .colab-df-convert {\n",
              "      background-color: #3B4455;\n",
              "      fill: #D2E3FC;\n",
              "    }\n",
              "\n",
              "    [theme=dark] .colab-df-convert:hover {\n",
              "      background-color: #434B5C;\n",
              "      box-shadow: 0px 1px 3px 1px rgba(0, 0, 0, 0.15);\n",
              "      filter: drop-shadow(0px 1px 2px rgba(0, 0, 0, 0.3));\n",
              "      fill: #FFFFFF;\n",
              "    }\n",
              "  </style>\n",
              "\n",
              "    <script>\n",
              "      const buttonEl =\n",
              "        document.querySelector('#df-9b59c29a-6f84-43fe-9d9d-e77332ed882a button.colab-df-convert');\n",
              "      buttonEl.style.display =\n",
              "        google.colab.kernel.accessAllowed ? 'block' : 'none';\n",
              "\n",
              "      async function convertToInteractive(key) {\n",
              "        const element = document.querySelector('#df-9b59c29a-6f84-43fe-9d9d-e77332ed882a');\n",
              "        const dataTable =\n",
              "          await google.colab.kernel.invokeFunction('convertToInteractive',\n",
              "                                                    [key], {});\n",
              "        if (!dataTable) return;\n",
              "\n",
              "        const docLinkHtml = 'Like what you see? Visit the ' +\n",
              "          '<a target=\"_blank\" href=https://colab.research.google.com/notebooks/data_table.ipynb>data table notebook</a>'\n",
              "          + ' to learn more about interactive tables.';\n",
              "        element.innerHTML = '';\n",
              "        dataTable['output_type'] = 'display_data';\n",
              "        await google.colab.output.renderOutput(dataTable, element);\n",
              "        const docLink = document.createElement('div');\n",
              "        docLink.innerHTML = docLinkHtml;\n",
              "        element.appendChild(docLink);\n",
              "      }\n",
              "    </script>\n",
              "  </div>\n",
              "\n",
              "\n",
              "<div id=\"df-d4c62f7c-80bb-4a68-b461-cd0242a32097\">\n",
              "  <button class=\"colab-df-quickchart\" onclick=\"quickchart('df-d4c62f7c-80bb-4a68-b461-cd0242a32097')\"\n",
              "            title=\"Suggest charts\"\n",
              "            style=\"display:none;\">\n",
              "\n",
              "<svg xmlns=\"http://www.w3.org/2000/svg\" height=\"24px\"viewBox=\"0 0 24 24\"\n",
              "     width=\"24px\">\n",
              "    <g>\n",
              "        <path d=\"M19 3H5c-1.1 0-2 .9-2 2v14c0 1.1.9 2 2 2h14c1.1 0 2-.9 2-2V5c0-1.1-.9-2-2-2zM9 17H7v-7h2v7zm4 0h-2V7h2v10zm4 0h-2v-4h2v4z\"/>\n",
              "    </g>\n",
              "</svg>\n",
              "  </button>\n",
              "\n",
              "<style>\n",
              "  .colab-df-quickchart {\n",
              "      --bg-color: #E8F0FE;\n",
              "      --fill-color: #1967D2;\n",
              "      --hover-bg-color: #E2EBFA;\n",
              "      --hover-fill-color: #174EA6;\n",
              "      --disabled-fill-color: #AAA;\n",
              "      --disabled-bg-color: #DDD;\n",
              "  }\n",
              "\n",
              "  [theme=dark] .colab-df-quickchart {\n",
              "      --bg-color: #3B4455;\n",
              "      --fill-color: #D2E3FC;\n",
              "      --hover-bg-color: #434B5C;\n",
              "      --hover-fill-color: #FFFFFF;\n",
              "      --disabled-bg-color: #3B4455;\n",
              "      --disabled-fill-color: #666;\n",
              "  }\n",
              "\n",
              "  .colab-df-quickchart {\n",
              "    background-color: var(--bg-color);\n",
              "    border: none;\n",
              "    border-radius: 50%;\n",
              "    cursor: pointer;\n",
              "    display: none;\n",
              "    fill: var(--fill-color);\n",
              "    height: 32px;\n",
              "    padding: 0;\n",
              "    width: 32px;\n",
              "  }\n",
              "\n",
              "  .colab-df-quickchart:hover {\n",
              "    background-color: var(--hover-bg-color);\n",
              "    box-shadow: 0 1px 2px rgba(60, 64, 67, 0.3), 0 1px 3px 1px rgba(60, 64, 67, 0.15);\n",
              "    fill: var(--button-hover-fill-color);\n",
              "  }\n",
              "\n",
              "  .colab-df-quickchart-complete:disabled,\n",
              "  .colab-df-quickchart-complete:disabled:hover {\n",
              "    background-color: var(--disabled-bg-color);\n",
              "    fill: var(--disabled-fill-color);\n",
              "    box-shadow: none;\n",
              "  }\n",
              "\n",
              "  .colab-df-spinner {\n",
              "    border: 2px solid var(--fill-color);\n",
              "    border-color: transparent;\n",
              "    border-bottom-color: var(--fill-color);\n",
              "    animation:\n",
              "      spin 1s steps(1) infinite;\n",
              "  }\n",
              "\n",
              "  @keyframes spin {\n",
              "    0% {\n",
              "      border-color: transparent;\n",
              "      border-bottom-color: var(--fill-color);\n",
              "      border-left-color: var(--fill-color);\n",
              "    }\n",
              "    20% {\n",
              "      border-color: transparent;\n",
              "      border-left-color: var(--fill-color);\n",
              "      border-top-color: var(--fill-color);\n",
              "    }\n",
              "    30% {\n",
              "      border-color: transparent;\n",
              "      border-left-color: var(--fill-color);\n",
              "      border-top-color: var(--fill-color);\n",
              "      border-right-color: var(--fill-color);\n",
              "    }\n",
              "    40% {\n",
              "      border-color: transparent;\n",
              "      border-right-color: var(--fill-color);\n",
              "      border-top-color: var(--fill-color);\n",
              "    }\n",
              "    60% {\n",
              "      border-color: transparent;\n",
              "      border-right-color: var(--fill-color);\n",
              "    }\n",
              "    80% {\n",
              "      border-color: transparent;\n",
              "      border-right-color: var(--fill-color);\n",
              "      border-bottom-color: var(--fill-color);\n",
              "    }\n",
              "    90% {\n",
              "      border-color: transparent;\n",
              "      border-bottom-color: var(--fill-color);\n",
              "    }\n",
              "  }\n",
              "</style>\n",
              "\n",
              "  <script>\n",
              "    async function quickchart(key) {\n",
              "      const quickchartButtonEl =\n",
              "        document.querySelector('#' + key + ' button');\n",
              "      quickchartButtonEl.disabled = true;  // To prevent multiple clicks.\n",
              "      quickchartButtonEl.classList.add('colab-df-spinner');\n",
              "      try {\n",
              "        const charts = await google.colab.kernel.invokeFunction(\n",
              "            'suggestCharts', [key], {});\n",
              "      } catch (error) {\n",
              "        console.error('Error during call to suggestCharts:', error);\n",
              "      }\n",
              "      quickchartButtonEl.classList.remove('colab-df-spinner');\n",
              "      quickchartButtonEl.classList.add('colab-df-quickchart-complete');\n",
              "    }\n",
              "    (() => {\n",
              "      let quickchartButtonEl =\n",
              "        document.querySelector('#df-d4c62f7c-80bb-4a68-b461-cd0242a32097 button');\n",
              "      quickchartButtonEl.style.display =\n",
              "        google.colab.kernel.accessAllowed ? 'block' : 'none';\n",
              "    })();\n",
              "  </script>\n",
              "</div>\n",
              "    </div>\n",
              "  </div>\n"
            ],
            "application/vnd.google.colaboratory.intrinsic+json": {
              "type": "dataframe",
              "variable_name": "df"
            }
          },
          "metadata": {},
          "execution_count": 5
        }
      ]
    },
    {
      "cell_type": "code",
      "source": [
        "df.info()"
      ],
      "metadata": {
        "colab": {
          "base_uri": "https://localhost:8080/"
        },
        "id": "cF5GebFl0IFd",
        "outputId": "63907f99-3967-4c33-8390-8f747bc4c96d"
      },
      "execution_count": null,
      "outputs": [
        {
          "output_type": "stream",
          "name": "stdout",
          "text": [
            "<class 'pandas.core.frame.DataFrame'>\n",
            "RangeIndex: 201030 entries, 0 to 201029\n",
            "Data columns (total 10 columns):\n",
            " #   Column              Non-Null Count   Dtype         \n",
            "---  ------              --------------   -----         \n",
            " 0   city                185492 non-null  object        \n",
            " 1   rating_not_checked  201030 non-null  bool          \n",
            " 2   title               201030 non-null  object        \n",
            " 3   num_comments        201030 non-null  int64         \n",
            " 4   bank_license        201026 non-null  object        \n",
            " 5   author              201009 non-null  object        \n",
            " 6   bank_name           201030 non-null  object        \n",
            " 7   datetime            201030 non-null  datetime64[ns]\n",
            " 8   text                201030 non-null  object        \n",
            " 9   rating_grade        136189 non-null  float64       \n",
            "dtypes: bool(1), datetime64[ns](1), float64(1), int64(1), object(6)\n",
            "memory usage: 14.0+ MB\n"
          ]
        }
      ]
    },
    {
      "cell_type": "markdown",
      "source": [
        "**1. Посчитайте количество отзывов в разных городах и на разные банки**"
      ],
      "metadata": {
        "id": "MuiyLtaIsqGK"
      }
    },
    {
      "cell_type": "code",
      "source": [
        "df_small = df.iloc[0:10000]"
      ],
      "metadata": {
        "id": "3Bxov5gEXO0Z"
      },
      "execution_count": null,
      "outputs": []
    },
    {
      "cell_type": "code",
      "source": [
        "df_small.groupby(['city','bank_name'])['text'].count().sort_values(ascending=False).head(20)"
      ],
      "metadata": {
        "colab": {
          "base_uri": "https://localhost:8080/"
        },
        "id": "YxfJ-auNyFcg",
        "outputId": "46bb8ee3-6e3a-4ac7-e719-0f2dd31a9e75"
      },
      "execution_count": null,
      "outputs": [
        {
          "output_type": "execute_result",
          "data": {
            "text/plain": [
              "city                bank_name                \n",
              "г. Москва           Сбербанк России              516\n",
              "                    Альфа-Банк                   355\n",
              "                    Тинькофф Банк                340\n",
              "                    ВТБ 24                       300\n",
              "                    Русский Стандарт             246\n",
              "                    Хоум Кредит Банк             170\n",
              "                    Московский Кредитный Банк    164\n",
              "                    Банк Москвы                  151\n",
              "г. Санкт-Петербург  Сбербанк России              138\n",
              "г. Москва           Промсвязьбанк                107\n",
              "                    Киви Банк                    102\n",
              "                    Связной Банк                  99\n",
              "                    Бинбанк                       83\n",
              "                    Национальный Банк «Траст»     82\n",
              "                    ОТП Банк                      70\n",
              "                    Ренессанс Кредит              69\n",
              "                    Восточный Экспресс Банк       69\n",
              "г. Санкт-Петербург  ВТБ 24                        67\n",
              "г. Москва           Райффайзенбанк                66\n",
              "                    Сетелем Банк                  64\n",
              "Name: text, dtype: int64"
            ]
          },
          "metadata": {},
          "execution_count": 8
        }
      ]
    },
    {
      "cell_type": "markdown",
      "source": [
        "**2. Постройте гистограмы длин текстов в символах и в словах**"
      ],
      "metadata": {
        "id": "47tP-QGK1ZzG"
      }
    },
    {
      "cell_type": "code",
      "source": [
        "import re"
      ],
      "metadata": {
        "id": "v8CWhCutemRJ"
      },
      "execution_count": null,
      "outputs": []
    },
    {
      "cell_type": "code",
      "source": [
        "count_words = []\n",
        "for i in df_small.text:\n",
        "  string = len(re.sub(r'[^\\w\\s]', '', i.lower()).replace(u'\\xa0', u'').split())\n",
        "  count_words.append(string)"
      ],
      "metadata": {
        "id": "7DkTIo-3WtwC"
      },
      "execution_count": null,
      "outputs": []
    },
    {
      "cell_type": "code",
      "source": [
        "plt.figure(figsize=(20,5))\n",
        "plt.hist(count_words)\n",
        "plt.title(\"Кол-во слов в текстах\")\n",
        "plt.xlabel(\"Кол-во слов в тексте\")\n",
        "plt.ylabel(\"Кол-во текстов\")"
      ],
      "metadata": {
        "colab": {
          "base_uri": "https://localhost:8080/",
          "height": 489
        },
        "id": "EdNJGe-EWuG0",
        "outputId": "06fe63d4-79c6-421c-89e5-6619ee777982"
      },
      "execution_count": null,
      "outputs": [
        {
          "output_type": "execute_result",
          "data": {
            "text/plain": [
              "Text(0, 0.5, 'Кол-во текстов')"
            ]
          },
          "metadata": {},
          "execution_count": 11
        },
        {
          "output_type": "display_data",
          "data": {
            "text/plain": [
              "<Figure size 2000x500 with 1 Axes>"
            ],
            "image/png": "[encoded data removed]"
          },
          "metadata": {}
        }
      ]
    },
    {
      "cell_type": "code",
      "source": [
        "count_letters = []\n",
        "for i in df_small.text:\n",
        "  string = len(re.sub(r'[^\\w\\s]', '', i.lower()).replace(u'\\xa0', u'').replace(\" \", \"\"))\n",
        "  count_letters.append(string)"
      ],
      "metadata": {
        "id": "aiOR9VycWuJ4"
      },
      "execution_count": null,
      "outputs": []
    },
    {
      "cell_type": "code",
      "source": [
        "plt.figure(figsize=(20,5))\n",
        "plt.hist(count_letters)\n",
        "plt.title(\"Кол-во символов в текстах\")\n",
        "plt.xlabel(\"Кол-во символов в тексте\")\n",
        "plt.ylabel(\"Кол-во текстов\")"
      ],
      "metadata": {
        "colab": {
          "base_uri": "https://localhost:8080/",
          "height": 487
        },
        "id": "zqfCaIeZmzFw",
        "outputId": "0928a56e-af9f-49cd-a0f4-da38d262246d"
      },
      "execution_count": null,
      "outputs": [
        {
          "output_type": "execute_result",
          "data": {
            "text/plain": [
              "Text(0, 0.5, 'Кол-во текстов')"
            ]
          },
          "metadata": {},
          "execution_count": 13
        },
        {
          "output_type": "display_data",
          "data": {
            "text/plain": [
              "<Figure size 2000x500 with 1 Axes>"
            ],
            "image/png": "[encoded data removed]"
          },
          "metadata": {}
        }
      ]
    },
    {
      "cell_type": "markdown",
      "source": [
        "**3. Найдите 10 самых частых:**"
      ],
      "metadata": {
        "id": "-PdrqGIrnFsJ"
      }
    },
    {
      "cell_type": "markdown",
      "source": [
        "- Слов"
      ],
      "metadata": {
        "id": "rTi05rBwnKHJ"
      }
    },
    {
      "cell_type": "code",
      "source": [
        "from nltk.tokenize import word_tokenize\n",
        "import nltk\n",
        "nltk.download('punkt')"
      ],
      "metadata": {
        "colab": {
          "base_uri": "https://localhost:8080/"
        },
        "id": "nl1SGWPv3PXc",
        "outputId": "eadb89bb-87c1-4d7b-bec7-2fecf3eb29fc"
      },
      "execution_count": null,
      "outputs": [
        {
          "output_type": "stream",
          "name": "stderr",
          "text": [
            "[nltk_data] Downloading package punkt to /root/nltk_data...\n",
            "[nltk_data]   Unzipping tokenizers/punkt.zip.\n"
          ]
        },
        {
          "output_type": "execute_result",
          "data": {
            "text/plain": [
              "True"
            ]
          },
          "metadata": {},
          "execution_count": 14
        }
      ]
    },
    {
      "cell_type": "code",
      "source": [
        "from string import punctuation\n",
        "from collections import Counter"
      ],
      "metadata": {
        "id": "ijGjZDnq39cL"
      },
      "execution_count": null,
      "outputs": []
    },
    {
      "cell_type": "code",
      "source": [
        "corpus = [token for tweet in df_small.text for token in word_tokenize(tweet) if token not in punctuation]"
      ],
      "metadata": {
        "id": "TIU62mfF3UXP"
      },
      "execution_count": null,
      "outputs": []
    },
    {
      "cell_type": "code",
      "source": [
        "freq_dict = Counter(corpus)"
      ],
      "metadata": {
        "id": "lAHWY1Bjnj92"
      },
      "execution_count": null,
      "outputs": []
    },
    {
      "cell_type": "code",
      "source": [
        "freq_dict.most_common(10)"
      ],
      "metadata": {
        "colab": {
          "base_uri": "https://localhost:8080/"
        },
        "id": "fo2pMq6inlkt",
        "outputId": "9af82472-32fa-49c7-9946-affe566ac9bf"
      },
      "execution_count": null,
      "outputs": [
        {
          "output_type": "execute_result",
          "data": {
            "text/plain": [
              "[('в', 61908),\n",
              " ('и', 54151),\n",
              " ('не', 44628),\n",
              " ('на', 34851),\n",
              " ('что', 31967),\n",
              " ('с', 24395),\n",
              " ('я', 23792),\n",
              " ('по', 19816),\n",
              " ('мне', 16155),\n",
              " ('банка', 13945)]"
            ]
          },
          "metadata": {},
          "execution_count": 18
        }
      ]
    },
    {
      "cell_type": "markdown",
      "source": [
        "- Cлов без стоп-слов"
      ],
      "metadata": {
        "id": "qA1Qi6uWnwPK"
      }
    },
    {
      "cell_type": "code",
      "source": [
        "nltk.download('stopwords')"
      ],
      "metadata": {
        "colab": {
          "base_uri": "https://localhost:8080/"
        },
        "id": "pn-dMSdXnr1f",
        "outputId": "9d10320d-c72d-474d-94fd-fef4299674ed"
      },
      "execution_count": null,
      "outputs": [
        {
          "output_type": "stream",
          "name": "stderr",
          "text": [
            "[nltk_data] Downloading package stopwords to /root/nltk_data...\n",
            "[nltk_data]   Unzipping corpora/stopwords.zip.\n"
          ]
        },
        {
          "output_type": "execute_result",
          "data": {
            "text/plain": [
              "True"
            ]
          },
          "metadata": {},
          "execution_count": 19
        }
      ]
    },
    {
      "cell_type": "code",
      "source": [
        "from nltk.corpus import stopwords"
      ],
      "metadata": {
        "id": "zdNxooXZn8QF"
      },
      "execution_count": null,
      "outputs": []
    },
    {
      "cell_type": "code",
      "source": [
        "mystopwords = stopwords.words('russian') + [\n",
        "    'это', 'наш' , 'тыс', 'млн', 'млрд', 'также',  'т', 'д',\n",
        "    'который','прошлый','сей', 'свой', 'наш', 'мочь', 'такой', 'г'\n",
        "]\n",
        "ru_words = re.compile(\"[А-Яа-я]+\")\n",
        "\n",
        "\n",
        "def words_only(text):\n",
        "    return \" \".join(ru_words.findall(text))\n",
        "\n",
        "def remove_stopwords(text, mystopwords = mystopwords):\n",
        "    try:\n",
        "        return \" \".join([token for token in text.split() if not token in mystopwords])\n",
        "    except:\n",
        "        return \"\"\n",
        "\n",
        "def preprocess(text):\n",
        "    return remove_stopwords(words_only(text.lower()))"
      ],
      "metadata": {
        "id": "RynUiI9TtIqq"
      },
      "execution_count": null,
      "outputs": []
    },
    {
      "cell_type": "code",
      "source": [
        "list_wsw = df_small.text.apply(preprocess)"
      ],
      "metadata": {
        "id": "2ILOU_QKtndw"
      },
      "execution_count": null,
      "outputs": []
    },
    {
      "cell_type": "code",
      "source": [
        "corpus_wsw = [token for tweet in list_wsw for token in word_tokenize(tweet) if token not in punctuation]"
      ],
      "metadata": {
        "id": "gPSOpsh4t08o"
      },
      "execution_count": null,
      "outputs": []
    },
    {
      "cell_type": "code",
      "source": [
        "freq_dict_wsw = Counter(corpus_wsw)"
      ],
      "metadata": {
        "id": "fNszGwI2uHvQ"
      },
      "execution_count": null,
      "outputs": []
    },
    {
      "cell_type": "code",
      "source": [
        "freq_dict_wsw.most_common(10)"
      ],
      "metadata": {
        "colab": {
          "base_uri": "https://localhost:8080/"
        },
        "id": "Yj61U9lsuK5a",
        "outputId": "b9a55bd4-aa58-45f3-e2d4-08cb88ff988b"
      },
      "execution_count": null,
      "outputs": [
        {
          "output_type": "execute_result",
          "data": {
            "text/plain": [
              "[('банка', 16520),\n",
              " ('банк', 13527),\n",
              " ('деньги', 6522),\n",
              " ('карты', 5601),\n",
              " ('карту', 5353),\n",
              " ('кредит', 4778),\n",
              " ('день', 4491),\n",
              " ('банке', 4066),\n",
              " ('года', 3566),\n",
              " ('очень', 3550)]"
            ]
          },
          "metadata": {},
          "execution_count": 25
        }
      ]
    },
    {
      "cell_type": "markdown",
      "source": [
        "- Лемм"
      ],
      "metadata": {
        "id": "uKJxPSW2ubPm"
      }
    },
    {
      "cell_type": "code",
      "source": [
        "!pip install pymorphy2"
      ],
      "metadata": {
        "colab": {
          "base_uri": "https://localhost:8080/"
        },
        "id": "I7Axu7tnurCs",
        "outputId": "d6b73113-d07d-42e7-f9a7-72ae0157052d"
      },
      "execution_count": null,
      "outputs": [
        {
          "output_type": "stream",
          "name": "stdout",
          "text": [
            "Collecting pymorphy2\n",
            "  Downloading pymorphy2-0.9.1-py3-none-any.whl (55 kB)\n",
            "\u001b[2K     \u001b[90m━━━━━━━━━━━━━━━━━━━━━━━━━━━━━━━━━━━━━━━━\u001b[0m \u001b[32m55.5/55.5 kB\u001b[0m \u001b[31m1.6 MB/s\u001b[0m eta \u001b[36m0:00:00\u001b[0m\n",
            "\u001b[?25hCollecting dawg-python>=0.7.1 (from pymorphy2)\n",
            "  Downloading DAWG_Python-0.7.2-py2.py3-none-any.whl (11 kB)\n",
            "Collecting pymorphy2-dicts-ru<3.0,>=2.4 (from pymorphy2)\n",
            "  Downloading pymorphy2_dicts_ru-2.4.417127.4579844-py2.py3-none-any.whl (8.2 MB)\n",
            "\u001b[2K     \u001b[90m━━━━━━━━━━━━━━━━━━━━━━━━━━━━━━━━━━━━━━━━\u001b[0m \u001b[32m8.2/8.2 MB\u001b[0m \u001b[31m30.6 MB/s\u001b[0m eta \u001b[36m0:00:00\u001b[0m\n",
            "\u001b[?25hCollecting docopt>=0.6 (from pymorphy2)\n",
            "  Downloading docopt-0.6.2.tar.gz (25 kB)\n",
            "  Preparing metadata (setup.py) ... \u001b[?25l\u001b[?25hdone\n",
            "Building wheels for collected packages: docopt\n",
            "  Building wheel for docopt (setup.py) ... \u001b[?25l\u001b[?25hdone\n",
            "  Created wheel for docopt: filename=docopt-0.6.2-py2.py3-none-any.whl size=13706 sha256=c70afe15033590d34130e1d47bbafed76e01bd3f01ad7d6b539d8b499845498a\n",
            "  Stored in directory: /root/.cache/pip/wheels/fc/ab/d4/5da2067ac95b36618c629a5f93f809425700506f72c9732fac\n",
            "Successfully built docopt\n",
            "Installing collected packages: pymorphy2-dicts-ru, docopt, dawg-python, pymorphy2\n",
            "Successfully installed dawg-python-0.7.2 docopt-0.6.2 pymorphy2-0.9.1 pymorphy2-dicts-ru-2.4.417127.4579844\n"
          ]
        }
      ]
    },
    {
      "cell_type": "code",
      "source": [
        "import pymorphy2\n",
        "m = pymorphy2.MorphAnalyzer()"
      ],
      "metadata": {
        "id": "EZQmrnSAu180"
      },
      "execution_count": null,
      "outputs": []
    },
    {
      "cell_type": "code",
      "source": [
        "def lemmatize(text, mystem=m):\n",
        "    try:\n",
        "        return \" \".join([m.parse(w)[0].normal_form for w in text.split(' ')]).strip()\n",
        "    except:\n",
        "        return \" \"\n",
        "\n",
        "def preprocess_lem(text):\n",
        "    return remove_stopwords(lemmatize(words_only(text.lower())))"
      ],
      "metadata": {
        "id": "tgsvuChDuhKp"
      },
      "execution_count": null,
      "outputs": []
    },
    {
      "cell_type": "code",
      "source": [
        "list_lem = df_small.text.apply(preprocess_lem)"
      ],
      "metadata": {
        "id": "qToN4msCvCAK"
      },
      "execution_count": null,
      "outputs": []
    },
    {
      "cell_type": "code",
      "source": [
        "corpus_lem = [token for tweet in list_lem for token in word_tokenize(tweet) if token not in punctuation]"
      ],
      "metadata": {
        "id": "uuIHq4CpvIYs"
      },
      "execution_count": null,
      "outputs": []
    },
    {
      "cell_type": "code",
      "source": [
        "freq_dict_lem = Counter(corpus_lem)"
      ],
      "metadata": {
        "id": "1VFsmahMxfzS"
      },
      "execution_count": null,
      "outputs": []
    },
    {
      "cell_type": "code",
      "source": [
        "freq_dict_lem.most_common(10)"
      ],
      "metadata": {
        "colab": {
          "base_uri": "https://localhost:8080/"
        },
        "id": "-bWfgE48xj3e",
        "outputId": "888ac8cf-4460-4581-9869-66ec1d2c4304"
      },
      "execution_count": null,
      "outputs": [
        {
          "output_type": "execute_result",
          "data": {
            "text/plain": [
              "[('банк', 40358),\n",
              " ('карта', 17789),\n",
              " ('кредит', 9733),\n",
              " ('день', 9354),\n",
              " ('сотрудник', 9009),\n",
              " ('деньга', 8834),\n",
              " ('всё', 8543),\n",
              " ('клиент', 7772),\n",
              " ('сумма', 6627),\n",
              " ('счёт', 6493)]"
            ]
          },
          "metadata": {},
          "execution_count": 32
        }
      ]
    },
    {
      "cell_type": "markdown",
      "source": [
        "- Cуществительных"
      ],
      "metadata": {
        "id": "qrWq8Z4YxroU"
      }
    },
    {
      "cell_type": "code",
      "source": [
        "from pymorphy2 import MorphAnalyzer\n",
        "pymorphy2_analyzer = MorphAnalyzer()"
      ],
      "metadata": {
        "id": "ZsZ38cyQxtV2"
      },
      "execution_count": null,
      "outputs": []
    },
    {
      "cell_type": "code",
      "source": [
        "corpus_nouns = []\n",
        "for word in corpus_lem:\n",
        "  ana = pymorphy2_analyzer.parse(word)\n",
        "  if ana[0].tag.POS == 'NOUN':\n",
        "    corpus_nouns.append(word)"
      ],
      "metadata": {
        "id": "7MgwncmfzYdd"
      },
      "execution_count": null,
      "outputs": []
    },
    {
      "cell_type": "code",
      "source": [
        "freq_dict_nouns = Counter(corpus_nouns)"
      ],
      "metadata": {
        "id": "bTAMXD-F1z3g"
      },
      "execution_count": null,
      "outputs": []
    },
    {
      "cell_type": "code",
      "source": [
        "freq_dict_nouns.most_common(10)"
      ],
      "metadata": {
        "colab": {
          "base_uri": "https://localhost:8080/"
        },
        "id": "vDgVM-9-15sq",
        "outputId": "5b952fb8-5d5c-45a7-8925-1962aa67fbdc"
      },
      "execution_count": null,
      "outputs": [
        {
          "output_type": "execute_result",
          "data": {
            "text/plain": [
              "[('банк', 40358),\n",
              " ('карта', 17789),\n",
              " ('кредит', 9733),\n",
              " ('день', 9354),\n",
              " ('сотрудник', 9009),\n",
              " ('деньга', 8834),\n",
              " ('клиент', 7772),\n",
              " ('сумма', 6627),\n",
              " ('счёт', 6493),\n",
              " ('год', 6491)]"
            ]
          },
          "metadata": {},
          "execution_count": 36
        }
      ]
    },
    {
      "cell_type": "markdown",
      "source": [
        "**4. Постройте кривые Ципфа и Хипса**"
      ],
      "metadata": {
        "id": "ty1WT34o3rDv"
      }
    },
    {
      "cell_type": "code",
      "source": [
        "freqs = list(freq_dict_lem.values())\n",
        "freqs = sorted(freqs, reverse = True)\n",
        "\n",
        "fig, ax = plt.subplots()\n",
        "ax.plot(range(300),freqs[:300])\n",
        "plt.title(\"Крива Ципфа\")\n",
        "plt.show()"
      ],
      "metadata": {
        "colab": {
          "base_uri": "https://localhost:8080/",
          "height": 452
        },
        "id": "a8uncBXR3wNz",
        "outputId": "47a5ea20-ba57-427d-d4c8-da961fe5ebed"
      },
      "execution_count": null,
      "outputs": [
        {
          "output_type": "display_data",
          "data": {
            "text/plain": [
              "<Figure size 640x480 with 1 Axes>"
            ],
            "image/png": "[encoded data removed]"
          },
          "metadata": {}
        }
      ]
    },
    {
      "cell_type": "code",
      "source": [
        "from tqdm import tqdm\n",
        "\n",
        "cnt = Counter()\n",
        "n_words = []\n",
        "n_tokens = []\n",
        "tokens = []\n",
        "for index, row in tqdm(df_small.iterrows(), total = len(df_small)):\n",
        "    tokens = word_tokenize(row['text'])\n",
        "    cnt.update([token for token in tokens if token not in punctuation])\n",
        "    n_words.append(len(cnt))\n",
        "    n_tokens.append(cnt.total())"
      ],
      "metadata": {
        "colab": {
          "base_uri": "https://localhost:8080/"
        },
        "id": "5Ap4z0Yx4GLa",
        "outputId": "83f1dc13-1ead-460d-ea64-738b6c86d261"
      },
      "execution_count": null,
      "outputs": [
        {
          "output_type": "stream",
          "name": "stderr",
          "text": [
            "100%|██████████| 10000/10000 [00:39<00:00, 251.55it/s]\n"
          ]
        }
      ]
    },
    {
      "cell_type": "code",
      "source": [
        "fig, ax = plt.subplots()\n",
        "ax.plot(n_tokens, n_words)\n",
        "plt.title(\"Крива Хипса\")\n",
        "plt.show()"
      ],
      "metadata": {
        "colab": {
          "base_uri": "https://localhost:8080/",
          "height": 470
        },
        "id": "bgO9kHNA5ACp",
        "outputId": "a5cdceb5-16bb-4920-c32a-18deef765dd7"
      },
      "execution_count": null,
      "outputs": [
        {
          "output_type": "display_data",
          "data": {
            "text/plain": [
              "<Figure size 640x480 with 1 Axes>"
            ],
            "image/png": "[encoded data removed]"
          },
          "metadata": {}
        }
      ]
    },
    {
      "cell_type": "markdown",
      "source": [
        "**5. Ответьте на следующие вопросы:**"
      ],
      "metadata": {
        "id": "RhpMdL2QX1nO"
      }
    },
    {
      "cell_type": "markdown",
      "source": [
        "- какое слово встречается чаще, \"сотрудник\" или \"клиент\"?"
      ],
      "metadata": {
        "id": "PqAxfExJX70W"
      }
    },
    {
      "cell_type": "code",
      "source": [
        "freq_dict_lem['сотрудник']"
      ],
      "metadata": {
        "colab": {
          "base_uri": "https://localhost:8080/"
        },
        "id": "oRh6y-42X-h-",
        "outputId": "d694fe7c-6023-4096-9ec2-aa7745038a09"
      },
      "execution_count": null,
      "outputs": [
        {
          "output_type": "execute_result",
          "data": {
            "text/plain": [
              "9009"
            ]
          },
          "metadata": {},
          "execution_count": 40
        }
      ]
    },
    {
      "cell_type": "code",
      "source": [
        "freq_dict_lem['клиент']"
      ],
      "metadata": {
        "colab": {
          "base_uri": "https://localhost:8080/"
        },
        "id": "RXNuYWiEYMvY",
        "outputId": "1bc49bd0-b0fd-49fc-859f-89bd96837f46"
      },
      "execution_count": null,
      "outputs": [
        {
          "output_type": "execute_result",
          "data": {
            "text/plain": [
              "7772"
            ]
          },
          "metadata": {},
          "execution_count": 41
        }
      ]
    },
    {
      "cell_type": "markdown",
      "source": [
        "Ответ: Чаще встречается слово \"Сотрудник\""
      ],
      "metadata": {
        "id": "gN_DJw6gYQWJ"
      }
    },
    {
      "cell_type": "markdown",
      "source": [
        "- сколько раз встречается слова \"мошенничество\" и \"доверие\"?"
      ],
      "metadata": {
        "id": "n4EDgS2jYWeQ"
      }
    },
    {
      "cell_type": "code",
      "source": [
        "print(f'Слово \"мошенничество\" встречается {freq_dict_lem[\"мошенничество\"]} раз')\n",
        "print(f'Слово \"доверие\" встречается {freq_dict_lem[\"доверие\"]} раза')"
      ],
      "metadata": {
        "colab": {
          "base_uri": "https://localhost:8080/"
        },
        "id": "tsgLg8pzYcSi",
        "outputId": "a4032f75-0c82-46cf-fd8e-915cd9864ed1"
      },
      "execution_count": null,
      "outputs": [
        {
          "output_type": "stream",
          "name": "stdout",
          "text": [
            "Слово \"мошенничество\" встречается 200 раз\n",
            "Слово \"доверие\" встречается 154 раза\n"
          ]
        }
      ]
    },
    {
      "cell_type": "markdown",
      "source": [
        "**6. В поле \"rating_grade\" записана оценка отзыва по шкале от 1 до 5. Используйте меру \"td-idf\", для того, чтобы найти ключевые слова и биграмы для положительных отзывов (с оценкой 5) и отрицательных отзывов (с оценкой 1)**"
      ],
      "metadata": {
        "id": "WR10kAMcZGaM"
      }
    },
    {
      "cell_type": "code",
      "source": [
        "from sklearn.feature_extraction.text import TfidfVectorizer\n",
        "from sklearn.linear_model import LogisticRegression"
      ],
      "metadata": {
        "id": "ag2wFqobaZNL"
      },
      "execution_count": null,
      "outputs": []
    },
    {
      "cell_type": "code",
      "source": [
        "from sklearn.linear_model import LogisticRegression"
      ],
      "metadata": {
        "id": "4L4pZrCwakEm"
      },
      "execution_count": null,
      "outputs": []
    },
    {
      "cell_type": "code",
      "source": [
        "df_small_1 = df_small[df_small['rating_grade'] == 1]"
      ],
      "metadata": {
        "id": "6i7c-mPwa045"
      },
      "execution_count": null,
      "outputs": []
    },
    {
      "cell_type": "code",
      "source": [
        "text_small_1 = df_small_1['text']"
      ],
      "metadata": {
        "id": "hQsGVQ47byZ4"
      },
      "execution_count": null,
      "outputs": []
    },
    {
      "cell_type": "code",
      "source": [
        "tfidf_vectorizer = TfidfVectorizer(ngram_range=(1, 1), tokenizer=word_tokenize)"
      ],
      "metadata": {
        "id": "RdUWNhNsf46d"
      },
      "execution_count": null,
      "outputs": []
    },
    {
      "cell_type": "code",
      "source": [
        "tfidf_matrix = tfidf_vectorizer.fit_transform(text_small_1)"
      ],
      "metadata": {
        "colab": {
          "base_uri": "https://localhost:8080/"
        },
        "id": "z7OlsiYfgCM0",
        "outputId": "8dc53f89-f4ce-4633-a181-d4e265825847"
      },
      "execution_count": null,
      "outputs": [
        {
          "output_type": "stream",
          "name": "stderr",
          "text": [
            "/usr/local/lib/python3.10/dist-packages/sklearn/feature_extraction/text.py:528: UserWarning: The parameter 'token_pattern' will not be used since 'tokenizer' is not None'\n",
            "  warnings.warn(\n"
          ]
        }
      ]
    },
    {
      "cell_type": "code",
      "source": [
        "feature_names = tfidf_vectorizer.get_feature_names_out()\n",
        "tfidf_scores = tfidf_matrix.toarray()[0]"
      ],
      "metadata": {
        "id": "o6qN3WOPhVnq"
      },
      "execution_count": null,
      "outputs": []
    },
    {
      "cell_type": "code",
      "source": [
        "sorted_keywords = [word for _, word in sorted(zip(tfidf_scores, feature_names), reverse=True)]"
      ],
      "metadata": {
        "id": "yScc6V_Omgr7"
      },
      "execution_count": null,
      "outputs": []
    },
    {
      "cell_type": "code",
      "source": [
        "print(\"Топ 10 ключевых униграм для рейтинга 1:\", sorted_keywords[0:10])"
      ],
      "metadata": {
        "colab": {
          "base_uri": "https://localhost:8080/"
        },
        "id": "OmBGt6nhmhXZ",
        "outputId": "db69960f-0531-4aa2-9bf9-df0ae76bc8c8"
      },
      "execution_count": null,
      "outputs": [
        {
          "output_type": "stream",
          "name": "stdout",
          "text": [
            "Топ 10 ключевых униграм для рейтинга 1: [',', 'расследование', 'заявлению', 'камер', 'ситифон', 'проведено', 'в', 'моему', '.', 'дней']\n"
          ]
        }
      ]
    },
    {
      "cell_type": "code",
      "source": [],
      "metadata": {
        "id": "4rro0KrJpgTL"
      },
      "execution_count": null,
      "outputs": []
    },
    {
      "cell_type": "code",
      "source": [
        "tfidf_vectorizer = TfidfVectorizer(ngram_range=(2, 2), tokenizer=word_tokenize)"
      ],
      "metadata": {
        "id": "jYSX0CDymyBu"
      },
      "execution_count": null,
      "outputs": []
    },
    {
      "cell_type": "code",
      "source": [
        "tfidf_matrix = tfidf_vectorizer.fit_transform(text_small_1)"
      ],
      "metadata": {
        "id": "f3vtUwJAn3sS"
      },
      "execution_count": null,
      "outputs": []
    },
    {
      "cell_type": "code",
      "source": [
        "feature_names = tfidf_vectorizer.get_feature_names_out()\n",
        "tfidf_scores = tfidf_matrix.toarray()[0]"
      ],
      "metadata": {
        "id": "YDYfuoq5n5SW"
      },
      "execution_count": null,
      "outputs": []
    },
    {
      "cell_type": "code",
      "source": [
        "sorted_keywords = [word for _, word in sorted(zip(tfidf_scores, feature_names), reverse=True)]"
      ],
      "metadata": {
        "id": "w5o1hYWmn6hx"
      },
      "execution_count": null,
      "outputs": []
    },
    {
      "cell_type": "code",
      "source": [
        "print(\"Топ 10 ключевых биграм для рейтинга 1:\", sorted_keywords[0:10])"
      ],
      "metadata": {
        "colab": {
          "base_uri": "https://localhost:8080/"
        },
        "id": "mx_gL_NFnf6z",
        "outputId": "5e00e97c-0e17-477a-fcc2-34a985f7ef2a"
      },
      "execution_count": null,
      "outputs": [
        {
          "output_type": "stream",
          "name": "stdout",
          "text": [
            "Топ 10 ключевых биграм для рейтинга 1: ['моему заявлению', 'результате которого', 'камер ,', 'в ситифон', 'по моему', 'расследование ,', 'установлено несколько', 'уже состоялась', 'удержание банком', 'таким вопиющим']\n"
          ]
        }
      ]
    },
    {
      "cell_type": "code",
      "source": [],
      "metadata": {
        "id": "nd5g88e7pk_l"
      },
      "execution_count": null,
      "outputs": []
    },
    {
      "cell_type": "code",
      "source": [
        "df_small_5 = df_small[df_small['rating_grade'] == 5]"
      ],
      "metadata": {
        "id": "MLEPOlXvpZPK"
      },
      "execution_count": null,
      "outputs": []
    },
    {
      "cell_type": "code",
      "source": [
        "text_small_5 = df_small_5['text']"
      ],
      "metadata": {
        "id": "8f2mwJ-0pmC9"
      },
      "execution_count": null,
      "outputs": []
    },
    {
      "cell_type": "code",
      "source": [
        "tfidf_vectorizer = TfidfVectorizer(ngram_range=(1, 1), tokenizer=word_tokenize)"
      ],
      "metadata": {
        "id": "iNvQSjzAppyZ"
      },
      "execution_count": null,
      "outputs": []
    },
    {
      "cell_type": "code",
      "source": [
        "tfidf_matrix = tfidf_vectorizer.fit_transform(text_small_5)"
      ],
      "metadata": {
        "id": "jIUAMN2eprbm"
      },
      "execution_count": null,
      "outputs": []
    },
    {
      "cell_type": "code",
      "source": [
        "feature_names = tfidf_vectorizer.get_feature_names_out()\n",
        "tfidf_scores = tfidf_matrix.toarray()[0]"
      ],
      "metadata": {
        "id": "OWSha2bWps2y"
      },
      "execution_count": null,
      "outputs": []
    },
    {
      "cell_type": "code",
      "source": [
        "sorted_keywords = [word for _, word in sorted(zip(tfidf_scores, feature_names), reverse=True)]"
      ],
      "metadata": {
        "id": "UuqKpUYKpt7m"
      },
      "execution_count": null,
      "outputs": []
    },
    {
      "cell_type": "code",
      "source": [
        "print(\"Топ 10 ключевых униграм для рейтинга 5:\", sorted_keywords[0:10])"
      ],
      "metadata": {
        "colab": {
          "base_uri": "https://localhost:8080/"
        },
        "id": "xdB9WD05pvcb",
        "outputId": "f038ac9f-c6dc-47be-e12b-46b23553cafe"
      },
      "execution_count": null,
      "outputs": [
        {
          "output_type": "stream",
          "name": "stdout",
          "text": [
            "Топ 10 ключевых униграм для рейтинга 5: ['.', 'выдачей', 'кредита', 'юлии', 'втб24', 'оформили', 'никаких', 'сторонними', 'расходов', 'подачей']\n"
          ]
        }
      ]
    },
    {
      "cell_type": "code",
      "source": [],
      "metadata": {
        "id": "NyCRKaa4qns-"
      },
      "execution_count": null,
      "outputs": []
    },
    {
      "cell_type": "code",
      "source": [
        "tfidf_vectorizer = TfidfVectorizer(ngram_range=(2, 2), tokenizer=word_tokenize)"
      ],
      "metadata": {
        "id": "XWqLgL-vqlAO"
      },
      "execution_count": null,
      "outputs": []
    },
    {
      "cell_type": "code",
      "source": [
        "tfidf_matrix = tfidf_vectorizer.fit_transform(text_small_5)"
      ],
      "metadata": {
        "id": "GTAys1tZsEcf"
      },
      "execution_count": null,
      "outputs": []
    },
    {
      "cell_type": "code",
      "source": [
        "feature_names = tfidf_vectorizer.get_feature_names_out()\n",
        "tfidf_scores = tfidf_matrix.toarray()[0]"
      ],
      "metadata": {
        "id": "sFlFRvjZsHmz"
      },
      "execution_count": null,
      "outputs": []
    },
    {
      "cell_type": "code",
      "source": [
        "sorted_keywords = [word for _, word in sorted(zip(tfidf_scores, feature_names), reverse=True)]"
      ],
      "metadata": {
        "id": "my4CC6PNsLvN"
      },
      "execution_count": null,
      "outputs": []
    },
    {
      "cell_type": "code",
      "source": [
        "print(\"Топ 10 ключевых биграм для рейтинга 5:\", sorted_keywords[0:10])"
      ],
      "metadata": {
        "colab": {
          "base_uri": "https://localhost:8080/"
        },
        "id": "93oaqhWPsPH1",
        "outputId": "a361ea84-693c-497d-b698-dbe9d01b9403"
      },
      "execution_count": null,
      "outputs": [
        {
          "output_type": "stream",
          "name": "stdout",
          "text": [
            "Топ 10 ключевых биграм для рейтинга 5: ['выдачей кредита', 'не нужно', 'является сейчас', 'юлия подробно', 'юлии анатольевне', 'этого специалиста', 'что сомнений', 'что никуда', 'ходить и', 'условий юлия']\n"
          ]
        }
      ]
    },
    {
      "cell_type": "markdown",
      "source": [
        "# **Часть 2. Тематическое моделирование**"
      ],
      "metadata": {
        "id": "anWd7F9bsZZO"
      }
    },
    {
      "cell_type": "markdown",
      "source": [
        "**1. Постройте несколько тематических моделей коллекции документов с разным числом тем. Приведите примеры понятных (интерпретируемых) тем.**"
      ],
      "metadata": {
        "id": "jzQ6EmgosfW_"
      }
    },
    {
      "cell_type": "code",
      "source": [
        "from gensim.corpora import Dictionary\n",
        "from gensim.models import TfidfModel\n",
        "from gensim import similarities"
      ],
      "metadata": {
        "id": "tPZ_i4H9smTs"
      },
      "execution_count": null,
      "outputs": []
    },
    {
      "cell_type": "code",
      "source": [
        "list_lem"
      ],
      "metadata": {
        "colab": {
          "base_uri": "https://localhost:8080/"
        },
        "id": "fFhMNtQ4I3F1",
        "outputId": "651d65ef-195f-465a-dd9c-ced0b8f9b5e6"
      },
      "execution_count": null,
      "outputs": [
        {
          "output_type": "execute_result",
          "data": {
            "text/plain": [
              "0       здравствуйте хотеться выразить благодарность б...\n",
              "1       уважаемый представитель департамент работа про...\n",
              "2       здравствуйте столкнуться ситуация год взять ип...\n",
              "3       июнь москва отделение адрес смоленский сенной ...\n",
              "4       история очень долгий прийти банк маязакрывать ...\n",
              "                              ...                        \n",
              "9995    здравствуйте являться клиент росбанк очень быс...\n",
              "9996    примерно ч адрес нижний новгород ул минин дале...\n",
              "9997    февраль год взять потребительский кредит оформ...\n",
              "9998    добрый день ноябрь год оплата штраф гибдд прои...\n",
              "9999    добрый день март год ваш колл центр подать пре...\n",
              "Name: text, Length: 10000, dtype: object"
            ]
          },
          "metadata": {},
          "execution_count": 80
        }
      ]
    },
    {
      "cell_type": "code",
      "source": [
        "texts = [text.split() for text in list_lem]\n",
        "dictionary = Dictionary(texts)\n",
        "corpus = [dictionary.doc2bow(text) for text in texts]"
      ],
      "metadata": {
        "id": "QeyzB3mFIyE1"
      },
      "execution_count": null,
      "outputs": []
    },
    {
      "cell_type": "code",
      "source": [
        "tfidf = TfidfModel(corpus)\n",
        "corpus_tfidf = tfidf[corpus]"
      ],
      "metadata": {
        "id": "9fIptjqQJDPF"
      },
      "execution_count": null,
      "outputs": []
    },
    {
      "cell_type": "code",
      "source": [
        "index = similarities.MatrixSimilarity(corpus_tfidf)\n",
        "sims = index[corpus_tfidf]"
      ],
      "metadata": {
        "colab": {
          "base_uri": "https://localhost:8080/"
        },
        "id": "MbyC5gQKOZlI",
        "outputId": "dc94f5af-1648-42f9-adaa-f22b879514de"
      },
      "execution_count": null,
      "outputs": [
        {
          "output_type": "stream",
          "name": "stderr",
          "text": [
            "WARNING:gensim.similarities.docsim:scanning corpus to determine the number of features (consider setting `num_features` explicitly)\n"
          ]
        }
      ]
    },
    {
      "cell_type": "code",
      "source": [
        "from gensim.models import lsimodel"
      ],
      "metadata": {
        "id": "DMdWOxwzO0KH"
      },
      "execution_count": null,
      "outputs": []
    },
    {
      "cell_type": "markdown",
      "source": [
        "- 5 тем"
      ],
      "metadata": {
        "id": "l-DuaGMxPHSz"
      }
    },
    {
      "cell_type": "code",
      "source": [
        "lsi = lsimodel.LsiModel(corpus=corpus_tfidf, id2word=dictionary, num_topics=5)"
      ],
      "metadata": {
        "id": "yXLHiTvtO1Ne"
      },
      "execution_count": null,
      "outputs": []
    },
    {
      "cell_type": "code",
      "source": [
        "lsi.show_topics(5)"
      ],
      "metadata": {
        "colab": {
          "base_uri": "https://localhost:8080/"
        },
        "id": "xo1Ol9pJO8B_",
        "outputId": "839780e9-f25d-42cf-d65c-31cf2119e34b"
      },
      "execution_count": null,
      "outputs": [
        {
          "output_type": "execute_result",
          "data": {
            "text/plain": [
              "[(0,\n",
              "  '0.197*\"карта\" + 0.141*\"кредит\" + 0.116*\"деньга\" + 0.112*\"вклад\" + 0.110*\"счёт\" + 0.104*\"сумма\" + 0.101*\"заявление\" + 0.100*\"сотрудник\" + 0.099*\"платёж\" + 0.098*\"отделение\"'),\n",
              " (1,\n",
              "  '0.299*\"вклад\" + -0.242*\"звонок\" + -0.230*\"номер\" + 0.222*\"карта\" + -0.199*\"кредит\" + -0.175*\"ваш\" + -0.148*\"телефон\" + -0.134*\"звонить\" + -0.123*\"данные\" + 0.123*\"деньга\"'),\n",
              " (2,\n",
              "  '0.616*\"вклад\" + -0.235*\"карта\" + 0.168*\"ставка\" + -0.153*\"банкомат\" + 0.139*\"договор\" + -0.136*\"сбербанк\" + 0.133*\"условие\" + 0.112*\"пополнение\" + 0.110*\"процент\" + -0.109*\"средство\"'),\n",
              " (3,\n",
              "  '-0.344*\"страховка\" + -0.316*\"кредит\" + -0.258*\"страхование\" + 0.227*\"номер\" + 0.219*\"вклад\" + 0.155*\"звонок\" + -0.141*\"договор\" + -0.134*\"страховой\" + -0.129*\"платёж\" + 0.129*\"телефон\"'),\n",
              " (4,\n",
              "  '0.225*\"вклад\" + 0.194*\"договор\" + 0.185*\"средство\" + -0.161*\"заявка\" + 0.160*\"денежный\" + 0.157*\"сумма\" + 0.138*\"счёт\" + -0.137*\"отделение\" + 0.134*\"руб\" + 0.128*\"рубль\"')]"
            ]
          },
          "metadata": {},
          "execution_count": 91
        }
      ]
    },
    {
      "cell_type": "markdown",
      "source": [
        "1. Кредитная карта\n",
        "2. Вклад онлайн, без звонка\n",
        "3. Условия по вкладам\n",
        "4. Телефонная консультация по вкладам\n",
        "5. Обращение по конкретному вкладу"
      ],
      "metadata": {
        "id": "p-Cia7mUPJzy"
      }
    },
    {
      "cell_type": "markdown",
      "source": [
        "- 10 тем"
      ],
      "metadata": {
        "id": "agoZJmcsQp3x"
      }
    },
    {
      "cell_type": "code",
      "source": [
        "lsi = lsimodel.LsiModel(corpus=corpus_tfidf, id2word=dictionary, num_topics=25)"
      ],
      "metadata": {
        "id": "5WL__vl0QsQw"
      },
      "execution_count": null,
      "outputs": []
    },
    {
      "cell_type": "code",
      "source": [
        "lsi.show_topics(5)"
      ],
      "metadata": {
        "colab": {
          "base_uri": "https://localhost:8080/"
        },
        "id": "l0iL5fc1QxHI",
        "outputId": "972489c5-9b63-476a-da26-2eaf19528a7d"
      },
      "execution_count": null,
      "outputs": [
        {
          "output_type": "execute_result",
          "data": {
            "text/plain": [
              "[(0,\n",
              "  '0.197*\"карта\" + 0.141*\"кредит\" + 0.116*\"деньга\" + 0.112*\"вклад\" + 0.110*\"счёт\" + 0.104*\"сумма\" + 0.101*\"заявление\" + 0.100*\"сотрудник\" + 0.099*\"платёж\" + 0.098*\"отделение\"'),\n",
              " (1,\n",
              "  '-0.299*\"вклад\" + 0.242*\"звонок\" + 0.230*\"номер\" + -0.221*\"карта\" + 0.199*\"кредит\" + 0.175*\"ваш\" + 0.148*\"телефон\" + 0.134*\"звонить\" + -0.123*\"деньга\" + 0.123*\"данные\"'),\n",
              " (2,\n",
              "  '0.615*\"вклад\" + -0.236*\"карта\" + 0.169*\"ставка\" + -0.153*\"банкомат\" + 0.139*\"договор\" + -0.136*\"сбербанк\" + 0.133*\"условие\" + 0.112*\"пополнение\" + 0.110*\"процент\" + -0.109*\"средство\"'),\n",
              " (3,\n",
              "  '0.344*\"страховка\" + 0.315*\"кредит\" + 0.259*\"страхование\" + -0.226*\"номер\" + -0.219*\"вклад\" + -0.156*\"звонок\" + 0.141*\"договор\" + 0.135*\"страховой\" + 0.131*\"платёж\" + -0.128*\"телефон\"'),\n",
              " (4,\n",
              "  '0.223*\"вклад\" + 0.195*\"договор\" + 0.186*\"средство\" + 0.161*\"денежный\" + -0.160*\"заявка\" + 0.157*\"сумма\" + 0.137*\"счёт\" + -0.133*\"отделение\" + 0.131*\"руб\" + 0.128*\"рубль\"')]"
            ]
          },
          "metadata": {},
          "execution_count": 99
        }
      ]
    },
    {
      "cell_type": "markdown",
      "source": [
        "1. Кредитная карта\n",
        "2. Телефонная консультация по кредиту\n",
        "3. Обращение по страхованию вклада\n",
        "4. Обращение по страхованию кредита\n",
        "5. Обращение по конкретному вкладу"
      ],
      "metadata": {
        "id": "TMNp3wwkRQtJ"
      }
    },
    {
      "cell_type": "markdown",
      "source": [
        "**2. Найдите темы, в которых упомянуты конкретные банки (Сбербанк, ВТБ, другой банк). Можете ли вы их прокомментировать / объяснить? Эта часть задания может быть сделана с использованием gensim.**"
      ],
      "metadata": {
        "id": "yJzuEBosSCd0"
      }
    },
    {
      "cell_type": "code",
      "source": [
        "lsi = lsimodel.LsiModel(corpus=corpus_tfidf, id2word=dictionary, num_topics=50)"
      ],
      "metadata": {
        "id": "VPnRzwASSFNG"
      },
      "execution_count": null,
      "outputs": []
    },
    {
      "cell_type": "code",
      "source": [
        "sber = []\n",
        "search = 'сбербанк'\n",
        "for n, i in lsi.show_topics(50):\n",
        "  if search in i:\n",
        "    sber.append(i)"
      ],
      "metadata": {
        "id": "CG7oDscUU9U0"
      },
      "execution_count": null,
      "outputs": []
    },
    {
      "cell_type": "code",
      "source": [
        "sber"
      ],
      "metadata": {
        "colab": {
          "base_uri": "https://localhost:8080/"
        },
        "id": "fwgez-r5W3og",
        "outputId": "7fec2f1b-f72b-43f6-d807-064c3d44fb74"
      },
      "execution_count": null,
      "outputs": [
        {
          "output_type": "execute_result",
          "data": {
            "text/plain": [
              "['-0.615*\"вклад\" + 0.236*\"карта\" + -0.169*\"ставка\" + 0.152*\"банкомат\" + -0.139*\"договор\" + 0.136*\"сбербанк\" + -0.132*\"условие\" + -0.113*\"пополнение\" + -0.110*\"процент\" + 0.109*\"средство\"',\n",
              " '0.248*\"страхование\" + -0.232*\"платёж\" + 0.228*\"страховка\" + 0.194*\"сбербанк\" + -0.172*\"просрочка\" + -0.169*\"задолженность\" + 0.154*\"заявление\" + -0.139*\"платить\" + 0.139*\"страховой\" + 0.137*\"денежный\"',\n",
              " '-0.511*\"банкомат\" + -0.236*\"страховка\" + -0.175*\"комиссия\" + -0.144*\"деньга\" + -0.143*\"рубль\" + -0.124*\"купюра\" + 0.118*\"сбербанк\" + -0.118*\"страхование\" + 0.118*\"киви\" + 0.117*\"кошелёк\"',\n",
              " '0.324*\"киви\" + 0.292*\"кошелёк\" + 0.216*\"перевод\" + -0.213*\"банкомат\" + -0.181*\"сбербанк\" + -0.179*\"заявление\" + -0.175*\"отделение\" + 0.161*\"страховка\" + 0.158*\"комиссия\" + -0.155*\"карта\"',\n",
              " '0.517*\"сбербанк\" + -0.305*\"заявка\" + -0.225*\"банкомат\" + 0.151*\"страховка\" + -0.144*\"кредитный\" + -0.139*\"лимит\" + 0.132*\"онлайн\" + -0.119*\"альфа\" + 0.107*\"вклад\" + -0.106*\"рассмотрение\"',\n",
              " '0.292*\"курс\" + 0.256*\"счёт\" + -0.238*\"банкомат\" + 0.207*\"комиссия\" + -0.186*\"сбербанк\" + -0.167*\"киви\" + -0.152*\"карта\" + 0.152*\"евро\" + -0.147*\"кошелёк\" + 0.130*\"валюта\"',\n",
              " '0.243*\"сбербанк\" + 0.231*\"р\" + -0.203*\"услуга\" + 0.203*\"персональный\" + 0.196*\"заявка\" + 0.179*\"обработка\" + 0.167*\"данные\" + -0.161*\"страхование\" + 0.143*\"кредит\" + 0.143*\"согласие\"',\n",
              " '-0.274*\"сбербанк\" + 0.193*\"руб\" + -0.171*\"перевод\" + 0.158*\"досрочный\" + 0.157*\"офис\" + 0.156*\"погашение\" + -0.148*\"заявка\" + 0.135*\"договор\" + 0.132*\"киви\" + -0.131*\"денежный\"',\n",
              " '0.276*\"комиссия\" + -0.263*\"курс\" + -0.221*\"рубль\" + 0.168*\"сбербанк\" + 0.159*\"перевод\" + 0.148*\"платёж\" + 0.143*\"руб\" + -0.140*\"страховка\" + 0.130*\"услуга\" + -0.120*\"евро\"',\n",
              " '0.535*\"руб\" + 0.269*\"комиссия\" + 0.171*\"киви\" + -0.149*\"р\" + -0.144*\"услуга\" + 0.141*\"кошелёк\" + 0.133*\"сбербанк\" + -0.129*\"телебанк\" + -0.127*\"счёт\" + -0.122*\"перевод\"',\n",
              " '-0.564*\"альфа\" + 0.259*\"средство\" + 0.240*\"денежный\" + 0.179*\"ваш\" + -0.172*\"терминал\" + -0.171*\"сбербанк\" + 0.155*\"р\" + -0.149*\"рубль\" + -0.146*\"счёт\" + -0.144*\"претензия\"',\n",
              " '-0.243*\"линия\" + -0.241*\"горячий\" + 0.188*\"документ\" + -0.174*\"р\" + 0.168*\"рубль\" + 0.163*\"номер\" + -0.157*\"курс\" + 0.138*\"ставка\" + -0.120*\"ваш\" + -0.117*\"сбербанк\"',\n",
              " '0.204*\"стандарт\" + 0.203*\"русский\" + -0.190*\"перевод\" + -0.171*\"рубль\" + -0.154*\"пополнение\" + 0.149*\"страхование\" + -0.144*\"договор\" + 0.144*\"подарок\" + -0.127*\"благодарность\" + 0.125*\"сбербанк\"']"
            ]
          },
          "metadata": {},
          "execution_count": 137
        }
      ]
    },
    {
      "cell_type": "code",
      "source": [
        "vtb = []\n",
        "search = 'втб'\n",
        "for n, i in lsi.show_topics(50):\n",
        "  if search in i:\n",
        "    vtb.append(i)"
      ],
      "metadata": {
        "id": "64OtpUDEXgFK"
      },
      "execution_count": null,
      "outputs": []
    },
    {
      "cell_type": "code",
      "source": [
        "vtb"
      ],
      "metadata": {
        "colab": {
          "base_uri": "https://localhost:8080/"
        },
        "id": "RKXz3zd2Xm8u",
        "outputId": "6613bbe5-fb95-4a6a-aab9-b2e1245e1eed"
      },
      "execution_count": null,
      "outputs": [
        {
          "output_type": "execute_result",
          "data": {
            "text/plain": [
              "['0.336*\"терминал\" + -0.193*\"втб\" + 0.192*\"ваш\" + 0.183*\"заявление\" + -0.177*\"альфа\" + 0.162*\"заявка\" + -0.160*\"документ\" + 0.150*\"стандарт\" + 0.143*\"русский\" + -0.138*\"банкомат\"',\n",
              " '0.216*\"втб\" + -0.213*\"заявление\" + 0.191*\"терминал\" + -0.180*\"перевод\" + -0.176*\"сч\" + 0.171*\"стандарт\" + 0.165*\"русский\" + 0.154*\"комиссия\" + -0.152*\"связный\" + -0.146*\"заявка\"',\n",
              " '-0.353*\"сч\" + 0.224*\"справка\" + 0.177*\"перевод\" + -0.165*\"заявление\" + 0.159*\"подарок\" + -0.144*\"втб\" + 0.140*\"рубль\" + -0.126*\"списание\" + 0.113*\"услуга\" + 0.111*\"письмо\"',\n",
              " '0.246*\"страхование\" + -0.203*\"втб\" + 0.170*\"офис\" + 0.160*\"ставка\" + 0.157*\"май\" + -0.138*\"менеджер\" + -0.135*\"страховка\" + -0.125*\"телебанк\" + -0.124*\"процент\" + -0.123*\"услуга\"',\n",
              " '0.202*\"процент\" + -0.193*\"центр\" + 0.186*\"горячий\" + 0.182*\"линия\" + 0.181*\"деньга\" + 0.178*\"выписка\" + -0.157*\"колл\" + -0.156*\"втб\" + 0.135*\"задолженность\" + 0.132*\"депозит\"',\n",
              " '0.255*\"втб\" + 0.254*\"связный\" + -0.209*\"поддержка\" + -0.199*\"служба\" + 0.184*\"номер\" + -0.161*\"договор\" + 0.151*\"процент\" + -0.129*\"средство\" + -0.124*\"справка\" + -0.121*\"денежный\"']"
            ]
          },
          "metadata": {},
          "execution_count": 139
        }
      ]
    },
    {
      "cell_type": "markdown",
      "source": [
        "Темы разные. Допустим в первой теме по Сберу обсуждаются банкоматы Сбербанка, а в во второй теме ВТБ обсуждается комиссия за снятия в банке русский стандарт"
      ],
      "metadata": {
        "id": "3EwNeLEwX6IC"
      }
    },
    {
      "cell_type": "markdown",
      "source": [
        "# **Часть 3. Классификация текстов**"
      ],
      "metadata": {
        "id": "sG8rIIepYZ9P"
      }
    },
    {
      "cell_type": "markdown",
      "source": [
        "**Сформулируем для простоты задачу бинарной классификации: будем классифицировать на два класса, то есть, различать резко отрицательные отзывы (с оценкой 1) и положительные отзывы (с оценкой 5).**"
      ],
      "metadata": {
        "id": "iRFzkkOgZDl5"
      }
    },
    {
      "cell_type": "markdown",
      "source": [
        "**1. Составьте обучающее и тестовое множество: выберите из всего набора данных N1 отзывов с оценкой 1 и N2 отзывов с оценкой 5 (значение N1 и N2 – на ваше усмотрение). Используйте sklearn.model_selection.train_test_split для разделения множества отобранных документов на обучающее и тестовое.**"
      ],
      "metadata": {
        "id": "A8r0u6LBZFk0"
      }
    },
    {
      "cell_type": "code",
      "source": [
        "df_3 = df_small[df_small['rating_grade'].isin([1,5])]"
      ],
      "metadata": {
        "id": "UZkzmxhyYj6Y"
      },
      "execution_count": null,
      "outputs": []
    },
    {
      "cell_type": "code",
      "source": [
        "df_3.info()"
      ],
      "metadata": {
        "colab": {
          "base_uri": "https://localhost:8080/"
        },
        "id": "795Ey-kLYxUd",
        "outputId": "0fc3289c-1f34-44ba-acbc-4e07eb8163d1"
      },
      "execution_count": null,
      "outputs": [
        {
          "output_type": "stream",
          "name": "stdout",
          "text": [
            "<class 'pandas.core.frame.DataFrame'>\n",
            "Index: 4748 entries, 0 to 9998\n",
            "Data columns (total 10 columns):\n",
            " #   Column              Non-Null Count  Dtype         \n",
            "---  ------              --------------  -----         \n",
            " 0   city                4748 non-null   object        \n",
            " 1   rating_not_checked  4748 non-null   bool          \n",
            " 2   title               4748 non-null   object        \n",
            " 3   num_comments        4748 non-null   int64         \n",
            " 4   bank_license        4746 non-null   object        \n",
            " 5   author              4748 non-null   object        \n",
            " 6   bank_name           4748 non-null   object        \n",
            " 7   datetime            4748 non-null   datetime64[ns]\n",
            " 8   text                4748 non-null   object        \n",
            " 9   rating_grade        4748 non-null   float64       \n",
            "dtypes: bool(1), datetime64[ns](1), float64(1), int64(1), object(6)\n",
            "memory usage: 375.6+ KB\n"
          ]
        }
      ]
    },
    {
      "cell_type": "code",
      "source": [
        "from sklearn.model_selection import train_test_split"
      ],
      "metadata": {
        "id": "BtOalOMHZQDB"
      },
      "execution_count": null,
      "outputs": []
    },
    {
      "cell_type": "code",
      "source": [
        "x_train, x_test, y_train, y_test = train_test_split(df_3.text, df_3.rating_grade, test_size=0.3)"
      ],
      "metadata": {
        "id": "4BJhfSmbZQ1h"
      },
      "execution_count": null,
      "outputs": []
    },
    {
      "cell_type": "markdown",
      "source": [
        "**2. Используйте любой известный вам алгоритм классификации текстов для решения задачи и получите baseline. Сравните разные варианты векторизации текста: использование только униграм, пар или троек слов или с использованием символьных n-грам.**"
      ],
      "metadata": {
        "id": "mQFgDXo3ZmTK"
      }
    },
    {
      "cell_type": "code",
      "source": [
        "from sklearn.linear_model import LogisticRegression\n",
        "from sklearn.feature_extraction.text import CountVectorizer\n",
        "from sklearn.metrics import *"
      ],
      "metadata": {
        "id": "6kOa3VMIZd7H"
      },
      "execution_count": null,
      "outputs": []
    },
    {
      "cell_type": "code",
      "source": [
        "vec = CountVectorizer(ngram_range=(1, 1))\n",
        "bow = vec.fit_transform(x_train) # bow -- bag of words (мешок слов)"
      ],
      "metadata": {
        "id": "JFwYjK3BaBoJ"
      },
      "execution_count": null,
      "outputs": []
    },
    {
      "cell_type": "code",
      "source": [
        "clf = LogisticRegression(random_state=42, solver='liblinear')\n",
        "clf.fit(bow, y_train)"
      ],
      "metadata": {
        "colab": {
          "base_uri": "https://localhost:8080/",
          "height": 75
        },
        "id": "q2VdJnKhaTjK",
        "outputId": "984e6e1b-2504-4151-a157-6594fd5250de"
      },
      "execution_count": null,
      "outputs": [
        {
          "output_type": "execute_result",
          "data": {
            "text/plain": [
              "LogisticRegression(random_state=42, solver='liblinear')"
            ],
            "text/html": [
              "<style>#sk-container-id-16 {color: black;background-color: white;}#sk-container-id-16 pre{padding: 0;}#sk-container-id-16 div.sk-toggleable {background-color: white;}#sk-container-id-16 label.sk-toggleable__label {cursor: pointer;display: block;width: 100%;margin-bottom: 0;padding: 0.3em;box-sizing: border-box;text-align: center;}#sk-container-id-16 label.sk-toggleable__label-arrow:before {content: \"▸\";float: left;margin-right: 0.25em;color: #696969;}#sk-container-id-16 label.sk-toggleable__label-arrow:hover:before {color: black;}#sk-container-id-16 div.sk-estimator:hover label.sk-toggleable__label-arrow:before {color: black;}#sk-container-id-16 div.sk-toggleable__content {max-height: 0;max-width: 0;overflow: hidden;text-align: left;background-color: #f0f8ff;}#sk-container-id-16 div.sk-toggleable__content pre {margin: 0.2em;color: black;border-radius: 0.25em;background-color: #f0f8ff;}#sk-container-id-16 input.sk-toggleable__control:checked~div.sk-toggleable__content {max-height: 200px;max-width: 100%;overflow: auto;}#sk-container-id-16 input.sk-toggleable__control:checked~label.sk-toggleable__label-arrow:before {content: \"▾\";}#sk-container-id-16 div.sk-estimator input.sk-toggleable__control:checked~label.sk-toggleable__label {background-color: #d4ebff;}#sk-container-id-16 div.sk-label input.sk-toggleable__control:checked~label.sk-toggleable__label {background-color: #d4ebff;}#sk-container-id-16 input.sk-hidden--visually {border: 0;clip: rect(1px 1px 1px 1px);clip: rect(1px, 1px, 1px, 1px);height: 1px;margin: -1px;overflow: hidden;padding: 0;position: absolute;width: 1px;}#sk-container-id-16 div.sk-estimator {font-family: monospace;background-color: #f0f8ff;border: 1px dotted black;border-radius: 0.25em;box-sizing: border-box;margin-bottom: 0.5em;}#sk-container-id-16 div.sk-estimator:hover {background-color: #d4ebff;}#sk-container-id-16 div.sk-parallel-item::after {content: \"\";width: 100%;border-bottom: 1px solid gray;flex-grow: 1;}#sk-container-id-16 div.sk-label:hover label.sk-toggleable__label {background-color: #d4ebff;}#sk-container-id-16 div.sk-serial::before {content: \"\";position: absolute;border-left: 1px solid gray;box-sizing: border-box;top: 0;bottom: 0;left: 50%;z-index: 0;}#sk-container-id-16 div.sk-serial {display: flex;flex-direction: column;align-items: center;background-color: white;padding-right: 0.2em;padding-left: 0.2em;position: relative;}#sk-container-id-16 div.sk-item {position: relative;z-index: 1;}#sk-container-id-16 div.sk-parallel {display: flex;align-items: stretch;justify-content: center;background-color: white;position: relative;}#sk-container-id-16 div.sk-item::before, #sk-container-id-16 div.sk-parallel-item::before {content: \"\";position: absolute;border-left: 1px solid gray;box-sizing: border-box;top: 0;bottom: 0;left: 50%;z-index: -1;}#sk-container-id-16 div.sk-parallel-item {display: flex;flex-direction: column;z-index: 1;position: relative;background-color: white;}#sk-container-id-16 div.sk-parallel-item:first-child::after {align-self: flex-end;width: 50%;}#sk-container-id-16 div.sk-parallel-item:last-child::after {align-self: flex-start;width: 50%;}#sk-container-id-16 div.sk-parallel-item:only-child::after {width: 0;}#sk-container-id-16 div.sk-dashed-wrapped {border: 1px dashed gray;margin: 0 0.4em 0.5em 0.4em;box-sizing: border-box;padding-bottom: 0.4em;background-color: white;}#sk-container-id-16 div.sk-label label {font-family: monospace;font-weight: bold;display: inline-block;line-height: 1.2em;}#sk-container-id-16 div.sk-label-container {text-align: center;}#sk-container-id-16 div.sk-container {/* jupyter's `normalize.less` sets `[hidden] { display: none; }` but bootstrap.min.css set `[hidden] { display: none !important; }` so we also need the `!important` here to be able to override the default hidden behavior on the sphinx rendered scikit-learn.org. See: https://github.com/scikit-learn/scikit-learn/issues/21755 */display: inline-block !important;position: relative;}#sk-container-id-16 div.sk-text-repr-fallback {display: none;}</style><div id=\"sk-container-id-16\" class=\"sk-top-container\"><div class=\"sk-text-repr-fallback\"><pre>LogisticRegression(random_state=42, solver=&#x27;liblinear&#x27;)</pre><b>In a Jupyter environment, please rerun this cell to show the HTML representation or trust the notebook. <br />On GitHub, the HTML representation is unable to render, please try loading this page with nbviewer.org.</b></div><div class=\"sk-container\" hidden><div class=\"sk-item\"><div class=\"sk-estimator sk-toggleable\"><input class=\"sk-toggleable__control sk-hidden--visually\" id=\"sk-estimator-id-47\" type=\"checkbox\" checked><label for=\"sk-estimator-id-47\" class=\"sk-toggleable__label sk-toggleable__label-arrow\">LogisticRegression</label><div class=\"sk-toggleable__content\"><pre>LogisticRegression(random_state=42, solver=&#x27;liblinear&#x27;)</pre></div></div></div></div></div>"
            ]
          },
          "metadata": {},
          "execution_count": 224
        }
      ]
    },
    {
      "cell_type": "code",
      "source": [
        "pred = clf.predict(vec.transform(x_test))\n",
        "print(classification_report(pred, y_test))"
      ],
      "metadata": {
        "colab": {
          "base_uri": "https://localhost:8080/"
        },
        "id": "JXM53rosaXnp",
        "outputId": "4ae06d25-55e9-4c5b-debe-a33278281fbd"
      },
      "execution_count": null,
      "outputs": [
        {
          "output_type": "stream",
          "name": "stdout",
          "text": [
            "              precision    recall  f1-score   support\n",
            "\n",
            "         1.0       0.99      0.96      0.98      1168\n",
            "         5.0       0.85      0.96      0.90       257\n",
            "\n",
            "    accuracy                           0.96      1425\n",
            "   macro avg       0.92      0.96      0.94      1425\n",
            "weighted avg       0.97      0.96      0.96      1425\n",
            "\n"
          ]
        }
      ]
    },
    {
      "cell_type": "code",
      "source": [
        "f1_score(y_test, pred, average=None)"
      ],
      "metadata": {
        "colab": {
          "base_uri": "https://localhost:8080/"
        },
        "id": "ClLAdrdtioc8",
        "outputId": "5a7e02e4-7069-4847-944e-0c4bccacf46d"
      },
      "execution_count": null,
      "outputs": [
        {
          "output_type": "execute_result",
          "data": {
            "text/plain": [
              "array([0.97700651, 0.90275229])"
            ]
          },
          "metadata": {},
          "execution_count": 226
        }
      ]
    },
    {
      "cell_type": "code",
      "source": [
        "vec = CountVectorizer(ngram_range=(2, 2))\n",
        "bow = vec.fit_transform(x_train) # bow -- bag of words (мешок слов)"
      ],
      "metadata": {
        "id": "3FHIPpuJbJAx"
      },
      "execution_count": null,
      "outputs": []
    },
    {
      "cell_type": "code",
      "source": [
        "clf.fit(bow, y_train)"
      ],
      "metadata": {
        "colab": {
          "base_uri": "https://localhost:8080/",
          "height": 75
        },
        "id": "1saTgJAEbNQV",
        "outputId": "a3d8e898-4e16-44d3-e019-3a0c43dba952"
      },
      "execution_count": null,
      "outputs": [
        {
          "output_type": "execute_result",
          "data": {
            "text/plain": [
              "LogisticRegression(random_state=42, solver='liblinear')"
            ],
            "text/html": [
              "<style>#sk-container-id-17 {color: black;background-color: white;}#sk-container-id-17 pre{padding: 0;}#sk-container-id-17 div.sk-toggleable {background-color: white;}#sk-container-id-17 label.sk-toggleable__label {cursor: pointer;display: block;width: 100%;margin-bottom: 0;padding: 0.3em;box-sizing: border-box;text-align: center;}#sk-container-id-17 label.sk-toggleable__label-arrow:before {content: \"▸\";float: left;margin-right: 0.25em;color: #696969;}#sk-container-id-17 label.sk-toggleable__label-arrow:hover:before {color: black;}#sk-container-id-17 div.sk-estimator:hover label.sk-toggleable__label-arrow:before {color: black;}#sk-container-id-17 div.sk-toggleable__content {max-height: 0;max-width: 0;overflow: hidden;text-align: left;background-color: #f0f8ff;}#sk-container-id-17 div.sk-toggleable__content pre {margin: 0.2em;color: black;border-radius: 0.25em;background-color: #f0f8ff;}#sk-container-id-17 input.sk-toggleable__control:checked~div.sk-toggleable__content {max-height: 200px;max-width: 100%;overflow: auto;}#sk-container-id-17 input.sk-toggleable__control:checked~label.sk-toggleable__label-arrow:before {content: \"▾\";}#sk-container-id-17 div.sk-estimator input.sk-toggleable__control:checked~label.sk-toggleable__label {background-color: #d4ebff;}#sk-container-id-17 div.sk-label input.sk-toggleable__control:checked~label.sk-toggleable__label {background-color: #d4ebff;}#sk-container-id-17 input.sk-hidden--visually {border: 0;clip: rect(1px 1px 1px 1px);clip: rect(1px, 1px, 1px, 1px);height: 1px;margin: -1px;overflow: hidden;padding: 0;position: absolute;width: 1px;}#sk-container-id-17 div.sk-estimator {font-family: monospace;background-color: #f0f8ff;border: 1px dotted black;border-radius: 0.25em;box-sizing: border-box;margin-bottom: 0.5em;}#sk-container-id-17 div.sk-estimator:hover {background-color: #d4ebff;}#sk-container-id-17 div.sk-parallel-item::after {content: \"\";width: 100%;border-bottom: 1px solid gray;flex-grow: 1;}#sk-container-id-17 div.sk-label:hover label.sk-toggleable__label {background-color: #d4ebff;}#sk-container-id-17 div.sk-serial::before {content: \"\";position: absolute;border-left: 1px solid gray;box-sizing: border-box;top: 0;bottom: 0;left: 50%;z-index: 0;}#sk-container-id-17 div.sk-serial {display: flex;flex-direction: column;align-items: center;background-color: white;padding-right: 0.2em;padding-left: 0.2em;position: relative;}#sk-container-id-17 div.sk-item {position: relative;z-index: 1;}#sk-container-id-17 div.sk-parallel {display: flex;align-items: stretch;justify-content: center;background-color: white;position: relative;}#sk-container-id-17 div.sk-item::before, #sk-container-id-17 div.sk-parallel-item::before {content: \"\";position: absolute;border-left: 1px solid gray;box-sizing: border-box;top: 0;bottom: 0;left: 50%;z-index: -1;}#sk-container-id-17 div.sk-parallel-item {display: flex;flex-direction: column;z-index: 1;position: relative;background-color: white;}#sk-container-id-17 div.sk-parallel-item:first-child::after {align-self: flex-end;width: 50%;}#sk-container-id-17 div.sk-parallel-item:last-child::after {align-self: flex-start;width: 50%;}#sk-container-id-17 div.sk-parallel-item:only-child::after {width: 0;}#sk-container-id-17 div.sk-dashed-wrapped {border: 1px dashed gray;margin: 0 0.4em 0.5em 0.4em;box-sizing: border-box;padding-bottom: 0.4em;background-color: white;}#sk-container-id-17 div.sk-label label {font-family: monospace;font-weight: bold;display: inline-block;line-height: 1.2em;}#sk-container-id-17 div.sk-label-container {text-align: center;}#sk-container-id-17 div.sk-container {/* jupyter's `normalize.less` sets `[hidden] { display: none; }` but bootstrap.min.css set `[hidden] { display: none !important; }` so we also need the `!important` here to be able to override the default hidden behavior on the sphinx rendered scikit-learn.org. See: https://github.com/scikit-learn/scikit-learn/issues/21755 */display: inline-block !important;position: relative;}#sk-container-id-17 div.sk-text-repr-fallback {display: none;}</style><div id=\"sk-container-id-17\" class=\"sk-top-container\"><div class=\"sk-text-repr-fallback\"><pre>LogisticRegression(random_state=42, solver=&#x27;liblinear&#x27;)</pre><b>In a Jupyter environment, please rerun this cell to show the HTML representation or trust the notebook. <br />On GitHub, the HTML representation is unable to render, please try loading this page with nbviewer.org.</b></div><div class=\"sk-container\" hidden><div class=\"sk-item\"><div class=\"sk-estimator sk-toggleable\"><input class=\"sk-toggleable__control sk-hidden--visually\" id=\"sk-estimator-id-48\" type=\"checkbox\" checked><label for=\"sk-estimator-id-48\" class=\"sk-toggleable__label sk-toggleable__label-arrow\">LogisticRegression</label><div class=\"sk-toggleable__content\"><pre>LogisticRegression(random_state=42, solver=&#x27;liblinear&#x27;)</pre></div></div></div></div></div>"
            ]
          },
          "metadata": {},
          "execution_count": 228
        }
      ]
    },
    {
      "cell_type": "code",
      "source": [
        "pred = clf.predict(vec.transform(x_test))\n",
        "print(classification_report(pred, y_test))"
      ],
      "metadata": {
        "colab": {
          "base_uri": "https://localhost:8080/"
        },
        "id": "G8t4B8fMbSCy",
        "outputId": "8bf944ea-fea4-445d-b035-b72a7bbebf49"
      },
      "execution_count": null,
      "outputs": [
        {
          "output_type": "stream",
          "name": "stdout",
          "text": [
            "              precision    recall  f1-score   support\n",
            "\n",
            "         1.0       1.00      0.92      0.96      1238\n",
            "         5.0       0.65      0.99      0.78       187\n",
            "\n",
            "    accuracy                           0.93      1425\n",
            "   macro avg       0.82      0.96      0.87      1425\n",
            "weighted avg       0.95      0.93      0.93      1425\n",
            "\n"
          ]
        }
      ]
    },
    {
      "cell_type": "code",
      "source": [
        "f1_score(y_test, pred, average=None)"
      ],
      "metadata": {
        "colab": {
          "base_uri": "https://localhost:8080/"
        },
        "id": "KlBBBvTGiyTi",
        "outputId": "79742b6c-d2c3-4ba5-f835-bcc1e622e8d8"
      },
      "execution_count": null,
      "outputs": [
        {
          "output_type": "execute_result",
          "data": {
            "text/plain": [
              "array([0.95663158, 0.78315789])"
            ]
          },
          "metadata": {},
          "execution_count": 230
        }
      ]
    },
    {
      "cell_type": "code",
      "source": [
        "vec = CountVectorizer(ngram_range=(3, 3))\n",
        "bow = vec.fit_transform(x_train) # bow -- bag of words (мешок слов)"
      ],
      "metadata": {
        "id": "B0gSSrO8bXzQ"
      },
      "execution_count": null,
      "outputs": []
    },
    {
      "cell_type": "code",
      "source": [
        "clf.fit(bow, y_train)"
      ],
      "metadata": {
        "colab": {
          "base_uri": "https://localhost:8080/",
          "height": 75
        },
        "id": "dl8NwZtvbcxf",
        "outputId": "51ebd3b9-5766-45a5-f75b-4eb83effc6cb"
      },
      "execution_count": null,
      "outputs": [
        {
          "output_type": "execute_result",
          "data": {
            "text/plain": [
              "LogisticRegression(random_state=42, solver='liblinear')"
            ],
            "text/html": [
              "<style>#sk-container-id-18 {color: black;background-color: white;}#sk-container-id-18 pre{padding: 0;}#sk-container-id-18 div.sk-toggleable {background-color: white;}#sk-container-id-18 label.sk-toggleable__label {cursor: pointer;display: block;width: 100%;margin-bottom: 0;padding: 0.3em;box-sizing: border-box;text-align: center;}#sk-container-id-18 label.sk-toggleable__label-arrow:before {content: \"▸\";float: left;margin-right: 0.25em;color: #696969;}#sk-container-id-18 label.sk-toggleable__label-arrow:hover:before {color: black;}#sk-container-id-18 div.sk-estimator:hover label.sk-toggleable__label-arrow:before {color: black;}#sk-container-id-18 div.sk-toggleable__content {max-height: 0;max-width: 0;overflow: hidden;text-align: left;background-color: #f0f8ff;}#sk-container-id-18 div.sk-toggleable__content pre {margin: 0.2em;color: black;border-radius: 0.25em;background-color: #f0f8ff;}#sk-container-id-18 input.sk-toggleable__control:checked~div.sk-toggleable__content {max-height: 200px;max-width: 100%;overflow: auto;}#sk-container-id-18 input.sk-toggleable__control:checked~label.sk-toggleable__label-arrow:before {content: \"▾\";}#sk-container-id-18 div.sk-estimator input.sk-toggleable__control:checked~label.sk-toggleable__label {background-color: #d4ebff;}#sk-container-id-18 div.sk-label input.sk-toggleable__control:checked~label.sk-toggleable__label {background-color: #d4ebff;}#sk-container-id-18 input.sk-hidden--visually {border: 0;clip: rect(1px 1px 1px 1px);clip: rect(1px, 1px, 1px, 1px);height: 1px;margin: -1px;overflow: hidden;padding: 0;position: absolute;width: 1px;}#sk-container-id-18 div.sk-estimator {font-family: monospace;background-color: #f0f8ff;border: 1px dotted black;border-radius: 0.25em;box-sizing: border-box;margin-bottom: 0.5em;}#sk-container-id-18 div.sk-estimator:hover {background-color: #d4ebff;}#sk-container-id-18 div.sk-parallel-item::after {content: \"\";width: 100%;border-bottom: 1px solid gray;flex-grow: 1;}#sk-container-id-18 div.sk-label:hover label.sk-toggleable__label {background-color: #d4ebff;}#sk-container-id-18 div.sk-serial::before {content: \"\";position: absolute;border-left: 1px solid gray;box-sizing: border-box;top: 0;bottom: 0;left: 50%;z-index: 0;}#sk-container-id-18 div.sk-serial {display: flex;flex-direction: column;align-items: center;background-color: white;padding-right: 0.2em;padding-left: 0.2em;position: relative;}#sk-container-id-18 div.sk-item {position: relative;z-index: 1;}#sk-container-id-18 div.sk-parallel {display: flex;align-items: stretch;justify-content: center;background-color: white;position: relative;}#sk-container-id-18 div.sk-item::before, #sk-container-id-18 div.sk-parallel-item::before {content: \"\";position: absolute;border-left: 1px solid gray;box-sizing: border-box;top: 0;bottom: 0;left: 50%;z-index: -1;}#sk-container-id-18 div.sk-parallel-item {display: flex;flex-direction: column;z-index: 1;position: relative;background-color: white;}#sk-container-id-18 div.sk-parallel-item:first-child::after {align-self: flex-end;width: 50%;}#sk-container-id-18 div.sk-parallel-item:last-child::after {align-self: flex-start;width: 50%;}#sk-container-id-18 div.sk-parallel-item:only-child::after {width: 0;}#sk-container-id-18 div.sk-dashed-wrapped {border: 1px dashed gray;margin: 0 0.4em 0.5em 0.4em;box-sizing: border-box;padding-bottom: 0.4em;background-color: white;}#sk-container-id-18 div.sk-label label {font-family: monospace;font-weight: bold;display: inline-block;line-height: 1.2em;}#sk-container-id-18 div.sk-label-container {text-align: center;}#sk-container-id-18 div.sk-container {/* jupyter's `normalize.less` sets `[hidden] { display: none; }` but bootstrap.min.css set `[hidden] { display: none !important; }` so we also need the `!important` here to be able to override the default hidden behavior on the sphinx rendered scikit-learn.org. See: https://github.com/scikit-learn/scikit-learn/issues/21755 */display: inline-block !important;position: relative;}#sk-container-id-18 div.sk-text-repr-fallback {display: none;}</style><div id=\"sk-container-id-18\" class=\"sk-top-container\"><div class=\"sk-text-repr-fallback\"><pre>LogisticRegression(random_state=42, solver=&#x27;liblinear&#x27;)</pre><b>In a Jupyter environment, please rerun this cell to show the HTML representation or trust the notebook. <br />On GitHub, the HTML representation is unable to render, please try loading this page with nbviewer.org.</b></div><div class=\"sk-container\" hidden><div class=\"sk-item\"><div class=\"sk-estimator sk-toggleable\"><input class=\"sk-toggleable__control sk-hidden--visually\" id=\"sk-estimator-id-49\" type=\"checkbox\" checked><label for=\"sk-estimator-id-49\" class=\"sk-toggleable__label sk-toggleable__label-arrow\">LogisticRegression</label><div class=\"sk-toggleable__content\"><pre>LogisticRegression(random_state=42, solver=&#x27;liblinear&#x27;)</pre></div></div></div></div></div>"
            ]
          },
          "metadata": {},
          "execution_count": 232
        }
      ]
    },
    {
      "cell_type": "code",
      "source": [
        "pred = clf.predict(vec.transform(x_test))\n",
        "print(classification_report(pred, y_test))"
      ],
      "metadata": {
        "colab": {
          "base_uri": "https://localhost:8080/"
        },
        "id": "uNOfHHLyb0g_",
        "outputId": "2f3ff92d-522a-44c3-ab2f-be58d37c39f0"
      },
      "execution_count": null,
      "outputs": [
        {
          "output_type": "stream",
          "name": "stdout",
          "text": [
            "              precision    recall  f1-score   support\n",
            "\n",
            "         1.0       1.00      0.82      0.90      1391\n",
            "         5.0       0.12      1.00      0.21        34\n",
            "\n",
            "    accuracy                           0.82      1425\n",
            "   macro avg       0.56      0.91      0.56      1425\n",
            "weighted avg       0.98      0.82      0.88      1425\n",
            "\n"
          ]
        }
      ]
    },
    {
      "cell_type": "code",
      "source": [
        "f1_score(y_test, pred, average=None)"
      ],
      "metadata": {
        "colab": {
          "base_uri": "https://localhost:8080/"
        },
        "id": "AhIXUJtCizXt",
        "outputId": "9255bdce-d870-4c86-ee23-e2ccfa728745"
      },
      "execution_count": null,
      "outputs": [
        {
          "output_type": "execute_result",
          "data": {
            "text/plain": [
              "array([0.89952532, 0.21118012])"
            ]
          },
          "metadata": {},
          "execution_count": 234
        }
      ]
    },
    {
      "cell_type": "markdown",
      "source": [
        "Лучшую метрику показывает классификация по униграмам"
      ],
      "metadata": {
        "id": "TG0RZsd5b4BI"
      }
    },
    {
      "cell_type": "markdown",
      "source": [
        "**3. Сравните, как изменяется качество решения задачи при использовании скрытых тем в качестве признаков:**"
      ],
      "metadata": {
        "id": "XFFxf49Fb_As"
      }
    },
    {
      "cell_type": "markdown",
      "source": [
        "1-ый вариант: tf-idf\n",
        " преобразование (sklearn.feature_extraction.text.TfidfTransformer) и сингулярное разложение (оно же – латентый семантический анализ) (sklearn.decomposition.TruncatedSVD)"
      ],
      "metadata": {
        "id": "OfxmeiC4cFKT"
      }
    },
    {
      "cell_type": "code",
      "source": [
        "from sklearn.pipeline import Pipeline"
      ],
      "metadata": {
        "id": "WURLd1j-cD7l"
      },
      "execution_count": null,
      "outputs": []
    },
    {
      "cell_type": "code",
      "source": [
        "from sklearn.feature_extraction.text import TfidfTransformer\n",
        "from sklearn.decomposition import TruncatedSVD"
      ],
      "metadata": {
        "id": "nnIzRuYBdDeN"
      },
      "execution_count": null,
      "outputs": []
    },
    {
      "cell_type": "code",
      "source": [
        "clf = Pipeline([\n",
        "    ('vect', CountVectorizer()),\n",
        "    ('tfidf', TfidfTransformer()),\n",
        "    ('tm', TruncatedSVD()),\n",
        "    ('clf', LogisticRegression())\n",
        "])"
      ],
      "metadata": {
        "id": "OKoIIG9Jc82D"
      },
      "execution_count": null,
      "outputs": []
    },
    {
      "cell_type": "code",
      "source": [
        "clf.fit(x_train, y_train)"
      ],
      "metadata": {
        "colab": {
          "base_uri": "https://localhost:8080/",
          "height": 199
        },
        "id": "6cmm-2jLdNqS",
        "outputId": "6729843d-e860-4da6-a333-9d504bb10094"
      },
      "execution_count": null,
      "outputs": [
        {
          "output_type": "execute_result",
          "data": {
            "text/plain": [
              "Pipeline(steps=[('vect', CountVectorizer()), ('tfidf', TfidfTransformer()),\n",
              "                ('tm', TruncatedSVD()), ('clf', LogisticRegression())])"
            ],
            "text/html": [
              "<style>#sk-container-id-19 {color: black;background-color: white;}#sk-container-id-19 pre{padding: 0;}#sk-container-id-19 div.sk-toggleable {background-color: white;}#sk-container-id-19 label.sk-toggleable__label {cursor: pointer;display: block;width: 100%;margin-bottom: 0;padding: 0.3em;box-sizing: border-box;text-align: center;}#sk-container-id-19 label.sk-toggleable__label-arrow:before {content: \"▸\";float: left;margin-right: 0.25em;color: #696969;}#sk-container-id-19 label.sk-toggleable__label-arrow:hover:before {color: black;}#sk-container-id-19 div.sk-estimator:hover label.sk-toggleable__label-arrow:before {color: black;}#sk-container-id-19 div.sk-toggleable__content {max-height: 0;max-width: 0;overflow: hidden;text-align: left;background-color: #f0f8ff;}#sk-container-id-19 div.sk-toggleable__content pre {margin: 0.2em;color: black;border-radius: 0.25em;background-color: #f0f8ff;}#sk-container-id-19 input.sk-toggleable__control:checked~div.sk-toggleable__content {max-height: 200px;max-width: 100%;overflow: auto;}#sk-container-id-19 input.sk-toggleable__control:checked~label.sk-toggleable__label-arrow:before {content: \"▾\";}#sk-container-id-19 div.sk-estimator input.sk-toggleable__control:checked~label.sk-toggleable__label {background-color: #d4ebff;}#sk-container-id-19 div.sk-label input.sk-toggleable__control:checked~label.sk-toggleable__label {background-color: #d4ebff;}#sk-container-id-19 input.sk-hidden--visually {border: 0;clip: rect(1px 1px 1px 1px);clip: rect(1px, 1px, 1px, 1px);height: 1px;margin: -1px;overflow: hidden;padding: 0;position: absolute;width: 1px;}#sk-container-id-19 div.sk-estimator {font-family: monospace;background-color: #f0f8ff;border: 1px dotted black;border-radius: 0.25em;box-sizing: border-box;margin-bottom: 0.5em;}#sk-container-id-19 div.sk-estimator:hover {background-color: #d4ebff;}#sk-container-id-19 div.sk-parallel-item::after {content: \"\";width: 100%;border-bottom: 1px solid gray;flex-grow: 1;}#sk-container-id-19 div.sk-label:hover label.sk-toggleable__label {background-color: #d4ebff;}#sk-container-id-19 div.sk-serial::before {content: \"\";position: absolute;border-left: 1px solid gray;box-sizing: border-box;top: 0;bottom: 0;left: 50%;z-index: 0;}#sk-container-id-19 div.sk-serial {display: flex;flex-direction: column;align-items: center;background-color: white;padding-right: 0.2em;padding-left: 0.2em;position: relative;}#sk-container-id-19 div.sk-item {position: relative;z-index: 1;}#sk-container-id-19 div.sk-parallel {display: flex;align-items: stretch;justify-content: center;background-color: white;position: relative;}#sk-container-id-19 div.sk-item::before, #sk-container-id-19 div.sk-parallel-item::before {content: \"\";position: absolute;border-left: 1px solid gray;box-sizing: border-box;top: 0;bottom: 0;left: 50%;z-index: -1;}#sk-container-id-19 div.sk-parallel-item {display: flex;flex-direction: column;z-index: 1;position: relative;background-color: white;}#sk-container-id-19 div.sk-parallel-item:first-child::after {align-self: flex-end;width: 50%;}#sk-container-id-19 div.sk-parallel-item:last-child::after {align-self: flex-start;width: 50%;}#sk-container-id-19 div.sk-parallel-item:only-child::after {width: 0;}#sk-container-id-19 div.sk-dashed-wrapped {border: 1px dashed gray;margin: 0 0.4em 0.5em 0.4em;box-sizing: border-box;padding-bottom: 0.4em;background-color: white;}#sk-container-id-19 div.sk-label label {font-family: monospace;font-weight: bold;display: inline-block;line-height: 1.2em;}#sk-container-id-19 div.sk-label-container {text-align: center;}#sk-container-id-19 div.sk-container {/* jupyter's `normalize.less` sets `[hidden] { display: none; }` but bootstrap.min.css set `[hidden] { display: none !important; }` so we also need the `!important` here to be able to override the default hidden behavior on the sphinx rendered scikit-learn.org. See: https://github.com/scikit-learn/scikit-learn/issues/21755 */display: inline-block !important;position: relative;}#sk-container-id-19 div.sk-text-repr-fallback {display: none;}</style><div id=\"sk-container-id-19\" class=\"sk-top-container\"><div class=\"sk-text-repr-fallback\"><pre>Pipeline(steps=[(&#x27;vect&#x27;, CountVectorizer()), (&#x27;tfidf&#x27;, TfidfTransformer()),\n",
              "                (&#x27;tm&#x27;, TruncatedSVD()), (&#x27;clf&#x27;, LogisticRegression())])</pre><b>In a Jupyter environment, please rerun this cell to show the HTML representation or trust the notebook. <br />On GitHub, the HTML representation is unable to render, please try loading this page with nbviewer.org.</b></div><div class=\"sk-container\" hidden><div class=\"sk-item sk-dashed-wrapped\"><div class=\"sk-label-container\"><div class=\"sk-label sk-toggleable\"><input class=\"sk-toggleable__control sk-hidden--visually\" id=\"sk-estimator-id-50\" type=\"checkbox\" ><label for=\"sk-estimator-id-50\" class=\"sk-toggleable__label sk-toggleable__label-arrow\">Pipeline</label><div class=\"sk-toggleable__content\"><pre>Pipeline(steps=[(&#x27;vect&#x27;, CountVectorizer()), (&#x27;tfidf&#x27;, TfidfTransformer()),\n",
              "                (&#x27;tm&#x27;, TruncatedSVD()), (&#x27;clf&#x27;, LogisticRegression())])</pre></div></div></div><div class=\"sk-serial\"><div class=\"sk-item\"><div class=\"sk-estimator sk-toggleable\"><input class=\"sk-toggleable__control sk-hidden--visually\" id=\"sk-estimator-id-51\" type=\"checkbox\" ><label for=\"sk-estimator-id-51\" class=\"sk-toggleable__label sk-toggleable__label-arrow\">CountVectorizer</label><div class=\"sk-toggleable__content\"><pre>CountVectorizer()</pre></div></div></div><div class=\"sk-item\"><div class=\"sk-estimator sk-toggleable\"><input class=\"sk-toggleable__control sk-hidden--visually\" id=\"sk-estimator-id-52\" type=\"checkbox\" ><label for=\"sk-estimator-id-52\" class=\"sk-toggleable__label sk-toggleable__label-arrow\">TfidfTransformer</label><div class=\"sk-toggleable__content\"><pre>TfidfTransformer()</pre></div></div></div><div class=\"sk-item\"><div class=\"sk-estimator sk-toggleable\"><input class=\"sk-toggleable__control sk-hidden--visually\" id=\"sk-estimator-id-53\" type=\"checkbox\" ><label for=\"sk-estimator-id-53\" class=\"sk-toggleable__label sk-toggleable__label-arrow\">TruncatedSVD</label><div class=\"sk-toggleable__content\"><pre>TruncatedSVD()</pre></div></div></div><div class=\"sk-item\"><div class=\"sk-estimator sk-toggleable\"><input class=\"sk-toggleable__control sk-hidden--visually\" id=\"sk-estimator-id-54\" type=\"checkbox\" ><label for=\"sk-estimator-id-54\" class=\"sk-toggleable__label sk-toggleable__label-arrow\">LogisticRegression</label><div class=\"sk-toggleable__content\"><pre>LogisticRegression()</pre></div></div></div></div></div></div></div>"
            ]
          },
          "metadata": {},
          "execution_count": 238
        }
      ]
    },
    {
      "cell_type": "code",
      "source": [
        "pred = clf.predict(x_test)\n",
        "print(classification_report(pred, y_test))"
      ],
      "metadata": {
        "colab": {
          "base_uri": "https://localhost:8080/"
        },
        "id": "IsWCNs78dpBX",
        "outputId": "fb273441-3b63-4b08-eea4-96dddfb6716e"
      },
      "execution_count": null,
      "outputs": [
        {
          "output_type": "stream",
          "name": "stdout",
          "text": [
            "              precision    recall  f1-score   support\n",
            "\n",
            "         1.0       1.00      0.87      0.93      1306\n",
            "         5.0       0.41      0.98      0.57       119\n",
            "\n",
            "    accuracy                           0.88      1425\n",
            "   macro avg       0.70      0.93      0.75      1425\n",
            "weighted avg       0.95      0.88      0.90      1425\n",
            "\n"
          ]
        }
      ]
    },
    {
      "cell_type": "code",
      "source": [
        "f1_score(y_test, pred, average=None)"
      ],
      "metadata": {
        "colab": {
          "base_uri": "https://localhost:8080/"
        },
        "id": "gkqeCcMMi0q6",
        "outputId": "8e4accd3-e096-4632-a330-7d8b4c28a076"
      },
      "execution_count": null,
      "outputs": [
        {
          "output_type": "execute_result",
          "data": {
            "text/plain": [
              "array([0.92918543, 0.57493857])"
            ]
          },
          "metadata": {},
          "execution_count": 240
        }
      ]
    },
    {
      "cell_type": "markdown",
      "source": [
        "2-ой вариант: тематические модели LDA (sklearn.decomposition.LatentDirichletAllocation). Используйте accuracy и F-measure для оценки качества классификации."
      ],
      "metadata": {
        "id": "IaalTifHiVXU"
      }
    },
    {
      "cell_type": "code",
      "source": [
        "from sklearn.decomposition import LatentDirichletAllocation"
      ],
      "metadata": {
        "id": "6mnaZLY9jDDs"
      },
      "execution_count": null,
      "outputs": []
    },
    {
      "cell_type": "code",
      "source": [
        "clf = Pipeline([\n",
        "    ('vect', CountVectorizer()),\n",
        "    ('lda', LatentDirichletAllocation()),\n",
        "    ('clf', LogisticRegression())\n",
        "])"
      ],
      "metadata": {
        "id": "72tnZKxfiaX1"
      },
      "execution_count": null,
      "outputs": []
    },
    {
      "cell_type": "code",
      "source": [
        "clf.fit(x_train, y_train)"
      ],
      "metadata": {
        "colab": {
          "base_uri": "https://localhost:8080/",
          "height": 164
        },
        "id": "W17TPPjrjLS-",
        "outputId": "916841fd-a694-4af2-d373-af759f42c9b1"
      },
      "execution_count": null,
      "outputs": [
        {
          "output_type": "execute_result",
          "data": {
            "text/plain": [
              "Pipeline(steps=[('vect', CountVectorizer()),\n",
              "                ('lda', LatentDirichletAllocation()),\n",
              "                ('clf', LogisticRegression())])"
            ],
            "text/html": [
              "<style>#sk-container-id-20 {color: black;background-color: white;}#sk-container-id-20 pre{padding: 0;}#sk-container-id-20 div.sk-toggleable {background-color: white;}#sk-container-id-20 label.sk-toggleable__label {cursor: pointer;display: block;width: 100%;margin-bottom: 0;padding: 0.3em;box-sizing: border-box;text-align: center;}#sk-container-id-20 label.sk-toggleable__label-arrow:before {content: \"▸\";float: left;margin-right: 0.25em;color: #696969;}#sk-container-id-20 label.sk-toggleable__label-arrow:hover:before {color: black;}#sk-container-id-20 div.sk-estimator:hover label.sk-toggleable__label-arrow:before {color: black;}#sk-container-id-20 div.sk-toggleable__content {max-height: 0;max-width: 0;overflow: hidden;text-align: left;background-color: #f0f8ff;}#sk-container-id-20 div.sk-toggleable__content pre {margin: 0.2em;color: black;border-radius: 0.25em;background-color: #f0f8ff;}#sk-container-id-20 input.sk-toggleable__control:checked~div.sk-toggleable__content {max-height: 200px;max-width: 100%;overflow: auto;}#sk-container-id-20 input.sk-toggleable__control:checked~label.sk-toggleable__label-arrow:before {content: \"▾\";}#sk-container-id-20 div.sk-estimator input.sk-toggleable__control:checked~label.sk-toggleable__label {background-color: #d4ebff;}#sk-container-id-20 div.sk-label input.sk-toggleable__control:checked~label.sk-toggleable__label {background-color: #d4ebff;}#sk-container-id-20 input.sk-hidden--visually {border: 0;clip: rect(1px 1px 1px 1px);clip: rect(1px, 1px, 1px, 1px);height: 1px;margin: -1px;overflow: hidden;padding: 0;position: absolute;width: 1px;}#sk-container-id-20 div.sk-estimator {font-family: monospace;background-color: #f0f8ff;border: 1px dotted black;border-radius: 0.25em;box-sizing: border-box;margin-bottom: 0.5em;}#sk-container-id-20 div.sk-estimator:hover {background-color: #d4ebff;}#sk-container-id-20 div.sk-parallel-item::after {content: \"\";width: 100%;border-bottom: 1px solid gray;flex-grow: 1;}#sk-container-id-20 div.sk-label:hover label.sk-toggleable__label {background-color: #d4ebff;}#sk-container-id-20 div.sk-serial::before {content: \"\";position: absolute;border-left: 1px solid gray;box-sizing: border-box;top: 0;bottom: 0;left: 50%;z-index: 0;}#sk-container-id-20 div.sk-serial {display: flex;flex-direction: column;align-items: center;background-color: white;padding-right: 0.2em;padding-left: 0.2em;position: relative;}#sk-container-id-20 div.sk-item {position: relative;z-index: 1;}#sk-container-id-20 div.sk-parallel {display: flex;align-items: stretch;justify-content: center;background-color: white;position: relative;}#sk-container-id-20 div.sk-item::before, #sk-container-id-20 div.sk-parallel-item::before {content: \"\";position: absolute;border-left: 1px solid gray;box-sizing: border-box;top: 0;bottom: 0;left: 50%;z-index: -1;}#sk-container-id-20 div.sk-parallel-item {display: flex;flex-direction: column;z-index: 1;position: relative;background-color: white;}#sk-container-id-20 div.sk-parallel-item:first-child::after {align-self: flex-end;width: 50%;}#sk-container-id-20 div.sk-parallel-item:last-child::after {align-self: flex-start;width: 50%;}#sk-container-id-20 div.sk-parallel-item:only-child::after {width: 0;}#sk-container-id-20 div.sk-dashed-wrapped {border: 1px dashed gray;margin: 0 0.4em 0.5em 0.4em;box-sizing: border-box;padding-bottom: 0.4em;background-color: white;}#sk-container-id-20 div.sk-label label {font-family: monospace;font-weight: bold;display: inline-block;line-height: 1.2em;}#sk-container-id-20 div.sk-label-container {text-align: center;}#sk-container-id-20 div.sk-container {/* jupyter's `normalize.less` sets `[hidden] { display: none; }` but bootstrap.min.css set `[hidden] { display: none !important; }` so we also need the `!important` here to be able to override the default hidden behavior on the sphinx rendered scikit-learn.org. See: https://github.com/scikit-learn/scikit-learn/issues/21755 */display: inline-block !important;position: relative;}#sk-container-id-20 div.sk-text-repr-fallback {display: none;}</style><div id=\"sk-container-id-20\" class=\"sk-top-container\"><div class=\"sk-text-repr-fallback\"><pre>Pipeline(steps=[(&#x27;vect&#x27;, CountVectorizer()),\n",
              "                (&#x27;lda&#x27;, LatentDirichletAllocation()),\n",
              "                (&#x27;clf&#x27;, LogisticRegression())])</pre><b>In a Jupyter environment, please rerun this cell to show the HTML representation or trust the notebook. <br />On GitHub, the HTML representation is unable to render, please try loading this page with nbviewer.org.</b></div><div class=\"sk-container\" hidden><div class=\"sk-item sk-dashed-wrapped\"><div class=\"sk-label-container\"><div class=\"sk-label sk-toggleable\"><input class=\"sk-toggleable__control sk-hidden--visually\" id=\"sk-estimator-id-55\" type=\"checkbox\" ><label for=\"sk-estimator-id-55\" class=\"sk-toggleable__label sk-toggleable__label-arrow\">Pipeline</label><div class=\"sk-toggleable__content\"><pre>Pipeline(steps=[(&#x27;vect&#x27;, CountVectorizer()),\n",
              "                (&#x27;lda&#x27;, LatentDirichletAllocation()),\n",
              "                (&#x27;clf&#x27;, LogisticRegression())])</pre></div></div></div><div class=\"sk-serial\"><div class=\"sk-item\"><div class=\"sk-estimator sk-toggleable\"><input class=\"sk-toggleable__control sk-hidden--visually\" id=\"sk-estimator-id-56\" type=\"checkbox\" ><label for=\"sk-estimator-id-56\" class=\"sk-toggleable__label sk-toggleable__label-arrow\">CountVectorizer</label><div class=\"sk-toggleable__content\"><pre>CountVectorizer()</pre></div></div></div><div class=\"sk-item\"><div class=\"sk-estimator sk-toggleable\"><input class=\"sk-toggleable__control sk-hidden--visually\" id=\"sk-estimator-id-57\" type=\"checkbox\" ><label for=\"sk-estimator-id-57\" class=\"sk-toggleable__label sk-toggleable__label-arrow\">LatentDirichletAllocation</label><div class=\"sk-toggleable__content\"><pre>LatentDirichletAllocation()</pre></div></div></div><div class=\"sk-item\"><div class=\"sk-estimator sk-toggleable\"><input class=\"sk-toggleable__control sk-hidden--visually\" id=\"sk-estimator-id-58\" type=\"checkbox\" ><label for=\"sk-estimator-id-58\" class=\"sk-toggleable__label sk-toggleable__label-arrow\">LogisticRegression</label><div class=\"sk-toggleable__content\"><pre>LogisticRegression()</pre></div></div></div></div></div></div></div>"
            ]
          },
          "metadata": {},
          "execution_count": 243
        }
      ]
    },
    {
      "cell_type": "code",
      "source": [
        "pred = clf.predict(x_test)\n",
        "print(classification_report(pred, y_test))"
      ],
      "metadata": {
        "colab": {
          "base_uri": "https://localhost:8080/"
        },
        "id": "jUh8G1GZjNcx",
        "outputId": "b2d50ab4-1089-4611-8a51-8056d20ed0df"
      },
      "execution_count": null,
      "outputs": [
        {
          "output_type": "stream",
          "name": "stdout",
          "text": [
            "              precision    recall  f1-score   support\n",
            "\n",
            "         1.0       1.00      0.87      0.93      1305\n",
            "         5.0       0.41      0.97      0.57       120\n",
            "\n",
            "    accuracy                           0.88      1425\n",
            "   macro avg       0.70      0.92      0.75      1425\n",
            "weighted avg       0.95      0.88      0.90      1425\n",
            "\n"
          ]
        }
      ]
    },
    {
      "cell_type": "code",
      "source": [
        "f1_score(y_test, pred, average=None)"
      ],
      "metadata": {
        "colab": {
          "base_uri": "https://localhost:8080/"
        },
        "id": "LfQQxbW2jO3a",
        "outputId": "0f8f29bc-61d2-4686-c2f1-2fe7466e497e"
      },
      "execution_count": null,
      "outputs": [
        {
          "output_type": "execute_result",
          "data": {
            "text/plain": [
              "array([0.92874693, 0.57352941])"
            ]
          },
          "metadata": {},
          "execution_count": 245
        }
      ]
    },
    {
      "cell_type": "markdown",
      "source": [
        "Вывод: в контексте данной выборки наилучшее качество показывает обычная линейная регрессия при использовании униграм"
      ],
      "metadata": {
        "id": "9FONeyECkPlJ"
      }
    }
  ]
}