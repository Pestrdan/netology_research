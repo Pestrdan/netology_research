{
  "nbformat": 4,
  "nbformat_minor": 0,
  "metadata": {
    "colab": {
      "provenance": [],
      "authorship_tag": "ABX9TyPGLKMzQBkurGK8tLcbFL3d",
      "include_colab_link": true
    },
    "kernelspec": {
      "name": "python3",
      "display_name": "Python 3"
    },
    "language_info": {
      "name": "python"
    }
  },
  "cells": [
    {
      "cell_type": "markdown",
      "metadata": {
        "id": "view-in-github",
        "colab_type": "text"
      },
      "source": [
        "<a href=\"https://colab.research.google.com/github/Pestrdan/netology_research/blob/main/STPY_38_HW3.ipynb\" target=\"_parent\"><img src=\"https://colab.research.google.com/assets/colab-badge.svg\" alt=\"Open In Colab\"/></a>"
      ]
    },
    {
      "cell_type": "code",
      "execution_count": null,
      "metadata": {
        "id": "qiOoOILjxkIf"
      },
      "outputs": [],
      "source": [
        "import numpy as np"
      ]
    },
    {
      "cell_type": "code",
      "source": [
        "game_cost = 1"
      ],
      "metadata": {
        "id": "QTUheOJYdV_r"
      },
      "execution_count": null,
      "outputs": []
    },
    {
      "cell_type": "code",
      "source": [
        "# зададим выигрыш\n",
        "win_777 = 200\n",
        "win_999 = 100\n",
        "win_555 = 50\n",
        "win_333 = 15\n",
        "win_111 = 10\n",
        "win_X77 = 5\n",
        "win_XX7 = 3\n",
        "win_X00 = 2\n",
        "win_XX0 = 1"
      ],
      "metadata": {
        "id": "NV3c5cWo1eBw"
      },
      "execution_count": null,
      "outputs": []
    },
    {
      "cell_type": "code",
      "source": [
        "# рассчитаем вероятность каждого исхода\n",
        "chance_777 = 1 / 1000\n",
        "chance_999 = 1 / 1000\n",
        "chance_555 = 1 / 1000\n",
        "chance_333 = 1 / 1000\n",
        "chance_111 = 1 / 1000\n",
        "all_chance_list = [777, 999, 555, 333, 111]\n",
        "\n",
        "numbers = list(range(1000))\n",
        "\n",
        "X = 77\n",
        "chance_X77_list = []\n",
        "rank = 0\n",
        "for num in numbers:\n",
        "  if num in all_chance_list:\n",
        "    pass\n",
        "  elif num % 100 == 77:\n",
        "    chance_X77_list.append(num)\n",
        "all_chance_list += chance_X77_list\n",
        "\n",
        "chance_X77 = len(chance_X77_list) / 1000\n",
        "\n",
        "X = 7\n",
        "chance_XX7_list = []\n",
        "rank = 0\n",
        "for num in numbers:\n",
        "  if num in all_chance_list:\n",
        "    pass\n",
        "  elif num % 10 == 7:\n",
        "    chance_XX7_list.append(num)\n",
        "all_chance_list += chance_XX7_list\n",
        "\n",
        "chance_XX7 = len(chance_XX7_list) / 1000\n",
        "\n",
        "X = 100\n",
        "chance_X00_list = []\n",
        "rank = 0\n",
        "for num in numbers:\n",
        "  if num in all_chance_list:\n",
        "    pass\n",
        "  elif num % 100 == 0:\n",
        "    chance_X00_list.append(num)\n",
        "all_chance_list += chance_X00_list\n",
        "\n",
        "chance_X00 = len(chance_X00_list) / 1000\n",
        "\n",
        "X = 0\n",
        "chance_XX0_list = []\n",
        "rank = 0\n",
        "for num in numbers:\n",
        "  if num in all_chance_list:\n",
        "    pass\n",
        "  elif num % 10 == 0:\n",
        "    chance_XX0_list.append(num)\n",
        "all_chance_list += chance_XX0_list\n",
        "\n",
        "chance_XX0 = len(chance_XX0_list) / 1000"
      ],
      "metadata": {
        "id": "SAigmWvJH4nl"
      },
      "execution_count": null,
      "outputs": []
    },
    {
      "cell_type": "code",
      "source": [
        "len(all_chance_list)"
      ],
      "metadata": {
        "colab": {
          "base_uri": "https://localhost:8080/"
        },
        "id": "w2AeGzgeuJZ1",
        "outputId": "dfbc8677-a834-4fe2-f06c-1538ed27ee8f"
      },
      "execution_count": null,
      "outputs": [
        {
          "output_type": "execute_result",
          "data": {
            "text/plain": [
              "204"
            ]
          },
          "metadata": {},
          "execution_count": 39
        }
      ]
    },
    {
      "cell_type": "code",
      "source": [
        "#расчитаем полную вероятность\n",
        "stat_win = (chance_777 * win_777\n",
        "            + chance_999 * win_999\n",
        "            + chance_555 * win_555\n",
        "            + chance_333 * win_333\n",
        "            + chance_111 * win_111\n",
        "            + chance_X77 * win_X77\n",
        "            + chance_XX7 * win_XX7\n",
        "            + chance_X00 * win_X00\n",
        "            + chance_XX0 * win_XX0)\n",
        "stat_win"
      ],
      "metadata": {
        "colab": {
          "base_uri": "https://localhost:8080/"
        },
        "id": "_zrkfwSMXGpu",
        "outputId": "2cbbaeed-5868-4c77-edbb-01cad9c17c0b"
      },
      "execution_count": null,
      "outputs": [
        {
          "output_type": "execute_result",
          "data": {
            "text/plain": [
              "0.8"
            ]
          },
          "metadata": {},
          "execution_count": 40
        }
      ]
    },
    {
      "cell_type": "code",
      "source": [
        "stats_loss = stat_win - game_cost\n",
        "stats_loss #статистичесий проигрыш при заданной стоимости игры"
      ],
      "metadata": {
        "colab": {
          "base_uri": "https://localhost:8080/"
        },
        "id": "ezdcmN9fdLno",
        "outputId": "482577fa-f147-4e3c-a539-04fefffdbbd5"
      },
      "execution_count": null,
      "outputs": [
        {
          "output_type": "execute_result",
          "data": {
            "text/plain": [
              "-0.19999999999999996"
            ]
          },
          "metadata": {},
          "execution_count": 41
        }
      ]
    },
    {
      "cell_type": "code",
      "source": [
        "game_count = int(input(\"Задайте количество игр\"))\n",
        "print(f\"Теоретический проигрыш: {stats_loss * game_count}\")\n",
        "# print(f\"Общая стоимость: {game_count * game_cost}\")\n",
        "\n",
        "game_result = -(game_count * game_cost)\n",
        "while game_count != 0:\n",
        "  num = np.random.randint(0, 1000)\n",
        "  if num == 777:\n",
        "    game_result += win_777\n",
        "    # print(f\" Число: {num}\")\n",
        "    # print(f\" Текущий статус: {game_result}\")\n",
        "    game_count -= 1\n",
        "  elif num == 999:\n",
        "    game_result += win_999\n",
        "    # print(f\" Число: {num}\")\n",
        "    # print(f\" Текущий статус: {game_result}\")\n",
        "    game_count -= 1\n",
        "  elif num == 555:\n",
        "    game_result += win_555\n",
        "    # print(f\" Число: {num}\")\n",
        "    # print(f\" Текущий статус: {game_result}\")\n",
        "    game_count -= 1\n",
        "  elif num == 333:\n",
        "    game_result += win_333\n",
        "    # print(f\" Число: {num}\")\n",
        "    # print(f\" Текущий статус: {game_result}\")\n",
        "    game_count -= 1\n",
        "  elif num == 111:\n",
        "    game_result += win_111\n",
        "    # print(f\" Число: {num}\")\n",
        "    # print(f\" Текущий статус: {game_result}\")\n",
        "    game_count -= 1\n",
        "  elif num % 100 == 77:\n",
        "    game_result += win_X77\n",
        "    # print(f\" Число: {num}\")\n",
        "    # print(f\" Текущий статус: {game_result}\")\n",
        "    game_count -= 1\n",
        "  elif num % 10 == 7:\n",
        "    game_result += win_XX7\n",
        "    # print(f\" Число: {num}\")\n",
        "    # print(f\" Текущий статус: {game_result}\")\n",
        "    game_count -= 1\n",
        "  elif num % 100 == 0:\n",
        "    game_result += win_X00\n",
        "    # print(f\" Число: {num}\")\n",
        "    # print(f\" Текущий статус: {game_result}\")\n",
        "    game_count -= 1\n",
        "  elif num % 10 == 0:\n",
        "    game_result += win_XX0\n",
        "    # print(f\" Число: {num}\")\n",
        "    # print(f\" Текущий статус: {game_result}\")\n",
        "    game_count -= 1\n",
        "  else:\n",
        "    # print(f\" Число: {num}\")\n",
        "    # print(f\" Текущий статус: {game_result}\")\n",
        "    game_count -= 1\n",
        "print(f\"Фактический результат: {game_result}\")"
      ],
      "metadata": {
        "colab": {
          "base_uri": "https://localhost:8080/"
        },
        "id": "GUYOVnj0d4N6",
        "outputId": "1aedbaf0-406b-407a-87a4-ae4e0b82718a"
      },
      "execution_count": null,
      "outputs": [
        {
          "output_type": "stream",
          "name": "stdout",
          "text": [
            "Задайте количество игр10000\n",
            "Теоретический проигрыш: -1999.9999999999995\n",
            "Фактический результат: -2134\n"
          ]
        }
      ]
    },
    {
      "cell_type": "markdown",
      "source": [
        "**Выводы:**\n",
        "1. Выгодна ли игра игроку? - Нет\n",
        "2. Сколько в среднем приобретает или теряет игрок за одну игру? - Теряет 0,20 руб, при заданных условиях\n",
        "3. При моделировании получаем убыток в разной степени"
      ],
      "metadata": {
        "id": "DdK_93rtUTpv"
      }
    }
  ]
}
