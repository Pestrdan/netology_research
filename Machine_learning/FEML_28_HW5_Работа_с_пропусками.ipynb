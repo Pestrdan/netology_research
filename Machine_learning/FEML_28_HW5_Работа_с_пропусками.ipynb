{
  "nbformat": 4,
  "nbformat_minor": 0,
  "metadata": {
    "colab": {
      "provenance": [],
      "authorship_tag": "ABX9TyPvTY+gldnhrZH1CHJ55bQz",
      "include_colab_link": true
    },
    "kernelspec": {
      "name": "python3",
      "display_name": "Python 3"
    },
    "language_info": {
      "name": "python"
    }
  },
  "cells": [
    {
      "cell_type": "markdown",
      "metadata": {
        "id": "view-in-github",
        "colab_type": "text"
      },
      "source": [
        "<a href=\"https://colab.research.google.com/github/Pestrdan/netology_research/blob/main/Machine_learning/FEML_28_HW5_%D0%A0%D0%B0%D0%B1%D0%BE%D1%82%D0%B0_%D1%81_%D0%BF%D1%80%D0%BE%D0%BF%D1%83%D1%81%D0%BA%D0%B0%D0%BC%D0%B8.ipynb\" target=\"_parent\"><img src=\"https://colab.research.google.com/assets/colab-badge.svg\" alt=\"Open In Colab\"/></a>"
      ]
    },
    {
      "cell_type": "markdown",
      "source": [
        "# **1. Получите данные и загрузите их в рабочую среду. (Jupyter Notebook или другую).**"
      ],
      "metadata": {
        "id": "9o0WIvEZaLFI"
      }
    },
    {
      "cell_type": "code",
      "execution_count": null,
      "metadata": {
        "id": "ps6L6f4eZa-v"
      },
      "outputs": [],
      "source": [
        "import pandas as pd\n",
        "from sklearn.datasets import fetch_california_housing"
      ]
    },
    {
      "cell_type": "code",
      "source": [
        "california_housing = fetch_california_housing(as_frame=True)"
      ],
      "metadata": {
        "id": "ieuhjLtoZfLU"
      },
      "execution_count": null,
      "outputs": []
    },
    {
      "cell_type": "code",
      "source": [
        "df = california_housing.frame"
      ],
      "metadata": {
        "id": "EqOlqrCOakNv"
      },
      "execution_count": null,
      "outputs": []
    },
    {
      "cell_type": "code",
      "source": [
        "df.head()"
      ],
      "metadata": {
        "colab": {
          "base_uri": "https://localhost:8080/",
          "height": 206
        },
        "id": "POqDi9EkcDFo",
        "outputId": "37806c11-2be0-46a0-ee94-6fcf156ed08c"
      },
      "execution_count": null,
      "outputs": [
        {
          "output_type": "execute_result",
          "data": {
            "text/plain": [
              "   MedInc  HouseAge  AveRooms  AveBedrms  Population  AveOccup  Latitude  \\\n",
              "0  8.3252      41.0  6.984127   1.023810       322.0  2.555556     37.88   \n",
              "1  8.3014      21.0  6.238137   0.971880      2401.0  2.109842     37.86   \n",
              "2  7.2574      52.0  8.288136   1.073446       496.0  2.802260     37.85   \n",
              "3  5.6431      52.0  5.817352   1.073059       558.0  2.547945     37.85   \n",
              "4  3.8462      52.0  6.281853   1.081081       565.0  2.181467     37.85   \n",
              "\n",
              "   Longitude  MedHouseVal  \n",
              "0    -122.23        4.526  \n",
              "1    -122.22        3.585  \n",
              "2    -122.24        3.521  \n",
              "3    -122.25        3.413  \n",
              "4    -122.25        3.422  "
            ],
            "text/html": [
              "\n",
              "  <div id=\"df-ccae4169-670b-40c4-a507-367bf730c16d\" class=\"colab-df-container\">\n",
              "    <div>\n",
              "<style scoped>\n",
              "    .dataframe tbody tr th:only-of-type {\n",
              "        vertical-align: middle;\n",
              "    }\n",
              "\n",
              "    .dataframe tbody tr th {\n",
              "        vertical-align: top;\n",
              "    }\n",
              "\n",
              "    .dataframe thead th {\n",
              "        text-align: right;\n",
              "    }\n",
              "</style>\n",
              "<table border=\"1\" class=\"dataframe\">\n",
              "  <thead>\n",
              "    <tr style=\"text-align: right;\">\n",
              "      <th></th>\n",
              "      <th>MedInc</th>\n",
              "      <th>HouseAge</th>\n",
              "      <th>AveRooms</th>\n",
              "      <th>AveBedrms</th>\n",
              "      <th>Population</th>\n",
              "      <th>AveOccup</th>\n",
              "      <th>Latitude</th>\n",
              "      <th>Longitude</th>\n",
              "      <th>MedHouseVal</th>\n",
              "    </tr>\n",
              "  </thead>\n",
              "  <tbody>\n",
              "    <tr>\n",
              "      <th>0</th>\n",
              "      <td>8.3252</td>\n",
              "      <td>41.0</td>\n",
              "      <td>6.984127</td>\n",
              "      <td>1.023810</td>\n",
              "      <td>322.0</td>\n",
              "      <td>2.555556</td>\n",
              "      <td>37.88</td>\n",
              "      <td>-122.23</td>\n",
              "      <td>4.526</td>\n",
              "    </tr>\n",
              "    <tr>\n",
              "      <th>1</th>\n",
              "      <td>8.3014</td>\n",
              "      <td>21.0</td>\n",
              "      <td>6.238137</td>\n",
              "      <td>0.971880</td>\n",
              "      <td>2401.0</td>\n",
              "      <td>2.109842</td>\n",
              "      <td>37.86</td>\n",
              "      <td>-122.22</td>\n",
              "      <td>3.585</td>\n",
              "    </tr>\n",
              "    <tr>\n",
              "      <th>2</th>\n",
              "      <td>7.2574</td>\n",
              "      <td>52.0</td>\n",
              "      <td>8.288136</td>\n",
              "      <td>1.073446</td>\n",
              "      <td>496.0</td>\n",
              "      <td>2.802260</td>\n",
              "      <td>37.85</td>\n",
              "      <td>-122.24</td>\n",
              "      <td>3.521</td>\n",
              "    </tr>\n",
              "    <tr>\n",
              "      <th>3</th>\n",
              "      <td>5.6431</td>\n",
              "      <td>52.0</td>\n",
              "      <td>5.817352</td>\n",
              "      <td>1.073059</td>\n",
              "      <td>558.0</td>\n",
              "      <td>2.547945</td>\n",
              "      <td>37.85</td>\n",
              "      <td>-122.25</td>\n",
              "      <td>3.413</td>\n",
              "    </tr>\n",
              "    <tr>\n",
              "      <th>4</th>\n",
              "      <td>3.8462</td>\n",
              "      <td>52.0</td>\n",
              "      <td>6.281853</td>\n",
              "      <td>1.081081</td>\n",
              "      <td>565.0</td>\n",
              "      <td>2.181467</td>\n",
              "      <td>37.85</td>\n",
              "      <td>-122.25</td>\n",
              "      <td>3.422</td>\n",
              "    </tr>\n",
              "  </tbody>\n",
              "</table>\n",
              "</div>\n",
              "    <div class=\"colab-df-buttons\">\n",
              "\n",
              "  <div class=\"colab-df-container\">\n",
              "    <button class=\"colab-df-convert\" onclick=\"convertToInteractive('df-ccae4169-670b-40c4-a507-367bf730c16d')\"\n",
              "            title=\"Convert this dataframe to an interactive table.\"\n",
              "            style=\"display:none;\">\n",
              "\n",
              "  <svg xmlns=\"http://www.w3.org/2000/svg\" height=\"24px\" viewBox=\"0 -960 960 960\">\n",
              "    <path d=\"M120-120v-720h720v720H120Zm60-500h600v-160H180v160Zm220 220h160v-160H400v160Zm0 220h160v-160H400v160ZM180-400h160v-160H180v160Zm440 0h160v-160H620v160ZM180-180h160v-160H180v160Zm440 0h160v-160H620v160Z\"/>\n",
              "  </svg>\n",
              "    </button>\n",
              "\n",
              "  <style>\n",
              "    .colab-df-container {\n",
              "      display:flex;\n",
              "      gap: 12px;\n",
              "    }\n",
              "\n",
              "    .colab-df-convert {\n",
              "      background-color: #E8F0FE;\n",
              "      border: none;\n",
              "      border-radius: 50%;\n",
              "      cursor: pointer;\n",
              "      display: none;\n",
              "      fill: #1967D2;\n",
              "      height: 32px;\n",
              "      padding: 0 0 0 0;\n",
              "      width: 32px;\n",
              "    }\n",
              "\n",
              "    .colab-df-convert:hover {\n",
              "      background-color: #E2EBFA;\n",
              "      box-shadow: 0px 1px 2px rgba(60, 64, 67, 0.3), 0px 1px 3px 1px rgba(60, 64, 67, 0.15);\n",
              "      fill: #174EA6;\n",
              "    }\n",
              "\n",
              "    .colab-df-buttons div {\n",
              "      margin-bottom: 4px;\n",
              "    }\n",
              "\n",
              "    [theme=dark] .colab-df-convert {\n",
              "      background-color: #3B4455;\n",
              "      fill: #D2E3FC;\n",
              "    }\n",
              "\n",
              "    [theme=dark] .colab-df-convert:hover {\n",
              "      background-color: #434B5C;\n",
              "      box-shadow: 0px 1px 3px 1px rgba(0, 0, 0, 0.15);\n",
              "      filter: drop-shadow(0px 1px 2px rgba(0, 0, 0, 0.3));\n",
              "      fill: #FFFFFF;\n",
              "    }\n",
              "  </style>\n",
              "\n",
              "    <script>\n",
              "      const buttonEl =\n",
              "        document.querySelector('#df-ccae4169-670b-40c4-a507-367bf730c16d button.colab-df-convert');\n",
              "      buttonEl.style.display =\n",
              "        google.colab.kernel.accessAllowed ? 'block' : 'none';\n",
              "\n",
              "      async function convertToInteractive(key) {\n",
              "        const element = document.querySelector('#df-ccae4169-670b-40c4-a507-367bf730c16d');\n",
              "        const dataTable =\n",
              "          await google.colab.kernel.invokeFunction('convertToInteractive',\n",
              "                                                    [key], {});\n",
              "        if (!dataTable) return;\n",
              "\n",
              "        const docLinkHtml = 'Like what you see? Visit the ' +\n",
              "          '<a target=\"_blank\" href=https://colab.research.google.com/notebooks/data_table.ipynb>data table notebook</a>'\n",
              "          + ' to learn more about interactive tables.';\n",
              "        element.innerHTML = '';\n",
              "        dataTable['output_type'] = 'display_data';\n",
              "        await google.colab.output.renderOutput(dataTable, element);\n",
              "        const docLink = document.createElement('div');\n",
              "        docLink.innerHTML = docLinkHtml;\n",
              "        element.appendChild(docLink);\n",
              "      }\n",
              "    </script>\n",
              "  </div>\n",
              "\n",
              "\n",
              "<div id=\"df-20ed532d-5d7d-4089-b720-0e35af3b3d06\">\n",
              "  <button class=\"colab-df-quickchart\" onclick=\"quickchart('df-20ed532d-5d7d-4089-b720-0e35af3b3d06')\"\n",
              "            title=\"Suggest charts.\"\n",
              "            style=\"display:none;\">\n",
              "\n",
              "<svg xmlns=\"http://www.w3.org/2000/svg\" height=\"24px\"viewBox=\"0 0 24 24\"\n",
              "     width=\"24px\">\n",
              "    <g>\n",
              "        <path d=\"M19 3H5c-1.1 0-2 .9-2 2v14c0 1.1.9 2 2 2h14c1.1 0 2-.9 2-2V5c0-1.1-.9-2-2-2zM9 17H7v-7h2v7zm4 0h-2V7h2v10zm4 0h-2v-4h2v4z\"/>\n",
              "    </g>\n",
              "</svg>\n",
              "  </button>\n",
              "\n",
              "<style>\n",
              "  .colab-df-quickchart {\n",
              "      --bg-color: #E8F0FE;\n",
              "      --fill-color: #1967D2;\n",
              "      --hover-bg-color: #E2EBFA;\n",
              "      --hover-fill-color: #174EA6;\n",
              "      --disabled-fill-color: #AAA;\n",
              "      --disabled-bg-color: #DDD;\n",
              "  }\n",
              "\n",
              "  [theme=dark] .colab-df-quickchart {\n",
              "      --bg-color: #3B4455;\n",
              "      --fill-color: #D2E3FC;\n",
              "      --hover-bg-color: #434B5C;\n",
              "      --hover-fill-color: #FFFFFF;\n",
              "      --disabled-bg-color: #3B4455;\n",
              "      --disabled-fill-color: #666;\n",
              "  }\n",
              "\n",
              "  .colab-df-quickchart {\n",
              "    background-color: var(--bg-color);\n",
              "    border: none;\n",
              "    border-radius: 50%;\n",
              "    cursor: pointer;\n",
              "    display: none;\n",
              "    fill: var(--fill-color);\n",
              "    height: 32px;\n",
              "    padding: 0;\n",
              "    width: 32px;\n",
              "  }\n",
              "\n",
              "  .colab-df-quickchart:hover {\n",
              "    background-color: var(--hover-bg-color);\n",
              "    box-shadow: 0 1px 2px rgba(60, 64, 67, 0.3), 0 1px 3px 1px rgba(60, 64, 67, 0.15);\n",
              "    fill: var(--button-hover-fill-color);\n",
              "  }\n",
              "\n",
              "  .colab-df-quickchart-complete:disabled,\n",
              "  .colab-df-quickchart-complete:disabled:hover {\n",
              "    background-color: var(--disabled-bg-color);\n",
              "    fill: var(--disabled-fill-color);\n",
              "    box-shadow: none;\n",
              "  }\n",
              "\n",
              "  .colab-df-spinner {\n",
              "    border: 2px solid var(--fill-color);\n",
              "    border-color: transparent;\n",
              "    border-bottom-color: var(--fill-color);\n",
              "    animation:\n",
              "      spin 1s steps(1) infinite;\n",
              "  }\n",
              "\n",
              "  @keyframes spin {\n",
              "    0% {\n",
              "      border-color: transparent;\n",
              "      border-bottom-color: var(--fill-color);\n",
              "      border-left-color: var(--fill-color);\n",
              "    }\n",
              "    20% {\n",
              "      border-color: transparent;\n",
              "      border-left-color: var(--fill-color);\n",
              "      border-top-color: var(--fill-color);\n",
              "    }\n",
              "    30% {\n",
              "      border-color: transparent;\n",
              "      border-left-color: var(--fill-color);\n",
              "      border-top-color: var(--fill-color);\n",
              "      border-right-color: var(--fill-color);\n",
              "    }\n",
              "    40% {\n",
              "      border-color: transparent;\n",
              "      border-right-color: var(--fill-color);\n",
              "      border-top-color: var(--fill-color);\n",
              "    }\n",
              "    60% {\n",
              "      border-color: transparent;\n",
              "      border-right-color: var(--fill-color);\n",
              "    }\n",
              "    80% {\n",
              "      border-color: transparent;\n",
              "      border-right-color: var(--fill-color);\n",
              "      border-bottom-color: var(--fill-color);\n",
              "    }\n",
              "    90% {\n",
              "      border-color: transparent;\n",
              "      border-bottom-color: var(--fill-color);\n",
              "    }\n",
              "  }\n",
              "</style>\n",
              "\n",
              "  <script>\n",
              "    async function quickchart(key) {\n",
              "      const quickchartButtonEl =\n",
              "        document.querySelector('#' + key + ' button');\n",
              "      quickchartButtonEl.disabled = true;  // To prevent multiple clicks.\n",
              "      quickchartButtonEl.classList.add('colab-df-spinner');\n",
              "      try {\n",
              "        const charts = await google.colab.kernel.invokeFunction(\n",
              "            'suggestCharts', [key], {});\n",
              "      } catch (error) {\n",
              "        console.error('Error during call to suggestCharts:', error);\n",
              "      }\n",
              "      quickchartButtonEl.classList.remove('colab-df-spinner');\n",
              "      quickchartButtonEl.classList.add('colab-df-quickchart-complete');\n",
              "    }\n",
              "    (() => {\n",
              "      let quickchartButtonEl =\n",
              "        document.querySelector('#df-20ed532d-5d7d-4089-b720-0e35af3b3d06 button');\n",
              "      quickchartButtonEl.style.display =\n",
              "        google.colab.kernel.accessAllowed ? 'block' : 'none';\n",
              "    })();\n",
              "  </script>\n",
              "</div>\n",
              "    </div>\n",
              "  </div>\n"
            ]
          },
          "metadata": {},
          "execution_count": 4
        }
      ]
    },
    {
      "cell_type": "markdown",
      "source": [
        "# **2. Проверьте данные на наличие пропусков. Удалите их в случае обнаружения.**"
      ],
      "metadata": {
        "id": "App_DwodaUNL"
      }
    },
    {
      "cell_type": "code",
      "source": [
        "df.info()"
      ],
      "metadata": {
        "colab": {
          "base_uri": "https://localhost:8080/"
        },
        "id": "A0fu_3aMaZEm",
        "outputId": "565bed00-81db-4fa1-d76e-4727df75d4cd"
      },
      "execution_count": null,
      "outputs": [
        {
          "output_type": "stream",
          "name": "stdout",
          "text": [
            "<class 'pandas.core.frame.DataFrame'>\n",
            "RangeIndex: 20640 entries, 0 to 20639\n",
            "Data columns (total 9 columns):\n",
            " #   Column       Non-Null Count  Dtype  \n",
            "---  ------       --------------  -----  \n",
            " 0   MedInc       20640 non-null  float64\n",
            " 1   HouseAge     20640 non-null  float64\n",
            " 2   AveRooms     20640 non-null  float64\n",
            " 3   AveBedrms    20640 non-null  float64\n",
            " 4   Population   20640 non-null  float64\n",
            " 5   AveOccup     20640 non-null  float64\n",
            " 6   Latitude     20640 non-null  float64\n",
            " 7   Longitude    20640 non-null  float64\n",
            " 8   MedHouseVal  20640 non-null  float64\n",
            "dtypes: float64(9)\n",
            "memory usage: 1.4 MB\n"
          ]
        }
      ]
    },
    {
      "cell_type": "markdown",
      "source": [
        "# **3. Разделите выборку на обучающее и тестовое подмножества. 80% данных оставить на обучающее множество, 20% - на тестовое.**"
      ],
      "metadata": {
        "id": "Az1vTjdwddJF"
      }
    },
    {
      "cell_type": "code",
      "source": [
        "from sklearn.model_selection import train_test_split"
      ],
      "metadata": {
        "id": "5FVyyKm-cJ-e"
      },
      "execution_count": null,
      "outputs": []
    },
    {
      "cell_type": "code",
      "source": [
        "X = df.drop(['MedHouseVal'], axis=1)"
      ],
      "metadata": {
        "id": "MwsSN95Qdvry"
      },
      "execution_count": null,
      "outputs": []
    },
    {
      "cell_type": "code",
      "source": [
        "y = df['MedHouseVal']"
      ],
      "metadata": {
        "id": "VBYwU4eRk0uU"
      },
      "execution_count": null,
      "outputs": []
    },
    {
      "cell_type": "code",
      "source": [
        "X_train, X_test, y_train, y_test = train_test_split(X, y, test_size=0.2, random_state=42)"
      ],
      "metadata": {
        "id": "ND_FMJbhd5Bk"
      },
      "execution_count": null,
      "outputs": []
    },
    {
      "cell_type": "markdown",
      "source": [
        "# **4. Постройте модель линейной регрессии. Вычислите метрики RMSE, R2 на обучающем и тестовом множестве.**"
      ],
      "metadata": {
        "id": "3i83uDH5eAJA"
      }
    },
    {
      "cell_type": "code",
      "source": [
        "from sklearn.linear_model import LinearRegression"
      ],
      "metadata": {
        "id": "_9rUorw2d-Rs"
      },
      "execution_count": null,
      "outputs": []
    },
    {
      "cell_type": "code",
      "source": [
        "model = LinearRegression()"
      ],
      "metadata": {
        "id": "-npGngaReI2y"
      },
      "execution_count": null,
      "outputs": []
    },
    {
      "cell_type": "code",
      "source": [
        "model.fit(X_train, y_train)"
      ],
      "metadata": {
        "colab": {
          "base_uri": "https://localhost:8080/",
          "height": 75
        },
        "id": "b_OxVaS9eKu8",
        "outputId": "c7071ee3-4e50-44c4-d765-b4162b4d963a"
      },
      "execution_count": null,
      "outputs": [
        {
          "output_type": "execute_result",
          "data": {
            "text/plain": [
              "LinearRegression()"
            ],
            "text/html": [
              "<style>#sk-container-id-1 {color: black;background-color: white;}#sk-container-id-1 pre{padding: 0;}#sk-container-id-1 div.sk-toggleable {background-color: white;}#sk-container-id-1 label.sk-toggleable__label {cursor: pointer;display: block;width: 100%;margin-bottom: 0;padding: 0.3em;box-sizing: border-box;text-align: center;}#sk-container-id-1 label.sk-toggleable__label-arrow:before {content: \"▸\";float: left;margin-right: 0.25em;color: #696969;}#sk-container-id-1 label.sk-toggleable__label-arrow:hover:before {color: black;}#sk-container-id-1 div.sk-estimator:hover label.sk-toggleable__label-arrow:before {color: black;}#sk-container-id-1 div.sk-toggleable__content {max-height: 0;max-width: 0;overflow: hidden;text-align: left;background-color: #f0f8ff;}#sk-container-id-1 div.sk-toggleable__content pre {margin: 0.2em;color: black;border-radius: 0.25em;background-color: #f0f8ff;}#sk-container-id-1 input.sk-toggleable__control:checked~div.sk-toggleable__content {max-height: 200px;max-width: 100%;overflow: auto;}#sk-container-id-1 input.sk-toggleable__control:checked~label.sk-toggleable__label-arrow:before {content: \"▾\";}#sk-container-id-1 div.sk-estimator input.sk-toggleable__control:checked~label.sk-toggleable__label {background-color: #d4ebff;}#sk-container-id-1 div.sk-label input.sk-toggleable__control:checked~label.sk-toggleable__label {background-color: #d4ebff;}#sk-container-id-1 input.sk-hidden--visually {border: 0;clip: rect(1px 1px 1px 1px);clip: rect(1px, 1px, 1px, 1px);height: 1px;margin: -1px;overflow: hidden;padding: 0;position: absolute;width: 1px;}#sk-container-id-1 div.sk-estimator {font-family: monospace;background-color: #f0f8ff;border: 1px dotted black;border-radius: 0.25em;box-sizing: border-box;margin-bottom: 0.5em;}#sk-container-id-1 div.sk-estimator:hover {background-color: #d4ebff;}#sk-container-id-1 div.sk-parallel-item::after {content: \"\";width: 100%;border-bottom: 1px solid gray;flex-grow: 1;}#sk-container-id-1 div.sk-label:hover label.sk-toggleable__label {background-color: #d4ebff;}#sk-container-id-1 div.sk-serial::before {content: \"\";position: absolute;border-left: 1px solid gray;box-sizing: border-box;top: 0;bottom: 0;left: 50%;z-index: 0;}#sk-container-id-1 div.sk-serial {display: flex;flex-direction: column;align-items: center;background-color: white;padding-right: 0.2em;padding-left: 0.2em;position: relative;}#sk-container-id-1 div.sk-item {position: relative;z-index: 1;}#sk-container-id-1 div.sk-parallel {display: flex;align-items: stretch;justify-content: center;background-color: white;position: relative;}#sk-container-id-1 div.sk-item::before, #sk-container-id-1 div.sk-parallel-item::before {content: \"\";position: absolute;border-left: 1px solid gray;box-sizing: border-box;top: 0;bottom: 0;left: 50%;z-index: -1;}#sk-container-id-1 div.sk-parallel-item {display: flex;flex-direction: column;z-index: 1;position: relative;background-color: white;}#sk-container-id-1 div.sk-parallel-item:first-child::after {align-self: flex-end;width: 50%;}#sk-container-id-1 div.sk-parallel-item:last-child::after {align-self: flex-start;width: 50%;}#sk-container-id-1 div.sk-parallel-item:only-child::after {width: 0;}#sk-container-id-1 div.sk-dashed-wrapped {border: 1px dashed gray;margin: 0 0.4em 0.5em 0.4em;box-sizing: border-box;padding-bottom: 0.4em;background-color: white;}#sk-container-id-1 div.sk-label label {font-family: monospace;font-weight: bold;display: inline-block;line-height: 1.2em;}#sk-container-id-1 div.sk-label-container {text-align: center;}#sk-container-id-1 div.sk-container {/* jupyter's `normalize.less` sets `[hidden] { display: none; }` but bootstrap.min.css set `[hidden] { display: none !important; }` so we also need the `!important` here to be able to override the default hidden behavior on the sphinx rendered scikit-learn.org. See: https://github.com/scikit-learn/scikit-learn/issues/21755 */display: inline-block !important;position: relative;}#sk-container-id-1 div.sk-text-repr-fallback {display: none;}</style><div id=\"sk-container-id-1\" class=\"sk-top-container\"><div class=\"sk-text-repr-fallback\"><pre>LinearRegression()</pre><b>In a Jupyter environment, please rerun this cell to show the HTML representation or trust the notebook. <br />On GitHub, the HTML representation is unable to render, please try loading this page with nbviewer.org.</b></div><div class=\"sk-container\" hidden><div class=\"sk-item\"><div class=\"sk-estimator sk-toggleable\"><input class=\"sk-toggleable__control sk-hidden--visually\" id=\"sk-estimator-id-1\" type=\"checkbox\" checked><label for=\"sk-estimator-id-1\" class=\"sk-toggleable__label sk-toggleable__label-arrow\">LinearRegression</label><div class=\"sk-toggleable__content\"><pre>LinearRegression()</pre></div></div></div></div></div>"
            ]
          },
          "metadata": {},
          "execution_count": 12
        }
      ]
    },
    {
      "cell_type": "code",
      "source": [
        "from sklearn.metrics import r2_score"
      ],
      "metadata": {
        "id": "nePTQJLLgI7p"
      },
      "execution_count": null,
      "outputs": []
    },
    {
      "cell_type": "code",
      "source": [
        "r2_score_1_test = r2_score(y_test, model.predict(X_test))\n",
        "print(r2_score_1_test)"
      ],
      "metadata": {
        "colab": {
          "base_uri": "https://localhost:8080/"
        },
        "id": "UPXmSJIwiJqY",
        "outputId": "547e5601-33d9-4752-80ad-292847ffc1ef"
      },
      "execution_count": null,
      "outputs": [
        {
          "output_type": "stream",
          "name": "stdout",
          "text": [
            "0.5757877060324508\n"
          ]
        }
      ]
    },
    {
      "cell_type": "code",
      "source": [],
      "metadata": {
        "id": "gctWZ5d3_aTR"
      },
      "execution_count": null,
      "outputs": []
    },
    {
      "cell_type": "code",
      "source": [
        "r2_score_1_train = r2_score(y_train, model.predict(X_train))\n",
        "print(r2_score_1_train)"
      ],
      "metadata": {
        "colab": {
          "base_uri": "https://localhost:8080/"
        },
        "id": "MoVHVV1liLpf",
        "outputId": "785026cb-273b-4eca-bfc1-1a4485848169"
      },
      "execution_count": null,
      "outputs": [
        {
          "output_type": "stream",
          "name": "stdout",
          "text": [
            "0.6125511913966952\n"
          ]
        }
      ]
    },
    {
      "cell_type": "code",
      "source": [
        "from sklearn.metrics import mean_squared_error\n",
        "import numpy as np"
      ],
      "metadata": {
        "id": "JARwBxbiiifV"
      },
      "execution_count": null,
      "outputs": []
    },
    {
      "cell_type": "code",
      "source": [
        "RMSE_1_test = np.sqrt(mean_squared_error(y_test, model.predict(X_test)))\n",
        "print(RMSE_1_test)"
      ],
      "metadata": {
        "colab": {
          "base_uri": "https://localhost:8080/"
        },
        "id": "Yka0nNc-ildb",
        "outputId": "45021188-8d65-4f52-d598-dc59860f9a43"
      },
      "execution_count": null,
      "outputs": [
        {
          "output_type": "stream",
          "name": "stdout",
          "text": [
            "0.7455813830127764\n"
          ]
        }
      ]
    },
    {
      "cell_type": "code",
      "source": [
        "RMSE_1_train = np.sqrt(mean_squared_error(y_train, model.predict(X_train)))\n",
        "print(RMSE_1_train)"
      ],
      "metadata": {
        "colab": {
          "base_uri": "https://localhost:8080/"
        },
        "id": "hB3Ns7pujDwg",
        "outputId": "5f3b88d9-21af-415e-874e-8b999ca20b19"
      },
      "execution_count": null,
      "outputs": [
        {
          "output_type": "stream",
          "name": "stdout",
          "text": [
            "0.7196757085831575\n"
          ]
        }
      ]
    },
    {
      "cell_type": "markdown",
      "source": [
        "# **5. Постройте график распределения целевой переменной. Сделайте вывод. Присутствуют ли в этом признаке выбросы?**"
      ],
      "metadata": {
        "id": "bxbWeB37jlG0"
      }
    },
    {
      "cell_type": "code",
      "source": [
        "import matplotlib.pyplot as plt"
      ],
      "metadata": {
        "id": "aSgH5GQvjpeK"
      },
      "execution_count": null,
      "outputs": []
    },
    {
      "cell_type": "code",
      "source": [
        "plt.figure(figsize=(7, 7))\n",
        "plt.boxplot(df['MedHouseVal'])\n",
        "plt.title(\"Ящик с усами по целевому признаку\")"
      ],
      "metadata": {
        "colab": {
          "base_uri": "https://localhost:8080/",
          "height": 639
        },
        "id": "sGZdfrd0kHJq",
        "outputId": "0bdd44b0-133c-45d2-bfba-e4c37c39c484"
      },
      "execution_count": null,
      "outputs": [
        {
          "output_type": "execute_result",
          "data": {
            "text/plain": [
              "Text(0.5, 1.0, 'Ящик с усами по целевому признаку')"
            ]
          },
          "metadata": {},
          "execution_count": 20
        },
        {
          "output_type": "display_data",
          "data": {
            "text/plain": [
              "<Figure size 700x700 with 1 Axes>"
            ],
            "image/png": "[encoded data removed]"
          },
          "metadata": {}
        }
      ]
    },
    {
      "cell_type": "code",
      "source": [
        "plt.figure(figsize=(7, 7))\n",
        "plt.hist(df['MedHouseVal'], bins = 100)\n",
        "plt.title(\"График распределения целевой переменной\")"
      ],
      "metadata": {
        "colab": {
          "base_uri": "https://localhost:8080/",
          "height": 639
        },
        "id": "zSCS9v8wl9kU",
        "outputId": "40cb7ed7-be1b-4b2b-98e8-c96f385942c7"
      },
      "execution_count": null,
      "outputs": [
        {
          "output_type": "execute_result",
          "data": {
            "text/plain": [
              "Text(0.5, 1.0, 'График распределения целевой переменной')"
            ]
          },
          "metadata": {},
          "execution_count": 21
        },
        {
          "output_type": "display_data",
          "data": {
            "text/plain": [
              "<Figure size 700x700 with 1 Axes>"
            ],
            "image/png": "[encoded data removed]"
          },
          "metadata": {}
        }
      ]
    },
    {
      "cell_type": "markdown",
      "source": [
        "**Да, выбросы присутствут в районе 5**"
      ],
      "metadata": {
        "id": "LtfJp2b_kZiW"
      }
    },
    {
      "cell_type": "markdown",
      "source": [
        "# **6. Посчитайте и выведите корреляционную матрицу. Убедитесь, что ячейки матрицы поделены на цветные категории, в ячейках указано числовое значение корреляции.**"
      ],
      "metadata": {
        "id": "LzdrvEgHnHSs"
      }
    },
    {
      "cell_type": "code",
      "source": [
        "corr = df.corr()\n",
        "corr.style.background_gradient(cmap='RdYlGn')"
      ],
      "metadata": {
        "colab": {
          "base_uri": "https://localhost:8080/",
          "height": 332
        },
        "id": "0Zim-XwdnD0T",
        "outputId": "3b394c78-b459-4cad-e56a-cc076b7497af"
      },
      "execution_count": null,
      "outputs": [
        {
          "output_type": "execute_result",
          "data": {
            "text/plain": [
              "<pandas.io.formats.style.Styler at 0x7fa394428c10>"
            ],
            "text/html": [
              "<style type=\"text/css\">\n",
              "#T_d8c63_row0_col0, #T_d8c63_row1_col1, #T_d8c63_row2_col2, #T_d8c63_row3_col3, #T_d8c63_row4_col4, #T_d8c63_row5_col5, #T_d8c63_row6_col6, #T_d8c63_row7_col7, #T_d8c63_row8_col8 {\n",
              "  background-color: #006837;\n",
              "  color: #f1f1f1;\n",
              "}\n",
              "#T_d8c63_row0_col1 {\n",
              "  background-color: #e14430;\n",
              "  color: #f1f1f1;\n",
              "}\n",
              "#T_d8c63_row0_col2 {\n",
              "  background-color: #fee593;\n",
              "  color: #000000;\n",
              "}\n",
              "#T_d8c63_row0_col3 {\n",
              "  background-color: #ab0626;\n",
              "  color: #f1f1f1;\n",
              "}\n",
              "#T_d8c63_row0_col4 {\n",
              "  background-color: #f7814c;\n",
              "  color: #f1f1f1;\n",
              "}\n",
              "#T_d8c63_row0_col5 {\n",
              "  background-color: #b91326;\n",
              "  color: #f1f1f1;\n",
              "}\n",
              "#T_d8c63_row0_col6 {\n",
              "  background-color: #feec9f;\n",
              "  color: #000000;\n",
              "}\n",
              "#T_d8c63_row0_col7 {\n",
              "  background-color: #fff6b0;\n",
              "  color: #000000;\n",
              "}\n",
              "#T_d8c63_row0_col8 {\n",
              "  background-color: #93d168;\n",
              "  color: #000000;\n",
              "}\n",
              "#T_d8c63_row1_col0, #T_d8c63_row1_col2, #T_d8c63_row1_col3, #T_d8c63_row1_col4, #T_d8c63_row4_col1, #T_d8c63_row6_col7, #T_d8c63_row6_col8, #T_d8c63_row7_col6, #T_d8c63_row8_col5 {\n",
              "  background-color: #a50026;\n",
              "  color: #f1f1f1;\n",
              "}\n",
              "#T_d8c63_row1_col5 {\n",
              "  background-color: #b71126;\n",
              "  color: #f1f1f1;\n",
              "}\n",
              "#T_d8c63_row1_col6, #T_d8c63_row3_col7 {\n",
              "  background-color: #fffbb8;\n",
              "  color: #000000;\n",
              "}\n",
              "#T_d8c63_row1_col7, #T_d8c63_row4_col6 {\n",
              "  background-color: #fee797;\n",
              "  color: #000000;\n",
              "}\n",
              "#T_d8c63_row1_col8 {\n",
              "  background-color: #f57748;\n",
              "  color: #f1f1f1;\n",
              "}\n",
              "#T_d8c63_row2_col0 {\n",
              "  background-color: #fee08b;\n",
              "  color: #000000;\n",
              "}\n",
              "#T_d8c63_row2_col1, #T_d8c63_row4_col0 {\n",
              "  background-color: #da362a;\n",
              "  color: #f1f1f1;\n",
              "}\n",
              "#T_d8c63_row2_col3 {\n",
              "  background-color: #39a758;\n",
              "  color: #f1f1f1;\n",
              "}\n",
              "#T_d8c63_row2_col4 {\n",
              "  background-color: #ec5c3b;\n",
              "  color: #f1f1f1;\n",
              "}\n",
              "#T_d8c63_row2_col5, #T_d8c63_row3_col5 {\n",
              "  background-color: #ad0826;\n",
              "  color: #f1f1f1;\n",
              "}\n",
              "#T_d8c63_row2_col6 {\n",
              "  background-color: #f1f9ac;\n",
              "  color: #000000;\n",
              "}\n",
              "#T_d8c63_row2_col7 {\n",
              "  background-color: #fff5ae;\n",
              "  color: #000000;\n",
              "}\n",
              "#T_d8c63_row2_col8 {\n",
              "  background-color: #f99355;\n",
              "  color: #000000;\n",
              "}\n",
              "#T_d8c63_row3_col0 {\n",
              "  background-color: #be1827;\n",
              "  color: #f1f1f1;\n",
              "}\n",
              "#T_d8c63_row3_col1 {\n",
              "  background-color: #eb5a3a;\n",
              "  color: #f1f1f1;\n",
              "}\n",
              "#T_d8c63_row3_col2 {\n",
              "  background-color: #30a356;\n",
              "  color: #f1f1f1;\n",
              "}\n",
              "#T_d8c63_row3_col4 {\n",
              "  background-color: #ed5f3c;\n",
              "  color: #f1f1f1;\n",
              "}\n",
              "#T_d8c63_row3_col6 {\n",
              "  background-color: #f8fcb6;\n",
              "  color: #000000;\n",
              "}\n",
              "#T_d8c63_row3_col8, #T_d8c63_row7_col3, #T_d8c63_row7_col8 {\n",
              "  background-color: #ce2827;\n",
              "  color: #f1f1f1;\n",
              "}\n",
              "#T_d8c63_row4_col2 {\n",
              "  background-color: #c62027;\n",
              "  color: #f1f1f1;\n",
              "}\n",
              "#T_d8c63_row4_col3 {\n",
              "  background-color: #a90426;\n",
              "  color: #f1f1f1;\n",
              "}\n",
              "#T_d8c63_row4_col5, #T_d8c63_row7_col0 {\n",
              "  background-color: #d22b27;\n",
              "  color: #f1f1f1;\n",
              "}\n",
              "#T_d8c63_row4_col7 {\n",
              "  background-color: #f2faae;\n",
              "  color: #000000;\n",
              "}\n",
              "#T_d8c63_row4_col8, #T_d8c63_row5_col8 {\n",
              "  background-color: #d83128;\n",
              "  color: #f1f1f1;\n",
              "}\n",
              "#T_d8c63_row5_col0 {\n",
              "  background-color: #dd3d2d;\n",
              "  color: #f1f1f1;\n",
              "}\n",
              "#T_d8c63_row5_col1 {\n",
              "  background-color: #f8864f;\n",
              "  color: #f1f1f1;\n",
              "}\n",
              "#T_d8c63_row5_col2 {\n",
              "  background-color: #de402e;\n",
              "  color: #f1f1f1;\n",
              "}\n",
              "#T_d8c63_row5_col3 {\n",
              "  background-color: #c41e27;\n",
              "  color: #f1f1f1;\n",
              "}\n",
              "#T_d8c63_row5_col4 {\n",
              "  background-color: #fba35c;\n",
              "  color: #000000;\n",
              "}\n",
              "#T_d8c63_row5_col6, #T_d8c63_row5_col7 {\n",
              "  background-color: #fffab6;\n",
              "  color: #000000;\n",
              "}\n",
              "#T_d8c63_row6_col0 {\n",
              "  background-color: #b50f26;\n",
              "  color: #f1f1f1;\n",
              "}\n",
              "#T_d8c63_row6_col1 {\n",
              "  background-color: #f7844e;\n",
              "  color: #f1f1f1;\n",
              "}\n",
              "#T_d8c63_row6_col2 {\n",
              "  background-color: #f67c4a;\n",
              "  color: #f1f1f1;\n",
              "}\n",
              "#T_d8c63_row6_col3 {\n",
              "  background-color: #e24731;\n",
              "  color: #f1f1f1;\n",
              "}\n",
              "#T_d8c63_row6_col4, #T_d8c63_row7_col1 {\n",
              "  background-color: #e44c34;\n",
              "  color: #f1f1f1;\n",
              "}\n",
              "#T_d8c63_row6_col5, #T_d8c63_row7_col5 {\n",
              "  background-color: #b10b26;\n",
              "  color: #f1f1f1;\n",
              "}\n",
              "#T_d8c63_row7_col2 {\n",
              "  background-color: #d93429;\n",
              "  color: #f1f1f1;\n",
              "}\n",
              "#T_d8c63_row7_col4 {\n",
              "  background-color: #fdb163;\n",
              "  color: #000000;\n",
              "}\n",
              "#T_d8c63_row8_col0 {\n",
              "  background-color: #98d368;\n",
              "  color: #000000;\n",
              "}\n",
              "#T_d8c63_row8_col1 {\n",
              "  background-color: #fdb365;\n",
              "  color: #000000;\n",
              "}\n",
              "#T_d8c63_row8_col2 {\n",
              "  background-color: #fa9656;\n",
              "  color: #000000;\n",
              "}\n",
              "#T_d8c63_row8_col3 {\n",
              "  background-color: #b30d26;\n",
              "  color: #f1f1f1;\n",
              "}\n",
              "#T_d8c63_row8_col4 {\n",
              "  background-color: #f57245;\n",
              "  color: #f1f1f1;\n",
              "}\n",
              "#T_d8c63_row8_col6 {\n",
              "  background-color: #fee18d;\n",
              "  color: #000000;\n",
              "}\n",
              "#T_d8c63_row8_col7 {\n",
              "  background-color: #fff1a8;\n",
              "  color: #000000;\n",
              "}\n",
              "</style>\n",
              "<table id=\"T_d8c63\" class=\"dataframe\">\n",
              "  <thead>\n",
              "    <tr>\n",
              "      <th class=\"blank level0\" >&nbsp;</th>\n",
              "      <th id=\"T_d8c63_level0_col0\" class=\"col_heading level0 col0\" >MedInc</th>\n",
              "      <th id=\"T_d8c63_level0_col1\" class=\"col_heading level0 col1\" >HouseAge</th>\n",
              "      <th id=\"T_d8c63_level0_col2\" class=\"col_heading level0 col2\" >AveRooms</th>\n",
              "      <th id=\"T_d8c63_level0_col3\" class=\"col_heading level0 col3\" >AveBedrms</th>\n",
              "      <th id=\"T_d8c63_level0_col4\" class=\"col_heading level0 col4\" >Population</th>\n",
              "      <th id=\"T_d8c63_level0_col5\" class=\"col_heading level0 col5\" >AveOccup</th>\n",
              "      <th id=\"T_d8c63_level0_col6\" class=\"col_heading level0 col6\" >Latitude</th>\n",
              "      <th id=\"T_d8c63_level0_col7\" class=\"col_heading level0 col7\" >Longitude</th>\n",
              "      <th id=\"T_d8c63_level0_col8\" class=\"col_heading level0 col8\" >MedHouseVal</th>\n",
              "    </tr>\n",
              "  </thead>\n",
              "  <tbody>\n",
              "    <tr>\n",
              "      <th id=\"T_d8c63_level0_row0\" class=\"row_heading level0 row0\" >MedInc</th>\n",
              "      <td id=\"T_d8c63_row0_col0\" class=\"data row0 col0\" >1.000000</td>\n",
              "      <td id=\"T_d8c63_row0_col1\" class=\"data row0 col1\" >-0.119034</td>\n",
              "      <td id=\"T_d8c63_row0_col2\" class=\"data row0 col2\" >0.326895</td>\n",
              "      <td id=\"T_d8c63_row0_col3\" class=\"data row0 col3\" >-0.062040</td>\n",
              "      <td id=\"T_d8c63_row0_col4\" class=\"data row0 col4\" >0.004834</td>\n",
              "      <td id=\"T_d8c63_row0_col5\" class=\"data row0 col5\" >0.018766</td>\n",
              "      <td id=\"T_d8c63_row0_col6\" class=\"data row0 col6\" >-0.079809</td>\n",
              "      <td id=\"T_d8c63_row0_col7\" class=\"data row0 col7\" >-0.015176</td>\n",
              "      <td id=\"T_d8c63_row0_col8\" class=\"data row0 col8\" >0.688075</td>\n",
              "    </tr>\n",
              "    <tr>\n",
              "      <th id=\"T_d8c63_level0_row1\" class=\"row_heading level0 row1\" >HouseAge</th>\n",
              "      <td id=\"T_d8c63_row1_col0\" class=\"data row1 col0\" >-0.119034</td>\n",
              "      <td id=\"T_d8c63_row1_col1\" class=\"data row1 col1\" >1.000000</td>\n",
              "      <td id=\"T_d8c63_row1_col2\" class=\"data row1 col2\" >-0.153277</td>\n",
              "      <td id=\"T_d8c63_row1_col3\" class=\"data row1 col3\" >-0.077747</td>\n",
              "      <td id=\"T_d8c63_row1_col4\" class=\"data row1 col4\" >-0.296244</td>\n",
              "      <td id=\"T_d8c63_row1_col5\" class=\"data row1 col5\" >0.013191</td>\n",
              "      <td id=\"T_d8c63_row1_col6\" class=\"data row1 col6\" >0.011173</td>\n",
              "      <td id=\"T_d8c63_row1_col7\" class=\"data row1 col7\" >-0.108197</td>\n",
              "      <td id=\"T_d8c63_row1_col8\" class=\"data row1 col8\" >0.105623</td>\n",
              "    </tr>\n",
              "    <tr>\n",
              "      <th id=\"T_d8c63_level0_row2\" class=\"row_heading level0 row2\" >AveRooms</th>\n",
              "      <td id=\"T_d8c63_row2_col0\" class=\"data row2 col0\" >0.326895</td>\n",
              "      <td id=\"T_d8c63_row2_col1\" class=\"data row2 col1\" >-0.153277</td>\n",
              "      <td id=\"T_d8c63_row2_col2\" class=\"data row2 col2\" >1.000000</td>\n",
              "      <td id=\"T_d8c63_row2_col3\" class=\"data row2 col3\" >0.847621</td>\n",
              "      <td id=\"T_d8c63_row2_col4\" class=\"data row2 col4\" >-0.072213</td>\n",
              "      <td id=\"T_d8c63_row2_col5\" class=\"data row2 col5\" >-0.004852</td>\n",
              "      <td id=\"T_d8c63_row2_col6\" class=\"data row2 col6\" >0.106389</td>\n",
              "      <td id=\"T_d8c63_row2_col7\" class=\"data row2 col7\" >-0.027540</td>\n",
              "      <td id=\"T_d8c63_row2_col8\" class=\"data row2 col8\" >0.151948</td>\n",
              "    </tr>\n",
              "    <tr>\n",
              "      <th id=\"T_d8c63_level0_row3\" class=\"row_heading level0 row3\" >AveBedrms</th>\n",
              "      <td id=\"T_d8c63_row3_col0\" class=\"data row3 col0\" >-0.062040</td>\n",
              "      <td id=\"T_d8c63_row3_col1\" class=\"data row3 col1\" >-0.077747</td>\n",
              "      <td id=\"T_d8c63_row3_col2\" class=\"data row3 col2\" >0.847621</td>\n",
              "      <td id=\"T_d8c63_row3_col3\" class=\"data row3 col3\" >1.000000</td>\n",
              "      <td id=\"T_d8c63_row3_col4\" class=\"data row3 col4\" >-0.066197</td>\n",
              "      <td id=\"T_d8c63_row3_col5\" class=\"data row3 col5\" >-0.006181</td>\n",
              "      <td id=\"T_d8c63_row3_col6\" class=\"data row3 col6\" >0.069721</td>\n",
              "      <td id=\"T_d8c63_row3_col7\" class=\"data row3 col7\" >0.013344</td>\n",
              "      <td id=\"T_d8c63_row3_col8\" class=\"data row3 col8\" >-0.046701</td>\n",
              "    </tr>\n",
              "    <tr>\n",
              "      <th id=\"T_d8c63_level0_row4\" class=\"row_heading level0 row4\" >Population</th>\n",
              "      <td id=\"T_d8c63_row4_col0\" class=\"data row4 col0\" >0.004834</td>\n",
              "      <td id=\"T_d8c63_row4_col1\" class=\"data row4 col1\" >-0.296244</td>\n",
              "      <td id=\"T_d8c63_row4_col2\" class=\"data row4 col2\" >-0.072213</td>\n",
              "      <td id=\"T_d8c63_row4_col3\" class=\"data row4 col3\" >-0.066197</td>\n",
              "      <td id=\"T_d8c63_row4_col4\" class=\"data row4 col4\" >1.000000</td>\n",
              "      <td id=\"T_d8c63_row4_col5\" class=\"data row4 col5\" >0.069863</td>\n",
              "      <td id=\"T_d8c63_row4_col6\" class=\"data row4 col6\" >-0.108785</td>\n",
              "      <td id=\"T_d8c63_row4_col7\" class=\"data row4 col7\" >0.099773</td>\n",
              "      <td id=\"T_d8c63_row4_col8\" class=\"data row4 col8\" >-0.024650</td>\n",
              "    </tr>\n",
              "    <tr>\n",
              "      <th id=\"T_d8c63_level0_row5\" class=\"row_heading level0 row5\" >AveOccup</th>\n",
              "      <td id=\"T_d8c63_row5_col0\" class=\"data row5 col0\" >0.018766</td>\n",
              "      <td id=\"T_d8c63_row5_col1\" class=\"data row5 col1\" >0.013191</td>\n",
              "      <td id=\"T_d8c63_row5_col2\" class=\"data row5 col2\" >-0.004852</td>\n",
              "      <td id=\"T_d8c63_row5_col3\" class=\"data row5 col3\" >-0.006181</td>\n",
              "      <td id=\"T_d8c63_row5_col4\" class=\"data row5 col4\" >0.069863</td>\n",
              "      <td id=\"T_d8c63_row5_col5\" class=\"data row5 col5\" >1.000000</td>\n",
              "      <td id=\"T_d8c63_row5_col6\" class=\"data row5 col6\" >0.002366</td>\n",
              "      <td id=\"T_d8c63_row5_col7\" class=\"data row5 col7\" >0.002476</td>\n",
              "      <td id=\"T_d8c63_row5_col8\" class=\"data row5 col8\" >-0.023737</td>\n",
              "    </tr>\n",
              "    <tr>\n",
              "      <th id=\"T_d8c63_level0_row6\" class=\"row_heading level0 row6\" >Latitude</th>\n",
              "      <td id=\"T_d8c63_row6_col0\" class=\"data row6 col0\" >-0.079809</td>\n",
              "      <td id=\"T_d8c63_row6_col1\" class=\"data row6 col1\" >0.011173</td>\n",
              "      <td id=\"T_d8c63_row6_col2\" class=\"data row6 col2\" >0.106389</td>\n",
              "      <td id=\"T_d8c63_row6_col3\" class=\"data row6 col3\" >0.069721</td>\n",
              "      <td id=\"T_d8c63_row6_col4\" class=\"data row6 col4\" >-0.108785</td>\n",
              "      <td id=\"T_d8c63_row6_col5\" class=\"data row6 col5\" >0.002366</td>\n",
              "      <td id=\"T_d8c63_row6_col6\" class=\"data row6 col6\" >1.000000</td>\n",
              "      <td id=\"T_d8c63_row6_col7\" class=\"data row6 col7\" >-0.924664</td>\n",
              "      <td id=\"T_d8c63_row6_col8\" class=\"data row6 col8\" >-0.144160</td>\n",
              "    </tr>\n",
              "    <tr>\n",
              "      <th id=\"T_d8c63_level0_row7\" class=\"row_heading level0 row7\" >Longitude</th>\n",
              "      <td id=\"T_d8c63_row7_col0\" class=\"data row7 col0\" >-0.015176</td>\n",
              "      <td id=\"T_d8c63_row7_col1\" class=\"data row7 col1\" >-0.108197</td>\n",
              "      <td id=\"T_d8c63_row7_col2\" class=\"data row7 col2\" >-0.027540</td>\n",
              "      <td id=\"T_d8c63_row7_col3\" class=\"data row7 col3\" >0.013344</td>\n",
              "      <td id=\"T_d8c63_row7_col4\" class=\"data row7 col4\" >0.099773</td>\n",
              "      <td id=\"T_d8c63_row7_col5\" class=\"data row7 col5\" >0.002476</td>\n",
              "      <td id=\"T_d8c63_row7_col6\" class=\"data row7 col6\" >-0.924664</td>\n",
              "      <td id=\"T_d8c63_row7_col7\" class=\"data row7 col7\" >1.000000</td>\n",
              "      <td id=\"T_d8c63_row7_col8\" class=\"data row7 col8\" >-0.045967</td>\n",
              "    </tr>\n",
              "    <tr>\n",
              "      <th id=\"T_d8c63_level0_row8\" class=\"row_heading level0 row8\" >MedHouseVal</th>\n",
              "      <td id=\"T_d8c63_row8_col0\" class=\"data row8 col0\" >0.688075</td>\n",
              "      <td id=\"T_d8c63_row8_col1\" class=\"data row8 col1\" >0.105623</td>\n",
              "      <td id=\"T_d8c63_row8_col2\" class=\"data row8 col2\" >0.151948</td>\n",
              "      <td id=\"T_d8c63_row8_col3\" class=\"data row8 col3\" >-0.046701</td>\n",
              "      <td id=\"T_d8c63_row8_col4\" class=\"data row8 col4\" >-0.024650</td>\n",
              "      <td id=\"T_d8c63_row8_col5\" class=\"data row8 col5\" >-0.023737</td>\n",
              "      <td id=\"T_d8c63_row8_col6\" class=\"data row8 col6\" >-0.144160</td>\n",
              "      <td id=\"T_d8c63_row8_col7\" class=\"data row8 col7\" >-0.045967</td>\n",
              "      <td id=\"T_d8c63_row8_col8\" class=\"data row8 col8\" >1.000000</td>\n",
              "    </tr>\n",
              "  </tbody>\n",
              "</table>\n"
            ]
          },
          "metadata": {},
          "execution_count": 22
        }
      ]
    },
    {
      "cell_type": "markdown",
      "source": [
        "**a. Сделайте выводы.**\n",
        "\n",
        "1. Очень ярковыраженная корреляция между признаками AveRooms и AveBedrms. Последний можно исключить, так как с целевой переменной у него напротив корряция ниже\n",
        "\n",
        "2. Так же заметна корреляиция между Latitude и Longitude, но здесь, вероятно лучше оставить оба признака\n",
        "\n",
        "3. Так же имеется слабовыреженная корреляция между MedInc и AveRooms, а так же между HouseAge и Population. У признака AveRooms в целом неплохая корреляция с целевым, поэтому пока можно его оставить (при том, что мы убрали схожий признак в п.1), а в паре HouseAge/Population можно убрать Population."
      ],
      "metadata": {
        "id": "1Dn_I1nIpXN6"
      }
    },
    {
      "cell_type": "markdown",
      "source": [
        "**b. Удалите признаки на основании полученных значений, выводов.**"
      ],
      "metadata": {
        "id": "dUl38-PqqWfJ"
      }
    },
    {
      "cell_type": "code",
      "source": [
        "X1 = X.drop(['AveBedrms', 'Population'], axis=1)"
      ],
      "metadata": {
        "id": "Sb6IRKj-q1gF"
      },
      "execution_count": null,
      "outputs": []
    },
    {
      "cell_type": "markdown",
      "source": [
        "**c. Повторите п. 3, п. 4 на измененных данных.**"
      ],
      "metadata": {
        "id": "taKv9RbhrNx4"
      }
    },
    {
      "cell_type": "code",
      "source": [
        "X1_train, X1_test, y_train, y_test = train_test_split(X1, y, test_size=0.2, random_state=42)"
      ],
      "metadata": {
        "id": "Vt2pppD8rM5R"
      },
      "execution_count": null,
      "outputs": []
    },
    {
      "cell_type": "code",
      "source": [
        "model.fit(X1_train, y_train)"
      ],
      "metadata": {
        "colab": {
          "base_uri": "https://localhost:8080/",
          "height": 75
        },
        "id": "gL1bHuLBrXkZ",
        "outputId": "e6d31b2c-f67e-4e1d-a2ad-404f48f213fd"
      },
      "execution_count": null,
      "outputs": [
        {
          "output_type": "execute_result",
          "data": {
            "text/plain": [
              "LinearRegression()"
            ],
            "text/html": [
              "<style>#sk-container-id-2 {color: black;background-color: white;}#sk-container-id-2 pre{padding: 0;}#sk-container-id-2 div.sk-toggleable {background-color: white;}#sk-container-id-2 label.sk-toggleable__label {cursor: pointer;display: block;width: 100%;margin-bottom: 0;padding: 0.3em;box-sizing: border-box;text-align: center;}#sk-container-id-2 label.sk-toggleable__label-arrow:before {content: \"▸\";float: left;margin-right: 0.25em;color: #696969;}#sk-container-id-2 label.sk-toggleable__label-arrow:hover:before {color: black;}#sk-container-id-2 div.sk-estimator:hover label.sk-toggleable__label-arrow:before {color: black;}#sk-container-id-2 div.sk-toggleable__content {max-height: 0;max-width: 0;overflow: hidden;text-align: left;background-color: #f0f8ff;}#sk-container-id-2 div.sk-toggleable__content pre {margin: 0.2em;color: black;border-radius: 0.25em;background-color: #f0f8ff;}#sk-container-id-2 input.sk-toggleable__control:checked~div.sk-toggleable__content {max-height: 200px;max-width: 100%;overflow: auto;}#sk-container-id-2 input.sk-toggleable__control:checked~label.sk-toggleable__label-arrow:before {content: \"▾\";}#sk-container-id-2 div.sk-estimator input.sk-toggleable__control:checked~label.sk-toggleable__label {background-color: #d4ebff;}#sk-container-id-2 div.sk-label input.sk-toggleable__control:checked~label.sk-toggleable__label {background-color: #d4ebff;}#sk-container-id-2 input.sk-hidden--visually {border: 0;clip: rect(1px 1px 1px 1px);clip: rect(1px, 1px, 1px, 1px);height: 1px;margin: -1px;overflow: hidden;padding: 0;position: absolute;width: 1px;}#sk-container-id-2 div.sk-estimator {font-family: monospace;background-color: #f0f8ff;border: 1px dotted black;border-radius: 0.25em;box-sizing: border-box;margin-bottom: 0.5em;}#sk-container-id-2 div.sk-estimator:hover {background-color: #d4ebff;}#sk-container-id-2 div.sk-parallel-item::after {content: \"\";width: 100%;border-bottom: 1px solid gray;flex-grow: 1;}#sk-container-id-2 div.sk-label:hover label.sk-toggleable__label {background-color: #d4ebff;}#sk-container-id-2 div.sk-serial::before {content: \"\";position: absolute;border-left: 1px solid gray;box-sizing: border-box;top: 0;bottom: 0;left: 50%;z-index: 0;}#sk-container-id-2 div.sk-serial {display: flex;flex-direction: column;align-items: center;background-color: white;padding-right: 0.2em;padding-left: 0.2em;position: relative;}#sk-container-id-2 div.sk-item {position: relative;z-index: 1;}#sk-container-id-2 div.sk-parallel {display: flex;align-items: stretch;justify-content: center;background-color: white;position: relative;}#sk-container-id-2 div.sk-item::before, #sk-container-id-2 div.sk-parallel-item::before {content: \"\";position: absolute;border-left: 1px solid gray;box-sizing: border-box;top: 0;bottom: 0;left: 50%;z-index: -1;}#sk-container-id-2 div.sk-parallel-item {display: flex;flex-direction: column;z-index: 1;position: relative;background-color: white;}#sk-container-id-2 div.sk-parallel-item:first-child::after {align-self: flex-end;width: 50%;}#sk-container-id-2 div.sk-parallel-item:last-child::after {align-self: flex-start;width: 50%;}#sk-container-id-2 div.sk-parallel-item:only-child::after {width: 0;}#sk-container-id-2 div.sk-dashed-wrapped {border: 1px dashed gray;margin: 0 0.4em 0.5em 0.4em;box-sizing: border-box;padding-bottom: 0.4em;background-color: white;}#sk-container-id-2 div.sk-label label {font-family: monospace;font-weight: bold;display: inline-block;line-height: 1.2em;}#sk-container-id-2 div.sk-label-container {text-align: center;}#sk-container-id-2 div.sk-container {/* jupyter's `normalize.less` sets `[hidden] { display: none; }` but bootstrap.min.css set `[hidden] { display: none !important; }` so we also need the `!important` here to be able to override the default hidden behavior on the sphinx rendered scikit-learn.org. See: https://github.com/scikit-learn/scikit-learn/issues/21755 */display: inline-block !important;position: relative;}#sk-container-id-2 div.sk-text-repr-fallback {display: none;}</style><div id=\"sk-container-id-2\" class=\"sk-top-container\"><div class=\"sk-text-repr-fallback\"><pre>LinearRegression()</pre><b>In a Jupyter environment, please rerun this cell to show the HTML representation or trust the notebook. <br />On GitHub, the HTML representation is unable to render, please try loading this page with nbviewer.org.</b></div><div class=\"sk-container\" hidden><div class=\"sk-item\"><div class=\"sk-estimator sk-toggleable\"><input class=\"sk-toggleable__control sk-hidden--visually\" id=\"sk-estimator-id-2\" type=\"checkbox\" checked><label for=\"sk-estimator-id-2\" class=\"sk-toggleable__label sk-toggleable__label-arrow\">LinearRegression</label><div class=\"sk-toggleable__content\"><pre>LinearRegression()</pre></div></div></div></div></div>"
            ]
          },
          "metadata": {},
          "execution_count": 25
        }
      ]
    },
    {
      "cell_type": "code",
      "source": [
        "r2_score_2_test = r2_score(y_test, model.predict(X1_test))\n",
        "print(r2_score_2_test)"
      ],
      "metadata": {
        "colab": {
          "base_uri": "https://localhost:8080/"
        },
        "id": "6g6DEZyrrbp-",
        "outputId": "0da07f40-d109-464b-bcad-6943e469d1a5"
      },
      "execution_count": null,
      "outputs": [
        {
          "output_type": "stream",
          "name": "stdout",
          "text": [
            "0.5823077951522642\n"
          ]
        }
      ]
    },
    {
      "cell_type": "code",
      "source": [
        "r2_score_2_train = r2_score(y_train, model.predict(X1_train))\n",
        "print(r2_score_2_train)"
      ],
      "metadata": {
        "colab": {
          "base_uri": "https://localhost:8080/"
        },
        "id": "28YVxePVreVI",
        "outputId": "79efe977-6400-407d-f584-2ca0f6c63510"
      },
      "execution_count": null,
      "outputs": [
        {
          "output_type": "stream",
          "name": "stdout",
          "text": [
            "0.5995166482669017\n"
          ]
        }
      ]
    },
    {
      "cell_type": "code",
      "source": [
        "RMSE_2_test = np.sqrt(mean_squared_error(y_test, model.predict(X1_test)))\n",
        "print(RMSE_2_test)"
      ],
      "metadata": {
        "colab": {
          "base_uri": "https://localhost:8080/"
        },
        "id": "IiE4yGR9rg0Y",
        "outputId": "7a846214-33ce-4773-ec37-048e76ace801"
      },
      "execution_count": null,
      "outputs": [
        {
          "output_type": "stream",
          "name": "stdout",
          "text": [
            "0.7398294501935632\n"
          ]
        }
      ]
    },
    {
      "cell_type": "code",
      "source": [
        "RMSE_2_train = np.sqrt(mean_squared_error(y_train, model.predict(X1_train)))\n",
        "print(RMSE_2_train)"
      ],
      "metadata": {
        "colab": {
          "base_uri": "https://localhost:8080/"
        },
        "id": "3K11rcC_rk7q",
        "outputId": "a62459cd-3cc1-4567-b254-50a5f50aa546"
      },
      "execution_count": null,
      "outputs": [
        {
          "output_type": "stream",
          "name": "stdout",
          "text": [
            "0.731681227571958\n"
          ]
        }
      ]
    },
    {
      "cell_type": "markdown",
      "source": [
        "# **7. Исследуйте оставленные признаки на выбросы.**"
      ],
      "metadata": {
        "id": "CXcdzQH2s93a"
      }
    },
    {
      "cell_type": "code",
      "source": [
        "plt.figure(figsize=(7, 7))\n",
        "plt.boxplot(df['MedInc'])\n",
        "plt.title(\"Ящик с усами по MedInc\")"
      ],
      "metadata": {
        "colab": {
          "base_uri": "https://localhost:8080/",
          "height": 639
        },
        "id": "KR1HG9eSs3zh",
        "outputId": "96b2d953-2e38-421f-c841-2f6ce956f2a6"
      },
      "execution_count": null,
      "outputs": [
        {
          "output_type": "execute_result",
          "data": {
            "text/plain": [
              "Text(0.5, 1.0, 'Ящик с усами по MedInc')"
            ]
          },
          "metadata": {},
          "execution_count": 30
        },
        {
          "output_type": "display_data",
          "data": {
            "text/plain": [
              "<Figure size 700x700 with 1 Axes>"
            ],
            "image/png": "[encoded data removed]"
          },
          "metadata": {}
        }
      ]
    },
    {
      "cell_type": "code",
      "source": [
        "plt.figure(figsize=(7, 7))\n",
        "plt.boxplot(df['HouseAge'])\n",
        "plt.title(\"Ящик с усами по HouseAge\")"
      ],
      "metadata": {
        "colab": {
          "base_uri": "https://localhost:8080/",
          "height": 639
        },
        "id": "WF1Eq8XEtKya",
        "outputId": "6be4e4e0-6af7-4583-a5e1-957f19e39d58"
      },
      "execution_count": null,
      "outputs": [
        {
          "output_type": "execute_result",
          "data": {
            "text/plain": [
              "Text(0.5, 1.0, 'Ящик с усами по HouseAge')"
            ]
          },
          "metadata": {},
          "execution_count": 31
        },
        {
          "output_type": "display_data",
          "data": {
            "text/plain": [
              "<Figure size 700x700 with 1 Axes>"
            ],
            "image/png": "[encoded data removed]"
          },
          "metadata": {}
        }
      ]
    },
    {
      "cell_type": "code",
      "source": [
        "plt.figure(figsize=(7, 7))\n",
        "plt.boxplot(df['AveRooms'])\n",
        "plt.title(\"Ящик с усами по AveRooms\")"
      ],
      "metadata": {
        "colab": {
          "base_uri": "https://localhost:8080/",
          "height": 639
        },
        "id": "IpFUUqOftRZr",
        "outputId": "89011672-608c-4a53-91e7-803f04efb9c6"
      },
      "execution_count": null,
      "outputs": [
        {
          "output_type": "execute_result",
          "data": {
            "text/plain": [
              "Text(0.5, 1.0, 'Ящик с усами по AveRooms')"
            ]
          },
          "metadata": {},
          "execution_count": 32
        },
        {
          "output_type": "display_data",
          "data": {
            "text/plain": [
              "<Figure size 700x700 with 1 Axes>"
            ],
            "image/png": "[encoded data removed]"
          },
          "metadata": {}
        }
      ]
    },
    {
      "cell_type": "code",
      "source": [
        "plt.figure(figsize=(7, 7))\n",
        "plt.boxplot(df['AveOccup'])\n",
        "plt.title(\"Ящик с усами по AveOccup\")"
      ],
      "metadata": {
        "colab": {
          "base_uri": "https://localhost:8080/",
          "height": 639
        },
        "id": "961khrvotnCj",
        "outputId": "308a77b4-56de-4355-8276-53dcbcdacf36"
      },
      "execution_count": null,
      "outputs": [
        {
          "output_type": "execute_result",
          "data": {
            "text/plain": [
              "Text(0.5, 1.0, 'Ящик с усами по AveOccup')"
            ]
          },
          "metadata": {},
          "execution_count": 33
        },
        {
          "output_type": "display_data",
          "data": {
            "text/plain": [
              "<Figure size 700x700 with 1 Axes>"
            ],
            "image/png": "[encoded data removed]"
          },
          "metadata": {}
        }
      ]
    },
    {
      "cell_type": "code",
      "source": [
        "print(f\"Минимальная широта {df['Latitude'].min()}\")\n",
        "print(f\"Максимальная широта {df['Latitude'].max()}\")\n",
        "print(f\"Минимальная долгота {df['Longitude'].min()}\")\n",
        "print(f\"Максимальная долгота {df['Longitude'].max()}\")"
      ],
      "metadata": {
        "colab": {
          "base_uri": "https://localhost:8080/"
        },
        "id": "AkZ3x6swttl8",
        "outputId": "4997c3a9-7fd7-4ffb-d2b1-33070c6936a2"
      },
      "execution_count": null,
      "outputs": [
        {
          "output_type": "stream",
          "name": "stdout",
          "text": [
            "Минимальная широта 32.54\n",
            "Максимальная широта 41.95\n",
            "Минимальная долгота -124.35\n",
            "Максимальная долгота -114.31\n"
          ]
        }
      ]
    },
    {
      "cell_type": "markdown",
      "source": [
        "**a. Удалите выбросы в случае обнаружения.**"
      ],
      "metadata": {
        "id": "5VMkhS-mv7iF"
      }
    },
    {
      "cell_type": "code",
      "source": [
        "df1 = df[(df['MedInc'] < 8) & (df['AveRooms'] < 80) & (df['AveOccup'] < 200)]"
      ],
      "metadata": {
        "id": "XKyeBesOv-oW"
      },
      "execution_count": null,
      "outputs": []
    },
    {
      "cell_type": "markdown",
      "source": [
        "**b. Повторите п. 3, п. 4 на измененных данных.**"
      ],
      "metadata": {
        "id": "Cvp17JqJ1QDn"
      }
    },
    {
      "cell_type": "code",
      "source": [
        "X2 = df1.drop(['AveBedrms', 'Population', 'MedHouseVal'], axis=1)"
      ],
      "metadata": {
        "id": "HDNHkEVp09e2"
      },
      "execution_count": null,
      "outputs": []
    },
    {
      "cell_type": "code",
      "source": [
        "y2 = df1['MedHouseVal']"
      ],
      "metadata": {
        "id": "mJrZA8In1G1w"
      },
      "execution_count": null,
      "outputs": []
    },
    {
      "cell_type": "code",
      "source": [
        "X2_train, X2_test, y2_train, y2_test = train_test_split(X2, y2, test_size=0.2, random_state=42)"
      ],
      "metadata": {
        "id": "3RIjQUPB1YHm"
      },
      "execution_count": null,
      "outputs": []
    },
    {
      "cell_type": "code",
      "source": [
        "model.fit(X2_train, y2_train)"
      ],
      "metadata": {
        "colab": {
          "base_uri": "https://localhost:8080/",
          "height": 75
        },
        "id": "11ZJPFTX1Nh-",
        "outputId": "56a6b66e-a870-4205-c0e0-d7de9a9cc526"
      },
      "execution_count": null,
      "outputs": [
        {
          "output_type": "execute_result",
          "data": {
            "text/plain": [
              "LinearRegression()"
            ],
            "text/html": [
              "<style>#sk-container-id-3 {color: black;background-color: white;}#sk-container-id-3 pre{padding: 0;}#sk-container-id-3 div.sk-toggleable {background-color: white;}#sk-container-id-3 label.sk-toggleable__label {cursor: pointer;display: block;width: 100%;margin-bottom: 0;padding: 0.3em;box-sizing: border-box;text-align: center;}#sk-container-id-3 label.sk-toggleable__label-arrow:before {content: \"▸\";float: left;margin-right: 0.25em;color: #696969;}#sk-container-id-3 label.sk-toggleable__label-arrow:hover:before {color: black;}#sk-container-id-3 div.sk-estimator:hover label.sk-toggleable__label-arrow:before {color: black;}#sk-container-id-3 div.sk-toggleable__content {max-height: 0;max-width: 0;overflow: hidden;text-align: left;background-color: #f0f8ff;}#sk-container-id-3 div.sk-toggleable__content pre {margin: 0.2em;color: black;border-radius: 0.25em;background-color: #f0f8ff;}#sk-container-id-3 input.sk-toggleable__control:checked~div.sk-toggleable__content {max-height: 200px;max-width: 100%;overflow: auto;}#sk-container-id-3 input.sk-toggleable__control:checked~label.sk-toggleable__label-arrow:before {content: \"▾\";}#sk-container-id-3 div.sk-estimator input.sk-toggleable__control:checked~label.sk-toggleable__label {background-color: #d4ebff;}#sk-container-id-3 div.sk-label input.sk-toggleable__control:checked~label.sk-toggleable__label {background-color: #d4ebff;}#sk-container-id-3 input.sk-hidden--visually {border: 0;clip: rect(1px 1px 1px 1px);clip: rect(1px, 1px, 1px, 1px);height: 1px;margin: -1px;overflow: hidden;padding: 0;position: absolute;width: 1px;}#sk-container-id-3 div.sk-estimator {font-family: monospace;background-color: #f0f8ff;border: 1px dotted black;border-radius: 0.25em;box-sizing: border-box;margin-bottom: 0.5em;}#sk-container-id-3 div.sk-estimator:hover {background-color: #d4ebff;}#sk-container-id-3 div.sk-parallel-item::after {content: \"\";width: 100%;border-bottom: 1px solid gray;flex-grow: 1;}#sk-container-id-3 div.sk-label:hover label.sk-toggleable__label {background-color: #d4ebff;}#sk-container-id-3 div.sk-serial::before {content: \"\";position: absolute;border-left: 1px solid gray;box-sizing: border-box;top: 0;bottom: 0;left: 50%;z-index: 0;}#sk-container-id-3 div.sk-serial {display: flex;flex-direction: column;align-items: center;background-color: white;padding-right: 0.2em;padding-left: 0.2em;position: relative;}#sk-container-id-3 div.sk-item {position: relative;z-index: 1;}#sk-container-id-3 div.sk-parallel {display: flex;align-items: stretch;justify-content: center;background-color: white;position: relative;}#sk-container-id-3 div.sk-item::before, #sk-container-id-3 div.sk-parallel-item::before {content: \"\";position: absolute;border-left: 1px solid gray;box-sizing: border-box;top: 0;bottom: 0;left: 50%;z-index: -1;}#sk-container-id-3 div.sk-parallel-item {display: flex;flex-direction: column;z-index: 1;position: relative;background-color: white;}#sk-container-id-3 div.sk-parallel-item:first-child::after {align-self: flex-end;width: 50%;}#sk-container-id-3 div.sk-parallel-item:last-child::after {align-self: flex-start;width: 50%;}#sk-container-id-3 div.sk-parallel-item:only-child::after {width: 0;}#sk-container-id-3 div.sk-dashed-wrapped {border: 1px dashed gray;margin: 0 0.4em 0.5em 0.4em;box-sizing: border-box;padding-bottom: 0.4em;background-color: white;}#sk-container-id-3 div.sk-label label {font-family: monospace;font-weight: bold;display: inline-block;line-height: 1.2em;}#sk-container-id-3 div.sk-label-container {text-align: center;}#sk-container-id-3 div.sk-container {/* jupyter's `normalize.less` sets `[hidden] { display: none; }` but bootstrap.min.css set `[hidden] { display: none !important; }` so we also need the `!important` here to be able to override the default hidden behavior on the sphinx rendered scikit-learn.org. See: https://github.com/scikit-learn/scikit-learn/issues/21755 */display: inline-block !important;position: relative;}#sk-container-id-3 div.sk-text-repr-fallback {display: none;}</style><div id=\"sk-container-id-3\" class=\"sk-top-container\"><div class=\"sk-text-repr-fallback\"><pre>LinearRegression()</pre><b>In a Jupyter environment, please rerun this cell to show the HTML representation or trust the notebook. <br />On GitHub, the HTML representation is unable to render, please try loading this page with nbviewer.org.</b></div><div class=\"sk-container\" hidden><div class=\"sk-item\"><div class=\"sk-estimator sk-toggleable\"><input class=\"sk-toggleable__control sk-hidden--visually\" id=\"sk-estimator-id-3\" type=\"checkbox\" checked><label for=\"sk-estimator-id-3\" class=\"sk-toggleable__label sk-toggleable__label-arrow\">LinearRegression</label><div class=\"sk-toggleable__content\"><pre>LinearRegression()</pre></div></div></div></div></div>"
            ]
          },
          "metadata": {},
          "execution_count": 39
        }
      ]
    },
    {
      "cell_type": "code",
      "source": [
        "r2_score_3_test = r2_score(y2_test, model.predict(X2_test))\n",
        "print(r2_score_3_test)"
      ],
      "metadata": {
        "colab": {
          "base_uri": "https://localhost:8080/"
        },
        "id": "_WGWjdzA1pED",
        "outputId": "5eccf6fa-014d-4bf0-ec33-c922f1f6515c"
      },
      "execution_count": null,
      "outputs": [
        {
          "output_type": "stream",
          "name": "stdout",
          "text": [
            "0.5586099506133975\n"
          ]
        }
      ]
    },
    {
      "cell_type": "code",
      "source": [
        "r2_score_3_train = r2_score(y2_train, model.predict(X2_train))\n",
        "print(r2_score_3_train)"
      ],
      "metadata": {
        "colab": {
          "base_uri": "https://localhost:8080/"
        },
        "id": "a7YOg4iU16nx",
        "outputId": "de70c88b-a19c-4781-a185-486290c70207"
      },
      "execution_count": null,
      "outputs": [
        {
          "output_type": "stream",
          "name": "stdout",
          "text": [
            "0.5530507577075454\n"
          ]
        }
      ]
    },
    {
      "cell_type": "code",
      "source": [
        "RMSE_3_test = np.sqrt(mean_squared_error(y2_test, model.predict(X2_test)))\n",
        "print(RMSE_3_test)"
      ],
      "metadata": {
        "colab": {
          "base_uri": "https://localhost:8080/"
        },
        "id": "nKg-v6Nh1_w6",
        "outputId": "78437166-4181-4cf0-eeea-9bc23a982130"
      },
      "execution_count": null,
      "outputs": [
        {
          "output_type": "stream",
          "name": "stdout",
          "text": [
            "0.7157283650668688\n"
          ]
        }
      ]
    },
    {
      "cell_type": "code",
      "source": [
        "RMSE_3_train = np.sqrt(mean_squared_error(y2_train, model.predict(X2_train)))\n",
        "print(RMSE_3_train)"
      ],
      "metadata": {
        "colab": {
          "base_uri": "https://localhost:8080/"
        },
        "id": "Q9RnUr-U2BXm",
        "outputId": "72595672-fcfc-49fd-f46c-64b0a0b72179"
      },
      "execution_count": null,
      "outputs": [
        {
          "output_type": "stream",
          "name": "stdout",
          "text": [
            "0.7083939522656983\n"
          ]
        }
      ]
    },
    {
      "cell_type": "markdown",
      "source": [
        "# **8. Измените несколько признаков на выбор математически. Например, вычислите логарифм, возведите в квадрат, извлеките квадратный корень.**"
      ],
      "metadata": {
        "id": "yJnk73nd3yCd"
      }
    },
    {
      "cell_type": "code",
      "source": [
        "X3 = X2.copy()"
      ],
      "metadata": {
        "id": "XTwkOmti2uWK"
      },
      "execution_count": null,
      "outputs": []
    },
    {
      "cell_type": "code",
      "source": [
        "X3['HouseAge'] = np.sqrt(X3['HouseAge'])\n",
        "X3['Latitude'] = np.log(X3['Latitude'])"
      ],
      "metadata": {
        "id": "hbQ5nwMT2eBd"
      },
      "execution_count": null,
      "outputs": []
    },
    {
      "cell_type": "code",
      "source": [
        "X3"
      ],
      "metadata": {
        "colab": {
          "base_uri": "https://localhost:8080/",
          "height": 424
        },
        "id": "TaMiEJwW3CXd",
        "outputId": "cf732806-6b94-4418-a9fb-24e80e221162"
      },
      "execution_count": null,
      "outputs": [
        {
          "output_type": "execute_result",
          "data": {
            "text/plain": [
              "       MedInc  HouseAge  AveRooms  AveOccup  Latitude  Longitude\n",
              "2      7.2574  7.211103  8.288136  2.802260  3.633631    -122.24\n",
              "3      5.6431  7.211103  5.817352  2.547945  3.633631    -122.25\n",
              "4      3.8462  7.211103  6.281853  2.181467  3.633631    -122.25\n",
              "5      4.0368  7.211103  4.761658  2.139896  3.633631    -122.25\n",
              "6      3.6591  7.211103  4.931907  2.128405  3.633367    -122.25\n",
              "...       ...       ...       ...       ...       ...        ...\n",
              "20635  1.5603  5.000000  5.045455  2.560606  3.675794    -121.09\n",
              "20636  2.5568  4.242641  6.114035  3.122807  3.676047    -121.21\n",
              "20637  1.7000  4.123106  5.205543  2.325635  3.674527    -121.22\n",
              "20638  1.8672  4.242641  5.329513  2.123209  3.674527    -121.32\n",
              "20639  2.3886  4.000000  5.254717  2.616981  3.673004    -121.24\n",
              "\n",
              "[19944 rows x 6 columns]"
            ],
            "text/html": [
              "\n",
              "  <div id=\"df-13438050-f6a8-4ca1-ad47-c61919685f8f\" class=\"colab-df-container\">\n",
              "    <div>\n",
              "<style scoped>\n",
              "    .dataframe tbody tr th:only-of-type {\n",
              "        vertical-align: middle;\n",
              "    }\n",
              "\n",
              "    .dataframe tbody tr th {\n",
              "        vertical-align: top;\n",
              "    }\n",
              "\n",
              "    .dataframe thead th {\n",
              "        text-align: right;\n",
              "    }\n",
              "</style>\n",
              "<table border=\"1\" class=\"dataframe\">\n",
              "  <thead>\n",
              "    <tr style=\"text-align: right;\">\n",
              "      <th></th>\n",
              "      <th>MedInc</th>\n",
              "      <th>HouseAge</th>\n",
              "      <th>AveRooms</th>\n",
              "      <th>AveOccup</th>\n",
              "      <th>Latitude</th>\n",
              "      <th>Longitude</th>\n",
              "    </tr>\n",
              "  </thead>\n",
              "  <tbody>\n",
              "    <tr>\n",
              "      <th>2</th>\n",
              "      <td>7.2574</td>\n",
              "      <td>7.211103</td>\n",
              "      <td>8.288136</td>\n",
              "      <td>2.802260</td>\n",
              "      <td>3.633631</td>\n",
              "      <td>-122.24</td>\n",
              "    </tr>\n",
              "    <tr>\n",
              "      <th>3</th>\n",
              "      <td>5.6431</td>\n",
              "      <td>7.211103</td>\n",
              "      <td>5.817352</td>\n",
              "      <td>2.547945</td>\n",
              "      <td>3.633631</td>\n",
              "      <td>-122.25</td>\n",
              "    </tr>\n",
              "    <tr>\n",
              "      <th>4</th>\n",
              "      <td>3.8462</td>\n",
              "      <td>7.211103</td>\n",
              "      <td>6.281853</td>\n",
              "      <td>2.181467</td>\n",
              "      <td>3.633631</td>\n",
              "      <td>-122.25</td>\n",
              "    </tr>\n",
              "    <tr>\n",
              "      <th>5</th>\n",
              "      <td>4.0368</td>\n",
              "      <td>7.211103</td>\n",
              "      <td>4.761658</td>\n",
              "      <td>2.139896</td>\n",
              "      <td>3.633631</td>\n",
              "      <td>-122.25</td>\n",
              "    </tr>\n",
              "    <tr>\n",
              "      <th>6</th>\n",
              "      <td>3.6591</td>\n",
              "      <td>7.211103</td>\n",
              "      <td>4.931907</td>\n",
              "      <td>2.128405</td>\n",
              "      <td>3.633367</td>\n",
              "      <td>-122.25</td>\n",
              "    </tr>\n",
              "    <tr>\n",
              "      <th>...</th>\n",
              "      <td>...</td>\n",
              "      <td>...</td>\n",
              "      <td>...</td>\n",
              "      <td>...</td>\n",
              "      <td>...</td>\n",
              "      <td>...</td>\n",
              "    </tr>\n",
              "    <tr>\n",
              "      <th>20635</th>\n",
              "      <td>1.5603</td>\n",
              "      <td>5.000000</td>\n",
              "      <td>5.045455</td>\n",
              "      <td>2.560606</td>\n",
              "      <td>3.675794</td>\n",
              "      <td>-121.09</td>\n",
              "    </tr>\n",
              "    <tr>\n",
              "      <th>20636</th>\n",
              "      <td>2.5568</td>\n",
              "      <td>4.242641</td>\n",
              "      <td>6.114035</td>\n",
              "      <td>3.122807</td>\n",
              "      <td>3.676047</td>\n",
              "      <td>-121.21</td>\n",
              "    </tr>\n",
              "    <tr>\n",
              "      <th>20637</th>\n",
              "      <td>1.7000</td>\n",
              "      <td>4.123106</td>\n",
              "      <td>5.205543</td>\n",
              "      <td>2.325635</td>\n",
              "      <td>3.674527</td>\n",
              "      <td>-121.22</td>\n",
              "    </tr>\n",
              "    <tr>\n",
              "      <th>20638</th>\n",
              "      <td>1.8672</td>\n",
              "      <td>4.242641</td>\n",
              "      <td>5.329513</td>\n",
              "      <td>2.123209</td>\n",
              "      <td>3.674527</td>\n",
              "      <td>-121.32</td>\n",
              "    </tr>\n",
              "    <tr>\n",
              "      <th>20639</th>\n",
              "      <td>2.3886</td>\n",
              "      <td>4.000000</td>\n",
              "      <td>5.254717</td>\n",
              "      <td>2.616981</td>\n",
              "      <td>3.673004</td>\n",
              "      <td>-121.24</td>\n",
              "    </tr>\n",
              "  </tbody>\n",
              "</table>\n",
              "<p>19944 rows × 6 columns</p>\n",
              "</div>\n",
              "    <div class=\"colab-df-buttons\">\n",
              "\n",
              "  <div class=\"colab-df-container\">\n",
              "    <button class=\"colab-df-convert\" onclick=\"convertToInteractive('df-13438050-f6a8-4ca1-ad47-c61919685f8f')\"\n",
              "            title=\"Convert this dataframe to an interactive table.\"\n",
              "            style=\"display:none;\">\n",
              "\n",
              "  <svg xmlns=\"http://www.w3.org/2000/svg\" height=\"24px\" viewBox=\"0 -960 960 960\">\n",
              "    <path d=\"M120-120v-720h720v720H120Zm60-500h600v-160H180v160Zm220 220h160v-160H400v160Zm0 220h160v-160H400v160ZM180-400h160v-160H180v160Zm440 0h160v-160H620v160ZM180-180h160v-160H180v160Zm440 0h160v-160H620v160Z\"/>\n",
              "  </svg>\n",
              "    </button>\n",
              "\n",
              "  <style>\n",
              "    .colab-df-container {\n",
              "      display:flex;\n",
              "      gap: 12px;\n",
              "    }\n",
              "\n",
              "    .colab-df-convert {\n",
              "      background-color: #E8F0FE;\n",
              "      border: none;\n",
              "      border-radius: 50%;\n",
              "      cursor: pointer;\n",
              "      display: none;\n",
              "      fill: #1967D2;\n",
              "      height: 32px;\n",
              "      padding: 0 0 0 0;\n",
              "      width: 32px;\n",
              "    }\n",
              "\n",
              "    .colab-df-convert:hover {\n",
              "      background-color: #E2EBFA;\n",
              "      box-shadow: 0px 1px 2px rgba(60, 64, 67, 0.3), 0px 1px 3px 1px rgba(60, 64, 67, 0.15);\n",
              "      fill: #174EA6;\n",
              "    }\n",
              "\n",
              "    .colab-df-buttons div {\n",
              "      margin-bottom: 4px;\n",
              "    }\n",
              "\n",
              "    [theme=dark] .colab-df-convert {\n",
              "      background-color: #3B4455;\n",
              "      fill: #D2E3FC;\n",
              "    }\n",
              "\n",
              "    [theme=dark] .colab-df-convert:hover {\n",
              "      background-color: #434B5C;\n",
              "      box-shadow: 0px 1px 3px 1px rgba(0, 0, 0, 0.15);\n",
              "      filter: drop-shadow(0px 1px 2px rgba(0, 0, 0, 0.3));\n",
              "      fill: #FFFFFF;\n",
              "    }\n",
              "  </style>\n",
              "\n",
              "    <script>\n",
              "      const buttonEl =\n",
              "        document.querySelector('#df-13438050-f6a8-4ca1-ad47-c61919685f8f button.colab-df-convert');\n",
              "      buttonEl.style.display =\n",
              "        google.colab.kernel.accessAllowed ? 'block' : 'none';\n",
              "\n",
              "      async function convertToInteractive(key) {\n",
              "        const element = document.querySelector('#df-13438050-f6a8-4ca1-ad47-c61919685f8f');\n",
              "        const dataTable =\n",
              "          await google.colab.kernel.invokeFunction('convertToInteractive',\n",
              "                                                    [key], {});\n",
              "        if (!dataTable) return;\n",
              "\n",
              "        const docLinkHtml = 'Like what you see? Visit the ' +\n",
              "          '<a target=\"_blank\" href=https://colab.research.google.com/notebooks/data_table.ipynb>data table notebook</a>'\n",
              "          + ' to learn more about interactive tables.';\n",
              "        element.innerHTML = '';\n",
              "        dataTable['output_type'] = 'display_data';\n",
              "        await google.colab.output.renderOutput(dataTable, element);\n",
              "        const docLink = document.createElement('div');\n",
              "        docLink.innerHTML = docLinkHtml;\n",
              "        element.appendChild(docLink);\n",
              "      }\n",
              "    </script>\n",
              "  </div>\n",
              "\n",
              "\n",
              "<div id=\"df-76546fa3-515f-4d4d-8aa7-05a569d79671\">\n",
              "  <button class=\"colab-df-quickchart\" onclick=\"quickchart('df-76546fa3-515f-4d4d-8aa7-05a569d79671')\"\n",
              "            title=\"Suggest charts.\"\n",
              "            style=\"display:none;\">\n",
              "\n",
              "<svg xmlns=\"http://www.w3.org/2000/svg\" height=\"24px\"viewBox=\"0 0 24 24\"\n",
              "     width=\"24px\">\n",
              "    <g>\n",
              "        <path d=\"M19 3H5c-1.1 0-2 .9-2 2v14c0 1.1.9 2 2 2h14c1.1 0 2-.9 2-2V5c0-1.1-.9-2-2-2zM9 17H7v-7h2v7zm4 0h-2V7h2v10zm4 0h-2v-4h2v4z\"/>\n",
              "    </g>\n",
              "</svg>\n",
              "  </button>\n",
              "\n",
              "<style>\n",
              "  .colab-df-quickchart {\n",
              "      --bg-color: #E8F0FE;\n",
              "      --fill-color: #1967D2;\n",
              "      --hover-bg-color: #E2EBFA;\n",
              "      --hover-fill-color: #174EA6;\n",
              "      --disabled-fill-color: #AAA;\n",
              "      --disabled-bg-color: #DDD;\n",
              "  }\n",
              "\n",
              "  [theme=dark] .colab-df-quickchart {\n",
              "      --bg-color: #3B4455;\n",
              "      --fill-color: #D2E3FC;\n",
              "      --hover-bg-color: #434B5C;\n",
              "      --hover-fill-color: #FFFFFF;\n",
              "      --disabled-bg-color: #3B4455;\n",
              "      --disabled-fill-color: #666;\n",
              "  }\n",
              "\n",
              "  .colab-df-quickchart {\n",
              "    background-color: var(--bg-color);\n",
              "    border: none;\n",
              "    border-radius: 50%;\n",
              "    cursor: pointer;\n",
              "    display: none;\n",
              "    fill: var(--fill-color);\n",
              "    height: 32px;\n",
              "    padding: 0;\n",
              "    width: 32px;\n",
              "  }\n",
              "\n",
              "  .colab-df-quickchart:hover {\n",
              "    background-color: var(--hover-bg-color);\n",
              "    box-shadow: 0 1px 2px rgba(60, 64, 67, 0.3), 0 1px 3px 1px rgba(60, 64, 67, 0.15);\n",
              "    fill: var(--button-hover-fill-color);\n",
              "  }\n",
              "\n",
              "  .colab-df-quickchart-complete:disabled,\n",
              "  .colab-df-quickchart-complete:disabled:hover {\n",
              "    background-color: var(--disabled-bg-color);\n",
              "    fill: var(--disabled-fill-color);\n",
              "    box-shadow: none;\n",
              "  }\n",
              "\n",
              "  .colab-df-spinner {\n",
              "    border: 2px solid var(--fill-color);\n",
              "    border-color: transparent;\n",
              "    border-bottom-color: var(--fill-color);\n",
              "    animation:\n",
              "      spin 1s steps(1) infinite;\n",
              "  }\n",
              "\n",
              "  @keyframes spin {\n",
              "    0% {\n",
              "      border-color: transparent;\n",
              "      border-bottom-color: var(--fill-color);\n",
              "      border-left-color: var(--fill-color);\n",
              "    }\n",
              "    20% {\n",
              "      border-color: transparent;\n",
              "      border-left-color: var(--fill-color);\n",
              "      border-top-color: var(--fill-color);\n",
              "    }\n",
              "    30% {\n",
              "      border-color: transparent;\n",
              "      border-left-color: var(--fill-color);\n",
              "      border-top-color: var(--fill-color);\n",
              "      border-right-color: var(--fill-color);\n",
              "    }\n",
              "    40% {\n",
              "      border-color: transparent;\n",
              "      border-right-color: var(--fill-color);\n",
              "      border-top-color: var(--fill-color);\n",
              "    }\n",
              "    60% {\n",
              "      border-color: transparent;\n",
              "      border-right-color: var(--fill-color);\n",
              "    }\n",
              "    80% {\n",
              "      border-color: transparent;\n",
              "      border-right-color: var(--fill-color);\n",
              "      border-bottom-color: var(--fill-color);\n",
              "    }\n",
              "    90% {\n",
              "      border-color: transparent;\n",
              "      border-bottom-color: var(--fill-color);\n",
              "    }\n",
              "  }\n",
              "</style>\n",
              "\n",
              "  <script>\n",
              "    async function quickchart(key) {\n",
              "      const quickchartButtonEl =\n",
              "        document.querySelector('#' + key + ' button');\n",
              "      quickchartButtonEl.disabled = true;  // To prevent multiple clicks.\n",
              "      quickchartButtonEl.classList.add('colab-df-spinner');\n",
              "      try {\n",
              "        const charts = await google.colab.kernel.invokeFunction(\n",
              "            'suggestCharts', [key], {});\n",
              "      } catch (error) {\n",
              "        console.error('Error during call to suggestCharts:', error);\n",
              "      }\n",
              "      quickchartButtonEl.classList.remove('colab-df-spinner');\n",
              "      quickchartButtonEl.classList.add('colab-df-quickchart-complete');\n",
              "    }\n",
              "    (() => {\n",
              "      let quickchartButtonEl =\n",
              "        document.querySelector('#df-76546fa3-515f-4d4d-8aa7-05a569d79671 button');\n",
              "      quickchartButtonEl.style.display =\n",
              "        google.colab.kernel.accessAllowed ? 'block' : 'none';\n",
              "    })();\n",
              "  </script>\n",
              "</div>\n",
              "    </div>\n",
              "  </div>\n"
            ]
          },
          "metadata": {},
          "execution_count": 46
        }
      ]
    },
    {
      "cell_type": "markdown",
      "source": [
        "**a. Повторите п. 3, п. 4 на измененных данных.**"
      ],
      "metadata": {
        "id": "NT3-vCTI35FR"
      }
    },
    {
      "cell_type": "code",
      "source": [
        "X3_train, X3_test, y2_train, y2_test = train_test_split(X3, y2, test_size=0.2, random_state=42)"
      ],
      "metadata": {
        "id": "hHAmvPaN37LF"
      },
      "execution_count": null,
      "outputs": []
    },
    {
      "cell_type": "code",
      "source": [
        "model.fit(X3_train, y2_train)"
      ],
      "metadata": {
        "colab": {
          "base_uri": "https://localhost:8080/",
          "height": 75
        },
        "id": "6SC6Y9qh3_FU",
        "outputId": "6de37cad-daaf-40fe-9ae4-4f772af2e9c5"
      },
      "execution_count": null,
      "outputs": [
        {
          "output_type": "execute_result",
          "data": {
            "text/plain": [
              "LinearRegression()"
            ],
            "text/html": [
              "<style>#sk-container-id-4 {color: black;background-color: white;}#sk-container-id-4 pre{padding: 0;}#sk-container-id-4 div.sk-toggleable {background-color: white;}#sk-container-id-4 label.sk-toggleable__label {cursor: pointer;display: block;width: 100%;margin-bottom: 0;padding: 0.3em;box-sizing: border-box;text-align: center;}#sk-container-id-4 label.sk-toggleable__label-arrow:before {content: \"▸\";float: left;margin-right: 0.25em;color: #696969;}#sk-container-id-4 label.sk-toggleable__label-arrow:hover:before {color: black;}#sk-container-id-4 div.sk-estimator:hover label.sk-toggleable__label-arrow:before {color: black;}#sk-container-id-4 div.sk-toggleable__content {max-height: 0;max-width: 0;overflow: hidden;text-align: left;background-color: #f0f8ff;}#sk-container-id-4 div.sk-toggleable__content pre {margin: 0.2em;color: black;border-radius: 0.25em;background-color: #f0f8ff;}#sk-container-id-4 input.sk-toggleable__control:checked~div.sk-toggleable__content {max-height: 200px;max-width: 100%;overflow: auto;}#sk-container-id-4 input.sk-toggleable__control:checked~label.sk-toggleable__label-arrow:before {content: \"▾\";}#sk-container-id-4 div.sk-estimator input.sk-toggleable__control:checked~label.sk-toggleable__label {background-color: #d4ebff;}#sk-container-id-4 div.sk-label input.sk-toggleable__control:checked~label.sk-toggleable__label {background-color: #d4ebff;}#sk-container-id-4 input.sk-hidden--visually {border: 0;clip: rect(1px 1px 1px 1px);clip: rect(1px, 1px, 1px, 1px);height: 1px;margin: -1px;overflow: hidden;padding: 0;position: absolute;width: 1px;}#sk-container-id-4 div.sk-estimator {font-family: monospace;background-color: #f0f8ff;border: 1px dotted black;border-radius: 0.25em;box-sizing: border-box;margin-bottom: 0.5em;}#sk-container-id-4 div.sk-estimator:hover {background-color: #d4ebff;}#sk-container-id-4 div.sk-parallel-item::after {content: \"\";width: 100%;border-bottom: 1px solid gray;flex-grow: 1;}#sk-container-id-4 div.sk-label:hover label.sk-toggleable__label {background-color: #d4ebff;}#sk-container-id-4 div.sk-serial::before {content: \"\";position: absolute;border-left: 1px solid gray;box-sizing: border-box;top: 0;bottom: 0;left: 50%;z-index: 0;}#sk-container-id-4 div.sk-serial {display: flex;flex-direction: column;align-items: center;background-color: white;padding-right: 0.2em;padding-left: 0.2em;position: relative;}#sk-container-id-4 div.sk-item {position: relative;z-index: 1;}#sk-container-id-4 div.sk-parallel {display: flex;align-items: stretch;justify-content: center;background-color: white;position: relative;}#sk-container-id-4 div.sk-item::before, #sk-container-id-4 div.sk-parallel-item::before {content: \"\";position: absolute;border-left: 1px solid gray;box-sizing: border-box;top: 0;bottom: 0;left: 50%;z-index: -1;}#sk-container-id-4 div.sk-parallel-item {display: flex;flex-direction: column;z-index: 1;position: relative;background-color: white;}#sk-container-id-4 div.sk-parallel-item:first-child::after {align-self: flex-end;width: 50%;}#sk-container-id-4 div.sk-parallel-item:last-child::after {align-self: flex-start;width: 50%;}#sk-container-id-4 div.sk-parallel-item:only-child::after {width: 0;}#sk-container-id-4 div.sk-dashed-wrapped {border: 1px dashed gray;margin: 0 0.4em 0.5em 0.4em;box-sizing: border-box;padding-bottom: 0.4em;background-color: white;}#sk-container-id-4 div.sk-label label {font-family: monospace;font-weight: bold;display: inline-block;line-height: 1.2em;}#sk-container-id-4 div.sk-label-container {text-align: center;}#sk-container-id-4 div.sk-container {/* jupyter's `normalize.less` sets `[hidden] { display: none; }` but bootstrap.min.css set `[hidden] { display: none !important; }` so we also need the `!important` here to be able to override the default hidden behavior on the sphinx rendered scikit-learn.org. See: https://github.com/scikit-learn/scikit-learn/issues/21755 */display: inline-block !important;position: relative;}#sk-container-id-4 div.sk-text-repr-fallback {display: none;}</style><div id=\"sk-container-id-4\" class=\"sk-top-container\"><div class=\"sk-text-repr-fallback\"><pre>LinearRegression()</pre><b>In a Jupyter environment, please rerun this cell to show the HTML representation or trust the notebook. <br />On GitHub, the HTML representation is unable to render, please try loading this page with nbviewer.org.</b></div><div class=\"sk-container\" hidden><div class=\"sk-item\"><div class=\"sk-estimator sk-toggleable\"><input class=\"sk-toggleable__control sk-hidden--visually\" id=\"sk-estimator-id-4\" type=\"checkbox\" checked><label for=\"sk-estimator-id-4\" class=\"sk-toggleable__label sk-toggleable__label-arrow\">LinearRegression</label><div class=\"sk-toggleable__content\"><pre>LinearRegression()</pre></div></div></div></div></div>"
            ]
          },
          "metadata": {},
          "execution_count": 48
        }
      ]
    },
    {
      "cell_type": "code",
      "source": [
        "r2_score_4_test = r2_score(y2_test, model.predict(X3_test))\n",
        "print(r2_score_4_test)"
      ],
      "metadata": {
        "colab": {
          "base_uri": "https://localhost:8080/"
        },
        "id": "724NAAsD4BiW",
        "outputId": "5876e2e6-c437-43b6-96de-f7d5ccae2de7"
      },
      "execution_count": null,
      "outputs": [
        {
          "output_type": "stream",
          "name": "stdout",
          "text": [
            "0.5569975438715056\n"
          ]
        }
      ]
    },
    {
      "cell_type": "code",
      "source": [
        "r2_score_4_train = r2_score(y2_train, model.predict(X3_train))\n",
        "print(r2_score_4_train)"
      ],
      "metadata": {
        "colab": {
          "base_uri": "https://localhost:8080/"
        },
        "id": "Dg2-SqO54DHH",
        "outputId": "cd514021-d6aa-4cee-8090-bf477c3a68f9"
      },
      "execution_count": null,
      "outputs": [
        {
          "output_type": "stream",
          "name": "stdout",
          "text": [
            "0.5525887084908407\n"
          ]
        }
      ]
    },
    {
      "cell_type": "code",
      "source": [
        "RMSE_4_test = np.sqrt(mean_squared_error(y2_test, model.predict(X3_test)))\n",
        "print(RMSE_4_test)"
      ],
      "metadata": {
        "colab": {
          "base_uri": "https://localhost:8080/"
        },
        "id": "q07Pk_BY4Lyi",
        "outputId": "93f4ffae-e05a-4737-e04e-d4a70e0d2a15"
      },
      "execution_count": null,
      "outputs": [
        {
          "output_type": "stream",
          "name": "stdout",
          "text": [
            "0.7170344584255827\n"
          ]
        }
      ]
    },
    {
      "cell_type": "code",
      "source": [
        "RMSE_4_train = np.sqrt(mean_squared_error(y2_train, model.predict(X3_train)))\n",
        "print(RMSE_4_train)"
      ],
      "metadata": {
        "colab": {
          "base_uri": "https://localhost:8080/"
        },
        "id": "aRxMsRlO4N9p",
        "outputId": "4e5c1f06-4324-468a-82a9-ccbf439bf0da"
      },
      "execution_count": null,
      "outputs": [
        {
          "output_type": "stream",
          "name": "stdout",
          "text": [
            "0.7087600210390058\n"
          ]
        }
      ]
    },
    {
      "cell_type": "markdown",
      "source": [
        "# **9. Сформулируйте выводы по проделанной работе.**"
      ],
      "metadata": {
        "id": "1XCQZM8k9K-8"
      }
    },
    {
      "cell_type": "markdown",
      "source": [
        "**a. Кратко опишите какие преобразования были сделаны с данными.**\n",
        "\n",
        "1. Для повторного расчета удалили переменные с выраженной корреляцией с другими переменными, но достаточно низкой с целевой (AveBedrms и Population)\n",
        "\n",
        "2. Для третьего расчет удалили выбросы\n",
        "\n",
        "3. Для четвертой итерации произвели мат преобразования (извелкли квадратный корень из переменной с возрастом дома и прологарифмировали широту)"
      ],
      "metadata": {
        "id": "0k7IV-SP9dfX"
      }
    },
    {
      "cell_type": "markdown",
      "source": [
        "**b. Сравните метрики всех моделей. Желательно оформление в виде таблицы вида |модель|RMSE|R2|признаки, на которых проводилось обучение с указанием их преобразований|.**"
      ],
      "metadata": {
        "id": "9wnuRgLI-f5H"
      }
    },
    {
      "cell_type": "code",
      "source": [
        "results = pd.DataFrame(columns=['Попытка', 'Коэффициент', 'Значение'])"
      ],
      "metadata": {
        "id": "icXu8ouD9LFx"
      },
      "execution_count": null,
      "outputs": []
    },
    {
      "cell_type": "code",
      "source": [
        "results.loc[len(results.index)] = [1, \"R2_test\", r2_score_1_test]\n",
        "results.loc[len(results.index)] = [1, \"R2_train\", r2_score_1_train]\n",
        "results.loc[len(results.index)] = [1, \"RMSE_test\", RMSE_1_test]\n",
        "results.loc[len(results.index)] = [1, \"RMSE_train\", RMSE_1_test]\n",
        "results.loc[len(results.index)] = [2, \"R2_test\", r2_score_2_test]\n",
        "results.loc[len(results.index)] = [2, \"R2_train\", r2_score_2_train]\n",
        "results.loc[len(results.index)] = [2, \"RMSE_test\", RMSE_2_test]\n",
        "results.loc[len(results.index)] = [2, \"RMSE_train\", RMSE_2_test]\n",
        "results.loc[len(results.index)] = [3, \"R2_test\", r2_score_3_test]\n",
        "results.loc[len(results.index)] = [3, \"R2_train\", r2_score_3_train]\n",
        "results.loc[len(results.index)] = [3, \"RMSE_test\", RMSE_3_test]\n",
        "results.loc[len(results.index)] = [3, \"RMSE_train\", RMSE_3_test]\n",
        "results.loc[len(results.index)] = [4, \"R2_test\", r2_score_4_test]\n",
        "results.loc[len(results.index)] = [4, \"R2_train\", r2_score_4_train]\n",
        "results.loc[len(results.index)] = [4, \"RMSE_test\", RMSE_4_test]\n",
        "results.loc[len(results.index)] = [4, \"RMSE_train\", RMSE_4_test]"
      ],
      "metadata": {
        "id": "T6wSh7U89cLZ"
      },
      "execution_count": null,
      "outputs": []
    },
    {
      "cell_type": "code",
      "source": [
        "results"
      ],
      "metadata": {
        "colab": {
          "base_uri": "https://localhost:8080/",
          "height": 551
        },
        "id": "wen8DvN8_-q3",
        "outputId": "ab6426c5-303e-4d2b-de49-766c61e5c010"
      },
      "execution_count": null,
      "outputs": [
        {
          "output_type": "execute_result",
          "data": {
            "text/plain": [
              "    Попытка Коэффициент  Значение\n",
              "0         1     R2_test  0.575788\n",
              "1         1    R2_train  0.612551\n",
              "2         1   RMSE_test  0.745581\n",
              "3         1  RMSE_train  0.745581\n",
              "4         2     R2_test  0.582308\n",
              "5         2    R2_train  0.599517\n",
              "6         2   RMSE_test  0.739829\n",
              "7         2  RMSE_train  0.739829\n",
              "8         3     R2_test  0.558610\n",
              "9         3    R2_train  0.553051\n",
              "10        3   RMSE_test  0.715728\n",
              "11        3  RMSE_train  0.715728\n",
              "12        4     R2_test  0.556998\n",
              "13        4    R2_train  0.552589\n",
              "14        4   RMSE_test  0.717034\n",
              "15        4  RMSE_train  0.717034"
            ],
            "text/html": [
              "\n",
              "  <div id=\"df-ee5e7c7a-f407-4c92-8604-97257457b1b5\" class=\"colab-df-container\">\n",
              "    <div>\n",
              "<style scoped>\n",
              "    .dataframe tbody tr th:only-of-type {\n",
              "        vertical-align: middle;\n",
              "    }\n",
              "\n",
              "    .dataframe tbody tr th {\n",
              "        vertical-align: top;\n",
              "    }\n",
              "\n",
              "    .dataframe thead th {\n",
              "        text-align: right;\n",
              "    }\n",
              "</style>\n",
              "<table border=\"1\" class=\"dataframe\">\n",
              "  <thead>\n",
              "    <tr style=\"text-align: right;\">\n",
              "      <th></th>\n",
              "      <th>Попытка</th>\n",
              "      <th>Коэффициент</th>\n",
              "      <th>Значение</th>\n",
              "    </tr>\n",
              "  </thead>\n",
              "  <tbody>\n",
              "    <tr>\n",
              "      <th>0</th>\n",
              "      <td>1</td>\n",
              "      <td>R2_test</td>\n",
              "      <td>0.575788</td>\n",
              "    </tr>\n",
              "    <tr>\n",
              "      <th>1</th>\n",
              "      <td>1</td>\n",
              "      <td>R2_train</td>\n",
              "      <td>0.612551</td>\n",
              "    </tr>\n",
              "    <tr>\n",
              "      <th>2</th>\n",
              "      <td>1</td>\n",
              "      <td>RMSE_test</td>\n",
              "      <td>0.745581</td>\n",
              "    </tr>\n",
              "    <tr>\n",
              "      <th>3</th>\n",
              "      <td>1</td>\n",
              "      <td>RMSE_train</td>\n",
              "      <td>0.745581</td>\n",
              "    </tr>\n",
              "    <tr>\n",
              "      <th>4</th>\n",
              "      <td>2</td>\n",
              "      <td>R2_test</td>\n",
              "      <td>0.582308</td>\n",
              "    </tr>\n",
              "    <tr>\n",
              "      <th>5</th>\n",
              "      <td>2</td>\n",
              "      <td>R2_train</td>\n",
              "      <td>0.599517</td>\n",
              "    </tr>\n",
              "    <tr>\n",
              "      <th>6</th>\n",
              "      <td>2</td>\n",
              "      <td>RMSE_test</td>\n",
              "      <td>0.739829</td>\n",
              "    </tr>\n",
              "    <tr>\n",
              "      <th>7</th>\n",
              "      <td>2</td>\n",
              "      <td>RMSE_train</td>\n",
              "      <td>0.739829</td>\n",
              "    </tr>\n",
              "    <tr>\n",
              "      <th>8</th>\n",
              "      <td>3</td>\n",
              "      <td>R2_test</td>\n",
              "      <td>0.558610</td>\n",
              "    </tr>\n",
              "    <tr>\n",
              "      <th>9</th>\n",
              "      <td>3</td>\n",
              "      <td>R2_train</td>\n",
              "      <td>0.553051</td>\n",
              "    </tr>\n",
              "    <tr>\n",
              "      <th>10</th>\n",
              "      <td>3</td>\n",
              "      <td>RMSE_test</td>\n",
              "      <td>0.715728</td>\n",
              "    </tr>\n",
              "    <tr>\n",
              "      <th>11</th>\n",
              "      <td>3</td>\n",
              "      <td>RMSE_train</td>\n",
              "      <td>0.715728</td>\n",
              "    </tr>\n",
              "    <tr>\n",
              "      <th>12</th>\n",
              "      <td>4</td>\n",
              "      <td>R2_test</td>\n",
              "      <td>0.556998</td>\n",
              "    </tr>\n",
              "    <tr>\n",
              "      <th>13</th>\n",
              "      <td>4</td>\n",
              "      <td>R2_train</td>\n",
              "      <td>0.552589</td>\n",
              "    </tr>\n",
              "    <tr>\n",
              "      <th>14</th>\n",
              "      <td>4</td>\n",
              "      <td>RMSE_test</td>\n",
              "      <td>0.717034</td>\n",
              "    </tr>\n",
              "    <tr>\n",
              "      <th>15</th>\n",
              "      <td>4</td>\n",
              "      <td>RMSE_train</td>\n",
              "      <td>0.717034</td>\n",
              "    </tr>\n",
              "  </tbody>\n",
              "</table>\n",
              "</div>\n",
              "    <div class=\"colab-df-buttons\">\n",
              "\n",
              "  <div class=\"colab-df-container\">\n",
              "    <button class=\"colab-df-convert\" onclick=\"convertToInteractive('df-ee5e7c7a-f407-4c92-8604-97257457b1b5')\"\n",
              "            title=\"Convert this dataframe to an interactive table.\"\n",
              "            style=\"display:none;\">\n",
              "\n",
              "  <svg xmlns=\"http://www.w3.org/2000/svg\" height=\"24px\" viewBox=\"0 -960 960 960\">\n",
              "    <path d=\"M120-120v-720h720v720H120Zm60-500h600v-160H180v160Zm220 220h160v-160H400v160Zm0 220h160v-160H400v160ZM180-400h160v-160H180v160Zm440 0h160v-160H620v160ZM180-180h160v-160H180v160Zm440 0h160v-160H620v160Z\"/>\n",
              "  </svg>\n",
              "    </button>\n",
              "\n",
              "  <style>\n",
              "    .colab-df-container {\n",
              "      display:flex;\n",
              "      gap: 12px;\n",
              "    }\n",
              "\n",
              "    .colab-df-convert {\n",
              "      background-color: #E8F0FE;\n",
              "      border: none;\n",
              "      border-radius: 50%;\n",
              "      cursor: pointer;\n",
              "      display: none;\n",
              "      fill: #1967D2;\n",
              "      height: 32px;\n",
              "      padding: 0 0 0 0;\n",
              "      width: 32px;\n",
              "    }\n",
              "\n",
              "    .colab-df-convert:hover {\n",
              "      background-color: #E2EBFA;\n",
              "      box-shadow: 0px 1px 2px rgba(60, 64, 67, 0.3), 0px 1px 3px 1px rgba(60, 64, 67, 0.15);\n",
              "      fill: #174EA6;\n",
              "    }\n",
              "\n",
              "    .colab-df-buttons div {\n",
              "      margin-bottom: 4px;\n",
              "    }\n",
              "\n",
              "    [theme=dark] .colab-df-convert {\n",
              "      background-color: #3B4455;\n",
              "      fill: #D2E3FC;\n",
              "    }\n",
              "\n",
              "    [theme=dark] .colab-df-convert:hover {\n",
              "      background-color: #434B5C;\n",
              "      box-shadow: 0px 1px 3px 1px rgba(0, 0, 0, 0.15);\n",
              "      filter: drop-shadow(0px 1px 2px rgba(0, 0, 0, 0.3));\n",
              "      fill: #FFFFFF;\n",
              "    }\n",
              "  </style>\n",
              "\n",
              "    <script>\n",
              "      const buttonEl =\n",
              "        document.querySelector('#df-ee5e7c7a-f407-4c92-8604-97257457b1b5 button.colab-df-convert');\n",
              "      buttonEl.style.display =\n",
              "        google.colab.kernel.accessAllowed ? 'block' : 'none';\n",
              "\n",
              "      async function convertToInteractive(key) {\n",
              "        const element = document.querySelector('#df-ee5e7c7a-f407-4c92-8604-97257457b1b5');\n",
              "        const dataTable =\n",
              "          await google.colab.kernel.invokeFunction('convertToInteractive',\n",
              "                                                    [key], {});\n",
              "        if (!dataTable) return;\n",
              "\n",
              "        const docLinkHtml = 'Like what you see? Visit the ' +\n",
              "          '<a target=\"_blank\" href=https://colab.research.google.com/notebooks/data_table.ipynb>data table notebook</a>'\n",
              "          + ' to learn more about interactive tables.';\n",
              "        element.innerHTML = '';\n",
              "        dataTable['output_type'] = 'display_data';\n",
              "        await google.colab.output.renderOutput(dataTable, element);\n",
              "        const docLink = document.createElement('div');\n",
              "        docLink.innerHTML = docLinkHtml;\n",
              "        element.appendChild(docLink);\n",
              "      }\n",
              "    </script>\n",
              "  </div>\n",
              "\n",
              "\n",
              "<div id=\"df-86f949b9-a3f2-4e5c-90cf-ad0ab431bc09\">\n",
              "  <button class=\"colab-df-quickchart\" onclick=\"quickchart('df-86f949b9-a3f2-4e5c-90cf-ad0ab431bc09')\"\n",
              "            title=\"Suggest charts.\"\n",
              "            style=\"display:none;\">\n",
              "\n",
              "<svg xmlns=\"http://www.w3.org/2000/svg\" height=\"24px\"viewBox=\"0 0 24 24\"\n",
              "     width=\"24px\">\n",
              "    <g>\n",
              "        <path d=\"M19 3H5c-1.1 0-2 .9-2 2v14c0 1.1.9 2 2 2h14c1.1 0 2-.9 2-2V5c0-1.1-.9-2-2-2zM9 17H7v-7h2v7zm4 0h-2V7h2v10zm4 0h-2v-4h2v4z\"/>\n",
              "    </g>\n",
              "</svg>\n",
              "  </button>\n",
              "\n",
              "<style>\n",
              "  .colab-df-quickchart {\n",
              "      --bg-color: #E8F0FE;\n",
              "      --fill-color: #1967D2;\n",
              "      --hover-bg-color: #E2EBFA;\n",
              "      --hover-fill-color: #174EA6;\n",
              "      --disabled-fill-color: #AAA;\n",
              "      --disabled-bg-color: #DDD;\n",
              "  }\n",
              "\n",
              "  [theme=dark] .colab-df-quickchart {\n",
              "      --bg-color: #3B4455;\n",
              "      --fill-color: #D2E3FC;\n",
              "      --hover-bg-color: #434B5C;\n",
              "      --hover-fill-color: #FFFFFF;\n",
              "      --disabled-bg-color: #3B4455;\n",
              "      --disabled-fill-color: #666;\n",
              "  }\n",
              "\n",
              "  .colab-df-quickchart {\n",
              "    background-color: var(--bg-color);\n",
              "    border: none;\n",
              "    border-radius: 50%;\n",
              "    cursor: pointer;\n",
              "    display: none;\n",
              "    fill: var(--fill-color);\n",
              "    height: 32px;\n",
              "    padding: 0;\n",
              "    width: 32px;\n",
              "  }\n",
              "\n",
              "  .colab-df-quickchart:hover {\n",
              "    background-color: var(--hover-bg-color);\n",
              "    box-shadow: 0 1px 2px rgba(60, 64, 67, 0.3), 0 1px 3px 1px rgba(60, 64, 67, 0.15);\n",
              "    fill: var(--button-hover-fill-color);\n",
              "  }\n",
              "\n",
              "  .colab-df-quickchart-complete:disabled,\n",
              "  .colab-df-quickchart-complete:disabled:hover {\n",
              "    background-color: var(--disabled-bg-color);\n",
              "    fill: var(--disabled-fill-color);\n",
              "    box-shadow: none;\n",
              "  }\n",
              "\n",
              "  .colab-df-spinner {\n",
              "    border: 2px solid var(--fill-color);\n",
              "    border-color: transparent;\n",
              "    border-bottom-color: var(--fill-color);\n",
              "    animation:\n",
              "      spin 1s steps(1) infinite;\n",
              "  }\n",
              "\n",
              "  @keyframes spin {\n",
              "    0% {\n",
              "      border-color: transparent;\n",
              "      border-bottom-color: var(--fill-color);\n",
              "      border-left-color: var(--fill-color);\n",
              "    }\n",
              "    20% {\n",
              "      border-color: transparent;\n",
              "      border-left-color: var(--fill-color);\n",
              "      border-top-color: var(--fill-color);\n",
              "    }\n",
              "    30% {\n",
              "      border-color: transparent;\n",
              "      border-left-color: var(--fill-color);\n",
              "      border-top-color: var(--fill-color);\n",
              "      border-right-color: var(--fill-color);\n",
              "    }\n",
              "    40% {\n",
              "      border-color: transparent;\n",
              "      border-right-color: var(--fill-color);\n",
              "      border-top-color: var(--fill-color);\n",
              "    }\n",
              "    60% {\n",
              "      border-color: transparent;\n",
              "      border-right-color: var(--fill-color);\n",
              "    }\n",
              "    80% {\n",
              "      border-color: transparent;\n",
              "      border-right-color: var(--fill-color);\n",
              "      border-bottom-color: var(--fill-color);\n",
              "    }\n",
              "    90% {\n",
              "      border-color: transparent;\n",
              "      border-bottom-color: var(--fill-color);\n",
              "    }\n",
              "  }\n",
              "</style>\n",
              "\n",
              "  <script>\n",
              "    async function quickchart(key) {\n",
              "      const quickchartButtonEl =\n",
              "        document.querySelector('#' + key + ' button');\n",
              "      quickchartButtonEl.disabled = true;  // To prevent multiple clicks.\n",
              "      quickchartButtonEl.classList.add('colab-df-spinner');\n",
              "      try {\n",
              "        const charts = await google.colab.kernel.invokeFunction(\n",
              "            'suggestCharts', [key], {});\n",
              "      } catch (error) {\n",
              "        console.error('Error during call to suggestCharts:', error);\n",
              "      }\n",
              "      quickchartButtonEl.classList.remove('colab-df-spinner');\n",
              "      quickchartButtonEl.classList.add('colab-df-quickchart-complete');\n",
              "    }\n",
              "    (() => {\n",
              "      let quickchartButtonEl =\n",
              "        document.querySelector('#df-86f949b9-a3f2-4e5c-90cf-ad0ab431bc09 button');\n",
              "      quickchartButtonEl.style.display =\n",
              "        google.colab.kernel.accessAllowed ? 'block' : 'none';\n",
              "    })();\n",
              "  </script>\n",
              "</div>\n",
              "    </div>\n",
              "  </div>\n"
            ]
          },
          "metadata": {},
          "execution_count": 55
        }
      ]
    },
    {
      "cell_type": "code",
      "source": [
        "table = pd.pivot_table(results, values='Значение', index=['Попытка'],\n",
        "                       columns=['Коэффициент'], aggfunc=\"sum\")"
      ],
      "metadata": {
        "id": "FokYX0pQAQDS"
      },
      "execution_count": null,
      "outputs": []
    },
    {
      "cell_type": "code",
      "source": [
        "table.sort_values(by = ['RMSE_test'], ascending=True)"
      ],
      "metadata": {
        "colab": {
          "base_uri": "https://localhost:8080/",
          "height": 206
        },
        "id": "YMqZPQ-GAWT7",
        "outputId": "922bcd99-dddb-442f-9d0c-f460f05d4f05"
      },
      "execution_count": null,
      "outputs": [
        {
          "output_type": "execute_result",
          "data": {
            "text/plain": [
              "Коэффициент   R2_test  R2_train  RMSE_test  RMSE_train\n",
              "Попытка                                               \n",
              "3            0.558610  0.553051   0.715728    0.715728\n",
              "4            0.556998  0.552589   0.717034    0.717034\n",
              "2            0.582308  0.599517   0.739829    0.739829\n",
              "1            0.575788  0.612551   0.745581    0.745581"
            ],
            "text/html": [
              "\n",
              "  <div id=\"df-e8c052f4-31a4-48c2-bd0c-63a01b22c812\" class=\"colab-df-container\">\n",
              "    <div>\n",
              "<style scoped>\n",
              "    .dataframe tbody tr th:only-of-type {\n",
              "        vertical-align: middle;\n",
              "    }\n",
              "\n",
              "    .dataframe tbody tr th {\n",
              "        vertical-align: top;\n",
              "    }\n",
              "\n",
              "    .dataframe thead th {\n",
              "        text-align: right;\n",
              "    }\n",
              "</style>\n",
              "<table border=\"1\" class=\"dataframe\">\n",
              "  <thead>\n",
              "    <tr style=\"text-align: right;\">\n",
              "      <th>Коэффициент</th>\n",
              "      <th>R2_test</th>\n",
              "      <th>R2_train</th>\n",
              "      <th>RMSE_test</th>\n",
              "      <th>RMSE_train</th>\n",
              "    </tr>\n",
              "    <tr>\n",
              "      <th>Попытка</th>\n",
              "      <th></th>\n",
              "      <th></th>\n",
              "      <th></th>\n",
              "      <th></th>\n",
              "    </tr>\n",
              "  </thead>\n",
              "  <tbody>\n",
              "    <tr>\n",
              "      <th>3</th>\n",
              "      <td>0.558610</td>\n",
              "      <td>0.553051</td>\n",
              "      <td>0.715728</td>\n",
              "      <td>0.715728</td>\n",
              "    </tr>\n",
              "    <tr>\n",
              "      <th>4</th>\n",
              "      <td>0.556998</td>\n",
              "      <td>0.552589</td>\n",
              "      <td>0.717034</td>\n",
              "      <td>0.717034</td>\n",
              "    </tr>\n",
              "    <tr>\n",
              "      <th>2</th>\n",
              "      <td>0.582308</td>\n",
              "      <td>0.599517</td>\n",
              "      <td>0.739829</td>\n",
              "      <td>0.739829</td>\n",
              "    </tr>\n",
              "    <tr>\n",
              "      <th>1</th>\n",
              "      <td>0.575788</td>\n",
              "      <td>0.612551</td>\n",
              "      <td>0.745581</td>\n",
              "      <td>0.745581</td>\n",
              "    </tr>\n",
              "  </tbody>\n",
              "</table>\n",
              "</div>\n",
              "    <div class=\"colab-df-buttons\">\n",
              "\n",
              "  <div class=\"colab-df-container\">\n",
              "    <button class=\"colab-df-convert\" onclick=\"convertToInteractive('df-e8c052f4-31a4-48c2-bd0c-63a01b22c812')\"\n",
              "            title=\"Convert this dataframe to an interactive table.\"\n",
              "            style=\"display:none;\">\n",
              "\n",
              "  <svg xmlns=\"http://www.w3.org/2000/svg\" height=\"24px\" viewBox=\"0 -960 960 960\">\n",
              "    <path d=\"M120-120v-720h720v720H120Zm60-500h600v-160H180v160Zm220 220h160v-160H400v160Zm0 220h160v-160H400v160ZM180-400h160v-160H180v160Zm440 0h160v-160H620v160ZM180-180h160v-160H180v160Zm440 0h160v-160H620v160Z\"/>\n",
              "  </svg>\n",
              "    </button>\n",
              "\n",
              "  <style>\n",
              "    .colab-df-container {\n",
              "      display:flex;\n",
              "      gap: 12px;\n",
              "    }\n",
              "\n",
              "    .colab-df-convert {\n",
              "      background-color: #E8F0FE;\n",
              "      border: none;\n",
              "      border-radius: 50%;\n",
              "      cursor: pointer;\n",
              "      display: none;\n",
              "      fill: #1967D2;\n",
              "      height: 32px;\n",
              "      padding: 0 0 0 0;\n",
              "      width: 32px;\n",
              "    }\n",
              "\n",
              "    .colab-df-convert:hover {\n",
              "      background-color: #E2EBFA;\n",
              "      box-shadow: 0px 1px 2px rgba(60, 64, 67, 0.3), 0px 1px 3px 1px rgba(60, 64, 67, 0.15);\n",
              "      fill: #174EA6;\n",
              "    }\n",
              "\n",
              "    .colab-df-buttons div {\n",
              "      margin-bottom: 4px;\n",
              "    }\n",
              "\n",
              "    [theme=dark] .colab-df-convert {\n",
              "      background-color: #3B4455;\n",
              "      fill: #D2E3FC;\n",
              "    }\n",
              "\n",
              "    [theme=dark] .colab-df-convert:hover {\n",
              "      background-color: #434B5C;\n",
              "      box-shadow: 0px 1px 3px 1px rgba(0, 0, 0, 0.15);\n",
              "      filter: drop-shadow(0px 1px 2px rgba(0, 0, 0, 0.3));\n",
              "      fill: #FFFFFF;\n",
              "    }\n",
              "  </style>\n",
              "\n",
              "    <script>\n",
              "      const buttonEl =\n",
              "        document.querySelector('#df-e8c052f4-31a4-48c2-bd0c-63a01b22c812 button.colab-df-convert');\n",
              "      buttonEl.style.display =\n",
              "        google.colab.kernel.accessAllowed ? 'block' : 'none';\n",
              "\n",
              "      async function convertToInteractive(key) {\n",
              "        const element = document.querySelector('#df-e8c052f4-31a4-48c2-bd0c-63a01b22c812');\n",
              "        const dataTable =\n",
              "          await google.colab.kernel.invokeFunction('convertToInteractive',\n",
              "                                                    [key], {});\n",
              "        if (!dataTable) return;\n",
              "\n",
              "        const docLinkHtml = 'Like what you see? Visit the ' +\n",
              "          '<a target=\"_blank\" href=https://colab.research.google.com/notebooks/data_table.ipynb>data table notebook</a>'\n",
              "          + ' to learn more about interactive tables.';\n",
              "        element.innerHTML = '';\n",
              "        dataTable['output_type'] = 'display_data';\n",
              "        await google.colab.output.renderOutput(dataTable, element);\n",
              "        const docLink = document.createElement('div');\n",
              "        docLink.innerHTML = docLinkHtml;\n",
              "        element.appendChild(docLink);\n",
              "      }\n",
              "    </script>\n",
              "  </div>\n",
              "\n",
              "\n",
              "<div id=\"df-885f4505-ca17-4038-abfb-0eb8723cf778\">\n",
              "  <button class=\"colab-df-quickchart\" onclick=\"quickchart('df-885f4505-ca17-4038-abfb-0eb8723cf778')\"\n",
              "            title=\"Suggest charts.\"\n",
              "            style=\"display:none;\">\n",
              "\n",
              "<svg xmlns=\"http://www.w3.org/2000/svg\" height=\"24px\"viewBox=\"0 0 24 24\"\n",
              "     width=\"24px\">\n",
              "    <g>\n",
              "        <path d=\"M19 3H5c-1.1 0-2 .9-2 2v14c0 1.1.9 2 2 2h14c1.1 0 2-.9 2-2V5c0-1.1-.9-2-2-2zM9 17H7v-7h2v7zm4 0h-2V7h2v10zm4 0h-2v-4h2v4z\"/>\n",
              "    </g>\n",
              "</svg>\n",
              "  </button>\n",
              "\n",
              "<style>\n",
              "  .colab-df-quickchart {\n",
              "      --bg-color: #E8F0FE;\n",
              "      --fill-color: #1967D2;\n",
              "      --hover-bg-color: #E2EBFA;\n",
              "      --hover-fill-color: #174EA6;\n",
              "      --disabled-fill-color: #AAA;\n",
              "      --disabled-bg-color: #DDD;\n",
              "  }\n",
              "\n",
              "  [theme=dark] .colab-df-quickchart {\n",
              "      --bg-color: #3B4455;\n",
              "      --fill-color: #D2E3FC;\n",
              "      --hover-bg-color: #434B5C;\n",
              "      --hover-fill-color: #FFFFFF;\n",
              "      --disabled-bg-color: #3B4455;\n",
              "      --disabled-fill-color: #666;\n",
              "  }\n",
              "\n",
              "  .colab-df-quickchart {\n",
              "    background-color: var(--bg-color);\n",
              "    border: none;\n",
              "    border-radius: 50%;\n",
              "    cursor: pointer;\n",
              "    display: none;\n",
              "    fill: var(--fill-color);\n",
              "    height: 32px;\n",
              "    padding: 0;\n",
              "    width: 32px;\n",
              "  }\n",
              "\n",
              "  .colab-df-quickchart:hover {\n",
              "    background-color: var(--hover-bg-color);\n",
              "    box-shadow: 0 1px 2px rgba(60, 64, 67, 0.3), 0 1px 3px 1px rgba(60, 64, 67, 0.15);\n",
              "    fill: var(--button-hover-fill-color);\n",
              "  }\n",
              "\n",
              "  .colab-df-quickchart-complete:disabled,\n",
              "  .colab-df-quickchart-complete:disabled:hover {\n",
              "    background-color: var(--disabled-bg-color);\n",
              "    fill: var(--disabled-fill-color);\n",
              "    box-shadow: none;\n",
              "  }\n",
              "\n",
              "  .colab-df-spinner {\n",
              "    border: 2px solid var(--fill-color);\n",
              "    border-color: transparent;\n",
              "    border-bottom-color: var(--fill-color);\n",
              "    animation:\n",
              "      spin 1s steps(1) infinite;\n",
              "  }\n",
              "\n",
              "  @keyframes spin {\n",
              "    0% {\n",
              "      border-color: transparent;\n",
              "      border-bottom-color: var(--fill-color);\n",
              "      border-left-color: var(--fill-color);\n",
              "    }\n",
              "    20% {\n",
              "      border-color: transparent;\n",
              "      border-left-color: var(--fill-color);\n",
              "      border-top-color: var(--fill-color);\n",
              "    }\n",
              "    30% {\n",
              "      border-color: transparent;\n",
              "      border-left-color: var(--fill-color);\n",
              "      border-top-color: var(--fill-color);\n",
              "      border-right-color: var(--fill-color);\n",
              "    }\n",
              "    40% {\n",
              "      border-color: transparent;\n",
              "      border-right-color: var(--fill-color);\n",
              "      border-top-color: var(--fill-color);\n",
              "    }\n",
              "    60% {\n",
              "      border-color: transparent;\n",
              "      border-right-color: var(--fill-color);\n",
              "    }\n",
              "    80% {\n",
              "      border-color: transparent;\n",
              "      border-right-color: var(--fill-color);\n",
              "      border-bottom-color: var(--fill-color);\n",
              "    }\n",
              "    90% {\n",
              "      border-color: transparent;\n",
              "      border-bottom-color: var(--fill-color);\n",
              "    }\n",
              "  }\n",
              "</style>\n",
              "\n",
              "  <script>\n",
              "    async function quickchart(key) {\n",
              "      const quickchartButtonEl =\n",
              "        document.querySelector('#' + key + ' button');\n",
              "      quickchartButtonEl.disabled = true;  // To prevent multiple clicks.\n",
              "      quickchartButtonEl.classList.add('colab-df-spinner');\n",
              "      try {\n",
              "        const charts = await google.colab.kernel.invokeFunction(\n",
              "            'suggestCharts', [key], {});\n",
              "      } catch (error) {\n",
              "        console.error('Error during call to suggestCharts:', error);\n",
              "      }\n",
              "      quickchartButtonEl.classList.remove('colab-df-spinner');\n",
              "      quickchartButtonEl.classList.add('colab-df-quickchart-complete');\n",
              "    }\n",
              "    (() => {\n",
              "      let quickchartButtonEl =\n",
              "        document.querySelector('#df-885f4505-ca17-4038-abfb-0eb8723cf778 button');\n",
              "      quickchartButtonEl.style.display =\n",
              "        google.colab.kernel.accessAllowed ? 'block' : 'none';\n",
              "    })();\n",
              "  </script>\n",
              "</div>\n",
              "    </div>\n",
              "  </div>\n"
            ]
          },
          "metadata": {},
          "execution_count": 62
        }
      ]
    },
    {
      "cell_type": "code",
      "source": [
        "table.sort_values(by = ['R2_test'], ascending=True)"
      ],
      "metadata": {
        "colab": {
          "base_uri": "https://localhost:8080/",
          "height": 206
        },
        "id": "Fos2awRsBuQP",
        "outputId": "259af1fa-6906-4dc4-c674-454cf3b8e6ba"
      },
      "execution_count": null,
      "outputs": [
        {
          "output_type": "execute_result",
          "data": {
            "text/plain": [
              "Коэффициент   R2_test  R2_train  RMSE_test  RMSE_train\n",
              "Попытка                                               \n",
              "4            0.556998  0.552589   0.717034    0.717034\n",
              "3            0.558610  0.553051   0.715728    0.715728\n",
              "1            0.575788  0.612551   0.745581    0.745581\n",
              "2            0.582308  0.599517   0.739829    0.739829"
            ],
            "text/html": [
              "\n",
              "  <div id=\"df-0f315e4e-af3c-4473-8501-f6e3e1122e0f\" class=\"colab-df-container\">\n",
              "    <div>\n",
              "<style scoped>\n",
              "    .dataframe tbody tr th:only-of-type {\n",
              "        vertical-align: middle;\n",
              "    }\n",
              "\n",
              "    .dataframe tbody tr th {\n",
              "        vertical-align: top;\n",
              "    }\n",
              "\n",
              "    .dataframe thead th {\n",
              "        text-align: right;\n",
              "    }\n",
              "</style>\n",
              "<table border=\"1\" class=\"dataframe\">\n",
              "  <thead>\n",
              "    <tr style=\"text-align: right;\">\n",
              "      <th>Коэффициент</th>\n",
              "      <th>R2_test</th>\n",
              "      <th>R2_train</th>\n",
              "      <th>RMSE_test</th>\n",
              "      <th>RMSE_train</th>\n",
              "    </tr>\n",
              "    <tr>\n",
              "      <th>Попытка</th>\n",
              "      <th></th>\n",
              "      <th></th>\n",
              "      <th></th>\n",
              "      <th></th>\n",
              "    </tr>\n",
              "  </thead>\n",
              "  <tbody>\n",
              "    <tr>\n",
              "      <th>4</th>\n",
              "      <td>0.556998</td>\n",
              "      <td>0.552589</td>\n",
              "      <td>0.717034</td>\n",
              "      <td>0.717034</td>\n",
              "    </tr>\n",
              "    <tr>\n",
              "      <th>3</th>\n",
              "      <td>0.558610</td>\n",
              "      <td>0.553051</td>\n",
              "      <td>0.715728</td>\n",
              "      <td>0.715728</td>\n",
              "    </tr>\n",
              "    <tr>\n",
              "      <th>1</th>\n",
              "      <td>0.575788</td>\n",
              "      <td>0.612551</td>\n",
              "      <td>0.745581</td>\n",
              "      <td>0.745581</td>\n",
              "    </tr>\n",
              "    <tr>\n",
              "      <th>2</th>\n",
              "      <td>0.582308</td>\n",
              "      <td>0.599517</td>\n",
              "      <td>0.739829</td>\n",
              "      <td>0.739829</td>\n",
              "    </tr>\n",
              "  </tbody>\n",
              "</table>\n",
              "</div>\n",
              "    <div class=\"colab-df-buttons\">\n",
              "\n",
              "  <div class=\"colab-df-container\">\n",
              "    <button class=\"colab-df-convert\" onclick=\"convertToInteractive('df-0f315e4e-af3c-4473-8501-f6e3e1122e0f')\"\n",
              "            title=\"Convert this dataframe to an interactive table.\"\n",
              "            style=\"display:none;\">\n",
              "\n",
              "  <svg xmlns=\"http://www.w3.org/2000/svg\" height=\"24px\" viewBox=\"0 -960 960 960\">\n",
              "    <path d=\"M120-120v-720h720v720H120Zm60-500h600v-160H180v160Zm220 220h160v-160H400v160Zm0 220h160v-160H400v160ZM180-400h160v-160H180v160Zm440 0h160v-160H620v160ZM180-180h160v-160H180v160Zm440 0h160v-160H620v160Z\"/>\n",
              "  </svg>\n",
              "    </button>\n",
              "\n",
              "  <style>\n",
              "    .colab-df-container {\n",
              "      display:flex;\n",
              "      gap: 12px;\n",
              "    }\n",
              "\n",
              "    .colab-df-convert {\n",
              "      background-color: #E8F0FE;\n",
              "      border: none;\n",
              "      border-radius: 50%;\n",
              "      cursor: pointer;\n",
              "      display: none;\n",
              "      fill: #1967D2;\n",
              "      height: 32px;\n",
              "      padding: 0 0 0 0;\n",
              "      width: 32px;\n",
              "    }\n",
              "\n",
              "    .colab-df-convert:hover {\n",
              "      background-color: #E2EBFA;\n",
              "      box-shadow: 0px 1px 2px rgba(60, 64, 67, 0.3), 0px 1px 3px 1px rgba(60, 64, 67, 0.15);\n",
              "      fill: #174EA6;\n",
              "    }\n",
              "\n",
              "    .colab-df-buttons div {\n",
              "      margin-bottom: 4px;\n",
              "    }\n",
              "\n",
              "    [theme=dark] .colab-df-convert {\n",
              "      background-color: #3B4455;\n",
              "      fill: #D2E3FC;\n",
              "    }\n",
              "\n",
              "    [theme=dark] .colab-df-convert:hover {\n",
              "      background-color: #434B5C;\n",
              "      box-shadow: 0px 1px 3px 1px rgba(0, 0, 0, 0.15);\n",
              "      filter: drop-shadow(0px 1px 2px rgba(0, 0, 0, 0.3));\n",
              "      fill: #FFFFFF;\n",
              "    }\n",
              "  </style>\n",
              "\n",
              "    <script>\n",
              "      const buttonEl =\n",
              "        document.querySelector('#df-0f315e4e-af3c-4473-8501-f6e3e1122e0f button.colab-df-convert');\n",
              "      buttonEl.style.display =\n",
              "        google.colab.kernel.accessAllowed ? 'block' : 'none';\n",
              "\n",
              "      async function convertToInteractive(key) {\n",
              "        const element = document.querySelector('#df-0f315e4e-af3c-4473-8501-f6e3e1122e0f');\n",
              "        const dataTable =\n",
              "          await google.colab.kernel.invokeFunction('convertToInteractive',\n",
              "                                                    [key], {});\n",
              "        if (!dataTable) return;\n",
              "\n",
              "        const docLinkHtml = 'Like what you see? Visit the ' +\n",
              "          '<a target=\"_blank\" href=https://colab.research.google.com/notebooks/data_table.ipynb>data table notebook</a>'\n",
              "          + ' to learn more about interactive tables.';\n",
              "        element.innerHTML = '';\n",
              "        dataTable['output_type'] = 'display_data';\n",
              "        await google.colab.output.renderOutput(dataTable, element);\n",
              "        const docLink = document.createElement('div');\n",
              "        docLink.innerHTML = docLinkHtml;\n",
              "        element.appendChild(docLink);\n",
              "      }\n",
              "    </script>\n",
              "  </div>\n",
              "\n",
              "\n",
              "<div id=\"df-f772c44b-3892-4c43-9426-ffdae83c4658\">\n",
              "  <button class=\"colab-df-quickchart\" onclick=\"quickchart('df-f772c44b-3892-4c43-9426-ffdae83c4658')\"\n",
              "            title=\"Suggest charts.\"\n",
              "            style=\"display:none;\">\n",
              "\n",
              "<svg xmlns=\"http://www.w3.org/2000/svg\" height=\"24px\"viewBox=\"0 0 24 24\"\n",
              "     width=\"24px\">\n",
              "    <g>\n",
              "        <path d=\"M19 3H5c-1.1 0-2 .9-2 2v14c0 1.1.9 2 2 2h14c1.1 0 2-.9 2-2V5c0-1.1-.9-2-2-2zM9 17H7v-7h2v7zm4 0h-2V7h2v10zm4 0h-2v-4h2v4z\"/>\n",
              "    </g>\n",
              "</svg>\n",
              "  </button>\n",
              "\n",
              "<style>\n",
              "  .colab-df-quickchart {\n",
              "      --bg-color: #E8F0FE;\n",
              "      --fill-color: #1967D2;\n",
              "      --hover-bg-color: #E2EBFA;\n",
              "      --hover-fill-color: #174EA6;\n",
              "      --disabled-fill-color: #AAA;\n",
              "      --disabled-bg-color: #DDD;\n",
              "  }\n",
              "\n",
              "  [theme=dark] .colab-df-quickchart {\n",
              "      --bg-color: #3B4455;\n",
              "      --fill-color: #D2E3FC;\n",
              "      --hover-bg-color: #434B5C;\n",
              "      --hover-fill-color: #FFFFFF;\n",
              "      --disabled-bg-color: #3B4455;\n",
              "      --disabled-fill-color: #666;\n",
              "  }\n",
              "\n",
              "  .colab-df-quickchart {\n",
              "    background-color: var(--bg-color);\n",
              "    border: none;\n",
              "    border-radius: 50%;\n",
              "    cursor: pointer;\n",
              "    display: none;\n",
              "    fill: var(--fill-color);\n",
              "    height: 32px;\n",
              "    padding: 0;\n",
              "    width: 32px;\n",
              "  }\n",
              "\n",
              "  .colab-df-quickchart:hover {\n",
              "    background-color: var(--hover-bg-color);\n",
              "    box-shadow: 0 1px 2px rgba(60, 64, 67, 0.3), 0 1px 3px 1px rgba(60, 64, 67, 0.15);\n",
              "    fill: var(--button-hover-fill-color);\n",
              "  }\n",
              "\n",
              "  .colab-df-quickchart-complete:disabled,\n",
              "  .colab-df-quickchart-complete:disabled:hover {\n",
              "    background-color: var(--disabled-bg-color);\n",
              "    fill: var(--disabled-fill-color);\n",
              "    box-shadow: none;\n",
              "  }\n",
              "\n",
              "  .colab-df-spinner {\n",
              "    border: 2px solid var(--fill-color);\n",
              "    border-color: transparent;\n",
              "    border-bottom-color: var(--fill-color);\n",
              "    animation:\n",
              "      spin 1s steps(1) infinite;\n",
              "  }\n",
              "\n",
              "  @keyframes spin {\n",
              "    0% {\n",
              "      border-color: transparent;\n",
              "      border-bottom-color: var(--fill-color);\n",
              "      border-left-color: var(--fill-color);\n",
              "    }\n",
              "    20% {\n",
              "      border-color: transparent;\n",
              "      border-left-color: var(--fill-color);\n",
              "      border-top-color: var(--fill-color);\n",
              "    }\n",
              "    30% {\n",
              "      border-color: transparent;\n",
              "      border-left-color: var(--fill-color);\n",
              "      border-top-color: var(--fill-color);\n",
              "      border-right-color: var(--fill-color);\n",
              "    }\n",
              "    40% {\n",
              "      border-color: transparent;\n",
              "      border-right-color: var(--fill-color);\n",
              "      border-top-color: var(--fill-color);\n",
              "    }\n",
              "    60% {\n",
              "      border-color: transparent;\n",
              "      border-right-color: var(--fill-color);\n",
              "    }\n",
              "    80% {\n",
              "      border-color: transparent;\n",
              "      border-right-color: var(--fill-color);\n",
              "      border-bottom-color: var(--fill-color);\n",
              "    }\n",
              "    90% {\n",
              "      border-color: transparent;\n",
              "      border-bottom-color: var(--fill-color);\n",
              "    }\n",
              "  }\n",
              "</style>\n",
              "\n",
              "  <script>\n",
              "    async function quickchart(key) {\n",
              "      const quickchartButtonEl =\n",
              "        document.querySelector('#' + key + ' button');\n",
              "      quickchartButtonEl.disabled = true;  // To prevent multiple clicks.\n",
              "      quickchartButtonEl.classList.add('colab-df-spinner');\n",
              "      try {\n",
              "        const charts = await google.colab.kernel.invokeFunction(\n",
              "            'suggestCharts', [key], {});\n",
              "      } catch (error) {\n",
              "        console.error('Error during call to suggestCharts:', error);\n",
              "      }\n",
              "      quickchartButtonEl.classList.remove('colab-df-spinner');\n",
              "      quickchartButtonEl.classList.add('colab-df-quickchart-complete');\n",
              "    }\n",
              "    (() => {\n",
              "      let quickchartButtonEl =\n",
              "        document.querySelector('#df-f772c44b-3892-4c43-9426-ffdae83c4658 button');\n",
              "      quickchartButtonEl.style.display =\n",
              "        google.colab.kernel.accessAllowed ? 'block' : 'none';\n",
              "    })();\n",
              "  </script>\n",
              "</div>\n",
              "    </div>\n",
              "  </div>\n"
            ]
          },
          "metadata": {},
          "execution_count": 63
        }
      ]
    },
    {
      "cell_type": "markdown",
      "source": [
        "**c. Напишите свое мнение, в полной ли мере модели справились с поставленной задачей.**\n",
        "\n",
        "Лучший показатель достигается после чистки данных от выбросов. Последующие мат преобразования не дали значимого эффекта.\n",
        "\n",
        "В целом достигнуто улучшение метрик, но коэффицент r2 остается всеравно довольно низким, что в целом говорит о плохом качестве модели. Следует дальше улучшать показатели"
      ],
      "metadata": {
        "id": "8XmdyBkgB-Pj"
      }
    }
  ]
}