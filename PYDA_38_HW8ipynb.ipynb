{
  "nbformat": 4,
  "nbformat_minor": 0,
  "metadata": {
    "colab": {
      "provenance": [],
      "authorship_tag": "ABX9TyNzmz/OCtZO2m5eAoHXUX9e",
      "include_colab_link": true
    },
    "kernelspec": {
      "name": "python3",
      "display_name": "Python 3"
    },
    "language_info": {
      "name": "python"
    }
  },
  "cells": [
    {
      "cell_type": "markdown",
      "metadata": {
        "id": "view-in-github",
        "colab_type": "text"
      },
      "source": [
        "<a href=\"https://colab.research.google.com/github/Pestrdan/netology_research/blob/main/PYDA_38_HW8ipynb.ipynb\" target=\"_parent\"><img src=\"https://colab.research.google.com/assets/colab-badge.svg\" alt=\"Open In Colab\"/></a>"
      ]
    },
    {
      "cell_type": "markdown",
      "source": [
        "**Задание 1**"
      ],
      "metadata": {
        "id": "DWWPuXVmMRJi"
      }
    },
    {
      "cell_type": "code",
      "execution_count": null,
      "metadata": {
        "id": "rWVvpjhR78nM"
      },
      "outputs": [],
      "source": [
        "import re"
      ]
    },
    {
      "cell_type": "code",
      "source": [
        "car_id = 'A222BC96'"
      ],
      "metadata": {
        "id": "D7tbNQYt8VK-"
      },
      "execution_count": null,
      "outputs": []
    },
    {
      "cell_type": "code",
      "source": [
        "car_id2 = 'АБ22ВВ193'"
      ],
      "metadata": {
        "id": "BTFqNYn53Xq6"
      },
      "execution_count": null,
      "outputs": []
    },
    {
      "cell_type": "code",
      "source": [
        "def car_num_validity(number):\n",
        "  validity = r'([a-z, а-я]{1}\\d{3}[a-z, а-я]{2})(\\d{2})'\n",
        "  validity_result = re.search(validity, number, flags=re.I)\n",
        "  if validity_result != None:\n",
        "    print(f'Номер', validity_result.group(1), 'валиден. Регион:', validity_result.group(2))\n",
        "  else:\n",
        "    print('Номер не валиден')"
      ],
      "metadata": {
        "id": "DdLMqLtLvZs1"
      },
      "execution_count": null,
      "outputs": []
    },
    {
      "cell_type": "code",
      "source": [
        "car_num_validity(car_id)"
      ],
      "metadata": {
        "colab": {
          "base_uri": "https://localhost:8080/"
        },
        "id": "lc1TW1hOvpux",
        "outputId": "dba57e14-edd1-4251-b9b7-a06fb32180af"
      },
      "execution_count": null,
      "outputs": [
        {
          "output_type": "stream",
          "name": "stdout",
          "text": [
            "Номер A222BC валиден. Регион: 96\n"
          ]
        }
      ]
    },
    {
      "cell_type": "code",
      "source": [
        "car_num_validity(car_id2)"
      ],
      "metadata": {
        "colab": {
          "base_uri": "https://localhost:8080/"
        },
        "id": "p0w83rFc3fec",
        "outputId": "9eb3b6fc-556f-4ae6-f17b-b73008454300"
      },
      "execution_count": null,
      "outputs": [
        {
          "output_type": "stream",
          "name": "stdout",
          "text": [
            "Номер не валиден\n"
          ]
        }
      ]
    },
    {
      "cell_type": "markdown",
      "source": [
        "**Задание 2**"
      ],
      "metadata": {
        "id": "6OuIc5I5MV4J"
      }
    },
    {
      "cell_type": "code",
      "source": [
        "some_string = 'Напишите функцию функцию, которая будет будет будет будет удалять все все все все последовательные повторы слов из из из из заданной строки строки при помощи регулярных выражений.'"
      ],
      "metadata": {
        "id": "COnMWGDsMUeW"
      },
      "execution_count": null,
      "outputs": []
    },
    {
      "cell_type": "code",
      "source": [
        "def repeat_del(string):\n",
        "  return(re.sub(r'(\\w+\\s)\\1+', r'\\1', string))"
      ],
      "metadata": {
        "id": "RRdb3kM4Ml7W"
      },
      "execution_count": null,
      "outputs": []
    },
    {
      "cell_type": "code",
      "source": [
        "repeat_del(some_string)"
      ],
      "metadata": {
        "colab": {
          "base_uri": "https://localhost:8080/",
          "height": 36
        },
        "id": "RYS1zGzMQnL-",
        "outputId": "ec012882-c4ea-4661-8d27-595ea5efd8ba"
      },
      "execution_count": null,
      "outputs": [
        {
          "output_type": "execute_result",
          "data": {
            "text/plain": [
              "'Напишите функцию функцию, которая будет удалять все последовательные повторы слов из заданной строки при помощи регулярных выражений.'"
            ],
            "application/vnd.google.colaboratory.intrinsic+json": {
              "type": "string"
            }
          },
          "metadata": {},
          "execution_count": 226
        }
      ]
    },
    {
      "cell_type": "markdown",
      "source": [
        "**Задание 3**"
      ],
      "metadata": {
        "id": "UDoczXUQRGDM"
      }
    },
    {
      "cell_type": "code",
      "source": [
        "some_words = 'Near field communication'"
      ],
      "metadata": {
        "id": "uPeCCBJjRFiG"
      },
      "execution_count": null,
      "outputs": []
    },
    {
      "cell_type": "code",
      "source": [
        "def acronim_def(string):\n",
        "  title_string = string.title()\n",
        "  acronym = ''\n",
        "  word_list = re.findall(r'[A-Z,А-Я]', title_string)\n",
        "  for word in word_list:\n",
        "    acronym += word\n",
        "  return(acronym)"
      ],
      "metadata": {
        "id": "owaJZbAidajC"
      },
      "execution_count": null,
      "outputs": []
    },
    {
      "cell_type": "code",
      "source": [
        "acronim_def(some_words)"
      ],
      "metadata": {
        "colab": {
          "base_uri": "https://localhost:8080/",
          "height": 36
        },
        "id": "hcKWGy3IfsFQ",
        "outputId": "325b6577-5b0f-4b54-a597-3c7544465966"
      },
      "execution_count": null,
      "outputs": [
        {
          "output_type": "execute_result",
          "data": {
            "text/plain": [
              "'NFC'"
            ],
            "application/vnd.google.colaboratory.intrinsic+json": {
              "type": "string"
            }
          },
          "metadata": {},
          "execution_count": 229
        }
      ]
    },
    {
      "cell_type": "markdown",
      "source": [
        "**Задание 4**"
      ],
      "metadata": {
        "id": "k809nNZdbIj_"
      }
    },
    {
      "cell_type": "code",
      "source": [
        "emails = ['test@gmail.com', 'xyz@test.in', 'test@ya.ru', 'xyz@mail.ru', 'xyz@ya.ru', 'xyz@gmail.com']"
      ],
      "metadata": {
        "id": "VzRMWj3QbHof"
      },
      "execution_count": null,
      "outputs": []
    },
    {
      "cell_type": "code",
      "source": [
        "def emails_count(emails_list):\n",
        "  emails_dict = {}\n",
        "  for email in emails:\n",
        "    email = re.search(r'(\\w+)@(\\w+\\.\\w+)', email)\n",
        "    key = email.group(2)\n",
        "    emails_dict.setdefault(key, 0)\n",
        "    emails_dict[key] += 1\n",
        "  for key, value in emails_dict.items():\n",
        "    print(f'{key}:', value)"
      ],
      "metadata": {
        "id": "8rsDKY0Zi-KN"
      },
      "execution_count": null,
      "outputs": []
    },
    {
      "cell_type": "code",
      "source": [
        "emails_count(emails)"
      ],
      "metadata": {
        "colab": {
          "base_uri": "https://localhost:8080/"
        },
        "id": "sVDAmw46jehB",
        "outputId": "3bb5c736-0bc9-48a7-be2b-6e6eab27e814"
      },
      "execution_count": null,
      "outputs": [
        {
          "output_type": "stream",
          "name": "stdout",
          "text": [
            "gmail.com: 2\n",
            "test.in: 1\n",
            "ya.ru: 2\n",
            "mail.ru: 1\n"
          ]
        }
      ]
    },
    {
      "cell_type": "markdown",
      "source": [
        "**Задание 5**"
      ],
      "metadata": {
        "id": "yJnCL_DQizfD"
      }
    },
    {
      "cell_type": "code",
      "source": [
        "some_text = 'Эталонной реализацией Python является интерпретатор CPython, поддерживающий большинство активно используемых платформ. Он распространяется под свободной лицензией Python Software Foundation License, позволяющей использовать его без ограничений в любых приложениях, включая проприетарные.'"
      ],
      "metadata": {
        "id": "8Xa93U8Li6sJ"
      },
      "execution_count": null,
      "outputs": []
    },
    {
      "cell_type": "code",
      "source": [
        "def letter_sount(text):\n",
        "  SOME_TEXT = some_text.title()\n",
        "  letter_list = re.findall(r'[A-ZА-Я]', SOME_TEXT)\n",
        "  vowel = 'АЕЁИОУЫЭЮЯAEIOUY'\n",
        "  vowel_count = 0\n",
        "  consonant_count = 0\n",
        "  for letter in letter_list:\n",
        "    if letter in vowel:\n",
        "      vowel_count += 1\n",
        "    else:\n",
        "      consonant_count += 1\n",
        "  print(f\"Слов на гласные буквы: {vowel_count}\\nСлов на гласные буквы: {consonant_count}\")"
      ],
      "metadata": {
        "id": "2m4Kc5ypuT19"
      },
      "execution_count": null,
      "outputs": []
    },
    {
      "cell_type": "code",
      "source": [
        "letter_sount(some_text)"
      ],
      "metadata": {
        "colab": {
          "base_uri": "https://localhost:8080/"
        },
        "id": "_wOQwCtyurPl",
        "outputId": "31d8b02e-1144-4e06-e27d-4bb3e6b6dec9"
      },
      "execution_count": null,
      "outputs": [
        {
          "output_type": "stream",
          "name": "stdout",
          "text": [
            "Слов на гласные буквы: 9\n",
            "Слов на гласные буквы: 21\n"
          ]
        }
      ]
    },
    {
      "cell_type": "markdown",
      "source": [
        "**Задание 6**"
      ],
      "metadata": {
        "id": "SwYaKNWHu8At"
      }
    },
    {
      "cell_type": "code",
      "source": [
        "phone = '+7 955 555-55-55'"
      ],
      "metadata": {
        "id": "x6_G_Jlcu7lw"
      },
      "execution_count": null,
      "outputs": []
    },
    {
      "cell_type": "code",
      "source": [
        "phone2 = '+7 955              555-55-75'"
      ],
      "metadata": {
        "id": "AGNA72Zq0U4-"
      },
      "execution_count": null,
      "outputs": []
    },
    {
      "cell_type": "code",
      "source": [
        "phone3 = '123-456-789'"
      ],
      "metadata": {
        "id": "dMgTDwHt0hVC"
      },
      "execution_count": null,
      "outputs": []
    },
    {
      "cell_type": "code",
      "source": [
        "phone4 = '85555553535'"
      ],
      "metadata": {
        "id": "NnxKJxYB09Ii"
      },
      "execution_count": null,
      "outputs": []
    },
    {
      "cell_type": "code",
      "source": [
        "phone5 = '89555553535'"
      ],
      "metadata": {
        "id": "imaNgn1r1jOw"
      },
      "execution_count": null,
      "outputs": []
    },
    {
      "cell_type": "code",
      "source": [
        "def phone_num_validity (number):\n",
        "  phone_num = re.sub(r'\\s|(|)|-', '', number)\n",
        "  validity = r'(\\+7|8)(9\\d{2})(\\d{3})(\\d{2})(\\d{2})'\n",
        "  validity_result = re.search(validity, phone_num)\n",
        "  if validity_result != None:\n",
        "    print(f'Результат: {validity_result.group(1)}-{validity_result.group(2)}-{validity_result.group(3)}-{validity_result.group(4)}-{validity_result.group(5)}')\n",
        "  else:\n",
        "    print('Результат: Номер не валиден')"
      ],
      "metadata": {
        "id": "s6DM4gA9zy3o"
      },
      "execution_count": null,
      "outputs": []
    },
    {
      "cell_type": "code",
      "source": [
        "phone_num_validity(phone)"
      ],
      "metadata": {
        "colab": {
          "base_uri": "https://localhost:8080/"
        },
        "id": "1UOTDpDJ0LJ0",
        "outputId": "d502a94d-5762-4a60-a377-2743e780cef3"
      },
      "execution_count": null,
      "outputs": [
        {
          "output_type": "stream",
          "name": "stdout",
          "text": [
            "Результат: +7-955-555-55-55\n"
          ]
        }
      ]
    },
    {
      "cell_type": "code",
      "source": [
        "phone_num_validity(phone2)"
      ],
      "metadata": {
        "colab": {
          "base_uri": "https://localhost:8080/"
        },
        "id": "QTTjbcmq0Y3Y",
        "outputId": "93ed694a-cf10-4689-ac50-7a36d3887995"
      },
      "execution_count": null,
      "outputs": [
        {
          "output_type": "stream",
          "name": "stdout",
          "text": [
            "Результат: +7-955-555-55-75\n"
          ]
        }
      ]
    },
    {
      "cell_type": "code",
      "source": [
        "phone_num_validity(phone3)"
      ],
      "metadata": {
        "colab": {
          "base_uri": "https://localhost:8080/"
        },
        "id": "ocD0LbEd0mAQ",
        "outputId": "7d1487cc-33b7-452f-a3dd-714d7494b53d"
      },
      "execution_count": null,
      "outputs": [
        {
          "output_type": "stream",
          "name": "stdout",
          "text": [
            "Результат: Номер не валиден\n"
          ]
        }
      ]
    },
    {
      "cell_type": "code",
      "source": [
        "phone_num_validity(phone4)"
      ],
      "metadata": {
        "colab": {
          "base_uri": "https://localhost:8080/"
        },
        "id": "MsLn3wWe08Te",
        "outputId": "ae7063d6-9e4f-4a81-f4f8-f487ea6335a4"
      },
      "execution_count": null,
      "outputs": [
        {
          "output_type": "stream",
          "name": "stdout",
          "text": [
            "Результат: Номер не валиден\n"
          ]
        }
      ]
    },
    {
      "cell_type": "code",
      "source": [
        "phone_num_validity(phone5)"
      ],
      "metadata": {
        "colab": {
          "base_uri": "https://localhost:8080/"
        },
        "id": "DDgyj-9i1nCb",
        "outputId": "7e4dd07e-cd4a-4e81-ca90-d7ad690feb46"
      },
      "execution_count": null,
      "outputs": [
        {
          "output_type": "stream",
          "name": "stdout",
          "text": [
            "Результат: 8-955-555-35-35\n"
          ]
        }
      ]
    }
  ]
}